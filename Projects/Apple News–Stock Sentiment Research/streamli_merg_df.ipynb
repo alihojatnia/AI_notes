{
  "nbformat": 4,
  "nbformat_minor": 0,
  "metadata": {
    "colab": {
      "provenance": []
    },
    "kernelspec": {
      "name": "python3",
      "display_name": "Python 3"
    },
    "language_info": {
      "name": "python"
    }
  },
  "cells": [
    {
      "cell_type": "code",
      "source": [
        "!pip install streamlit pyngrok\n"
      ],
      "metadata": {
        "id": "JOVrYM_zSNYT"
      },
      "execution_count": null,
      "outputs": []
    },
    {
      "cell_type": "code",
      "source": [
        "from pyngrok import ngrok\n",
        "ngrok.set_auth_token(\"Token\")"
      ],
      "metadata": {
        "id": "0hqnn8oLVSF4"
      },
      "execution_count": null,
      "outputs": []
    },
    {
      "cell_type": "code",
      "source": [
        "%%writefile app.py\n",
        "import streamlit as st\n",
        "import pandas as pd\n",
        "import plotly.express as px\n",
        "\n",
        "df = pd.read_csv(\"/content/merged_df.csv\", parse_dates=['published_dt_only'])\n",
        "\n",
        "df['Daily_Return'] = df['Close_AAPL'].pct_change()\n",
        "\n",
        "df['Volatility'] = df['High_AAPL'] - df['Low_AAPL']\n",
        "\n",
        "st.title(\"Apple Stock & News Sentiment Dashboard\")\n",
        "\n",
        "st.sidebar.header(\"Filters\")\n",
        "start_date = st.sidebar.date_input(\"Start date\", df['published_dt_only'].min())\n",
        "end_date = st.sidebar.date_input(\"End date\", df['published_dt_only'].max())\n",
        "\n",
        "filtered_df = df[(df['published_dt_only'] >= pd.to_datetime(start_date)) &\n",
        "                 (df['published_dt_only'] <= pd.to_datetime(end_date))]\n",
        "\n",
        "fig_price = px.line(filtered_df, x='published_dt_only', y='Close_AAPL',\n",
        "                    title=\"Apple Closing Price Over Time\")\n",
        "st.plotly_chart(fig_price)\n",
        "\n",
        "fig_sentiment = px.line(filtered_df, x='published_dt_only', y='sentiment_score',\n",
        "                        title=\"News Sentiment Over Time\", color_discrete_sequence=[\"orange\"])\n",
        "st.plotly_chart(fig_sentiment)\n",
        "\n",
        "fig_vol = px.scatter(filtered_df, x='Volume_AAPL', y='Volatility',\n",
        "                     size='Volatility', color='Daily_Return',\n",
        "                     hover_data=['Close_AAPL'],\n",
        "                     title=\"Trading Volume vs Volatility\")\n",
        "st.plotly_chart(fig_vol)\n",
        "\n",
        "fig_dist = px.histogram(filtered_df, x='sentiment',\n",
        "                        title=\"Sentiment Distribution of News Articles\",\n",
        "                        color='sentiment')\n",
        "st.plotly_chart(fig_dist)\n",
        "\n",
        "source_sentiment = filtered_df.groupby('source')['sentiment_score'].mean().reset_index()\n",
        "fig_sources = px.bar(source_sentiment, x='source', y='sentiment_score',\n",
        "                     title=\"Average Sentiment by News Source\")\n",
        "st.plotly_chart(fig_sources)\n",
        "\n",
        "st.subheader(\"Data Preview\")\n",
        "st.dataframe(filtered_df.head(10))\n"
      ],
      "metadata": {
        "id": "Y7aj10YmSQCf"
      },
      "execution_count": null,
      "outputs": []
    },
    {
      "cell_type": "code",
      "source": [
        "from pyngrok import ngrok\n",
        "import subprocess\n",
        "\n",
        "ngrok.kill()\n",
        "\n",
        "process = subprocess.Popen([\"streamlit\", \"run\", \"app.py\"])\n",
        "\n",
        "public_url = ngrok.connect(8501)\n",
        "print(\" Public URL:\", public_url.public_url)\n"
      ],
      "metadata": {
        "id": "t0j2rHP8S4uT"
      },
      "execution_count": null,
      "outputs": []
    }
  ]
}