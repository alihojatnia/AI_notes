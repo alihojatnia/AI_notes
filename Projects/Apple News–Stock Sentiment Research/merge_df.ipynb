{
  "nbformat": 4,
  "nbformat_minor": 0,
  "metadata": {
    "colab": {
      "provenance": []
    },
    "kernelspec": {
      "name": "python3",
      "display_name": "Python 3"
    },
    "language_info": {
      "name": "python"
    }
  },
  "cells": [
    {
      "cell_type": "code",
      "execution_count": 1,
      "metadata": {
        "colab": {
          "base_uri": "https://localhost:8080/"
        },
        "id": "FLvPJV34nXKe",
        "outputId": "b577900c-31eb-41d7-afbc-05a0902ce29b"
      },
      "outputs": [
        {
          "output_type": "stream",
          "name": "stdout",
          "text": [
            "Collecting feedparser\n",
            "  Downloading feedparser-6.0.11-py3-none-any.whl.metadata (2.4 kB)\n",
            "Collecting trafilatura\n",
            "  Downloading trafilatura-2.0.0-py3-none-any.whl.metadata (12 kB)\n",
            "Requirement already satisfied: transformers in /usr/local/lib/python3.12/dist-packages (4.55.2)\n",
            "Requirement already satisfied: requests in /usr/local/lib/python3.12/dist-packages (2.32.4)\n",
            "Requirement already satisfied: beautifulsoup4 in /usr/local/lib/python3.12/dist-packages (4.13.4)\n",
            "Requirement already satisfied: pandas in /usr/local/lib/python3.12/dist-packages (2.2.2)\n",
            "Collecting playwright\n",
            "  Downloading playwright-1.54.0-py3-none-manylinux1_x86_64.whl.metadata (3.5 kB)\n",
            "Collecting sgmllib3k (from feedparser)\n",
            "  Downloading sgmllib3k-1.0.0.tar.gz (5.8 kB)\n",
            "  Preparing metadata (setup.py) ... \u001b[?25l\u001b[?25hdone\n",
            "Requirement already satisfied: certifi in /usr/local/lib/python3.12/dist-packages (from trafilatura) (2025.8.3)\n",
            "Requirement already satisfied: charset_normalizer>=3.4.0 in /usr/local/lib/python3.12/dist-packages (from trafilatura) (3.4.3)\n",
            "Collecting courlan>=1.3.2 (from trafilatura)\n",
            "  Downloading courlan-1.3.2-py3-none-any.whl.metadata (17 kB)\n",
            "Collecting htmldate>=1.9.2 (from trafilatura)\n",
            "  Downloading htmldate-1.9.3-py3-none-any.whl.metadata (10 kB)\n",
            "Collecting justext>=3.0.1 (from trafilatura)\n",
            "  Downloading justext-3.0.2-py2.py3-none-any.whl.metadata (7.3 kB)\n",
            "Requirement already satisfied: lxml>=5.3.0 in /usr/local/lib/python3.12/dist-packages (from trafilatura) (5.4.0)\n",
            "Requirement already satisfied: urllib3<3,>=1.26 in /usr/local/lib/python3.12/dist-packages (from trafilatura) (2.5.0)\n",
            "Requirement already satisfied: filelock in /usr/local/lib/python3.12/dist-packages (from transformers) (3.19.1)\n",
            "Requirement already satisfied: huggingface-hub<1.0,>=0.34.0 in /usr/local/lib/python3.12/dist-packages (from transformers) (0.34.4)\n",
            "Requirement already satisfied: numpy>=1.17 in /usr/local/lib/python3.12/dist-packages (from transformers) (2.0.2)\n",
            "Requirement already satisfied: packaging>=20.0 in /usr/local/lib/python3.12/dist-packages (from transformers) (25.0)\n",
            "Requirement already satisfied: pyyaml>=5.1 in /usr/local/lib/python3.12/dist-packages (from transformers) (6.0.2)\n",
            "Requirement already satisfied: regex!=2019.12.17 in /usr/local/lib/python3.12/dist-packages (from transformers) (2024.11.6)\n",
            "Requirement already satisfied: tokenizers<0.22,>=0.21 in /usr/local/lib/python3.12/dist-packages (from transformers) (0.21.4)\n",
            "Requirement already satisfied: safetensors>=0.4.3 in /usr/local/lib/python3.12/dist-packages (from transformers) (0.6.2)\n",
            "Requirement already satisfied: tqdm>=4.27 in /usr/local/lib/python3.12/dist-packages (from transformers) (4.67.1)\n",
            "Requirement already satisfied: idna<4,>=2.5 in /usr/local/lib/python3.12/dist-packages (from requests) (3.10)\n",
            "Requirement already satisfied: soupsieve>1.2 in /usr/local/lib/python3.12/dist-packages (from beautifulsoup4) (2.7)\n",
            "Requirement already satisfied: typing-extensions>=4.0.0 in /usr/local/lib/python3.12/dist-packages (from beautifulsoup4) (4.14.1)\n",
            "Requirement already satisfied: python-dateutil>=2.8.2 in /usr/local/lib/python3.12/dist-packages (from pandas) (2.9.0.post0)\n",
            "Requirement already satisfied: pytz>=2020.1 in /usr/local/lib/python3.12/dist-packages (from pandas) (2025.2)\n",
            "Requirement already satisfied: tzdata>=2022.7 in /usr/local/lib/python3.12/dist-packages (from pandas) (2025.2)\n",
            "Collecting pyee<14,>=13 (from playwright)\n",
            "  Downloading pyee-13.0.0-py3-none-any.whl.metadata (2.9 kB)\n",
            "Requirement already satisfied: greenlet<4.0.0,>=3.1.1 in /usr/local/lib/python3.12/dist-packages (from playwright) (3.2.4)\n",
            "Requirement already satisfied: babel>=2.16.0 in /usr/local/lib/python3.12/dist-packages (from courlan>=1.3.2->trafilatura) (2.17.0)\n",
            "Collecting tld>=0.13 (from courlan>=1.3.2->trafilatura)\n",
            "  Downloading tld-0.13.1-py2.py3-none-any.whl.metadata (10 kB)\n",
            "Collecting dateparser>=1.1.2 (from htmldate>=1.9.2->trafilatura)\n",
            "  Downloading dateparser-1.2.2-py3-none-any.whl.metadata (29 kB)\n",
            "Requirement already satisfied: fsspec>=2023.5.0 in /usr/local/lib/python3.12/dist-packages (from huggingface-hub<1.0,>=0.34.0->transformers) (2025.3.0)\n",
            "Requirement already satisfied: hf-xet<2.0.0,>=1.1.3 in /usr/local/lib/python3.12/dist-packages (from huggingface-hub<1.0,>=0.34.0->transformers) (1.1.7)\n",
            "Requirement already satisfied: six>=1.5 in /usr/local/lib/python3.12/dist-packages (from python-dateutil>=2.8.2->pandas) (1.17.0)\n",
            "Requirement already satisfied: tzlocal>=0.2 in /usr/local/lib/python3.12/dist-packages (from dateparser>=1.1.2->htmldate>=1.9.2->trafilatura) (5.3.1)\n",
            "Collecting lxml_html_clean (from lxml[html_clean]>=4.4.2->justext>=3.0.1->trafilatura)\n",
            "  Downloading lxml_html_clean-0.4.2-py3-none-any.whl.metadata (2.4 kB)\n",
            "Downloading feedparser-6.0.11-py3-none-any.whl (81 kB)\n",
            "\u001b[2K   \u001b[90m━━━━━━━━━━━━━━━━━━━━━━━━━━━━━━━━━━━━━━━━\u001b[0m \u001b[32m81.3/81.3 kB\u001b[0m \u001b[31m3.3 MB/s\u001b[0m eta \u001b[36m0:00:00\u001b[0m\n",
            "\u001b[?25hDownloading trafilatura-2.0.0-py3-none-any.whl (132 kB)\n",
            "\u001b[2K   \u001b[90m━━━━━━━━━━━━━━━━━━━━━━━━━━━━━━━━━━━━━━━━\u001b[0m \u001b[32m132.6/132.6 kB\u001b[0m \u001b[31m9.7 MB/s\u001b[0m eta \u001b[36m0:00:00\u001b[0m\n",
            "\u001b[?25hDownloading playwright-1.54.0-py3-none-manylinux1_x86_64.whl (45.9 MB)\n",
            "\u001b[2K   \u001b[90m━━━━━━━━━━━━━━━━━━━━━━━━━━━━━━━━━━━━━━━━\u001b[0m \u001b[32m45.9/45.9 MB\u001b[0m \u001b[31m22.6 MB/s\u001b[0m eta \u001b[36m0:00:00\u001b[0m\n",
            "\u001b[?25hDownloading courlan-1.3.2-py3-none-any.whl (33 kB)\n",
            "Downloading htmldate-1.9.3-py3-none-any.whl (31 kB)\n",
            "Downloading justext-3.0.2-py2.py3-none-any.whl (837 kB)\n",
            "\u001b[2K   \u001b[90m━━━━━━━━━━━━━━━━━━━━━━━━━━━━━━━━━━━━━━━━\u001b[0m \u001b[32m837.9/837.9 kB\u001b[0m \u001b[31m33.8 MB/s\u001b[0m eta \u001b[36m0:00:00\u001b[0m\n",
            "\u001b[?25hDownloading pyee-13.0.0-py3-none-any.whl (15 kB)\n",
            "Downloading dateparser-1.2.2-py3-none-any.whl (315 kB)\n",
            "\u001b[2K   \u001b[90m━━━━━━━━━━━━━━━━━━━━━━━━━━━━━━━━━━━━━━━━\u001b[0m \u001b[32m315.5/315.5 kB\u001b[0m \u001b[31m15.5 MB/s\u001b[0m eta \u001b[36m0:00:00\u001b[0m\n",
            "\u001b[?25hDownloading tld-0.13.1-py2.py3-none-any.whl (274 kB)\n",
            "\u001b[2K   \u001b[90m━━━━━━━━━━━━━━━━━━━━━━━━━━━━━━━━━━━━━━━━\u001b[0m \u001b[32m274.7/274.7 kB\u001b[0m \u001b[31m20.1 MB/s\u001b[0m eta \u001b[36m0:00:00\u001b[0m\n",
            "\u001b[?25hDownloading lxml_html_clean-0.4.2-py3-none-any.whl (14 kB)\n",
            "Building wheels for collected packages: sgmllib3k\n",
            "  Building wheel for sgmllib3k (setup.py) ... \u001b[?25l\u001b[?25hdone\n",
            "  Created wheel for sgmllib3k: filename=sgmllib3k-1.0.0-py3-none-any.whl size=6046 sha256=8f4b75ada400ba35a1631446fa7e15277c342a8261368a53f986757acb22bf74\n",
            "  Stored in directory: /root/.cache/pip/wheels/03/f5/1a/23761066dac1d0e8e683e5fdb27e12de53209d05a4a37e6246\n",
            "Successfully built sgmllib3k\n",
            "Installing collected packages: sgmllib3k, tld, pyee, lxml_html_clean, feedparser, playwright, dateparser, courlan, justext, htmldate, trafilatura\n",
            "Successfully installed courlan-1.3.2 dateparser-1.2.2 feedparser-6.0.11 htmldate-1.9.3 justext-3.0.2 lxml_html_clean-0.4.2 playwright-1.54.0 pyee-13.0.0 sgmllib3k-1.0.0 tld-0.13.1 trafilatura-2.0.0\n"
          ]
        }
      ],
      "source": [
        "!pip install feedparser trafilatura transformers requests beautifulsoup4 pandas playwright yfinance"
      ]
    },
    {
      "cell_type": "code",
      "source": [
        "import requests\n",
        "import feedparser\n",
        "import pandas as pd\n",
        "import json\n",
        "import time\n",
        "import hashlib\n",
        "import logging\n",
        "import datetime as dt\n",
        "from dataclasses import dataclass\n",
        "from typing import List, Dict, Optional\n",
        "from urllib.parse import urlparse\n",
        "import trafilatura as tf\n",
        "import re\n",
        "from playwright.sync_api import sync_playwright\n",
        "import numpy as np\n",
        "import pandas as pd\n",
        "import yfinance as yf\n",
        "import feedparser\n",
        "import requests\n",
        "import pandas as pd\n",
        "import time\n",
        "from typing import List, Dict\n",
        "import feedparser\n",
        "import requests\n",
        "import pandas as pd\n",
        "import time\n",
        "import trafilatura as tf\n",
        "import re\n",
        "from typing import List, Dict\n",
        "from playwright.sync_api import sync_playwright\n",
        "from bs4 import BeautifulSoup\n",
        "import logging\n",
        "import hashlib\n",
        "import datetime as dt\n",
        "from dataclasses import dataclass, field"
      ],
      "metadata": {
        "id": "Lpx7wwxx5HYt"
      },
      "execution_count": 2,
      "outputs": []
    },
    {
      "cell_type": "code",
      "source": [
        "\n",
        "\n",
        "def collect_from_google_news(scraper_config: Dict) -> List[Dict]:\n",
        "    \"\"\"Collects articles from Google News RSS feeds.\"\"\"\n",
        "    articles = []\n",
        "    keyword_groups = [\n",
        "        \"Apple OR AAPL OR Tim Cook\",\n",
        "        \"iPhone OR iPad OR Apple Watch\",\n",
        "        \"MacBook OR macOS OR Apple Silicon\",\n",
        "        \"AirPods OR Vision Pro OR App Store\"\n",
        "    ]\n",
        "    for group in keyword_groups:\n",
        "        rss_url = f\"https://news.google.com/rss/search?q={group.replace(' ', '+')}&hl=en-US&gl=US&ceid=US:en\"\n",
        "        feed = feedparser.parse(rss_url)\n",
        "        for entry in feed.entries[:scraper_config['max_articles_per_source']]:\n",
        "            articles.append({\n",
        "                'url': entry.get('link', ''),\n",
        "                'title': entry.get('title', ''),\n",
        "                'source': 'Google News',\n",
        "                'published_date': entry.get('published', '')\n",
        "            })\n",
        "        time.sleep(2)\n",
        "    return articles\n",
        "\n",
        "def collect_from_hacker_news(scraper_config: Dict) -> List[Dict]:\n",
        "    \"\"\"Collects articles from Hacker News API.\"\"\"\n",
        "    articles = []\n",
        "    keywords = [\"Apple\", \"AAPL\", \"iPhone\", \"MacBook\", \"Tim Cook\", \"iPad\", \"iOS\", \"macOS\", \"App Store\", \"Apple Watch\", \"AirPods\", \"M1 chip\", \"M2 chip\", \"Apple Silicon\", \"Vision Pro\"]\n",
        "    for keyword in keywords:\n",
        "        api_url = f\"https://hn.algolia.com/api/v1/search?query={keyword}&tags=story\"\n",
        "        try:\n",
        "            response = requests.get(api_url, timeout=scraper_config['timeout'])\n",
        "            if response.status_code == 200:\n",
        "                data = response.json()\n",
        "                for hit in data.get('hits', [])[:15]:\n",
        "                    if hit.get('url') and hit.get('title'):\n",
        "                        articles.append({\n",
        "                            'url': hit['url'],\n",
        "                            'title': hit['title'],\n",
        "                            'source': 'Hacker News',\n",
        "                            'published_date': hit.get('created_at', '')\n",
        "                        })\n",
        "                time.sleep(0.5)\n",
        "        except Exception as error:\n",
        "            continue\n",
        "    return articles\n",
        "\n",
        "def collect_from_tech_rss_feeds(scraper_config: Dict) -> List[Dict]:\n",
        "    \"\"\"Collects articles from a list of tech RSS feeds.\"\"\"\n",
        "    articles = []\n",
        "    rss_feeds = [\n",
        "        (\"https://9to5mac.com/feed/\", \"9to5Mac\"),\n",
        "        (\"https://techcrunch.com/tag/apple/feed/\", \"TechCrunch\"),\n",
        "        (\"https://www.macrumors.com/macrumors.xml\", \"MacRumors\"),\n",
        "        (\"https://appleinsider.com/rss/news\", \"AppleInsider\"),\n",
        "        (\"https://daringfireball.net/feeds/main\", \"Daring Fireball\"),\n",
        "        (\"https://www.apple.com/newsroom/rss-feed.rss\", \"Apple Official Newsroom\"),\n",
        "        (\"https://www.cultofmac.com/feed\", \"Cult of Mac\"),\n",
        "        (\"https://www.mactrast.com/feed/\", \"Mactrast\"),\n",
        "        (\"http://feeds.feedburner.com/idropnews/feed\", \"iDrop News\"),\n",
        "        (\"https://www.igeeksblog.com/feed/\", \"iGeeksBlog\"),\n",
        "        (\"https://www.engadget.com/tag/apple/rss.xml\", \"Engadget Apple\"),\n",
        "        (\"http://feeds.arstechnica.com/arstechnica/apple/\", \"Ars Technica Apple\"),\n",
        "        (\"https://venturebeat.com/tag/apple/feed/\", \"VentureBeat Apple\"),\n",
        "    ]\n",
        "    for rss_url, source_name in rss_feeds:\n",
        "        try:\n",
        "            feed = feedparser.parse(rss_url)\n",
        "            for entry in feed.entries[:scraper_config['max_articles_per_source']]:\n",
        "                articles.append({\n",
        "                    'url': entry.get('link', ''),\n",
        "                    'title': entry.get('title', ''),\n",
        "                    'source': source_name,\n",
        "                    'published_date': entry.get('published', '')\n",
        "                })\n",
        "            time.sleep(2)\n",
        "        except Exception:\n",
        "            continue\n",
        "    return articles\n",
        "\n",
        "def create_raw_dataframe(scraper_config: Dict) -> pd.DataFrame:\n",
        "    \"\"\"\n",
        "    Orchestrates the scraping and returns a DataFrame of raw article data.\n",
        "    \"\"\"\n",
        "    google_articles = collect_from_google_news(scraper_config)\n",
        "    hacker_news_articles = collect_from_hacker_news(scraper_config)\n",
        "    tech_rss_articles = collect_from_tech_rss_feeds(scraper_config)\n",
        "\n",
        "    all_raw_articles = google_articles + hacker_news_articles + tech_rss_articles\n",
        "\n",
        "    unique_articles = list({art['url']: art for art in all_raw_articles if art['url']}.values())\n",
        "\n",
        "    df = pd.DataFrame(unique_articles)\n",
        "    return df\n",
        "\n",
        "if __name__ == '__main__':\n",
        "    scraper_config = {\n",
        "        'max_articles_per_source': 300,\n",
        "        'timeout': 30\n",
        "    }\n",
        "\n",
        "    raw_df = create_raw_dataframe(scraper_config)\n",
        "    print(\"DataFrame with raw scraped data:\")\n",
        "    print(raw_df.head())\n",
        "    print(f\"\\nDataFrame shape: {raw_df.shape}\")"
      ],
      "metadata": {
        "colab": {
          "base_uri": "https://localhost:8080/"
        },
        "id": "zY4uo9H7-8Gh",
        "outputId": "5acdc984-57ac-45af-e570-da1458a6844d"
      },
      "execution_count": null,
      "outputs": [
        {
          "output_type": "stream",
          "name": "stdout",
          "text": [
            "DataFrame with raw scraped data:\n",
            "                                                 url  \\\n",
            "0  https://news.google.com/rss/articles/CBMigwFBV...   \n",
            "1  https://news.google.com/rss/articles/CBMilAFBV...   \n",
            "2  https://news.google.com/rss/articles/CBMixwFBV...   \n",
            "3  https://news.google.com/rss/articles/CBMitwFBV...   \n",
            "4  https://news.google.com/rss/articles/CBMimwFBV...   \n",
            "\n",
            "                                               title       source  \\\n",
            "0  'South Park' spoofs tech bros, Tim Cook, and T...  Google News   \n",
            "1  'South Park' Mocks Tech Bros, Tim Cook, and Ch...  Google News   \n",
            "2  South Park Blasts Mark Zuckerberg, Tim Cook fo...  Google News   \n",
            "3  Apple increases U.S. commitment to $600 billio...  Google News   \n",
            "4  Apple CEO Tim Cook’s $100 billion commitment t...  Google News   \n",
            "\n",
            "                  published_date  \n",
            "0  Sat, 23 Aug 2025 12:27:22 GMT  \n",
            "1  Fri, 22 Aug 2025 02:09:00 GMT  \n",
            "2  Thu, 21 Aug 2025 17:05:24 GMT  \n",
            "3  Wed, 06 Aug 2025 07:00:00 GMT  \n",
            "4  Thu, 07 Aug 2025 07:00:00 GMT  \n",
            "\n",
            "DataFrame shape: (1018, 4)\n"
          ]
        }
      ]
    },
    {
      "cell_type": "code",
      "source": [
        "raw_df"
      ],
      "metadata": {
        "colab": {
          "base_uri": "https://localhost:8080/",
          "height": 424
        },
        "id": "blOeZura_Lu_",
        "outputId": "eab75b0a-b2c3-4eba-e54e-e9a6f36d5208"
      },
      "execution_count": null,
      "outputs": [
        {
          "output_type": "execute_result",
          "data": {
            "text/plain": [
              "                                                    url  \\\n",
              "0     https://news.google.com/rss/articles/CBMigwFBV...   \n",
              "1     https://news.google.com/rss/articles/CBMilAFBV...   \n",
              "2     https://news.google.com/rss/articles/CBMixwFBV...   \n",
              "3     https://news.google.com/rss/articles/CBMitwFBV...   \n",
              "4     https://news.google.com/rss/articles/CBMimwFBV...   \n",
              "...                                                 ...   \n",
              "1013  https://venturebeat.com/ai/inside-the-ai-integ...   \n",
              "1014  https://venturebeat.com/ai/ceding-control-how-...   \n",
              "1015  https://venturebeat.com/virtual/google-and-hp-...   \n",
              "1016  https://venturebeat.com/virtual/apple-slammed-...   \n",
              "1017  https://venturebeat.com/ai/apple-releases-open...   \n",
              "\n",
              "                                                  title             source  \\\n",
              "0     'South Park' spoofs tech bros, Tim Cook, and T...        Google News   \n",
              "1     'South Park' Mocks Tech Bros, Tim Cook, and Ch...        Google News   \n",
              "2     South Park Blasts Mark Zuckerberg, Tim Cook fo...        Google News   \n",
              "3     Apple increases U.S. commitment to $600 billio...        Google News   \n",
              "4     Apple CEO Tim Cook’s $100 billion commitment t...        Google News   \n",
              "...                                                 ...                ...   \n",
              "1013  Microsoft’s vs. Apple’s AI computer strategies...  VentureBeat Apple   \n",
              "1014  Ceding control: How Copilot+ and PCs could mak...  VentureBeat Apple   \n",
              "1015  Google and HP aim to bridge remote worker gap ...  VentureBeat Apple   \n",
              "1016  Apple slammed by users over iPad Pro ‘Crush’ a...  VentureBeat Apple   \n",
              "1017  Apple releases OpenELM: small, open source AI ...  VentureBeat Apple   \n",
              "\n",
              "                       published_date  \n",
              "0       Sat, 23 Aug 2025 12:27:22 GMT  \n",
              "1       Fri, 22 Aug 2025 02:09:00 GMT  \n",
              "2       Thu, 21 Aug 2025 17:05:24 GMT  \n",
              "3       Wed, 06 Aug 2025 07:00:00 GMT  \n",
              "4       Thu, 07 Aug 2025 07:00:00 GMT  \n",
              "...                               ...  \n",
              "1013  Thu, 23 May 2024 14:24:46 +0000  \n",
              "1014  Wed, 22 May 2024 01:04:17 +0000  \n",
              "1015  Mon, 13 May 2024 20:08:15 +0000  \n",
              "1016  Wed, 08 May 2024 13:54:24 +0000  \n",
              "1017  Wed, 24 Apr 2024 16:04:19 +0000  \n",
              "\n",
              "[1018 rows x 4 columns]"
            ],
            "text/html": [
              "\n",
              "  <div id=\"df-c5a72b8c-d73e-4af8-9003-2fac038d3430\" class=\"colab-df-container\">\n",
              "    <div>\n",
              "<style scoped>\n",
              "    .dataframe tbody tr th:only-of-type {\n",
              "        vertical-align: middle;\n",
              "    }\n",
              "\n",
              "    .dataframe tbody tr th {\n",
              "        vertical-align: top;\n",
              "    }\n",
              "\n",
              "    .dataframe thead th {\n",
              "        text-align: right;\n",
              "    }\n",
              "</style>\n",
              "<table border=\"1\" class=\"dataframe\">\n",
              "  <thead>\n",
              "    <tr style=\"text-align: right;\">\n",
              "      <th></th>\n",
              "      <th>url</th>\n",
              "      <th>title</th>\n",
              "      <th>source</th>\n",
              "      <th>published_date</th>\n",
              "    </tr>\n",
              "  </thead>\n",
              "  <tbody>\n",
              "    <tr>\n",
              "      <th>0</th>\n",
              "      <td>https://news.google.com/rss/articles/CBMigwFBV...</td>\n",
              "      <td>'South Park' spoofs tech bros, Tim Cook, and T...</td>\n",
              "      <td>Google News</td>\n",
              "      <td>Sat, 23 Aug 2025 12:27:22 GMT</td>\n",
              "    </tr>\n",
              "    <tr>\n",
              "      <th>1</th>\n",
              "      <td>https://news.google.com/rss/articles/CBMilAFBV...</td>\n",
              "      <td>'South Park' Mocks Tech Bros, Tim Cook, and Ch...</td>\n",
              "      <td>Google News</td>\n",
              "      <td>Fri, 22 Aug 2025 02:09:00 GMT</td>\n",
              "    </tr>\n",
              "    <tr>\n",
              "      <th>2</th>\n",
              "      <td>https://news.google.com/rss/articles/CBMixwFBV...</td>\n",
              "      <td>South Park Blasts Mark Zuckerberg, Tim Cook fo...</td>\n",
              "      <td>Google News</td>\n",
              "      <td>Thu, 21 Aug 2025 17:05:24 GMT</td>\n",
              "    </tr>\n",
              "    <tr>\n",
              "      <th>3</th>\n",
              "      <td>https://news.google.com/rss/articles/CBMitwFBV...</td>\n",
              "      <td>Apple increases U.S. commitment to $600 billio...</td>\n",
              "      <td>Google News</td>\n",
              "      <td>Wed, 06 Aug 2025 07:00:00 GMT</td>\n",
              "    </tr>\n",
              "    <tr>\n",
              "      <th>4</th>\n",
              "      <td>https://news.google.com/rss/articles/CBMimwFBV...</td>\n",
              "      <td>Apple CEO Tim Cook’s $100 billion commitment t...</td>\n",
              "      <td>Google News</td>\n",
              "      <td>Thu, 07 Aug 2025 07:00:00 GMT</td>\n",
              "    </tr>\n",
              "    <tr>\n",
              "      <th>...</th>\n",
              "      <td>...</td>\n",
              "      <td>...</td>\n",
              "      <td>...</td>\n",
              "      <td>...</td>\n",
              "    </tr>\n",
              "    <tr>\n",
              "      <th>1013</th>\n",
              "      <td>https://venturebeat.com/ai/inside-the-ai-integ...</td>\n",
              "      <td>Microsoft’s vs. Apple’s AI computer strategies...</td>\n",
              "      <td>VentureBeat Apple</td>\n",
              "      <td>Thu, 23 May 2024 14:24:46 +0000</td>\n",
              "    </tr>\n",
              "    <tr>\n",
              "      <th>1014</th>\n",
              "      <td>https://venturebeat.com/ai/ceding-control-how-...</td>\n",
              "      <td>Ceding control: How Copilot+ and PCs could mak...</td>\n",
              "      <td>VentureBeat Apple</td>\n",
              "      <td>Wed, 22 May 2024 01:04:17 +0000</td>\n",
              "    </tr>\n",
              "    <tr>\n",
              "      <th>1015</th>\n",
              "      <td>https://venturebeat.com/virtual/google-and-hp-...</td>\n",
              "      <td>Google and HP aim to bridge remote worker gap ...</td>\n",
              "      <td>VentureBeat Apple</td>\n",
              "      <td>Mon, 13 May 2024 20:08:15 +0000</td>\n",
              "    </tr>\n",
              "    <tr>\n",
              "      <th>1016</th>\n",
              "      <td>https://venturebeat.com/virtual/apple-slammed-...</td>\n",
              "      <td>Apple slammed by users over iPad Pro ‘Crush’ a...</td>\n",
              "      <td>VentureBeat Apple</td>\n",
              "      <td>Wed, 08 May 2024 13:54:24 +0000</td>\n",
              "    </tr>\n",
              "    <tr>\n",
              "      <th>1017</th>\n",
              "      <td>https://venturebeat.com/ai/apple-releases-open...</td>\n",
              "      <td>Apple releases OpenELM: small, open source AI ...</td>\n",
              "      <td>VentureBeat Apple</td>\n",
              "      <td>Wed, 24 Apr 2024 16:04:19 +0000</td>\n",
              "    </tr>\n",
              "  </tbody>\n",
              "</table>\n",
              "<p>1018 rows × 4 columns</p>\n",
              "</div>\n",
              "    <div class=\"colab-df-buttons\">\n",
              "\n",
              "  <div class=\"colab-df-container\">\n",
              "    <button class=\"colab-df-convert\" onclick=\"convertToInteractive('df-c5a72b8c-d73e-4af8-9003-2fac038d3430')\"\n",
              "            title=\"Convert this dataframe to an interactive table.\"\n",
              "            style=\"display:none;\">\n",
              "\n",
              "  <svg xmlns=\"http://www.w3.org/2000/svg\" height=\"24px\" viewBox=\"0 -960 960 960\">\n",
              "    <path d=\"M120-120v-720h720v720H120Zm60-500h600v-160H180v160Zm220 220h160v-160H400v160Zm0 220h160v-160H400v160ZM180-400h160v-160H180v160Zm440 0h160v-160H620v160ZM180-180h160v-160H180v160Zm440 0h160v-160H620v160Z\"/>\n",
              "  </svg>\n",
              "    </button>\n",
              "\n",
              "  <style>\n",
              "    .colab-df-container {\n",
              "      display:flex;\n",
              "      gap: 12px;\n",
              "    }\n",
              "\n",
              "    .colab-df-convert {\n",
              "      background-color: #E8F0FE;\n",
              "      border: none;\n",
              "      border-radius: 50%;\n",
              "      cursor: pointer;\n",
              "      display: none;\n",
              "      fill: #1967D2;\n",
              "      height: 32px;\n",
              "      padding: 0 0 0 0;\n",
              "      width: 32px;\n",
              "    }\n",
              "\n",
              "    .colab-df-convert:hover {\n",
              "      background-color: #E2EBFA;\n",
              "      box-shadow: 0px 1px 2px rgba(60, 64, 67, 0.3), 0px 1px 3px 1px rgba(60, 64, 67, 0.15);\n",
              "      fill: #174EA6;\n",
              "    }\n",
              "\n",
              "    .colab-df-buttons div {\n",
              "      margin-bottom: 4px;\n",
              "    }\n",
              "\n",
              "    [theme=dark] .colab-df-convert {\n",
              "      background-color: #3B4455;\n",
              "      fill: #D2E3FC;\n",
              "    }\n",
              "\n",
              "    [theme=dark] .colab-df-convert:hover {\n",
              "      background-color: #434B5C;\n",
              "      box-shadow: 0px 1px 3px 1px rgba(0, 0, 0, 0.15);\n",
              "      filter: drop-shadow(0px 1px 2px rgba(0, 0, 0, 0.3));\n",
              "      fill: #FFFFFF;\n",
              "    }\n",
              "  </style>\n",
              "\n",
              "    <script>\n",
              "      const buttonEl =\n",
              "        document.querySelector('#df-c5a72b8c-d73e-4af8-9003-2fac038d3430 button.colab-df-convert');\n",
              "      buttonEl.style.display =\n",
              "        google.colab.kernel.accessAllowed ? 'block' : 'none';\n",
              "\n",
              "      async function convertToInteractive(key) {\n",
              "        const element = document.querySelector('#df-c5a72b8c-d73e-4af8-9003-2fac038d3430');\n",
              "        const dataTable =\n",
              "          await google.colab.kernel.invokeFunction('convertToInteractive',\n",
              "                                                    [key], {});\n",
              "        if (!dataTable) return;\n",
              "\n",
              "        const docLinkHtml = 'Like what you see? Visit the ' +\n",
              "          '<a target=\"_blank\" href=https://colab.research.google.com/notebooks/data_table.ipynb>data table notebook</a>'\n",
              "          + ' to learn more about interactive tables.';\n",
              "        element.innerHTML = '';\n",
              "        dataTable['output_type'] = 'display_data';\n",
              "        await google.colab.output.renderOutput(dataTable, element);\n",
              "        const docLink = document.createElement('div');\n",
              "        docLink.innerHTML = docLinkHtml;\n",
              "        element.appendChild(docLink);\n",
              "      }\n",
              "    </script>\n",
              "  </div>\n",
              "\n",
              "\n",
              "    <div id=\"df-9c087626-6fdd-4300-8cea-f2b213cae8bc\">\n",
              "      <button class=\"colab-df-quickchart\" onclick=\"quickchart('df-9c087626-6fdd-4300-8cea-f2b213cae8bc')\"\n",
              "                title=\"Suggest charts\"\n",
              "                style=\"display:none;\">\n",
              "\n",
              "<svg xmlns=\"http://www.w3.org/2000/svg\" height=\"24px\"viewBox=\"0 0 24 24\"\n",
              "     width=\"24px\">\n",
              "    <g>\n",
              "        <path d=\"M19 3H5c-1.1 0-2 .9-2 2v14c0 1.1.9 2 2 2h14c1.1 0 2-.9 2-2V5c0-1.1-.9-2-2-2zM9 17H7v-7h2v7zm4 0h-2V7h2v10zm4 0h-2v-4h2v4z\"/>\n",
              "    </g>\n",
              "</svg>\n",
              "      </button>\n",
              "\n",
              "<style>\n",
              "  .colab-df-quickchart {\n",
              "      --bg-color: #E8F0FE;\n",
              "      --fill-color: #1967D2;\n",
              "      --hover-bg-color: #E2EBFA;\n",
              "      --hover-fill-color: #174EA6;\n",
              "      --disabled-fill-color: #AAA;\n",
              "      --disabled-bg-color: #DDD;\n",
              "  }\n",
              "\n",
              "  [theme=dark] .colab-df-quickchart {\n",
              "      --bg-color: #3B4455;\n",
              "      --fill-color: #D2E3FC;\n",
              "      --hover-bg-color: #434B5C;\n",
              "      --hover-fill-color: #FFFFFF;\n",
              "      --disabled-bg-color: #3B4455;\n",
              "      --disabled-fill-color: #666;\n",
              "  }\n",
              "\n",
              "  .colab-df-quickchart {\n",
              "    background-color: var(--bg-color);\n",
              "    border: none;\n",
              "    border-radius: 50%;\n",
              "    cursor: pointer;\n",
              "    display: none;\n",
              "    fill: var(--fill-color);\n",
              "    height: 32px;\n",
              "    padding: 0;\n",
              "    width: 32px;\n",
              "  }\n",
              "\n",
              "  .colab-df-quickchart:hover {\n",
              "    background-color: var(--hover-bg-color);\n",
              "    box-shadow: 0 1px 2px rgba(60, 64, 67, 0.3), 0 1px 3px 1px rgba(60, 64, 67, 0.15);\n",
              "    fill: var(--button-hover-fill-color);\n",
              "  }\n",
              "\n",
              "  .colab-df-quickchart-complete:disabled,\n",
              "  .colab-df-quickchart-complete:disabled:hover {\n",
              "    background-color: var(--disabled-bg-color);\n",
              "    fill: var(--disabled-fill-color);\n",
              "    box-shadow: none;\n",
              "  }\n",
              "\n",
              "  .colab-df-spinner {\n",
              "    border: 2px solid var(--fill-color);\n",
              "    border-color: transparent;\n",
              "    border-bottom-color: var(--fill-color);\n",
              "    animation:\n",
              "      spin 1s steps(1) infinite;\n",
              "  }\n",
              "\n",
              "  @keyframes spin {\n",
              "    0% {\n",
              "      border-color: transparent;\n",
              "      border-bottom-color: var(--fill-color);\n",
              "      border-left-color: var(--fill-color);\n",
              "    }\n",
              "    20% {\n",
              "      border-color: transparent;\n",
              "      border-left-color: var(--fill-color);\n",
              "      border-top-color: var(--fill-color);\n",
              "    }\n",
              "    30% {\n",
              "      border-color: transparent;\n",
              "      border-left-color: var(--fill-color);\n",
              "      border-top-color: var(--fill-color);\n",
              "      border-right-color: var(--fill-color);\n",
              "    }\n",
              "    40% {\n",
              "      border-color: transparent;\n",
              "      border-right-color: var(--fill-color);\n",
              "      border-top-color: var(--fill-color);\n",
              "    }\n",
              "    60% {\n",
              "      border-color: transparent;\n",
              "      border-right-color: var(--fill-color);\n",
              "    }\n",
              "    80% {\n",
              "      border-color: transparent;\n",
              "      border-right-color: var(--fill-color);\n",
              "      border-bottom-color: var(--fill-color);\n",
              "    }\n",
              "    90% {\n",
              "      border-color: transparent;\n",
              "      border-bottom-color: var(--fill-color);\n",
              "    }\n",
              "  }\n",
              "</style>\n",
              "\n",
              "      <script>\n",
              "        async function quickchart(key) {\n",
              "          const quickchartButtonEl =\n",
              "            document.querySelector('#' + key + ' button');\n",
              "          quickchartButtonEl.disabled = true;  // To prevent multiple clicks.\n",
              "          quickchartButtonEl.classList.add('colab-df-spinner');\n",
              "          try {\n",
              "            const charts = await google.colab.kernel.invokeFunction(\n",
              "                'suggestCharts', [key], {});\n",
              "          } catch (error) {\n",
              "            console.error('Error during call to suggestCharts:', error);\n",
              "          }\n",
              "          quickchartButtonEl.classList.remove('colab-df-spinner');\n",
              "          quickchartButtonEl.classList.add('colab-df-quickchart-complete');\n",
              "        }\n",
              "        (() => {\n",
              "          let quickchartButtonEl =\n",
              "            document.querySelector('#df-9c087626-6fdd-4300-8cea-f2b213cae8bc button');\n",
              "          quickchartButtonEl.style.display =\n",
              "            google.colab.kernel.accessAllowed ? 'block' : 'none';\n",
              "        })();\n",
              "      </script>\n",
              "    </div>\n",
              "\n",
              "  <div id=\"id_2149f3e6-b3b3-4787-b469-3586902683b5\">\n",
              "    <style>\n",
              "      .colab-df-generate {\n",
              "        background-color: #E8F0FE;\n",
              "        border: none;\n",
              "        border-radius: 50%;\n",
              "        cursor: pointer;\n",
              "        display: none;\n",
              "        fill: #1967D2;\n",
              "        height: 32px;\n",
              "        padding: 0 0 0 0;\n",
              "        width: 32px;\n",
              "      }\n",
              "\n",
              "      .colab-df-generate:hover {\n",
              "        background-color: #E2EBFA;\n",
              "        box-shadow: 0px 1px 2px rgba(60, 64, 67, 0.3), 0px 1px 3px 1px rgba(60, 64, 67, 0.15);\n",
              "        fill: #174EA6;\n",
              "      }\n",
              "\n",
              "      [theme=dark] .colab-df-generate {\n",
              "        background-color: #3B4455;\n",
              "        fill: #D2E3FC;\n",
              "      }\n",
              "\n",
              "      [theme=dark] .colab-df-generate:hover {\n",
              "        background-color: #434B5C;\n",
              "        box-shadow: 0px 1px 3px 1px rgba(0, 0, 0, 0.15);\n",
              "        filter: drop-shadow(0px 1px 2px rgba(0, 0, 0, 0.3));\n",
              "        fill: #FFFFFF;\n",
              "      }\n",
              "    </style>\n",
              "    <button class=\"colab-df-generate\" onclick=\"generateWithVariable('raw_df')\"\n",
              "            title=\"Generate code using this dataframe.\"\n",
              "            style=\"display:none;\">\n",
              "\n",
              "  <svg xmlns=\"http://www.w3.org/2000/svg\" height=\"24px\"viewBox=\"0 0 24 24\"\n",
              "       width=\"24px\">\n",
              "    <path d=\"M7,19H8.4L18.45,9,17,7.55,7,17.6ZM5,21V16.75L18.45,3.32a2,2,0,0,1,2.83,0l1.4,1.43a1.91,1.91,0,0,1,.58,1.4,1.91,1.91,0,0,1-.58,1.4L9.25,21ZM18.45,9,17,7.55Zm-12,3A5.31,5.31,0,0,0,4.9,8.1,5.31,5.31,0,0,0,1,6.5,5.31,5.31,0,0,0,4.9,4.9,5.31,5.31,0,0,0,6.5,1,5.31,5.31,0,0,0,8.1,4.9,5.31,5.31,0,0,0,12,6.5,5.46,5.46,0,0,0,6.5,12Z\"/>\n",
              "  </svg>\n",
              "    </button>\n",
              "    <script>\n",
              "      (() => {\n",
              "      const buttonEl =\n",
              "        document.querySelector('#id_2149f3e6-b3b3-4787-b469-3586902683b5 button.colab-df-generate');\n",
              "      buttonEl.style.display =\n",
              "        google.colab.kernel.accessAllowed ? 'block' : 'none';\n",
              "\n",
              "      buttonEl.onclick = () => {\n",
              "        google.colab.notebook.generateWithVariable('raw_df');\n",
              "      }\n",
              "      })();\n",
              "    </script>\n",
              "  </div>\n",
              "\n",
              "    </div>\n",
              "  </div>\n"
            ],
            "application/vnd.google.colaboratory.intrinsic+json": {
              "type": "dataframe",
              "variable_name": "raw_df",
              "summary": "{\n  \"name\": \"raw_df\",\n  \"rows\": 1018,\n  \"fields\": [\n    {\n      \"column\": \"url\",\n      \"properties\": {\n        \"dtype\": \"string\",\n        \"num_unique_values\": 1018,\n        \"samples\": [\n          \"https://www.patentlyapple.com/2025/02/a-federal-judge-has-invalidated-an-omni-medsci-patent-which-could-open-the-door-for-a-blood-glucose-solution-for-apple-watch.html\",\n          \"https://www.cultofmac.com/apple-history/powerbook-165\",\n          \"https://factorio.com/blog/post/fff-371\"\n        ],\n        \"semantic_type\": \"\",\n        \"description\": \"\"\n      }\n    },\n    {\n      \"column\": \"title\",\n      \"properties\": {\n        \"dtype\": \"string\",\n        \"num_unique_values\": 1018,\n        \"samples\": [\n          \"US Judge invalidates blood glucose sensor patent, opens door for Apple Watch\",\n          \"Today in Apple history: PowerBook 165 becomes Apple\\u2019s most affordable laptop\",\n          \"Factorio runs on Apple Silicon\"\n        ],\n        \"semantic_type\": \"\",\n        \"description\": \"\"\n      }\n    },\n    {\n      \"column\": \"source\",\n      \"properties\": {\n        \"dtype\": \"category\",\n        \"num_unique_values\": 14,\n        \"samples\": [\n          \"Mactrast\",\n          \"iGeeksBlog\",\n          \"Google News\"\n        ],\n        \"semantic_type\": \"\",\n        \"description\": \"\"\n      }\n    },\n    {\n      \"column\": \"published_date\",\n      \"properties\": {\n        \"dtype\": \"string\",\n        \"num_unique_values\": 871,\n        \"samples\": [\n          \"2014-09-10T21:37:17Z\",\n          \"Fri, 22 Aug 2025 20:48:22 GMT\",\n          \"Fri, 22 Aug 2025 01:05:50 +0000\"\n        ],\n        \"semantic_type\": \"\",\n        \"description\": \"\"\n      }\n    }\n  ]\n}"
            }
          },
          "metadata": {},
          "execution_count": 19
        }
      ]
    },
    {
      "cell_type": "code",
      "source": [
        "\n",
        "\n",
        "\n",
        "def start_our_logger():\n",
        "    logging.basicConfig(level=logging.INFO, format='%(asctime)s - %(levelname)s - %(message)s')\n",
        "    return logging.getLogger(__name__)\n",
        "\n",
        "logger = start_our_logger()\n",
        "\n",
        "def clean_and_check_the_content(raw_content: str, min_length: int = 200) -> tuple[str, str]:\n",
        "    if not raw_content:\n",
        "        return \"\", \"EMPTY\"\n",
        "    cleaned = raw_content.strip()\n",
        "    cleaned = re.sub(r'\\s+', ' ', cleaned)\n",
        "    boilerplate_patterns = [\n",
        "        r'Cookie Policy.*$', r'Privacy Policy.*$', r'Terms of Service.*$',\n",
        "        r'Subscribe to.*newsletter.*$', r'Follow us on.*$'\n",
        "    ]\n",
        "    for pattern in boilerplate_patterns:\n",
        "        cleaned = re.sub(pattern, '', cleaned, flags=re.IGNORECASE)\n",
        "    if len(cleaned) < min_length:\n",
        "        quality = \"SHORT\"\n",
        "    elif len(cleaned) < 500:\n",
        "        quality = \"BASIC\"\n",
        "    elif len(cleaned) < 1500:\n",
        "        quality = \"GOOD\"\n",
        "    else:\n",
        "        quality = \"EXCELLENT\"\n",
        "    return cleaned.strip(), quality\n",
        "\n",
        "\n",
        "import requests\n",
        "import trafilatura as tf\n",
        "import re\n",
        "from playwright.sync_api import sync_playwright\n",
        "from bs4 import BeautifulSoup\n",
        "import logging\n",
        "import time\n",
        "\n",
        "def clean_and_check_the_content(raw_content: str, min_length: int = 200) -> tuple[str, str]:\n",
        "    if not raw_content:\n",
        "        return \"\", \"EMPTY\"\n",
        "    cleaned = raw_content.strip()\n",
        "    cleaned = re.sub(r'\\s+', ' ', cleaned)\n",
        "    boilerplate_patterns = [\n",
        "        r'Cookie Policy.*$', r'Privacy Policy.*$', r'Terms of Service.*$',\n",
        "        r'Subscribe to.*newsletter.*$', r'Follow us on.*$'\n",
        "    ]\n",
        "    for pattern in boilerplate_patterns:\n",
        "        cleaned = re.sub(pattern, '', cleaned, flags=re.IGNORECASE)\n",
        "    if len(cleaned) < min_length:\n",
        "        quality = \"SHORT\"\n",
        "    elif len(cleaned) < 500:\n",
        "        quality = \"BASIC\"\n",
        "    elif len(cleaned) < 1500:\n",
        "        quality = \"GOOD\"\n",
        "    else:\n",
        "        quality = \"EXCELLENT\"\n",
        "    return cleaned.strip(), quality\n",
        "\n",
        "def get_the_article_text(url: str, headers: dict, timeout: int) -> tuple[str, str]:\n",
        "    try:\n",
        "        response = requests.get(url, headers=headers, timeout=timeout, allow_redirects=True)\n",
        "        final_url = response.url\n",
        "        if response.status_code == 200:\n",
        "            html_content = response.text\n",
        "            extracted_content = tf.extract(html_content, favor_precision=True)\n",
        "            if extracted_content and len(extracted_content.strip()) > 100:\n",
        "                clean_content, quality = clean_and_check_the_content(extracted_content)\n",
        "                return clean_content, quality\n",
        "\n",
        "        with sync_playwright() as p:\n",
        "            browser = p.chromium.launch(headless=True)\n",
        "            context = browser.new_context(user_agent=headers.get(\"User-Agent\", \"\"))\n",
        "            page = context.new_page()\n",
        "\n",
        "            try:\n",
        "                page.goto(url, timeout=timeout * 1000, wait_until=\"domcontentloaded\")\n",
        "                time.sleep(2)\n",
        "                cookie_selectors = [\n",
        "                    'button:has-text(\"Accept All\")',\n",
        "                    'button:has-text(\"Accept\")',\n",
        "                    '#consent-button',\n",
        "                    '#cookie-accept-button',\n",
        "                    'a:has-text(\"Accept\")',\n",
        "                    '#onetrust-accept-btn-handler'\n",
        "                ]\n",
        "\n",
        "                for selector in cookie_selectors:\n",
        "                    try:\n",
        "                        accept_button = page.locator(selector, has_text=re.compile(\"accept\", re.IGNORECASE))\n",
        "                        if accept_button.is_visible(timeout=5000):\n",
        "                            accept_button.click()\n",
        "                            time.sleep(1)\n",
        "                            break\n",
        "                    except Exception as e:\n",
        "                        logging.info(f\"Could not find or click selector {selector}: {e}\")\n",
        "\n",
        "                html_content_js = page.content()\n",
        "                extracted_content = tf.extract(html_content_js, favor_precision=True) or ''\n",
        "\n",
        "            except Exception as e:\n",
        "                logging.error(f\"Playwright navigation failed for {url}: {e}\")\n",
        "                extracted_content = \"\"\n",
        "\n",
        "            finally:\n",
        "                context.close()\n",
        "                browser.close()\n",
        "\n",
        "        clean_content, quality = clean_and_check_the_content(extracted_content)\n",
        "        return clean_content, quality\n",
        "\n",
        "    except requests.exceptions.Timeout:\n",
        "        return \"\", \"TIMEOUT\"\n",
        "    except requests.exceptions.RequestException:\n",
        "        return \"\", \"NETWORK_ERROR\"\n",
        "    except Exception as e:\n",
        "        return \"\", f\"ERROR: {str(e)[:50]}\"\n",
        "\n",
        "def collect_from_google_news(scraper_config: Dict) -> List[Dict]:\n",
        "    articles = []\n",
        "    keyword_groups = [\n",
        "        \"Apple OR AAPL OR Tim Cook\",\n",
        "        \"iPhone OR iPad OR Apple Watch\",\n",
        "        \"MacBook OR macOS OR Apple Silicon\",\n",
        "        \"AirPods OR Vision Pro OR App Store\"\n",
        "    ]\n",
        "    for group in keyword_groups:\n",
        "        rss_url = f\"https://news.google.com/rss/search?q={group.replace(' ', '+')}&hl=en-US&gl=US&ceid=US:en\"\n",
        "        feed = feedparser.parse(rss_url)\n",
        "        for entry in feed.entries[:scraper_config['max_articles_per_source']]:\n",
        "            articles.append({\n",
        "                'url': entry.get('link', ''),\n",
        "                'title': entry.get('title', ''),\n",
        "                'source': 'Google News',\n",
        "                'published_date': entry.get('published', '')\n",
        "            })\n",
        "        time.sleep(2)\n",
        "    return articles\n",
        "\n",
        "def collect_from_hacker_news(scraper_config: Dict) -> List[Dict]:\n",
        "    articles = []\n",
        "    keywords = [\"Apple\", \"AAPL\", \"iPhone\", \"MacBook\", \"Tim Cook\", \"iPad\", \"iOS\", \"macOS\", \"App Store\", \"Apple Watch\", \"AirPods\", \"M1 chip\", \"M2 chip\", \"Apple Silicon\", \"Vision Pro\"]\n",
        "    for keyword in keywords:\n",
        "        api_url = f\"https://hn.algolia.com/api/v1/search?query={keyword}&tags=story\"\n",
        "        try:\n",
        "            response = requests.get(api_url, timeout=scraper_config['timeout'])\n",
        "            if response.status_code == 200:\n",
        "                data = response.json()\n",
        "                for hit in data.get('hits', [])[:15]:\n",
        "                    if hit.get('url') and hit.get('title'):\n",
        "                        articles.append({\n",
        "                            'url': hit['url'],\n",
        "                            'title': hit['title'],\n",
        "                            'source': 'Hacker News',\n",
        "                            'published_date': hit.get('created_at', '')\n",
        "                        })\n",
        "                time.sleep(0.5)\n",
        "        except Exception:\n",
        "            continue\n",
        "    return articles\n",
        "\n",
        "def collect_from_tech_rss_feeds(scraper_config: Dict) -> List[Dict]:\n",
        "    articles = []\n",
        "    rss_feeds = [\n",
        "        (\"https://9to5mac.com/feed/\", \"9to5Mac\"),\n",
        "        (\"https://techcrunch.com/tag/apple/feed/\", \"TechCrunch\"),\n",
        "        (\"https://www.macrumors.com/macrumors.xml\", \"MacRumors\"),\n",
        "        (\"https://appleinsider.com/rss/news\", \"AppleInsider\"),\n",
        "        (\"https://daringfireball.net/feeds/main\", \"Daring Fireball\"),\n",
        "        (\"https://www.apple.com/newsroom/rss-feed.rss\", \"Apple Official Newsroom\"),\n",
        "        (\"https://www.cultofmac.com/feed\", \"Cult of Mac\"),\n",
        "        (\"https://www.mactrast.com/feed/\", \"Mactrast\"),\n",
        "        (\"http://feeds.feedburner.com/idropnews/feed\", \"iDrop News\"),\n",
        "        (\"https://www.igeeksblog.com/feed/\", \"iGeeksBlog\"),\n",
        "        (\"https://www.engadget.com/tag/apple/rss.xml\", \"Engadget Apple\"),\n",
        "        (\"http://feeds.arstechnica.com/arstechnica/apple/\", \"Ars Technica Apple\"),\n",
        "        (\"https://venturebeat.com/tag/apple/feed/\", \"VentureBeat Apple\"),\n",
        "    ]\n",
        "    for rss_url, source_name in rss_feeds:\n",
        "        try:\n",
        "            feed = feedparser.parse(rss_url)\n",
        "            for entry in feed.entries[:scraper_config['max_articles_per_source']]:\n",
        "                articles.append({\n",
        "                    'url': entry.get('link', ''),\n",
        "                    'title': entry.get('title', ''),\n",
        "                    'source': source_name,\n",
        "                    'published_date': entry.get('published', '')\n",
        "                })\n",
        "            time.sleep(2)\n",
        "        except Exception:\n",
        "            continue\n",
        "    return articles\n",
        "\n",
        "def create_raw_dataframe(scraper_config: Dict) -> pd.DataFrame:\n",
        "    \"\"\"\n",
        "    Orchestrates the scraping, gets article content, and returns a DataFrame.\n",
        "    \"\"\"\n",
        "    google_articles = collect_from_google_news(scraper_config)\n",
        "    hacker_news_articles = collect_from_hacker_news(scraper_config)\n",
        "    tech_rss_articles = collect_from_tech_rss_feeds(scraper_config)\n",
        "\n",
        "    all_raw_articles = google_articles + hacker_news_articles + tech_rss_articles\n",
        "\n",
        "    unique_urls = set()\n",
        "    unique_articles = []\n",
        "    for art in all_raw_articles:\n",
        "        if art['url'] and art['url'] not in unique_urls:\n",
        "            unique_articles.append(art)\n",
        "            unique_urls.add(art['url'])\n",
        "\n",
        "    processed_articles = []\n",
        "    for article in unique_articles:\n",
        "        print(f\"Fetching content for: {article['url']}\")\n",
        "        content, _ = get_the_article_text(article['url'], scraper_config['headers'], scraper_config['timeout'])\n",
        "        article['content'] = content\n",
        "        processed_articles.append(article)\n",
        "        time.sleep(2)\n",
        "\n",
        "    df = pd.DataFrame(processed_articles)\n",
        "    return df\n",
        "\n",
        "if __name__ == '__main__':\n",
        "    scraper_config = {\n",
        "        'max_articles_per_source': 300,\n",
        "        'timeout': 30,\n",
        "        'headers': {\"User-Agent\": \"Mozilla/5.0 (Windows NT 10.0; Win64; x64) AppleWebKit/537.36\"}\n",
        "    }\n",
        "\n",
        "    raw_df_with_content = create_raw_dataframe(scraper_config)\n",
        "    print(\"DataFrame with raw scraped data and content:\")\n",
        "    print(raw_df_with_content.head())\n",
        "    print(f\"\\nDataFrame shape: {raw_df_with_content.shape}\")"
      ],
      "metadata": {
        "colab": {
          "base_uri": "https://localhost:8080/"
        },
        "id": "a9Rs9SOHAA0l",
        "outputId": "8fa48ccd-0643-4299-b098-9e6efe1d1c77"
      },
      "execution_count": null,
      "outputs": [
        {
          "output_type": "stream",
          "name": "stdout",
          "text": [
            "Fetching content for: https://news.google.com/rss/articles/CBMigwFBVV95cUxOa1BwTWJ6MnZVcUJtcDFUeUJ2QlUxeWxpYkQ3MDNSY251S1RHYUhLZTJzRUdKWmFMdUJHM0JONmtOdlFmU1E5aUpPT09ZNXRROGhiVV9Uc21QZ3VWQThZeHRzYWt4WTF6QmNNcEdBajN4bkdsS285OVVqeE1jbXd6WXM3Yw?oc=5\n"
          ]
        },
        {
          "output_type": "stream",
          "name": "stderr",
          "text": [
            "WARNING:trafilatura.core:discarding data: None\n"
          ]
        },
        {
          "output_type": "stream",
          "name": "stdout",
          "text": [
            "Fetching content for: https://news.google.com/rss/articles/CBMilAFBVV95cUxQSkxrTUZHT19nclBZRmVKMzhxYkx0dlJfVVBaOHdOYUVMUDRRMzlXQmJsRWZxMjRKSmluRWZyNjZxcm1WNWpJYWVyNDdETVRBdzZISGNVMHN5dXZmOHN2WmVUWk9ZSmV0SVlaSWZrMzJ0aG5XWmJyM1ZHNEU4T1gwTmNndFFKOFV3LVloQ3B0NE16c2FR?oc=5\n"
          ]
        },
        {
          "output_type": "stream",
          "name": "stderr",
          "text": [
            "WARNING:trafilatura.core:discarding data: None\n"
          ]
        },
        {
          "output_type": "stream",
          "name": "stdout",
          "text": [
            "Fetching content for: https://news.google.com/rss/articles/CBMixwFBVV95cUxOa3VWLUt5dzhMSHc2bHVpQzFuS0wyNjl1MzZTUWZhZmtBeDFweFRiRHlSYmY5MUtsU3NacnBzYjJicDU4a1A3MkE5OFhGTXRTajh6cS1QUkxBTTd0VGRLMEVRRFpwOTd2Ym1SXzNoR3JpM2xXY2F1cjBPeVM3U1NLazFVVFJTbGtkUlZxNERlM0NrR0F4M1FleVUxVnN3MFFKYXk5ZTBYMnJfQzFucVRUSFFYZjBGVlhueWs3OUFYN2dWd3NIcjJv?oc=5\n"
          ]
        },
        {
          "output_type": "stream",
          "name": "stderr",
          "text": [
            "WARNING:trafilatura.core:discarding data: None\n"
          ]
        },
        {
          "output_type": "stream",
          "name": "stdout",
          "text": [
            "Fetching content for: https://news.google.com/rss/articles/CBMitwFBVV95cUxPUkdCcVdpRnpFR2xmWlNWUjBfWjJ5eERtdElrT1I3NXFHN25nX1E1TkJhTFRSZWw4QlU5MnpvYm94dTZ3bVpTTHpTaWF0dXRLN2JQQmRaM1cwSDl1NjZqNWM3MVdNcWVmMko1OGF4TnFKMU9RakIxZXk4UUFBU1FvMjBTX0FISDJaMzRvSHBxb0JqV0hnc3lvaGx0SHF5bzVvMGZERFFkVHhFSEdsU2FtMjJaVzNaUU0?oc=5\n"
          ]
        },
        {
          "output_type": "stream",
          "name": "stderr",
          "text": [
            "WARNING:trafilatura.core:discarding data: None\n"
          ]
        },
        {
          "output_type": "stream",
          "name": "stdout",
          "text": [
            "Fetching content for: https://news.google.com/rss/articles/CBMimwFBVV95cUxQa2ZyYUk5RUJxbGFNakZ0d1BKZENCaEthb0tWWGtvd3Y1VUVGeUJ1WmQ5cmxlX213X0IwZ0ZMRUNnbHpWR1NTR0lDRG1ta0l6X1JIa3FEU1NELWZjcUNYQ1JBYlI5OXhINlllS25VdlRudzVKOHBIT2l0cVhELW9DcHl3QW1NOWdRYzRjZEhqQkNBZENpZHBQTmF5cw?oc=5\n"
          ]
        },
        {
          "output_type": "stream",
          "name": "stderr",
          "text": [
            "WARNING:trafilatura.core:discarding data: None\n"
          ]
        },
        {
          "output_type": "stream",
          "name": "stdout",
          "text": [
            "Fetching content for: https://news.google.com/rss/articles/CBMijwFBVV95cUxPXzkteWpPb3M3cU5YRUg3cW1xcDFucU5ISzA0MmdTWWJ5WGZYbmJtcm1YRkNRWXlCZU1MRHRJZGhEU25hQ194RmhhOG9RVjZXYldzaHk5S2pPcTFCUnAzUGtUVHZ0SUFtb3ZMV3UzTjRjc01oVHdfMVhfYW9qSFlRV0xaX2lQaFJ3Nk9SMXlFWQ?oc=5\n"
          ]
        },
        {
          "output_type": "stream",
          "name": "stderr",
          "text": [
            "WARNING:trafilatura.core:discarding data: None\n"
          ]
        },
        {
          "output_type": "stream",
          "name": "stdout",
          "text": [
            "Fetching content for: https://news.google.com/rss/articles/CBMilwFBVV95cUxPX0R4MnhzX1lIZENSa2c4M2JfdTBtYzVOVXdLVE9uV2NoTG9JVUxjSXpLZnVPdTEtcEJGb2w0cjdWQWJ2QnBaR1ZXOHZQcmZidThxenBYemg1Vy1lTlZsRUdPRzZqUzdBU0hxN2lfTDFGMkdUZm9kU1piczVfQkcyQW10UDNhbko2LWE5NG84TFBOUUNvNHcw?oc=5\n"
          ]
        },
        {
          "output_type": "stream",
          "name": "stderr",
          "text": [
            "WARNING:trafilatura.core:discarding data: None\n"
          ]
        },
        {
          "output_type": "stream",
          "name": "stdout",
          "text": [
            "Fetching content for: https://news.google.com/rss/articles/CBMiXkFVX3lxTE44clRYNUdYNzFDajlaalVfbk02TWExSWFnMDZYc0c1cTBuamduZWM4SEhVQ3RSU0NYaE1Ydi02LUpaOUpIaXhfRUY4MHBKYnVaSHM2NDZJS3RQMzFhY0E?oc=5\n"
          ]
        },
        {
          "output_type": "stream",
          "name": "stderr",
          "text": [
            "WARNING:trafilatura.core:discarding data: None\n"
          ]
        },
        {
          "output_type": "stream",
          "name": "stdout",
          "text": [
            "Fetching content for: https://news.google.com/rss/articles/CBMipAFBVV95cUxOckVPWE5taFoxcEZaQVU1RWxhdFpFaFFXVS1UOWdqMDAwdjBuajMzcDREU1pENHktU1RXWmJzMHNxRzQwRlpHbi1EVHRwS2FxMUpMN0tnZFNySmlFWmZKLWFVU0pLN1ByWFV5VTV3VW4wemxYYXoya1BzWERSUFVNOF9scGMzaDczcE54QlQ2YVBacEUzaDN1clJmNkduUDlJdE9CbQ?oc=5\n"
          ]
        },
        {
          "output_type": "stream",
          "name": "stderr",
          "text": [
            "WARNING:trafilatura.core:discarding data: None\n"
          ]
        },
        {
          "output_type": "stream",
          "name": "stdout",
          "text": [
            "Fetching content for: https://news.google.com/rss/articles/CBMie0FVX3lxTE5taXFGVXBWNGpVUjJBQlZDczUyOEVLSnZpYnZiY3dCMk5NUE54ZVppbzdjazZxNVppR3NxNTVaMS1ocGJVaktOLWtpeGJsNjRFUW0wcEc0MlRfOFZlRTVtWmxsRk9wNnBwaXRKVUpKV1pKUjhhT0tYelRRbw?oc=5\n"
          ]
        },
        {
          "output_type": "stream",
          "name": "stderr",
          "text": [
            "WARNING:trafilatura.core:discarding data: None\n"
          ]
        },
        {
          "output_type": "stream",
          "name": "stdout",
          "text": [
            "Fetching content for: https://news.google.com/rss/articles/CBMieEFVX3lxTE9DNEhBaFEwVjZGb3RKMEl6SGk3M0ZXS1RSS3Uzd1RzWDNZQ0RXV05SQ3UtcURWS0RlYXlZcjYyRktHVV8yd2ptWVkyVE1xQ1I5bDlNdGxWVHpIc19wYWt4RmxQVDN3UGxwY1c0QkRWOEdDUGxpMmktMdIBfkFVX3lxTE1KQkhFV3NONVJnY05sVUx4RkF3WEFBeHY3aWZ3OGszb2trd0tmMXNOZVZONGNGV2pSTzdBcFYyZkQwQTh0a3BKTDViM3pUZ1RqUXJ6YkUxQUR1UFdzZmt1cWU1SVplSDF5TzJCczBXcDdvNFlRZDdWaVFQWjZHUQ?oc=5\n"
          ]
        },
        {
          "output_type": "stream",
          "name": "stderr",
          "text": [
            "WARNING:trafilatura.core:discarding data: None\n"
          ]
        },
        {
          "output_type": "stream",
          "name": "stdout",
          "text": [
            "Fetching content for: https://news.google.com/rss/articles/CBMikgFBVV95cUxPbHQ3bkxUY1JtZVBadk5hZlEtSFNFckplZVBTZTloQm53UjBtbmdiYVdIN3VGZGxoUU40UDdFUDJFUDlJbXAtclZnUjE1Z0RaeHd6N2tyTDVOckc3dXJvLUUwQ2ppN0htUnZLaFdiNXlLU1RCaFk1cExOSmMyak4yN25qMVlaUG5QV2hHM29lYl8wQQ?oc=5\n"
          ]
        },
        {
          "output_type": "stream",
          "name": "stderr",
          "text": [
            "WARNING:trafilatura.core:discarding data: None\n"
          ]
        },
        {
          "output_type": "stream",
          "name": "stdout",
          "text": [
            "Fetching content for: https://news.google.com/rss/articles/CBMikAFBVV95cUxQd0lFRGRGLTBFX19IRUdic0doMkVneHBrSGdvdnZzNnlkUVp2UXlhcDF5bmdpZkFhNHItSmxzYUFNYUlQckc1T2lHNXVhelBXNnZBZGRlSGFObm5oaW5FdXlzN1VJdjd1RjFkZE5JZHlXbFpUTGpublU4VzlBck10cFd5SGR4eU9tNnJ0MV92bG0?oc=5\n"
          ]
        },
        {
          "output_type": "stream",
          "name": "stderr",
          "text": [
            "WARNING:trafilatura.core:discarding data: None\n"
          ]
        },
        {
          "output_type": "stream",
          "name": "stdout",
          "text": [
            "Fetching content for: https://news.google.com/rss/articles/CBMilAFBVV95cUxQLXcyN0E1RDlZMm02WVdnTktQQXhmN1lNM0t1a1FsLV9CN2lIVU1pV0VLZF9QcVVsRXdnY04tdGE5ZFRmei1PZ3pUY2Y5eVdZeW5XWUlMWDFKTFVwcGNFRThsakpJal80dFZxUmlJRGFaNnl6Z2ZqZ0hrTkxORTJtWTJyUXNyb3gyQXdINmFWT1Jock5h?oc=5\n"
          ]
        },
        {
          "output_type": "stream",
          "name": "stderr",
          "text": [
            "WARNING:trafilatura.core:discarding data: None\n"
          ]
        },
        {
          "output_type": "stream",
          "name": "stdout",
          "text": [
            "Fetching content for: https://news.google.com/rss/articles/CBMipgFBVV95cUxOSnozQ3djZ3ZWSnRvalU5V3VYU1lTOV9iaTYwWkt4MGxIVFkzelZzbnBaNXdtTTV3TzBNOFlINzJhVmd0eUFkZlRld1N1VUlFSG0xWXZFMlpfekZIZDM0OTc1UHR2eU81WTlDV0d2M2M4UmRHN2VMZ3AwM1h2RFMwN1B0UlBHaDNFTWdxSmVlU0JMaTFPeGFFRlUwNTNFQm15WU1kZWpR0gGrAUFVX3lxTE1zQkU3cWp4SDBYNGhta3lneGppeGVSMVd1cU9JTldaLTA5SF9Ed09TRWI4TE54bFVUdjJnbFE0WE1tamtxV2xCTGVMdFdDcWVMeXowc191SmRUYkFtRzVtRDg3bUdkQXlTTTJKbmtSR2Z2cThEOEl2NHd3V3hJbW9qN2NPQ2tWdUhKTTJCa2VQazFiZlZCaTZFX3JWS2M3RldkNkh5MzZuZl9POA?oc=5\n"
          ]
        },
        {
          "output_type": "stream",
          "name": "stderr",
          "text": [
            "WARNING:trafilatura.core:discarding data: None\n"
          ]
        },
        {
          "output_type": "stream",
          "name": "stdout",
          "text": [
            "Fetching content for: https://news.google.com/rss/articles/CBMitgFBVV95cUxNNmJMUTY0WmdlblNYRFp5SjRQNEYwRGtsWVdoNUNBZzFRbzNMWHZfbU1LNlpkZjlXV3ZaVExFSjhkMVFtdFJnOU9LS3ZhU3p2WTFVR2lLTWhjWUxZZ0FtNmp2eFMzcHJVeFF0Ym1uc0xtN1FsUWFXR2UwZ3ZVVVI4Z1ZSVEk1Q2VLRkZaTEl2WWc5RDY4dC13ZGFyX25vNHRRdlBZMXhrUHZQWFJCZlctMnRmUlRhQQ?oc=5\n"
          ]
        },
        {
          "output_type": "stream",
          "name": "stderr",
          "text": [
            "WARNING:trafilatura.core:discarding data: None\n"
          ]
        },
        {
          "output_type": "stream",
          "name": "stdout",
          "text": [
            "Fetching content for: https://news.google.com/rss/articles/CBMimAFBVV95cUxNUTFVa1Rtd0dvNU04Sm1laFhHN3VFVDZxd3FVZ3FlSV80dXFCZ2xwaHo4eFpUaTVyczhYb2NodW5OTGN2c3E4aFFUU3IzVHdJMTBmYTc2QnJkbk5mQ2tfdGRBUXV3OWI4REJybk03emZoR3lqc0s1eTRpOGVEYktXNWRWZExNWDJQM1hpWVNJZGd4MktyYjdtTg?oc=5\n"
          ]
        },
        {
          "output_type": "stream",
          "name": "stderr",
          "text": [
            "WARNING:trafilatura.core:discarding data: None\n"
          ]
        },
        {
          "output_type": "stream",
          "name": "stdout",
          "text": [
            "Fetching content for: https://news.google.com/rss/articles/CBMiZEFVX3lxTE9fTzE5RGtxUG9rSllpRU1hMmlDcEdzRUFBZ3I0aG1KNHNfX2pHeUQtelhYTUtZRVpwZHdCRmdBelZpZHUzRjVtOUFaaTd3aGZRaWZrM3pGTjFnd0QyS3NGUGI0Xy3SAWpBVV95cUxNZ0NvbVVBTWJTdkY5d3NLWVBTdlJkVXpJSGNERUVSaUwtQms1RktGN2lscHJrTGdzVXVDSVVSaFBTMkdiLWhsSWRzRzdLVElVZnpQY3d5QzZybjdvZWJ3TWFMUDQ3emlzejhn?oc=5\n"
          ]
        },
        {
          "output_type": "stream",
          "name": "stderr",
          "text": [
            "WARNING:trafilatura.core:discarding data: None\n"
          ]
        },
        {
          "output_type": "stream",
          "name": "stdout",
          "text": [
            "Fetching content for: https://news.google.com/rss/articles/CBMiqgFBVV95cUxQZllwS2tJMmI4THU5TkZIV3NCWGZXbnR3WjYwbWdKOW1RRUdzTTUyaGNhaWZRV19FVnItbDRZVHZpRm5ZZVV5aV9wQ1hQcmxmRGJYeXNWSHJyckNUU2VTeWo1bXIzejlmYi1ld2N0dlF6d281dzlzenZ3NzNESkJ1STNOcDByREc0RkJNRVQwQXlhaEZPaE5qZHd5VVlkcnlXSnZKOXY0R3Bwd9IBrwFBVV95cUxQc21UNzNneHhrVHRNX3FZaGkzbDJoNUo1dGtkWlVISUVFOWtHazV2R0UtbFp6ZXBWVnRwcUd0WTdVUzFzeEpTLUcwVFJ0aldqams0cnd5aWNwMC1TSnFDTW1MQ2tuNHNjOXJFRjE2bHNmbWtMNzlDQXBLSEY4VTZvV2ZNSFd6c3JfOVE2NFItY2xlbEZxeUNtLTI2cDdjTk0weDNUX3ZfcWJSQ1ZWRHF3?oc=5\n"
          ]
        },
        {
          "output_type": "stream",
          "name": "stderr",
          "text": [
            "WARNING:trafilatura.core:discarding data: None\n"
          ]
        },
        {
          "output_type": "stream",
          "name": "stdout",
          "text": [
            "Fetching content for: https://news.google.com/rss/articles/CBMidkFVX3lxTFBpYUNIYnZjaHAxRm4tY09WVEhZVFlkTmR4V1ZNSEVzWlZ4cFNFN254NE5KU0RUVnlDczZid0dVT1Z1ZW9za0E4czZHbDVpa1VoUHgyS2xOZHdEYTYybFRnbHNVMmQ1bk9hc1VSRVZHdW0xM09xcUHSAXtBVV95cUxPUTFUV3Z1T0lhSjBmVWpKcEMtWDNOZ05TUUFIMEZzenZBNS1TNG1sX2tZalhKQnVjN3BEUmg4N3NwT0FQcWpyUzdPSlpKUGZjN1pjZk04U3BoaHRvWGh5RG1TTmJZVW8zNnQwMlh3TFo2VDFNT1RxVXBLRDA?oc=5\n"
          ]
        },
        {
          "output_type": "stream",
          "name": "stderr",
          "text": [
            "WARNING:trafilatura.core:discarding data: None\n"
          ]
        },
        {
          "output_type": "stream",
          "name": "stdout",
          "text": [
            "Fetching content for: https://news.google.com/rss/articles/CBMiogFBVV95cUxNSlhCek8tV1pVV1JVVVFXVnIyaE1yV0NEdHFHRVB2VVBCWllEbnZ0bUVZU3FNWlltOVZfUTRNVzhEZ1pvNEpsTE9TMkoxbXlIVmE0UURLV0VoLXBjeDFIVzVpY1FRRHJUMnJjUzdVa2FBNjlLLUV4YmFXemxZZk9NRE9VNG54d0JRZTdkbHB3Qjd0QWszanhneW1aSko4M2pRRGc?oc=5\n"
          ]
        },
        {
          "output_type": "stream",
          "name": "stderr",
          "text": [
            "WARNING:trafilatura.core:discarding data: None\n"
          ]
        },
        {
          "output_type": "stream",
          "name": "stdout",
          "text": [
            "Fetching content for: https://news.google.com/rss/articles/CBMidkFVX3lxTE5LWm9wTkgwdGlPYlFaQTBMdUphdXA4U2dUSDhBYjEwcVJSRUhib2NaWlJkcFdhaGpTUEQzZVVSdkVnZmxSSnFGVkpXTzFsT2t1UGV2NlFyUG5MeVJyQWJUZllwU2lRSXowbmQwVjV1S2cwS01WaXc?oc=5\n"
          ]
        },
        {
          "output_type": "stream",
          "name": "stderr",
          "text": [
            "WARNING:trafilatura.core:discarding data: None\n"
          ]
        },
        {
          "output_type": "stream",
          "name": "stdout",
          "text": [
            "Fetching content for: https://news.google.com/rss/articles/CBMihgFBVV95cUxPYnE5NWNuNWFhOE1yTmpEQmtRejdRVXhnX0MyYjNOZ3BTeDNEUHBGRkh3blVTUDlTYjdUSGZHeDllbnM4S0xSU2VHZGNpRjFRVEZRNGR4WGdlZUFLSGM5OHJITm1OR0pjbkNuNF8zRWtsVUJkTkVpYTA3SWJKUFpMb0tPdmhnQQ?oc=5\n"
          ]
        },
        {
          "output_type": "stream",
          "name": "stderr",
          "text": [
            "WARNING:trafilatura.core:discarding data: None\n"
          ]
        },
        {
          "output_type": "stream",
          "name": "stdout",
          "text": [
            "Fetching content for: https://news.google.com/rss/articles/CBMikwFBVV95cUxNeWhURFQwakZ1TXluUDREMU9QY2EtWXpyMWozckZNYlM5ZGszeXJWVVk4bGxVcFFlSEt1eXhMTkNPSVBVeUtpbG9aWDBEa1N6R3NheklxRHhRcEMxUDBGeE5qX0RtOV9ucUpncmY4VF9Ndld3TWtpNHdUZ3lYSXdGOHBkVGh1MHBEdlBIdDhVLVpGdEk?oc=5\n"
          ]
        },
        {
          "output_type": "stream",
          "name": "stderr",
          "text": [
            "WARNING:trafilatura.core:discarding data: None\n"
          ]
        },
        {
          "output_type": "stream",
          "name": "stdout",
          "text": [
            "Fetching content for: https://news.google.com/rss/articles/CBMiV0FVX3lxTFBZdDI5c2FoMUREYnBBRGctZkhvRURpanhuUUtTQ0c0R1BLRXUxQXBPUFI1SFFWZ2R0azBQY0I2ZE81eDN2YmZnSHN2Rk9XTlZqSXJNRzJKYw?oc=5\n"
          ]
        },
        {
          "output_type": "stream",
          "name": "stderr",
          "text": [
            "WARNING:trafilatura.core:discarding data: None\n"
          ]
        },
        {
          "output_type": "stream",
          "name": "stdout",
          "text": [
            "Fetching content for: https://news.google.com/rss/articles/CBMie0FVX3lxTE13MElNYWR0NmRUVnRoc3o0ZkdVMmRPZnJ5SmoyMm9JaGZ2UE9NV2NxOUtIYkJRWVFxNlcyMXUzZjlEaWdrcThreXBCT2N5aXU0SGFLcmNPZFF0WjlwOVZnTUNDNG5SbTFQdlBhUHZYSVo0aHhlUDR1a2NEcw?oc=5\n"
          ]
        },
        {
          "output_type": "stream",
          "name": "stderr",
          "text": [
            "WARNING:trafilatura.core:discarding data: None\n"
          ]
        },
        {
          "output_type": "stream",
          "name": "stdout",
          "text": [
            "Fetching content for: https://news.google.com/rss/articles/CBMiZ0FVX3lxTE9zcmdzY0UtQnZISXhHc1pmTlZfNGMwTE9MUE5oUHlkRGx3RlEwQ01hRkVQak5DWVY2bE5vdDRkYjZndkhvSlo5TkNHT2xXZUFxTFkxUDdvRVJxUk1GSDF4MUNCc3NlUUU?oc=5\n"
          ]
        },
        {
          "output_type": "stream",
          "name": "stderr",
          "text": [
            "WARNING:trafilatura.core:discarding data: None\n"
          ]
        },
        {
          "output_type": "stream",
          "name": "stdout",
          "text": [
            "Fetching content for: https://news.google.com/rss/articles/CBMizAJBVV95cUxQdGpXS0RXMWFDd0w0dXlDWkRNYXRsMkJibl9WTWU1MXp5R1dzLW1fbDVEdElsQ2RNRHphTFBpTVNDcjFCaGx1U01GZUVJb0ozNG42R0dPUVdZNlk2VjJ6TnRtb0duY19aV3RVcFFnZWJmV2VCbGV3VmpYN3pacmhucmtGRHQ2MjNHYXQ5bFNqbzFtYkZfNFNFMV9IUkVEQWZfYXNJYWpFRTAtZkVwS3ZyN2ZNSG9vcnFiNVg2QjdrMUxucmlnQjRNcFZOVjF0V01qRUg0a1l3UEUzcDFDclM1cm1fcDkxbEdpQUt4VXVjME12QTFibWZleVlLNEdBSjB5ei1ZU0RwMWFXWC1GRUhrcGtadVlMSEpyc3lwWFVzSzl6N3ZDcU9wYUxEQ1BETFFkbUNiZ0t6ZzUzSTRtRTFCdTNqSXJrQ2pJZE40bg?oc=5\n"
          ]
        },
        {
          "output_type": "stream",
          "name": "stderr",
          "text": [
            "WARNING:trafilatura.core:discarding data: None\n"
          ]
        },
        {
          "output_type": "stream",
          "name": "stdout",
          "text": [
            "Fetching content for: https://news.google.com/rss/articles/CBMitgFBVV95cUxNLUphWjItTHltVU9td2FYcXNQTmVmTnQ0c3hNYXBBSU5oWFY3VFpxcmdqWm9YT1g2V0Q5UmhPMWZzTXNvdHdEMjdMT3NDb2pzWW9nZWlrZ1hOc05LQkY2SGtFSlVCcVIzX1Zjb19VTFpQQzBaVVZVMXFNNm4wWDlGTG9mRl9VdTVXbmNwT29OV1lEUDRLSkxfaTlTVFZDejFqRF9Gc1dSWHFiSkV2QXZUYlI2N21Idw?oc=5\n"
          ]
        },
        {
          "output_type": "stream",
          "name": "stderr",
          "text": [
            "WARNING:trafilatura.core:discarding data: None\n"
          ]
        },
        {
          "output_type": "stream",
          "name": "stdout",
          "text": [
            "Fetching content for: https://news.google.com/rss/articles/CBMiogFBVV95cUxPcUl0SlVNUEhxSUpKcFVNMEpPQzEzQ05SUWZYckM2N1plRm9nc2VNbDNOOU9yZmNKS25ranZuYjZwbGRpRlFyeFZXeERYUEZaaExrVkhEZHFNWER4aWJMcWc3RTJrcF9la1BvNE1zS2ZDVFJoTFJzTk5sVjk5azRaQ2xiYTF1bUZSekJLN2ZpeU5MNE9iZk9RUWtTYi1DS0tSckE?oc=5\n"
          ]
        },
        {
          "output_type": "stream",
          "name": "stderr",
          "text": [
            "WARNING:trafilatura.core:discarding data: None\n"
          ]
        },
        {
          "output_type": "stream",
          "name": "stdout",
          "text": [
            "Fetching content for: https://news.google.com/rss/articles/CBMifEFVX3lxTE43QjNaeG5IZllrSnh6MlFvbzFZYzhtemxMc0M5MDdyUDVPOUdRX1g0TE1lRUNuVm9XOXBoQVB5cUxScUxFcldOa0ZOZnhIMWRlN2xTSGxMT3gzZWRuWmZyQ0hjZmoyMmY4VjFyOHlEVHNscVZ1Ni10M1Iwa2c?oc=5\n"
          ]
        },
        {
          "output_type": "stream",
          "name": "stderr",
          "text": [
            "WARNING:trafilatura.core:discarding data: None\n"
          ]
        },
        {
          "output_type": "stream",
          "name": "stdout",
          "text": [
            "Fetching content for: https://news.google.com/rss/articles/CBMimwFBVV95cUxPV0NXR0ExWlQ0MEt5VTYtMGJCVHY0MWZ3THRlby1ELTVPeGV3Y3hyNHNlNi1TU0t3cjk5ODhqQlZfWUJ5X0ZCeDJpdkdUenZnVVFyeWduWGtWYTlhYXhDMkJBUUNsUVROcmJOYlpQRWFTa01KclRyZkJiVkJsWVJQdXBmWnIwd2ltNnlYMjItYzhzUThqVi1oZ3pNcw?oc=5\n"
          ]
        },
        {
          "output_type": "stream",
          "name": "stderr",
          "text": [
            "WARNING:trafilatura.core:discarding data: None\n"
          ]
        },
        {
          "output_type": "stream",
          "name": "stdout",
          "text": [
            "Fetching content for: https://news.google.com/rss/articles/CBMid0FVX3lxTE5kcEN4Q3hQME1YWEFudkRGVEVEako0Zi12NzloT2NXQ2FuUnB0ZkV3eUx3dzE1dDlFSnZUNlQtZlFEQ2VVV2N5b0xDY1NMZ1pXUjAxOHpUbF8yMmtXX3c2aURUa09qTHhMd1VNWXhQZGZ2VzBWNmxB?oc=5\n"
          ]
        },
        {
          "output_type": "stream",
          "name": "stderr",
          "text": [
            "WARNING:trafilatura.core:discarding data: None\n"
          ]
        },
        {
          "output_type": "stream",
          "name": "stdout",
          "text": [
            "Fetching content for: https://news.google.com/rss/articles/CBMiogFBVV95cUxPZU52Q3lhdFlQSVc5dkdsaENReFRmcjhHR25mTGVKamtmUGNUT1FpWHBjUUluN2ltR1N4elllTG4tY2lsSGZmTERvTW9BeXMyVEFWazZHdjUxMXpUNWxycG1iR3BlV0s5c2pvVm5Xc0p6LVRCVUxIcHB2REZrLWx6SVlFRm5oMThmT1FFLTZsajdKaURGakh3VmdncEFvc3lSRWc?oc=5\n"
          ]
        },
        {
          "output_type": "stream",
          "name": "stderr",
          "text": [
            "WARNING:trafilatura.core:discarding data: None\n"
          ]
        },
        {
          "output_type": "stream",
          "name": "stdout",
          "text": [
            "Fetching content for: https://news.google.com/rss/articles/CBMirgFBVV95cUxOYmR1STZMQVU5TGR4bDduQ0R4VFlQSl9IalA3dDIwOEsxRFZpYzFTWWlNenRVcEdFQXpwbThHWGpENjFuejVWMElnUXo0Z081V0NGZnd3MXJESjlVMkpEZlF4bDRpMDhTT1BRbi1CX01XNXo5R1FiclRkVDNfRU1Jc1ZmLUxxX19YSS16bWdxYkp6dUxJSTFMNVRFSWZrZ2xfVWdFdW5UaHlVMlZfYlE?oc=5\n"
          ]
        },
        {
          "output_type": "stream",
          "name": "stderr",
          "text": [
            "WARNING:trafilatura.core:discarding data: None\n"
          ]
        },
        {
          "output_type": "stream",
          "name": "stdout",
          "text": [
            "Fetching content for: https://news.google.com/rss/articles/CBMiZkFVX3lxTE5WSnpobzFrR0U0RXJETkJEZVdoLUo2SXNlUlF1MWEtYTNKb0JoWmVOalJQTF8xSzgzSkhoMm44ZGpkd25idHFQZWVadWhMbV9KZm1PM01XeUJScHRpQVRrWko0TTZTZw?oc=5\n"
          ]
        },
        {
          "output_type": "stream",
          "name": "stderr",
          "text": [
            "WARNING:trafilatura.core:discarding data: None\n"
          ]
        },
        {
          "output_type": "stream",
          "name": "stdout",
          "text": [
            "Fetching content for: https://news.google.com/rss/articles/CBMioAFBVV95cUxNbEJjOThDaVFOY1BJMXNTaHlpN2w1YlQ2elM5TUFjMExLWFB2cFVIc0RTZm5jOHhKb3A1bVNxblZObzBqSW9USzZVRkRTc01nMFV1NGUtT2RHbjdsVGh5Q0doYjFya2VJN0hJd21SZHU2UzlOUDJpTXhpZDFHdktVSEpzMm5ORnV3d2RBajdGbGxpX3pCYlljdUNLU1gtRUwt?oc=5\n"
          ]
        },
        {
          "output_type": "stream",
          "name": "stderr",
          "text": [
            "WARNING:trafilatura.core:discarding data: None\n"
          ]
        },
        {
          "output_type": "stream",
          "name": "stdout",
          "text": [
            "Fetching content for: https://news.google.com/rss/articles/CBMiiwFBVV95cUxOejVSMVhLVW5wcGtpR3ZXcldGbVUtX0Rwby02SGJKbXZZTDBsREJzUWZfR1E1cnBpRWtPLVk0eW96bjJZTWtQVlNsZTZmTVMtcjhPZHFqWmxSVWhzQUJ2M0llNWlwZjRjckNqUnljNk1lbHQwWHZKWVdNZmVHOGlxMkx0RjJlaXVGU1kw?oc=5\n"
          ]
        },
        {
          "output_type": "stream",
          "name": "stderr",
          "text": [
            "WARNING:trafilatura.core:discarding data: None\n"
          ]
        },
        {
          "output_type": "stream",
          "name": "stdout",
          "text": [
            "Fetching content for: https://news.google.com/rss/articles/CBMihAFBVV95cUxOZjdkc2RMLVFKRU5BNjhoMGRMemxoMU9wNko2N01HdmFkY1dTcXlnbFQwSTIySkFSNmEwZFI2cndmcTF4dk9XX2xmREZSSDlfdC1BNjNNeHdPbmNtWW1hWUhYbC1KQnE2NmlwRENydXJRWllQZGg1eVR5U3JiNWdoRjUtVko?oc=5\n"
          ]
        },
        {
          "output_type": "stream",
          "name": "stderr",
          "text": [
            "WARNING:trafilatura.core:discarding data: None\n"
          ]
        },
        {
          "output_type": "stream",
          "name": "stdout",
          "text": [
            "Fetching content for: https://news.google.com/rss/articles/CBMivwFBVV95cUxOMTFhd2NYa1Jpb01HUmxZLTloUFhoemdDRHhFaWJQYzRNb1FpRV8wQkowUVctaGplV0w4cTFraTV4S2RQVnVBWG9jVXVCR2hGZkRxODRoZjN3aXk1Qndib1dJejFwaFB0T1VSSlg0X24wb2MtTUd3UU9EcmlsejI0ZmxKZjNsWE9NVlZUVWcyV1FvRTF4SjZXTHJ3ZW0tbEVzcjhKeVZaTlMyUEdEWDUxVkp3SGZud3lfT3RWS1RJONIBxwFBVV95cUxOVlR1WUpwSG1UWXFZbkZDV2RyRDk0a1o3Mk00R01XNkt0dkZWbFdCQmFmQTMxamliS00yTzNWU2dISGNMSzZzbmZqU2dSa05xWGJNc2FhTDFKbElmVUVxY3VYUktpY2ZFYXlkTjV6Zk5vUWxOUWxfMGdXN3Z1bkY5b3JoRjd4U25OSmZONVVTekVmYmtVQ2hGcWhRaUw5WEpzLXo2T2o1dkdLdHZjYUw0VEJPZzhRRUlYaHlGYmU2bHlDMTNjRzgw?oc=5\n"
          ]
        },
        {
          "output_type": "stream",
          "name": "stderr",
          "text": [
            "WARNING:trafilatura.core:discarding data: None\n"
          ]
        },
        {
          "output_type": "stream",
          "name": "stdout",
          "text": [
            "Fetching content for: https://news.google.com/rss/articles/CBMilAFBVV95cUxOeE40cU1JQ0dVdERrOEdXZGd3TEoyMFBWRnowZ1VuUU93RjN0VHJDeU5GTFZZTktyaHJBNUVMLTN4Q0RTSnRCaVhPZENkS1NuRExFVHlxcjlWZ0hwbGtoSXRlMVVlQU1wTTJLODNpYllLYVd2WVExOHI3Nm0wa1p2cVluZ2gxc19jSzJUSEFSWllQSmFK?oc=5\n"
          ]
        },
        {
          "output_type": "stream",
          "name": "stderr",
          "text": [
            "WARNING:trafilatura.core:discarding data: None\n"
          ]
        },
        {
          "output_type": "stream",
          "name": "stdout",
          "text": [
            "Fetching content for: https://news.google.com/rss/articles/CBMilwFBVV95cUxNUGdZekxkSG9zaktnWkxmdmdaRWpwOWR2ZUgwRUV6VVRCT2xMUE5hekZ2bjVmd2xtaDlYUG5hTWZsU2dHVDhDZWN0UVpwTGEyZ1dUMGdYdmdvYlJGUTJNeDN1SkJOMGRJUFFYekE0NmZuUXBJakJpWTFMbkgteG1WcWNNbGI5TDJfRkt6OHFYVmdmdm5JN3Zn?oc=5\n"
          ]
        },
        {
          "output_type": "stream",
          "name": "stderr",
          "text": [
            "WARNING:trafilatura.core:discarding data: None\n"
          ]
        },
        {
          "output_type": "stream",
          "name": "stdout",
          "text": [
            "Fetching content for: https://news.google.com/rss/articles/CBMiugFBVV95cUxOU1RIcVhldG1feC15ZVN2d0x6SGpKYjRnYTFZdFZvZEEzall2RDgyaW5vd0tnMGgyVXRUNWdNM29wRFRuQ0FnakREX1RBd0FSdGwxVmJ1NWNzSGNOQkdsd2NhR0IxaE9vSFc4NnpGaC1uc2VXdUhwaEY1N0ZQdXFvQUE1bUo3N1NZYjVyVkVnRVN3SG9LS2EzaHRNWFJjV0lodDFVMk9vdjVoTzVkZzh4RjhGNU5VdE9Wa0E?oc=5\n"
          ]
        },
        {
          "output_type": "stream",
          "name": "stderr",
          "text": [
            "WARNING:trafilatura.core:discarding data: None\n"
          ]
        },
        {
          "output_type": "stream",
          "name": "stdout",
          "text": [
            "Fetching content for: https://news.google.com/rss/articles/CBMiekFVX3lxTE9mM2tPdkJhT0EzbFh2T3ROTmlLa2hoYU02VFpXaVNuQV9yN3VMUXB6SW1ySXF2NlFNM0UtdzRnb2kwekNObDJSRzRtR29XVUhVcE9lTTRlNktuU2R3ZTF6TzhSWVVHV0xFMWM3cnlVZHJ3VVNSOUxRTGpB?oc=5\n"
          ]
        },
        {
          "output_type": "stream",
          "name": "stderr",
          "text": [
            "WARNING:trafilatura.core:discarding data: None\n"
          ]
        },
        {
          "output_type": "stream",
          "name": "stdout",
          "text": [
            "Fetching content for: https://news.google.com/rss/articles/CBMiggFBVV95cUxPb3ktS2gzOGxFaTBNaDlPcmFBXzVEVUpqWDB1NUZSdFVDMktpMm1SVVdpNTE2UV9qOU9TUmlSZENObUdCd0NVYkYxSUpoLWhBVVZwVUJ3Rk9rajB0bzgzanpybzNEUGN0NUlOTG9RWmY0aExwSHRTV3hiVUVrYU5LSnJR?oc=5\n"
          ]
        },
        {
          "output_type": "stream",
          "name": "stderr",
          "text": [
            "WARNING:trafilatura.core:discarding data: None\n"
          ]
        },
        {
          "output_type": "stream",
          "name": "stdout",
          "text": [
            "Fetching content for: https://news.google.com/rss/articles/CBMiuAFBVV95cUxPQnZDbU1tcG1qcFdVUktuR04xaEVEaDFCTkFMamRzWDlnRDFLRVROVkNFVUlnN0NYaDlDYy1lQkl2OFlUbHRJaFVpeDhscHNjWkZSdmM3Z1pjeHlZcFZJT21ZVE1McU1YWDJpMEF1cDhaUFVwdHpZLWgtR0R2RDlBU3gtMnpwazJlN1FmZlFQb0VFTHg3ZUttMXFreHpsVVFBTUhrTEVONWRrVDF2b1MxTXhnMXJ4WmNU?oc=5\n"
          ]
        },
        {
          "output_type": "stream",
          "name": "stderr",
          "text": [
            "WARNING:trafilatura.core:discarding data: None\n"
          ]
        },
        {
          "output_type": "stream",
          "name": "stdout",
          "text": [
            "Fetching content for: https://news.google.com/rss/articles/CBMiiAFBVV95cUxNMFhKVVJRNERWMEx4elFtemNnaGdVdGQ0Q2tDZkd3cG45Y2s4UGNVOFRTeTh3Y1RVMEgxWG5vdFRjRTducjh4WXQyVUxGeGRzQ3JvaXN1anQwd3JqQjlZRDAzcEc2cDVtNUNMRTdBLW40cnZLSzVWTktKdGxtZU5XYXJPRDdENWcx?oc=5\n"
          ]
        },
        {
          "output_type": "stream",
          "name": "stderr",
          "text": [
            "WARNING:trafilatura.core:discarding data: None\n"
          ]
        },
        {
          "output_type": "stream",
          "name": "stdout",
          "text": [
            "Fetching content for: https://news.google.com/rss/articles/CBMiY0FVX3lxTE9UYk5NOGxaU1FMbUxCWFdmMWtGZ1lJaEZOVDRpeHlSZ1VjNDkxb0loeXFSbkQtOHd0STM2Z09kMzhjWFhJMkE0R051V08zNEhYcFdvRUVCVFRXT1dHN1VKa2NJQQ?oc=5\n"
          ]
        },
        {
          "output_type": "stream",
          "name": "stderr",
          "text": [
            "WARNING:trafilatura.core:discarding data: None\n"
          ]
        },
        {
          "output_type": "stream",
          "name": "stdout",
          "text": [
            "Fetching content for: https://news.google.com/rss/articles/CBMidEFVX3lxTFBDa0tsTXAzS2Z6emhxTDN6Mkg0c083c3R4bVdZbnNhcEh0Q0htQjAyWGpuMkttRFdvOHJKWUlSMjNuajcxSExCeVZGaks3UzByODAtRnFockF2Z3BBRk9ZZkJFZGNXNEJGd0FLNTRYQmNuNUtL?oc=5\n"
          ]
        },
        {
          "output_type": "stream",
          "name": "stderr",
          "text": [
            "WARNING:trafilatura.core:discarding data: None\n"
          ]
        },
        {
          "output_type": "stream",
          "name": "stdout",
          "text": [
            "Fetching content for: https://news.google.com/rss/articles/CBMi9gFBVV95cUxQRXRISy1ZZXZBQ2tVd0RqX0VodTd0TC1TM01lbGFldmdIMVdJRUxfZmhFNFFxdFhJVVhTbXZNVVZYYXd6c2pSZjBvYlhhVnNnU2t4OE5Xd1RUQWo3M2sxS2hvSjZ1SmF4c1B6SFVVZEFBQmppT1RNMVJFRUZDUkFBX2RuZnViZ1dOb2x3blYxNlNVUS1oOTUwSEoxQkhDdGxtXzdyblJTeWtKVGFCTzNZT0J0N2JvVnFlSzVCenRQcVU2UjNrOEJWX2xVaDE4aXpWZlREeERIUVJ4cEVKeHhTMlRCRERzNXZPM2VLUXdjMlZCUFFRYUE?oc=5\n"
          ]
        },
        {
          "output_type": "stream",
          "name": "stderr",
          "text": [
            "WARNING:trafilatura.core:discarding data: None\n"
          ]
        },
        {
          "output_type": "stream",
          "name": "stdout",
          "text": [
            "Fetching content for: https://news.google.com/rss/articles/CBMiogFBVV95cUxPYkFULThoWjM1WThxNDRnbHlKVnFFRk9tMjZNTTRRZEcySmFUcjFKLWM4ZTQ1dlplY0pXVlJIR2I2VUhGaE53QkNmM1FfT3JiS3cyUnU0N2JjNkZ3UHNsMS1Rcl9UenFVZktBZmNnTzhFY2dvaGtoRVRjLUJYTzBaWlFXTzJMbW9qYUczMkgyX2ZGcmd0cXJMN3ItWnJ2d1QtNXc?oc=5\n"
          ]
        },
        {
          "output_type": "stream",
          "name": "stderr",
          "text": [
            "WARNING:trafilatura.core:discarding data: None\n"
          ]
        },
        {
          "output_type": "stream",
          "name": "stdout",
          "text": [
            "Fetching content for: https://news.google.com/rss/articles/CBMilgFBVV95cUxNbDRLRkEwLXlaZ0hoSi1OTG1wTksxcDUzVzI3QzFUcnFFQkpkRGtpWUZhRFhYVTFwVThENmU4RnEwUUxmOER4b1UyOFVaay16VTV2clRHZld6UUE1NXdEU2g0ZXNjWXVyOHR5OEFCWHRrSDRuWllyRmVNZVlzR2prckw0eGhmcTVKMnA2dzFOZXc2SUJTMnc?oc=5\n"
          ]
        },
        {
          "output_type": "stream",
          "name": "stderr",
          "text": [
            "WARNING:trafilatura.core:discarding data: None\n"
          ]
        },
        {
          "output_type": "stream",
          "name": "stdout",
          "text": [
            "Fetching content for: https://news.google.com/rss/articles/CBMitwFBVV95cUxNSW9OZVJReUY4cWhWb2JJVmttVzFwVFZUZ2lYX0YxT3Z6eFdReXlZYUlDVmZfemRCVl8xT010TThiWmtGeXQtdHZ4YlVHSXUtd2REUFNRQzQ5blZvbUpSUU1pbjZSVHlMTFpQeU1nSXNGS0JyNXZHM0VJVTdFeDdPOEFCbVFTQXhBdllDb3oxT1pGcXRROW04emVQRjlUaW04RkwxclEyVFREQ2x5REZ1UkpDSGFrZVE?oc=5\n"
          ]
        },
        {
          "output_type": "stream",
          "name": "stderr",
          "text": [
            "WARNING:trafilatura.core:discarding data: None\n"
          ]
        },
        {
          "output_type": "stream",
          "name": "stdout",
          "text": [
            "Fetching content for: https://news.google.com/rss/articles/CBMirwFBVV95cUxNNzJHTkk5ZnBBdjFmMzE3TC11X1ZwNzE4NnJnb2pIZDBuYWZvQmE0eXpIOWR6WlpJMkRjSERvckZzWW9PVlVydkwyVkFvWV9LLWpyYTZtdTRlUW9ySlBxT3JOVjdIUlVvaWl3dk5yUVd0SWZnLWxFamlEZE9HZkZXM3dxR2JLMkp4MTNhUGVXTDRxTy00MFd6Wm9TTTJRY2FBalVBOGpyR243ZzFTUHE0?oc=5\n"
          ]
        },
        {
          "output_type": "stream",
          "name": "stderr",
          "text": [
            "WARNING:trafilatura.core:discarding data: None\n"
          ]
        },
        {
          "output_type": "stream",
          "name": "stdout",
          "text": [
            "Fetching content for: https://news.google.com/rss/articles/CBMi0wFBVV95cUxOelNMeXREcVpGUHZqQzM5d1g1NFZDRmIxVGxYNG9OZ3pPRG9JNHduOEJyVVdBME1CTkhxR2VKTmNGYzQzR0NxUmVrblVwUlFsZTJOVXkyUHAxM2NqMlU2UXBRWHpmYkNPQ0hEN1loelp5LXJQQlRGS21BNXB2Mk9nTHE0X1ZsUmdxd2NWaG5YVkdJZUFsZ1VReGY3YzJUNDktR3JzcXpkb0hETWFucHBCOURKRFluT0ZZa09MQVlTUFZSYmZfZmdoY0l2TEN2QjZLajJj?oc=5\n"
          ]
        },
        {
          "output_type": "stream",
          "name": "stderr",
          "text": [
            "WARNING:trafilatura.core:discarding data: None\n"
          ]
        },
        {
          "output_type": "stream",
          "name": "stdout",
          "text": [
            "Fetching content for: https://news.google.com/rss/articles/CBMibEFVX3lxTE1DSGpQNFVhUHZJU1haYnd0ZldPQUFqbHUtUTQxdDI2M1pnR1VnSExtaGczSnEzNFJvSDFWNENPTjk1UU12Ny1Na2pEVEpDb3ZiQ1pjRXVXd1NuSmdaNGhpNy1aNmxlcFNGZjVVZA?oc=5\n"
          ]
        },
        {
          "output_type": "stream",
          "name": "stderr",
          "text": [
            "WARNING:trafilatura.core:discarding data: None\n"
          ]
        },
        {
          "output_type": "stream",
          "name": "stdout",
          "text": [
            "Fetching content for: https://news.google.com/rss/articles/CBMiekFVX3lxTE9VdlFyOE0tVmJDQXVkSENsdmVkVnJHMVczQ1BXNVBXUEVSS0lPYndMd1FtNHVoSlctV3J1TTY5R2NMOGJRZDg3VVRYR0lwSVdZekNWWWxpSjFOQWNWUU9QaWFKSVNHMzhkUk4yM3NTSDlWSlQteTlYUERn?oc=5\n"
          ]
        },
        {
          "output_type": "stream",
          "name": "stderr",
          "text": [
            "WARNING:trafilatura.core:discarding data: None\n"
          ]
        },
        {
          "output_type": "stream",
          "name": "stdout",
          "text": [
            "Fetching content for: https://news.google.com/rss/articles/CBMisgFBVV95cUxQQTIwVk9OOXFOTEJFNEEzMHpmRW1tX3Nuei1Ic2NkeWtzazdER0pHVWFoekFZMzVQMmNHcDRONTMxUjczQkM5R21HamJqbjNfeGZMd0dEcnV6Qm9yYVMxRjZRVzBWQmlqWkQ5WG5iUU44Q3U1THdFVlNjenR1LXEtb2JMamIweWhpcjJvbWsyYkx2ai1BSzNRbXBzZU1LZVZGcHhLa0FTcGUzOEN0TThOVFRR?oc=5\n"
          ]
        },
        {
          "output_type": "stream",
          "name": "stderr",
          "text": [
            "WARNING:trafilatura.core:discarding data: None\n"
          ]
        },
        {
          "output_type": "stream",
          "name": "stdout",
          "text": [
            "Fetching content for: https://news.google.com/rss/articles/CBMiswFBVV95cUxPNTcyblhTaDVxLTEzd0gtNW9DamE1WVhhX05mVUx1TVdjNVN5TEo1SWIyYWZzQlVTMzBvOWgwU0ZLQ2Z1QmF6dzVybHdRNVFFVU1YWjdubUQ0dC1wM3E4VHJwMl9YSWp4S0Q5MmlHYVd4VFg3SU5rU2lKMkNBSzRmSFVrSVNjSHR2bW94czlsZ1ZhS3Fld2c0MnpIcmx1NmxHUC1MRERkZkUxS2hmZUFQcEFDZw?oc=5\n"
          ]
        },
        {
          "output_type": "stream",
          "name": "stderr",
          "text": [
            "WARNING:trafilatura.core:discarding data: None\n"
          ]
        },
        {
          "output_type": "stream",
          "name": "stdout",
          "text": [
            "Fetching content for: https://news.google.com/rss/articles/CBMiS0FVX3lxTFB2M0NReV90VDlXNjBfZEFIZmpPR2hEejJXenAzX1lQanNjTTZFOWZ1SHJfQXhGS25LSXFiblVuQU5BVGRaLUx6cjFtVQ?oc=5\n"
          ]
        },
        {
          "output_type": "stream",
          "name": "stderr",
          "text": [
            "WARNING:trafilatura.core:discarding data: None\n"
          ]
        },
        {
          "output_type": "stream",
          "name": "stdout",
          "text": [
            "Fetching content for: https://news.google.com/rss/articles/CBMihAFBVV95cUxOdGR6MFJRVnhITlh5VkxBMGF2RUlVSlVJRXQwS3cwM0hZcFNaMGNsYXdCRkt5WDhqM1U2RWNXSWN4bGg2c09ubEtNcEt1WFJHSVBmeWZqZTM0UFRERy1PWjQxcTdzcGpwMXFxeXpqemxjbjA0b2trMXZOZE9WWDdqUnJ3SFI?oc=5\n"
          ]
        },
        {
          "output_type": "stream",
          "name": "stderr",
          "text": [
            "WARNING:trafilatura.core:discarding data: None\n"
          ]
        },
        {
          "output_type": "stream",
          "name": "stdout",
          "text": [
            "Fetching content for: https://news.google.com/rss/articles/CBMivAFBVV95cUxOQlBkLTdUdG5NM21qN1NVa2dyeEtUSTVqMDE0WS14Q0FJZGJybkw2bThnakxVWlh6blAwUGlXMHBvVXY2RDBWclJWRTJGcDZxSkZ2aWtCRi1XczlURlJZLXFSN214SktFUnpYMDcwTWFBcDhuSlkxWVdVdmpvanZjWThUY2xvbnEtY2llTFdWWFd6enhZYlliZ3FkX0tVZ2dnUTVBb0lETVlPRG1CSjVYY3VESTlHTnJPOVVjUw?oc=5\n"
          ]
        },
        {
          "output_type": "stream",
          "name": "stderr",
          "text": [
            "WARNING:trafilatura.core:discarding data: None\n"
          ]
        },
        {
          "output_type": "stream",
          "name": "stdout",
          "text": [
            "Fetching content for: https://news.google.com/rss/articles/CBMisAFBVV95cUxNeXk2TnFReXpTdmRMTFoxZjJmMlRreFRQZUVWNEJQSDR6Sy1LOHl3aDhtTmp0TUlqZG4xU1FHMkR3UkR3akZ2QVZGLWRBTzQ2ODQ1S092dE1JR29JYVhXRlR2ZE5DRzY0OGVVTHdoLWdoUWUyMHRjQWJRZnJGNEg2MFdLcG9VNGI5c1hXUUExWEF5VTdsNkxUZkw0NFpZaV9vYjJxaTRjZjdRRVkwbXF1c9IBtgFBVV95cUxNOUctTnU1NjdVSzhRaVJYSW9LbUdtbV9Tc3MxTGNJY0gxSlJSWjJEdHVxZ080dHNwVGJaVG5hM3JpV1lpMEJHT1lzOHVPTlh1SGt6bUNwalRaVXk0cHpMMnRlTWxJYTNHbFBpXzE5d2hMX1c1U3hwa2hwN2JoZ0ZKLXc0ZFNZLTFBd3pXbVh0bEx6aUcweGp3YWpFR2NHeE1mdHhmUGRjOW9QWnh4WDlCN2draDdGdw?oc=5\n"
          ]
        },
        {
          "output_type": "stream",
          "name": "stderr",
          "text": [
            "WARNING:trafilatura.core:discarding data: None\n"
          ]
        },
        {
          "output_type": "stream",
          "name": "stdout",
          "text": [
            "Fetching content for: https://news.google.com/rss/articles/CBMiekFVX3lxTE1hSjZ5TGNLSHg3UUhnbzdZZHp1NFVEOWdCcmtJLUR6ejFKaUlXejZPRTh1Vlpwb3o5S1dtVHdsYnR0NDBLM1BVQmh2WEdTbnBxb3VwT1lsNEVlS29oOU1PZm16OFplUUhOclJCMUFubmd5VEJTSkQxSlFR?oc=5\n"
          ]
        },
        {
          "output_type": "stream",
          "name": "stderr",
          "text": [
            "WARNING:trafilatura.core:discarding data: None\n"
          ]
        },
        {
          "output_type": "stream",
          "name": "stdout",
          "text": [
            "Fetching content for: https://news.google.com/rss/articles/CBMi2wFBVV95cUxPSW1UZHd0REk1amVOY0VtZ05fb0RYQnloOWlPVGRWM1Z5NGVPaDZmamo5T191WVdUUl9sckI3djBMZEdnSzBTenlyY0JSNktnNVhtMHpNLUlHV29JMGc2QnNhN3dkZ2ttZkZzWThZT0E1Q0FuWVlYb2hPdHFtV2VhY0haOU4wZ19tN2FhbDJjcTRnMTVrbmMxMU12b3Q4M08zUm1Wek9tOS1tSi1sNk91WXkyN2pKMDltYVlUdEY5aC1yWjZhTGpVMEdhaDN0TXFjWGhGR1JtWVNOLWM?oc=5\n"
          ]
        },
        {
          "output_type": "stream",
          "name": "stderr",
          "text": [
            "WARNING:trafilatura.core:discarding data: None\n"
          ]
        },
        {
          "output_type": "stream",
          "name": "stdout",
          "text": [
            "Fetching content for: https://news.google.com/rss/articles/CBMijgJBVV95cUxORGNiUUNYTTRkOG1oWkRMV0g5TEJqX1VKc0N3NE1jcld4T3dQUTlqVVFRQXRqcXBUUXFvYWhkN3dDQlVtT3RwR1lNU0l2ZnZEWmwzal8tRDl1MHpvWTBtWUoycWxaR0Fka1o3SGRXbkNZRnFZOXZiVldRLVk1WHZKMEVBYzNuYnJNTXhuYWhwYzVka2lKVl9HazZjRmpqVFQzcXNodzhCMk9vVFllMEVSVEY1SjVCLUNrclFydUltQ2lYSjhjWTFoTllPeFJFeEphYXJzV3ZYbVV3MUhxVHdGM1ZEX09Fci1UZGptTXNlSlVmclVHdlhKTTQ4YVBYTGZ1V2YxSTJQc1IzdUJpcGc?oc=5\n"
          ]
        },
        {
          "output_type": "stream",
          "name": "stderr",
          "text": [
            "WARNING:trafilatura.core:discarding data: None\n"
          ]
        },
        {
          "output_type": "stream",
          "name": "stdout",
          "text": [
            "Fetching content for: https://news.google.com/rss/articles/CBMigAFBVV95cUxNNVc4a2hOcTNUcDJUY3ZZRlR5TDNleTNVb2YtclNJSC1ycWdnZDFuZlVGMEZWRDRuZHl5bTlzV0ozTTdRRUN5UmxkVEt0bUc2VHd1S200Z2FIeDhmMFlTOUVZRVd5X2JxSzVHNTJaazVHQTVPMHRPaEhMd3BfNDNkYg?oc=5\n"
          ]
        },
        {
          "output_type": "stream",
          "name": "stderr",
          "text": [
            "WARNING:trafilatura.core:discarding data: None\n"
          ]
        },
        {
          "output_type": "stream",
          "name": "stdout",
          "text": [
            "Fetching content for: https://news.google.com/rss/articles/CBMieEFVX3lxTE5nN3k0M3Y5cmVIaTB2dGJhUTJPTUFMT3B3OFZPUnBiMzVCdGRtSlZnaXhLaFlOX1RqTllsSmJZVFZTQXd2SEwtNXFsZmlUNFVpeUhCYzR1T2VDU1drZ0hrdTQ5OGdaY2hrV25kSWNicGpud2VqeTV2Yw?oc=5\n"
          ]
        },
        {
          "output_type": "stream",
          "name": "stderr",
          "text": [
            "WARNING:trafilatura.core:discarding data: None\n"
          ]
        },
        {
          "output_type": "stream",
          "name": "stdout",
          "text": [
            "Fetching content for: https://news.google.com/rss/articles/CBMi2AFBVV95cUxQNk5Tem1fanlkQUhmTEpReTNONmNySFBDU3FfMzdlMVphandJRmJ1WUJzaHV0aWh5azZqdmZMcnlDN3RFUW1odnM4WWxxT1c2ZC14RjR4ZlFndTMyTDdRRWdXX1B2OVB3UlJxcEtQV3E3VHRXWE85cDl0Mi0ySVJ5SFVNWDRLdEhUNkhFa2xKVmpRUk9Hek9SQVhweWo3ME5PV1Bidm5qUDF1Z3NoS3I0eDZTUmY4SzgyZElCYzNFTC04Wmp4X2tTZUxMWUhCS0JlTndWOVdna3PSAd4BQVVfeXFMTVZ6dGJSMnkwZktMeWxzTk5Xak9WV3R4ODV4OUJfVFN1aUFtOU9VM1hZaGpoS2ZiQWlocFAwdFJoTlBObEE2U2JYMi13elhaUm1jSW5wdmNnakJFTDdxNVlsN0FMWEhPa0wxa0IzSUswNFU4WHBBLWdSRjdqUzY1Y2FzNGVXamtlUEdUaEdPVUxiWFo4SzB4dE9MVkxFRnFLcmFlcmEzMkFLUkpLNzdPZTBjU1RxZFREekpSei1FMU9TdDlCZTNQMzl1dEhBS1F0ME96bzBxYjJfT1BlclN3?oc=5\n"
          ]
        },
        {
          "output_type": "stream",
          "name": "stderr",
          "text": [
            "WARNING:trafilatura.core:discarding data: None\n"
          ]
        },
        {
          "output_type": "stream",
          "name": "stdout",
          "text": [
            "Fetching content for: https://news.google.com/rss/articles/CBMie0FVX3lxTE1FRGEzLU9RX3JORXZaN0dsTW9NaU05Yng0ZW5NX0RtVDByYmRyeU9uZU1MT1JGQ3o5cVFmaXJHbjNoNDB2bWtQY2k1M0d1ZTV5WFpidkZmb292Y0EyM2Z5OVVhdkc1NHZGRkd6LWNpVzI0XzA2dEtaeU5qbw?oc=5\n"
          ]
        },
        {
          "output_type": "stream",
          "name": "stderr",
          "text": [
            "WARNING:trafilatura.core:discarding data: None\n"
          ]
        },
        {
          "output_type": "stream",
          "name": "stdout",
          "text": [
            "Fetching content for: https://news.google.com/rss/articles/CBMiiwFBVV95cUxOLVZ6c3NzOHpPRWcwaFMwRWZ3OWlQYl8zMEllSmpYYXppZDJpODRnNnFNMWUzc1R0QVlBNHBtem10Q1BZdzZPR0xPb254NDc5WlFzOUlzVm9RZnpWLWpadTJTWnc1Y3d6QjFvWnhiT0xxRXY5YlhETGo4VkcyT0wtNktmNkJKRGlaMXg0?oc=5\n"
          ]
        },
        {
          "output_type": "stream",
          "name": "stderr",
          "text": [
            "WARNING:trafilatura.core:discarding data: None\n"
          ]
        },
        {
          "output_type": "stream",
          "name": "stdout",
          "text": [
            "Fetching content for: https://news.google.com/rss/articles/CBMiiAFBVV95cUxPVzF2WHZYRE5yd3hPYWY0WEhmRXlpZUQwcDc0aFhsQlo1UHFRQ05zYUtRRHBjVDNLSTB1cXYwaEQ0UndYeXVMZXJHSnlUNUtzNkNHQlpWYlRaTGJhS3JNMkx3cDlFMEsyWW1ydHhDVHdXNFdHQkxhX0drUTN3N1ZxOWNhdVYyTWpO?oc=5\n"
          ]
        },
        {
          "output_type": "stream",
          "name": "stderr",
          "text": [
            "WARNING:trafilatura.core:discarding data: None\n"
          ]
        },
        {
          "output_type": "stream",
          "name": "stdout",
          "text": [
            "Fetching content for: https://news.google.com/rss/articles/CBMibkFVX3lxTE5XSkVjRDhSSERNUVhvUU1oQVdFa3dVVFp2VjQ5cll3dUJXNXl3Q1FjNWV0bEVNTHhaNll6NkNwOEt0TEdFNklmQkxSTGQ5ZVUxRWs3VzNXdEtDM2hObG1RZnk3b1Q1NmpUbnFkcFVR?oc=5\n"
          ]
        },
        {
          "output_type": "stream",
          "name": "stderr",
          "text": [
            "WARNING:trafilatura.core:discarding data: None\n"
          ]
        },
        {
          "output_type": "stream",
          "name": "stdout",
          "text": [
            "Fetching content for: https://news.google.com/rss/articles/CBMitgFBVV95cUxOVjhhUzZhQ2ptYnlrUXFkakpxMGVsdXhZak5idkpWQWxhU21pUkE3Qjd6WlZvV1hDQy10OER0QmhJV1NtMmdVeGNJWGpwVWM3d2VjR281LWVTempBNG9xUDNTYktUeXNBb1U0WlhfWHBMYzUycmRMNHNVS0pDSVRDLWUyM2JRcFIyMUpFOFQ3S3Q2R1IteWM1RmxXX1AtUkJTODRlYUdQUnRwWHJrdzZfUzdkRUNPdw?oc=5\n"
          ]
        },
        {
          "output_type": "stream",
          "name": "stderr",
          "text": [
            "WARNING:trafilatura.core:discarding data: None\n"
          ]
        },
        {
          "output_type": "stream",
          "name": "stdout",
          "text": [
            "Fetching content for: https://news.google.com/rss/articles/CBMi-gJBVV95cUxQZ0JqU2lsdmJPQ0pLQl9xQTZHTnEzb3RNUzhfWVRkdlZIUmtGekF5UVhzYktXUzBWcGN0NnpRa1Z5VW5QNGt2cExJNFV2c2Q5N0lzRnRLWkVjdFZQX0ZaREg2YkwxSHJWdTVBSXVXX19fTlp2UDFVdWJBb3NlYlZJandyWXlpT3EtR3pETXJweWo4VVYtM3ZReFpkRW9LU1UxTHc1SDNMZWtMZHJaVzQtWjFHMGVmODJZelVja20ydGNvWE1kSlR0a0dNcC1ld3RRdERGLWRJVHkwUVhqTUVicXV3czg3T1FvSHlOUV9fMmU2TGVZZDVUQnNOSFBFTGtUOENlcy1TbWs5VVVGdUh4amhleUxDb1dCbWp5d3M2STNhNXNoQ0Z6Ylowd0dQUm9GQ0RZeGlnZ2lMVGo1cDRPaVBMU2hmSG8tVWM0N0cxYWU1UV9nNHN5YWJsdjByTHp0LW9ReTd2cjBTbVJJMXlPTk12d0g2UkNaX2c?oc=5\n"
          ]
        },
        {
          "output_type": "stream",
          "name": "stderr",
          "text": [
            "WARNING:trafilatura.core:discarding data: None\n"
          ]
        },
        {
          "output_type": "stream",
          "name": "stdout",
          "text": [
            "Fetching content for: https://news.google.com/rss/articles/CBMidEFVX3lxTFBvbHdNZ1BiQkdkejAwM1hLY0lZc1pBV3hoWEw5UGg5Qlg4WDhEbzJKZS1aWU9ya0pJRlAzaDZJLU1xU2ZLTVZubmJtU0VneDBCS1VxSmUtXzQtaFBTMTAwUmRpRmFCMElSRkVmVGppSzIweV85?oc=5\n"
          ]
        },
        {
          "output_type": "stream",
          "name": "stderr",
          "text": [
            "WARNING:trafilatura.core:discarding data: None\n"
          ]
        },
        {
          "output_type": "stream",
          "name": "stdout",
          "text": [
            "Fetching content for: https://news.google.com/rss/articles/CBMikAFBVV95cUxPRlE0Vnh0eE40b0VJamNMZWJDRUo2VlNnbWNLYmpWd1Nua2hIXzlLN2NMdGltN2FRLUNjUnFIbTNOczV3cEZ4NVdBMWdWQlMwTkpXYm9sdm82V0pwS2puTlowQkJ4Tkh6RlBmWlpvWG1HQVNEYkR2eEZ3U05uVWtOZ0xpRjFzd0x6WXl0SGl5REc?oc=5\n"
          ]
        },
        {
          "output_type": "stream",
          "name": "stderr",
          "text": [
            "WARNING:trafilatura.core:discarding data: None\n"
          ]
        },
        {
          "output_type": "stream",
          "name": "stdout",
          "text": [
            "Fetching content for: https://news.google.com/rss/articles/CBMiqwFBVV95cUxNVFpqWFNyS2RCOURCSFJ1WHFXcU0zTkZRWnNDWmMtbGhOaGlLVExFeFFQSTZIVWlOek5zRkthdUJZT1l3LVoxY1I1M3VpRWJWMmlvd1ZBd0JlSEZNT2hJeWlxb0Y1Z3QyaklJbGNOQW84bHVOM3I2TzRVeDhjUHJ1aUZWQ2pVQVdrRFVZaXcta1ZnVnlialNFeE5yS0VSYTFpR1NRSEtMbC1PZ0E?oc=5\n"
          ]
        },
        {
          "output_type": "stream",
          "name": "stderr",
          "text": [
            "WARNING:trafilatura.core:discarding data: None\n"
          ]
        },
        {
          "output_type": "stream",
          "name": "stdout",
          "text": [
            "Fetching content for: https://news.google.com/rss/articles/CBMipgFBVV95cUxNR256Vjk5ZGQ1VzhmT2E0VnFhbmR2YUVQaUNLWGZFcFBVSlFHalRsSXhScF9JQTczVXFIaE5qclJJQUNYZEFfTG5Ld2duVERYSUpFdXc4UEV2ZUQ5NFpmeVh3WDl2T2ZhRzQ2dEVEOHdnUTJUclNWS2ZEZlZWYjB0VWhINWRzWnVWRktrTGFSQkppWkl3SmlJeWt1OEFsM21OclltU1Rn0gGrAUFVX3lxTE9HNWFJSkhqVDQtQlpHM2tqR2xPR3JyZThzaVhJaWxHY3RPLWQ4U2tmZ3dhNnlXNG9XYkpMNkJuNlFVejRXdG9zT0hDUHR3ejRxOXpub2xuOHh4WDY2THJGWGdNREFiVW0tM1ZBdlBlcUhVZTQzZDJwNTUwTG1JV2ltWDlwMWpkcUxBZDNHLUdET2tWUENYWjBOSEpfSDZIaEhNOFNIeU84RjRHYw?oc=5\n"
          ]
        },
        {
          "output_type": "stream",
          "name": "stderr",
          "text": [
            "WARNING:trafilatura.core:discarding data: None\n"
          ]
        },
        {
          "output_type": "stream",
          "name": "stdout",
          "text": [
            "Fetching content for: https://news.google.com/rss/articles/CBMi6wFBVV95cUxNQ0ZwbkVyVUJhb2lYUDZiSXpYYk5iTExELUlmT2t6eHhKenM3Vm5Ddy11M1ZVUmxVRlU5SjJMWGNwcHJCbXJKOTZ6R2xzazV6OF9zb0t2MHN4SDEydFdMWnVJdVQtRlM0bmhBcFZ6Rjh5bjBLY20wUEJ6Y1FfV1dBdUxaX2plQV9ib3BnNjFCZTctUTZBSzYyZkZvVEtUSTlPWXdzSjU3ZnlyeVl1SklwOTAwSHV2VjdZeUZySVdKc1VSa0pNdU42NnAxZEF3VTRmNHZoYWptTFAyNF9XVDk5RVhwUlkxdy1RaUlN?oc=5\n"
          ]
        },
        {
          "output_type": "stream",
          "name": "stderr",
          "text": [
            "WARNING:trafilatura.core:discarding data: None\n"
          ]
        },
        {
          "output_type": "stream",
          "name": "stdout",
          "text": [
            "Fetching content for: https://news.google.com/rss/articles/CBMilgFBVV95cUxOQTRIWEpMdWxoVVNjb09RWjFNRndwUkpBb0dDcmhQVmhZcERVc1lpNU9NcnJqTnFBRWl5Vl9ncW5BUDMtakdrdUt5MVozZEdLMzVNcEFzb1ZPeEc2SVJ0bS14RzdWMktOZG5WaTNxWWxYaUozR2lSSnMwOTlHOUlWc1ZGa2FYOVZmUk9fd1EzWVMxQktxTUE?oc=5\n"
          ]
        },
        {
          "output_type": "stream",
          "name": "stderr",
          "text": [
            "WARNING:trafilatura.core:discarding data: None\n"
          ]
        },
        {
          "output_type": "stream",
          "name": "stdout",
          "text": [
            "Fetching content for: https://news.google.com/rss/articles/CBMiggFBVV95cUxOOV9YZm5SVzFRQlByeHFVdmhXYVhURUtjV0VOWW9hM0pENDM4RF9NZVpwRUYxLXBuUFRXMlhNX21ST1ZRQmI0X0gwb3JteEhJUUQ5WHpBVFBTSmF0aUlJa3FqM05hTXYyS1VRQlVqcWJHc29oOUp2cGtzY3NzR2NqZkln?oc=5\n"
          ]
        },
        {
          "output_type": "stream",
          "name": "stderr",
          "text": [
            "WARNING:trafilatura.core:discarding data: None\n"
          ]
        },
        {
          "output_type": "stream",
          "name": "stdout",
          "text": [
            "Fetching content for: https://news.google.com/rss/articles/CBMieEFVX3lxTE1zQmQ4ZFZNOV8wSUQtWjNhUTktZW1NbEpYWGpzWTByR0l0Q1hCRUYybW55X1J2bjJZOFVEbFV0Vlg4RjZYNFBWWjFXZWZzR2cyVU1Vd3V2RUl4bGJESndRZEk2Qnh0LTlxWWtxY3ZlaEo2NWI0Vk4wLQ?oc=5\n"
          ]
        },
        {
          "output_type": "stream",
          "name": "stderr",
          "text": [
            "WARNING:trafilatura.core:discarding data: None\n"
          ]
        },
        {
          "output_type": "stream",
          "name": "stdout",
          "text": [
            "Fetching content for: https://news.google.com/rss/articles/CBMiqAFBVV95cUxNQTBxeFRYLUs5c1NXUFBrSVpuSC1KU1RwN3RuMzNQX1d0UE1BZ2JTdXVfVkUxR1JaSmZrM2lTSTJjVXpTVGpzYWxoeFU1bF9fU3VOeDhtdGtVemNnLTBXcldXQ0dPZWhoeDJaOVlPWHVrWktvb2hCTGhqUDVMOXlRVV9JYnNYU3FpemdjQTU4S0lYMXNPZHdadUoyQUFwaEZ5SVMzejBacm0?oc=5\n"
          ]
        },
        {
          "output_type": "stream",
          "name": "stderr",
          "text": [
            "WARNING:trafilatura.core:discarding data: None\n"
          ]
        },
        {
          "output_type": "stream",
          "name": "stdout",
          "text": [
            "Fetching content for: https://news.google.com/rss/articles/CBMi0wFBVV95cUxNV0E4NldjQjBMMm04TmlYUEFPNnVscEluQWlfUi1WZEdPNDdGRjd1Q2lhemhCdlgtSklxdVVJVnZ3cVNJVk9fdmZFUU00SlE2Tm5ZODZjWVZ3S1pJY25tVjBIX09YWDRPR21ROEZlN3lUYzhRVjhGX3htbHQtZTNZSEdIRnBlRnktTFY4WVBlLXRVRkFDWmk3UXdNWFhNRVVjWjU3QVN5NGpXNXk0MW1vYTFFVFlzZlBSVHA1ZDAxZENsQVJYeWFnaXhSeVZ3X3p1UWFz?oc=5\n"
          ]
        },
        {
          "output_type": "stream",
          "name": "stderr",
          "text": [
            "WARNING:trafilatura.core:discarding data: None\n"
          ]
        },
        {
          "output_type": "stream",
          "name": "stdout",
          "text": [
            "Fetching content for: https://news.google.com/rss/articles/CBMimgFBVV95cUxObW1UZ3JxNF9SU0tiVmlsbFI0MlNpdGg0RS14cnU5TVdnYl9GaUNiVXpNSW5nb2xTT0U1aklFc3V1eUU4cGVtcWRLek5GMmpSMUhpZ0ZfazJNVG5ZbnpKQlZIRzAzRV8zRjI5YUEwLXMzSmpsek5CaHdLNEJnaXRBdUVXdkZqSVp4WXJ4MTBWQ1J3NWJEeDF5T2h3?oc=5\n"
          ]
        },
        {
          "output_type": "stream",
          "name": "stderr",
          "text": [
            "WARNING:trafilatura.core:discarding data: None\n"
          ]
        },
        {
          "output_type": "stream",
          "name": "stdout",
          "text": [
            "Fetching content for: https://news.google.com/rss/articles/CBMigAFBVV95cUxQdW0yWWVfQmVwd0dmMXNySGRoSE9yOE9kYzRIS2xYOEZWT2xDYUdaYVR1NnNUZGlMLW04NmVRM2ZXdGRvLUp6RENOc05GS20zeVFoc1pYOEkzU25kUEdNNG90Zk9SS3Rlbk5OdXVPZTVDTm9VbXp1NGwzQ2E0WVVSTA?oc=5\n"
          ]
        },
        {
          "output_type": "stream",
          "name": "stderr",
          "text": [
            "WARNING:trafilatura.core:discarding data: None\n"
          ]
        },
        {
          "output_type": "stream",
          "name": "stdout",
          "text": [
            "Fetching content for: https://news.google.com/rss/articles/CBMipgFBVV95cUxQSS05ang5VC1MS0F6a2ZXcFNIa3U0bVBpYnNpUU5mVmpjeEpRNUJqUHlGbGhPMU9PY2FXdTQ3RXJmVTUzUVZGT1JHMGxaQ2U3X295LUM1X1oxb2VWSkh0QVotbWRsUXJrOVZreE5hUHF5NHFpWkMxNkNiT19ZdzNvNktYWUpnVUVfVHkyTEx4b19XeGVoT2tTc0R2blJmalo0cWM3eG1B?oc=5\n"
          ]
        },
        {
          "output_type": "stream",
          "name": "stderr",
          "text": [
            "WARNING:trafilatura.core:discarding data: None\n"
          ]
        },
        {
          "output_type": "stream",
          "name": "stdout",
          "text": [
            "Fetching content for: https://news.google.com/rss/articles/CBMisgFBVV95cUxNem5lUDFuWGRzSjVCUERNRWRFVS1IU1Y5SGJIWDZjS0NPTEFuRmlPSlU5RFpLak9FSnlLdlVtMXVZMjJRbnFXQ2pLQUlUbk5RREZlT2RrYnVVN1FzUlBBV2NFc3R4OEN6RFh3VmF5TDRfeXMzaEpPcnpCeEw5b3VtUEpTSkhzSk1WXzZiOXZmend4aU5ialA0ZVlrdk41T3V6eDJxcjRRek9fUy1UVjk2MXRR?oc=5\n"
          ]
        },
        {
          "output_type": "stream",
          "name": "stderr",
          "text": [
            "WARNING:trafilatura.core:discarding data: None\n"
          ]
        },
        {
          "output_type": "stream",
          "name": "stdout",
          "text": [
            "Fetching content for: https://news.google.com/rss/articles/CBMid0FVX3lxTE9tWWNteHRDeW54amhsZGNsVzEyeWJVUXhRS1FQVFVyNDUxN2xYaHpYcHpHRmNEQWdCZzNXX1M5NWdDLWlFd2FmODRHTXo0Y3J5M0haT2htMHdvY2ltZUZPOFlOeGZlQ0lfWlktRW1TRGtEQmx4TTAw?oc=5\n"
          ]
        },
        {
          "output_type": "stream",
          "name": "stderr",
          "text": [
            "WARNING:trafilatura.core:discarding data: None\n"
          ]
        },
        {
          "output_type": "stream",
          "name": "stdout",
          "text": [
            "Fetching content for: https://news.google.com/rss/articles/CBMi-gFBVV95cUxQeE90b0NUcmlDUWhSYUt1TWpkUU9NZzlZUE1SQVB6Z0hFdTg3RDRDWHdXRTQwb3NXNmlPamxZY284MWJSSkVmNzc5TXU1TEtfdTExNGZKYW5mdXFSXy14MXJrZVBnd3IxUF9paUlCVXd6NUtyYlFYN0x3b0JjNkdya0RmckRxWTlVd09DXzNJaVBBc2V5TkpOYUV0MGxTckI2VF92SFd3WUR1UlBMZ2VKV2puSVpYRnZWeFdWSV9SSGM4Y29nUGJyX1NoOEdjZHpYQkx5RXFYMU0yVlYwR1BmQklCaFQ0WFFMLVNhU09ic0plUGwyZ09weTBB0gGAAkFVX3lxTFBmSUdyekdjMGJJdGdLcHZRWnFZM2otQU55TzYyN2JjR1VOYWdIdUkzdzBkWW1JYVRaUVNSRUdkOXZ1aXdlRV9NaWlXRVFQcUgyTGwzMkkxUzhlQzVNYjUtVzYzd2FHVGFmYkx4OGt3cWRVYlFGUl94X2sxQmdhRWppY3A5Mm1JZ1g0ZXNCOGdrYmxnSGNuSFZZTzV2ZFZxZGxDLXRVa3VNWEFCWlpaVDBDMVd2MjVGSnE4U2I0Y1RHaXNYX3lvUER0MGVXcUFiNjdGX3BZMUtzWTlKai1neWdzcGQ5Tzlzbkc1QWU4RW80RFlyRlpHQ05WSmR5QmllU3Q?oc=5\n"
          ]
        },
        {
          "output_type": "stream",
          "name": "stderr",
          "text": [
            "WARNING:trafilatura.core:discarding data: None\n"
          ]
        },
        {
          "output_type": "stream",
          "name": "stdout",
          "text": [
            "Fetching content for: https://news.google.com/rss/articles/CBMikAFBVV95cUxPWmtheV9HbW9UeGMwZ2hpdEV2eGxsOG80RGVJVEY5eWVZZnBjZGJuZU1xRUdMZDlRanJJc3VGLVlGYjFzblZyTF8xUGk4Q1NldEtZQWhHTXBMQm5Zd0NqaUFsUlRsQkRQWWVkU3ROV0o1eVAycTIwVkN2R3BzR1hoaWt6c2d5VWZfenZJZVRpazk?oc=5\n"
          ]
        },
        {
          "output_type": "stream",
          "name": "stderr",
          "text": [
            "WARNING:trafilatura.core:discarding data: None\n"
          ]
        },
        {
          "output_type": "stream",
          "name": "stdout",
          "text": [
            "Fetching content for: https://news.google.com/rss/articles/CBMiiAFBVV95cUxQb2VZR0lId3p1dmRNRHNKWU5qTGZWVEF4MUpjWGM3dkp2a3VJMGVxX0RVVUNYQ29kVEtFazBNX2dqRklBOW5fSUFsUU1ITTdocjUzSDl1bVc5R3FTZDNhbExkNGtmbmVsa18wbGpXemk3d00xNEhEZGIzV2lwNFBlMnBKcWFRa1Vm?oc=5\n"
          ]
        },
        {
          "output_type": "stream",
          "name": "stderr",
          "text": [
            "WARNING:trafilatura.core:discarding data: None\n"
          ]
        },
        {
          "output_type": "stream",
          "name": "stdout",
          "text": [
            "Fetching content for: https://news.google.com/rss/articles/CBMiiwFBVV95cUxPWjByYzVvSHN5eFM1NHNHM0h0UFBMNjBPNmYxQmpJY2RUblBvZEVoUUM4a3NTcmU3eWl5cHJXS1pNTVpzbWRBOWRhMkNxQ0t0cnhNc2pWbHVRbGtSbmdQR2JwelRITDVmdjlwNjR6Ykt5MjFXZHVxOTZWYy1lcHVTX0Q2aERGQVdoLUFv0gGQAUFVX3lxTFB2dlVlUlVGdzFocTZvM0MzMmRaR3Y0V3JsMExSWUdEdHZoSm1WTDBjRFo5WWxNQWpYazQyNldBakdjWGFyT29ldHd6LWl1aUw2a2U3SHdZZERsYVVDWlk3R0E1TWNNV0Z6OTJUOGg5RGFKTXQ5VkpESmhzOVNFS3J5ZjBveGtTZFFHY01tVDJ4MQ?oc=5\n"
          ]
        },
        {
          "output_type": "stream",
          "name": "stderr",
          "text": [
            "WARNING:trafilatura.core:discarding data: None\n"
          ]
        },
        {
          "output_type": "stream",
          "name": "stdout",
          "text": [
            "Fetching content for: https://news.google.com/rss/articles/CBMiZkFVX3lxTFBqdEdnSWhjN3A3X3Z5amRsU1VKaFhIaUpXRm4yS3dHN1k2NUs2V3hKNU1zazZaR2F2MlVQWVB1LWlUaDYweXd5RzBCWDdIYUZIMW8xZTZ0UnYtM1N5NnlhRHNLTHRlQQ?oc=5\n"
          ]
        },
        {
          "output_type": "stream",
          "name": "stderr",
          "text": [
            "WARNING:trafilatura.core:discarding data: None\n"
          ]
        },
        {
          "output_type": "stream",
          "name": "stdout",
          "text": [
            "Fetching content for: https://news.google.com/rss/articles/CBMi1AFBVV95cUxNMXRNU2xRdDlOU1FSOHBXV1cxVEpsaU5RM2Q2Y0V2amxvcUpmOUNfZWRvYWdjT25fV3p0RGdIQ2tlV2RzUWR6TFQzbjU1UGN1OUYxdDJabF9zeURhX3pocG1DNzFNV2R4R0RiMzZhVV9CYmRiLUtYRzVkUjlYb0NaMFczVWJ6bVE3X211SUluODg0QlR1VGExaU9FckU0RHVXNE5yS1FCN3EwM1NjMHlyZUx1R1lHcERmUWx3Y09mcXFxcE1oVDNNS21qVk4wZVRISlJwZw?oc=5\n"
          ]
        },
        {
          "output_type": "stream",
          "name": "stderr",
          "text": [
            "WARNING:trafilatura.core:discarding data: None\n"
          ]
        },
        {
          "output_type": "stream",
          "name": "stdout",
          "text": [
            "Fetching content for: https://news.google.com/rss/articles/CBMitgFBVV95cUxNcTNkajdKVWFGZTNOUVVCaXQwaWtYaXlDWi1MRkNGTGEwaUhrQ1hlMU92RWNjY3VKNjFKRF9OQUxIZkFzZGdndTNGakFmRzM1QldCZC1yeFozR2pVRlpqeDZ0VGlaSXU4UzVNS21wQUM1VkZUZnhYN1FRb2kwOHpwZ3BaZTlrZlBpTW5lUGVFbVhXS3FjM1JzZlJPUk5GZEhuSl8wc3J2RW1FQUw5OWlSZWFrWjIyZw?oc=5\n"
          ]
        },
        {
          "output_type": "stream",
          "name": "stderr",
          "text": [
            "WARNING:trafilatura.core:discarding data: None\n"
          ]
        },
        {
          "output_type": "stream",
          "name": "stdout",
          "text": [
            "Fetching content for: https://news.google.com/rss/articles/CBMisgFBVV95cUxQN0NYUHE1d3o4M1p5YlBDVmFLVlJTU1dwSHJKZldKZ0MwdE9GcmxoaElxWWV6U19MR1dkakE4dVNpVnMtckdkWnVOV2dzbUltbzlRNU5OU3VNWjNjS01EcUU5eEhwbGk1OVE3T2hJRXZobzREZk5IMDNuREJlQ2FJZFhuVDNvYnB4TDhSeXg4OUYxZmhZR0twX0dkZG9xbENlZmdkSjYtYXMwVW9pT282VW1R?oc=5\n"
          ]
        },
        {
          "output_type": "stream",
          "name": "stderr",
          "text": [
            "WARNING:trafilatura.core:discarding data: None\n"
          ]
        },
        {
          "output_type": "stream",
          "name": "stdout",
          "text": [
            "Fetching content for: https://news.google.com/rss/articles/CBMinAFBVV95cUxOaVNwN3I0U0pCWTRtVnlhcWlCU0hVQlRKWW9LWTNQOWF1cW15amxoRFNSQlpxMVQxQVNHdG96eHdCWGVyX1N5dEhleklfZW8zM19NVXVISnF3cmJseDc5WF8zcjhzWk5VcDRHZElsLWlhOW9idjlEdml6OEZ5OTU5YS0zY2dCejNIVy1ZZ3A0LWJ4WXdjZVUzNFNBdTI?oc=5\n"
          ]
        },
        {
          "output_type": "stream",
          "name": "stderr",
          "text": [
            "WARNING:trafilatura.core:discarding data: None\n"
          ]
        },
        {
          "output_type": "stream",
          "name": "stdout",
          "text": [
            "Fetching content for: https://news.google.com/rss/articles/CBMinAFBVV95cUxOMC1VQlBnWnByeGJrdGpIdDJ0QkZvSDZ5QlNYeDZ4TWNndGJhNVlYT1pyMk04WEFwMEY3NktIYTRCMkJtVVJ4SkoxN01mVlVRT3JDbzdDVjJyWkdqdnlaMDFqX2xLclVZeHJVMDdrR1ExendIcm5KSHRKZTNucHJDQ0huS2thaHY0b0pKMVA4T09wSFVsb01NczQ0M0w?oc=5\n"
          ]
        },
        {
          "output_type": "stream",
          "name": "stderr",
          "text": [
            "WARNING:trafilatura.core:discarding data: None\n"
          ]
        },
        {
          "output_type": "stream",
          "name": "stdout",
          "text": [
            "Fetching content for: https://news.google.com/rss/articles/CBMiogFBVV95cUxQeHFkbktwZXRpejhUU3hvemFKNGd2MnVQMTczRE1uamZzc3pTamZnSGNUdU1PX2NqQ1U0WnNaLW12b2JtUGdaSk42dWVSaDR3aUxKWDhualBDSHlnenFJNUVRMHB6QXZ4M3pjWkhzbTRIbHZ6T2I4NFFJaE1uSmNiSHRGUU90SHUtcUVBRUM5SlB3NFZ1WmVhbGlOdFc1dHNobkE?oc=5\n"
          ]
        },
        {
          "output_type": "stream",
          "name": "stderr",
          "text": [
            "WARNING:trafilatura.core:discarding data: None\n"
          ]
        },
        {
          "output_type": "stream",
          "name": "stdout",
          "text": [
            "Fetching content for: https://news.google.com/rss/articles/CBMijwFBVV95cUxNYkhHdXp0T1ZuVExOTzNyY2VURW5tc2N4T0JBQnpSZ09kODgwYTZUbW55YlVmNGRqZndvNlBwMFVTWXdpRm50MEtxbTZ0eDNRRmhHZXNtVFg1WGV1c2tzdWtBYjREUktEYU9iTmY0d2pSVjVuVlBWOE5ybHZtTGkxbVRVM3d1WDUwRWNIY2pyMA?oc=5\n"
          ]
        },
        {
          "output_type": "stream",
          "name": "stderr",
          "text": [
            "WARNING:trafilatura.core:discarding data: None\n"
          ]
        },
        {
          "output_type": "stream",
          "name": "stdout",
          "text": [
            "Fetching content for: https://news.google.com/rss/articles/CBMipwFBVV95cUxOSUpSOHYxRlpWeDFidWtwZ0NIZTZ2WGxrWGlMODB1YWUxb291eEJJSnlZQUxlaS14Wl8xX0QwVE13ZkJTV3dPb3BGZ1lISG5XcHlBUW5sbExubWdrOElKRks0RnJqOWotVjF1aGoycDNTZHFkQlM4NFBYckRCb1NUREVNTkZ1d0lCNU50VDZLcWdoVW0wSlJudzc5ZFhpQVZ3VXhZVHZDMA?oc=5\n"
          ]
        },
        {
          "output_type": "stream",
          "name": "stderr",
          "text": [
            "WARNING:trafilatura.core:discarding data: None\n"
          ]
        },
        {
          "output_type": "stream",
          "name": "stdout",
          "text": [
            "Fetching content for: https://news.google.com/rss/articles/CBMiwgFBVV95cUxQX0V4bWZMaFlZN3VQN0lhbUZ4VlFoamFCM2xVYmg0M203VFNEQVJNWGdKSjlDdWpDMnFCNlFVc1o5aVNubVhFSzY5U3Frc0hkY3NTcUt6OXdLT0YzSUhJX2RncDExZG1Wa2RBNzdwX3NwRXlnWHhaSUNyczZBVUNVSUdsOE84bmZVal9DdnBxdGU5YUtuQy1EdjRiaWJWWFB6dXBqNm5xRjduVlZmS214d01BTkt2SXp2ODl0UE5VTERfZ9IBwgFBVV95cUxQVWF6cWc3TkxhRElJOC11aTU3dHFRWHdLWXd2cVRnTVdmRGYwZ2dKVnYwNWtQX3ZITlBnUE11WTJwb0FrSjhCOGwzQ3l1T3BYTWJBWXY4eUhfb1Q3SEJIRVZWQzRBQ085MWRyODJJX0kwbFpPa2ttZHFuSlktVnlqRHgyQTV4RmdTazBHZFhKMnk2S3Rvdk01OENnLWREYWlYak9WTFdSM18xbkJxX3N3bGhzODY1alNtWGJqWVR0azQ1UQ?oc=5\n"
          ]
        },
        {
          "output_type": "stream",
          "name": "stderr",
          "text": [
            "WARNING:trafilatura.core:discarding data: None\n"
          ]
        },
        {
          "output_type": "stream",
          "name": "stdout",
          "text": [
            "Fetching content for: https://news.google.com/rss/articles/CBMirwFBVV95cUxPZk1PMFBwXzNzY284Y2RqRGxlU3k2ajl4ZUpBM1hrMUJsbzlHVS1jb09QcFlPbTc3S1NsS001YnNJQ19nZ1BFYmZCcFBLTmNvUjdwSi1UUUpHdWZRSEdfemhTckdDSW1Mci1oNXpkOWpoTnQ1c2NtQjhMbGxadTFFVFFNQ1RmT0dVTXZiTWxkRjlLd3h0X3hNTW9TaWF2MkJScW5oang2NllRbTc5Y2JB?oc=5\n"
          ]
        },
        {
          "output_type": "stream",
          "name": "stderr",
          "text": [
            "WARNING:trafilatura.core:discarding data: None\n"
          ]
        },
        {
          "output_type": "stream",
          "name": "stdout",
          "text": [
            "Fetching content for: https://news.google.com/rss/articles/CBMirgFBVV95cUxQMXhCYW1heHc0OFp6SGlqWURCZ1BLMGRCM1BCcWlvS0JUVHpPeEgxcWhnZEtER0FrV0NlbkY5VWN6TDFpQzhQeGhxQ2NYMEdlbWlwQnY2Z1Qwd0wyaC14N1Zta2hGOHhYUks1YVMtR1kyeWNvM3VxcEk4cU5yZF9OTHlBOEc2bUVaNDgwWXNuUGpvRGpOTThfdzgxVl9DX1pCX0UwYUpOdmVTMzN2RVE?oc=5\n"
          ]
        },
        {
          "output_type": "stream",
          "name": "stderr",
          "text": [
            "WARNING:trafilatura.core:discarding data: None\n"
          ]
        },
        {
          "output_type": "stream",
          "name": "stdout",
          "text": [
            "Fetching content for: https://news.google.com/rss/articles/CBMijgFBVV95cUxOcnlMa1FfV0FsbmdFSGpwUTBjR0QySEVDS0gtM0dsNkcxeDZEOTF6MFQ5cjVHT0JJbEV6ZW9pWE9SZ2dONG41OXgwelI0cU9jNkpubzBmUm55WTdQMGpmalNiUWxIbXFQR2ZBZjY5eGx0TzR2aG9DM1ExSDlGTEtLbEhpMGRVT1E1ZllvUWN3?oc=5\n"
          ]
        },
        {
          "output_type": "stream",
          "name": "stderr",
          "text": [
            "WARNING:trafilatura.core:discarding data: None\n"
          ]
        },
        {
          "output_type": "stream",
          "name": "stdout",
          "text": [
            "Fetching content for: https://news.google.com/rss/articles/CBMiUEFVX3lxTE9OS1B6YWVxcmJ1Wk02S0w0NGpQN0k0dkZFREVhNDNjemdsc3JnSmtyUHp2ajI2MzZxeGcweWE4R3dOVlhSY0J0SDZRS0x0LUly?oc=5\n"
          ]
        },
        {
          "output_type": "stream",
          "name": "stderr",
          "text": [
            "WARNING:trafilatura.core:discarding data: None\n"
          ]
        },
        {
          "output_type": "stream",
          "name": "stdout",
          "text": [
            "Fetching content for: https://news.google.com/rss/articles/CBMi6AFBVV95cUxOLWhTejdDMjc2Y2MxZ2hFc2xMbDVQbWJRY2VwaVlWMnZIZ3BfZ2hKZ1oxSDVaTVlsR1VLejZIdV9UcnVpSEwzMkNpZGppVDBGd3djdlFycC1FdG9YZHEzbWlmemozYmNEODRlcGdMQUtjSWxzamRLWnJCOUIwa1Z3WXJxaEhMMm8wNk44MWdmamtxQW9JZEVQNnBUZ1lRdFpreU5ndVdTczJjZU5nMElTdDRLR0dCZzcxaG04Sy1MUDZua0U4YVNwSDI0cC1nNXp5SVQ5OVc5Nk5NX0FjU1BLc18zbkdQNTIt?oc=5\n"
          ]
        },
        {
          "output_type": "stream",
          "name": "stderr",
          "text": [
            "WARNING:trafilatura.core:discarding data: None\n"
          ]
        },
        {
          "output_type": "stream",
          "name": "stdout",
          "text": [
            "Fetching content for: https://news.google.com/rss/articles/CBMirAFBVV95cUxOT0pUQXg4SGU5TndNcUhMYWZreDRESlo1b2hac3hwQmo2Vk5EUjR4dkFrRm5jUWVEMm1JSWItQWRVQlFOVkxyRjJmSnBtc2YyS0NtQTByQkloZHlGRkgwSkJsRHB1Ni1PeWVfWmh5VDhNQlRHTUNPbkJDYmpfMDdpV21fOFFTVjdYd0l0T3liVGl2dXZFeVNRdTlCWW1nOGlWd0sxZDdXbW84T1Bp?oc=5\n"
          ]
        },
        {
          "output_type": "stream",
          "name": "stderr",
          "text": [
            "WARNING:trafilatura.core:discarding data: None\n"
          ]
        },
        {
          "output_type": "stream",
          "name": "stdout",
          "text": [
            "Fetching content for: https://news.google.com/rss/articles/CBMikAFBVV95cUxQU0kxY3pJMFBSRlpRVEpvR3JlQVFUcGZET3oyTFY1YnpDNXh4TlVoSm01emdSVThyNG80X0NwWnVTUXNXUk92RFV1dkxpT3ZjcS1ETFp1R2c3SzQ2X3RmT0dCRmxjWGtCMXlTWjBJLW1IMko3dmFKY3RrNFNPTVdteEJRTXBMWTEwRzBxWmJEelc?oc=5\n"
          ]
        },
        {
          "output_type": "stream",
          "name": "stderr",
          "text": [
            "WARNING:trafilatura.core:discarding data: None\n"
          ]
        },
        {
          "output_type": "stream",
          "name": "stdout",
          "text": [
            "Fetching content for: https://news.google.com/rss/articles/CBMi5AFBVV95cUxPeEstZVgwZWZPN2dON2pyZVE5NUdPOE5BcUl1R0czWW5Xazh1OGNxbmZQRXpnNWlscGJxZy02YS1CcFZFYS1NcTdfa190dXo2UE41NjlqbUwzMG9WUnNfNGZIelRJbHdpalE2R3dibkFkbG5WeWFUMkNlV1lBNXhvdlZ2VXFJYURLYzAwZ1Via213YVlKZXYwelc3eVIwVUJ5WlNtTXJTdmtlWkgtRVpXSTVIQzhZaFhYVl9RSVR1RFdQWkxxWjYtQTQyekxZbzlOT3l6QlNUQUtSOU5rMThid3VvTEU?oc=5\n"
          ]
        },
        {
          "output_type": "stream",
          "name": "stderr",
          "text": [
            "WARNING:trafilatura.core:discarding data: None\n"
          ]
        },
        {
          "output_type": "stream",
          "name": "stdout",
          "text": [
            "Fetching content for: https://news.google.com/rss/articles/CBMinwFBVV95cUxQTGZ5TFBSTEtUTGZmZ1BOYlgwT2FWelRZN1RlNzVMcHlRbWRqS3ZjM0xEUTRodTI0MVBPNVp0anlvU3JranBxWGlhRlhoejN5WHIyOGU3cS1JTjBDV0RhWktvV2ZVZmFmT0VTaUtkZS1hNmRoRFpxVU5BUjFJWm42dHQ3c0VOenZmVUFzR3JDQzZWT0lrZWtVQTZoQkRXWjA?oc=5\n"
          ]
        },
        {
          "output_type": "stream",
          "name": "stderr",
          "text": [
            "WARNING:trafilatura.core:discarding data: None\n"
          ]
        },
        {
          "output_type": "stream",
          "name": "stdout",
          "text": [
            "Fetching content for: https://news.google.com/rss/articles/CBMiogFBVV95cUxOdDRmT3N2T0F4MzdaVXdYVmFDc1ZaZW5JeWxzcWU4NUlxLXRDQU0tQjEtZWVNamxydjlkLTNYUEtfUGl4VFVBaDFiY2NmR0d1SGZUcVpHWVV2Mm1wTjhveml5U1JWNzNWU1FUU2wwc2tuaHA3MS1GTDdkbWd2QkZxb2FKdmhFVzhnUVBQeS1DUlhHWkd3cGo4MVczV2s4RExGV3c?oc=5\n"
          ]
        },
        {
          "output_type": "stream",
          "name": "stderr",
          "text": [
            "WARNING:trafilatura.core:discarding data: None\n"
          ]
        },
        {
          "output_type": "stream",
          "name": "stdout",
          "text": [
            "Fetching content for: https://news.google.com/rss/articles/CBMipgFBVV95cUxPalRHZWE3ejdjbjJUanhpTHlXemVQVzRrQ0VqdTM3VDNod0N0YnhKZ1RxYWxiaGZaUU5aWnk4ZHBhR3BjcUF5UFFZV204OFI5TnI2TG16V05WLVdvVUk0OGFtMVczbG5fOWdmSHFZU2JlTnlrclNITVpTTHMzOGoxM3c2Y1FIZUZCNVltQThwQk5MLVlQZW5MdE5xUThiWnBydnY2a3R3?oc=5\n"
          ]
        },
        {
          "output_type": "stream",
          "name": "stderr",
          "text": [
            "WARNING:trafilatura.core:discarding data: None\n"
          ]
        },
        {
          "output_type": "stream",
          "name": "stdout",
          "text": [
            "Fetching content for: https://news.google.com/rss/articles/CBMifkFVX3lxTE5TQm5wZ3RMUGpIOXh4WnZvejBWdnNQUUdOTHlOU3VMSzg3ZnFDVVk2TnBiTzNVeHlscjZKdDl5dGpXX1NXMVFqMVFUYzA2Z1p0a0phNHVCOU8xaHZ6bUtrNlBzejVVemlON0NBb1Z5SnRYMXVJQ3RWU0EyQVROdw?oc=5\n"
          ]
        },
        {
          "output_type": "stream",
          "name": "stderr",
          "text": [
            "WARNING:trafilatura.core:discarding data: None\n"
          ]
        },
        {
          "output_type": "stream",
          "name": "stdout",
          "text": [
            "Fetching content for: https://news.google.com/rss/articles/CBMitgFBVV95cUxQWkRKOThpT1JoZGgyVk1IUF85RVZzb1BVQk9aVjhsSkNhQWFNVmgyTEVtX3NCZ2pNZ2R6UFNtVE9kTTJmWExreWZUQzZtdGZpV1FQSm1KYUZQbTJ1cUpicEo5YzlMWUR1VnRISWVBRkppNlFKYVc3U2VJaFEzRS1QRkNFOVZxMzB5TVZzTXI4ZmJ3T1ItREtzLWRON0hYTkZfOXpncXJ2TWQ5YVhraXRacDhTUWJ6dw?oc=5\n"
          ]
        },
        {
          "output_type": "stream",
          "name": "stderr",
          "text": [
            "WARNING:trafilatura.core:discarding data: None\n"
          ]
        },
        {
          "output_type": "stream",
          "name": "stdout",
          "text": [
            "Fetching content for: https://news.google.com/rss/articles/CBMiuAFBVV95cUxPRmVJdVNWTEZmSTRvSG5FVUhhc0IxOUo2RWpaUTJoRGF2VVpoenJDeHpqMTF0blV6WjR4YVJLblVyeXNSWTJtOGNRbDVpVTZuU3c4Y05UeEVhWGNGU3BxRURreXQ3dUwxNkhKTmdwa1pPRFY1QUFBc1Z3QjM0RlJNNjF6VWw5ekozaTBuM1ZyaFcxVWEwS1hxYUlEbDk0M1dFaVA2WUdJUG9yVzBnQjk3eHJwYkNORk56?oc=5\n"
          ]
        },
        {
          "output_type": "stream",
          "name": "stderr",
          "text": [
            "WARNING:trafilatura.core:discarding data: None\n"
          ]
        },
        {
          "output_type": "stream",
          "name": "stdout",
          "text": [
            "Fetching content for: https://news.google.com/rss/articles/CBMijwFBVV95cUxQbWJtRTMtOVVVaTNGcVpuc1NQMUVyYnNtQ2JOLVZaSWpiSUdFc0k1UVhNTEZZU1Y0M3BzSVFudzc0aS13bUppdTNNUjAzSkJITHZXTGpXSEUxeVUwakR0S2xBcWZOMkZOM1IxbTlNcTMtTFdFTXUzYjJnTHBaMmV2dmtVT3pDcm1fSGdRRlAxQQ?oc=5\n"
          ]
        },
        {
          "output_type": "stream",
          "name": "stderr",
          "text": [
            "WARNING:trafilatura.core:discarding data: None\n"
          ]
        },
        {
          "output_type": "stream",
          "name": "stdout",
          "text": [
            "Fetching content for: https://news.google.com/rss/articles/CBMijwFBVV95cUxQdElfQWZQWW8wUzI5aTlLckIzTTBRWVVxVnVnNV9KZWxrNnZxaHpaUXU2V3J5Nkl4WlJzODBSeXZtM1Z0UFRSZVdTblU0VzlTalp3NTVSazEzN1RQdlpUT3RaLWdDcGVDMWRpVmRjaTFza1pjdDNfN3N5TkNOWGswdnVTYnRfMTlGWFl0ZmotWQ?oc=5\n"
          ]
        },
        {
          "output_type": "stream",
          "name": "stderr",
          "text": [
            "WARNING:trafilatura.core:discarding data: None\n"
          ]
        },
        {
          "output_type": "stream",
          "name": "stdout",
          "text": [
            "Fetching content for: https://news.google.com/rss/articles/CBMilgFBVV95cUxPaVMzWXVINUJpY2ZLWGQ0dWZBcmY3cC1VWlVnOGhDc2JPdFBGNUQ5VlU5VVNiUDFQeldhRDAwSnZUckxHbXk1bVJ2SHVtRW1zSi13RC1BOUFOemZWV2FtQng0TGZCem4zUFhBUFVfUnNWbUQ3VkF4dUI0X21PbFdiNWdUcUJfelY2VTNEZlR0b09mQWFISGc?oc=5\n"
          ]
        },
        {
          "output_type": "stream",
          "name": "stderr",
          "text": [
            "WARNING:trafilatura.core:discarding data: None\n"
          ]
        },
        {
          "output_type": "stream",
          "name": "stdout",
          "text": [
            "Fetching content for: https://news.google.com/rss/articles/CBMiggFBVV95cUxNMWxMSE5rWV9BbTl4a1JZblRoNVNHSTZJeWV2Q0ljQ3VJY2JPXzVReUwzWVlCZWowbzhkTDhoNC03UEw3Yk5zSkk2WVl4bHZoV28wSVpEd21XWmY2SE9KX2ltVjVEMVpKQWh2UWl6WjcydVpaVE9qbFBoa21zUWVQMkd3?oc=5\n"
          ]
        },
        {
          "output_type": "stream",
          "name": "stderr",
          "text": [
            "WARNING:trafilatura.core:discarding data: None\n"
          ]
        },
        {
          "output_type": "stream",
          "name": "stdout",
          "text": [
            "Fetching content for: https://news.google.com/rss/articles/CBMifEFVX3lxTFBnV05pWm9aRFhFaTRMbmpkNFZ4cWNFYWlxdkZXcmxMTFJhSVlsV2VtSnVsZ2hGTHI2cWUyRHRzS2J6Tkt3Y2ZCYXBzTHJsbEhkbGxMSzJoeGpwMS1YeHprYllhb29vYmJUNHYxZ1ZMSHJCQy1UYnBQcHdWVUXSAYIBQVVfeXFMT0ZrcUFzWnZYdVpjUTJXS1BadHRHeTlTbUZXN1FrdjI0ZFo2bkFQRlVkdWlTN2VJbE1QWkxFZWhIaUFjWktvdkQ3emlNN05jVW44YmNzV3BzZHM4bkxaalM0cEhqZHY1QVZFbHFOVjBpblRRNmNRenZ0clVJZWQyc1ZFQQ?oc=5\n"
          ]
        },
        {
          "output_type": "stream",
          "name": "stderr",
          "text": [
            "WARNING:trafilatura.core:discarding data: None\n"
          ]
        },
        {
          "output_type": "stream",
          "name": "stdout",
          "text": [
            "Fetching content for: https://news.google.com/rss/articles/CBMimwFBVV95cUxOeTktQVRvdVVCYVRCc01qb2FZVTJkVVNYQVRudjdnSGM1Yy16dUQ1aEhnUm1Hd3had0lnQkxNQmI4alRCWVNmOGNKRU12a1FPc0dPWGw5X21oSTFMeGJtb2ZMUGM4YUJzbk5leVVaN0V4ZVhfYWNXcGJkWGd4NWZ5UzFPSTB0ODN3SWFYSnl4VzVEaDhvaG1TVkI0RQ?oc=5\n"
          ]
        },
        {
          "output_type": "stream",
          "name": "stderr",
          "text": [
            "WARNING:trafilatura.core:discarding data: None\n"
          ]
        },
        {
          "output_type": "stream",
          "name": "stdout",
          "text": [
            "Fetching content for: https://news.google.com/rss/articles/CBMiggFBVV95cUxNSk9LcHFaSmxzYzRLNEd4dTRrNFFZdURkeVpMWUdyVDR1VjVyWmRLemJMYVFZTFJzQ1VGSGdnamhCeENkeGVOOUlkOUljYkdyRzBUX3RfVWktbnVFYUtyWG4xSHJuOC1Tak9IV2U0STNMVl9aRGMteE9LbHdsOGctTXZB?oc=5\n"
          ]
        },
        {
          "output_type": "stream",
          "name": "stderr",
          "text": [
            "WARNING:trafilatura.core:discarding data: None\n"
          ]
        },
        {
          "output_type": "stream",
          "name": "stdout",
          "text": [
            "Fetching content for: https://news.google.com/rss/articles/CBMipAFBVV95cUxNNndDOTNudkg5QlJVdzJ3ejE5cTgwVEZKMEpVT0hjNDcxZ0ZZbG5lcWN3aUQ5bFEtTjZReUZZUUhhRTlhMllTS25LY0RPUmdGdXgyQUQyRThvWWRiTXRVX0F1OG9GYjZjU2FXMTRzWXVLaEtEcVU3enRxcGlqNlUyNDFpTWV6LVFiMERqSmNWM0EtNVc1YVZEdURvWDlxUUpnUWlfMw?oc=5\n"
          ]
        },
        {
          "output_type": "stream",
          "name": "stderr",
          "text": [
            "WARNING:trafilatura.core:discarding data: None\n"
          ]
        },
        {
          "output_type": "stream",
          "name": "stdout",
          "text": [
            "Fetching content for: https://news.google.com/rss/articles/CBMioAFBVV95cUxPVUxQUHF0MU14OVhzV2FRTUdrX253anJ1MWd3Um01RmEyajU1cVdEMmFqTUZTT25BNkV1djQ4VV9GNVdPSXVITHVkbkhnSmgwUHpiTnFBaVJ6Q3EwMURMcGZ2emJPYjNtdzFNY243Q2w0c3JJemdYdEpuU0xsclJwRXN2VGEtMGhIbU1nbGNmb3pVa09Tbzd0X0w0ZjZxeDk0?oc=5\n"
          ]
        },
        {
          "output_type": "stream",
          "name": "stderr",
          "text": [
            "WARNING:trafilatura.core:discarding data: None\n"
          ]
        },
        {
          "output_type": "stream",
          "name": "stdout",
          "text": [
            "Fetching content for: https://news.google.com/rss/articles/CBMilgFBVV95cUxQQS14dnI2c1dUSXpMUDROOHU5WW1nbHZfbjFLSlV6RWt0a3dNQy1valJfZnZ3am1WR1h5U24xODJMWmFrM2FTeFVuWGd6WDdtMkgtc3huTmxUdGpoVHBoQVdsUG5CbHZ0OVpOMk5JeEkzNjBZbEhzNjNNc1Y5dTQ4dzE3QTlIRFJBb3hfX256Ny1RV0FBb0HSAVZBVV95cUxQeDc3VGUzUmllZk9SNUd2VE1CLXBhc3BiT2RZdmZFa0pUWks4R2RlVEFkbFNJd1hWRnhFNmJMd3JFc0Y0NTZGc250T3VZU0RPbVczYUVvUQ?oc=5\n"
          ]
        },
        {
          "output_type": "stream",
          "name": "stderr",
          "text": [
            "WARNING:trafilatura.core:discarding data: None\n"
          ]
        },
        {
          "output_type": "stream",
          "name": "stdout",
          "text": [
            "Fetching content for: https://news.google.com/rss/articles/CBMinAFBVV95cUxPeVZ0UHE0U2xla0NaVmM2OF9yaGxHVGxlQ1ZQeGd1OU5YT3NlYVJaczV2ZXdDTUpYSGMxZ1dQMXBScVJLcUpSTWtadWdRbkVldHNaelpCWjVITFlFVXpvbUY5ajMwckhPRzZ4SjhqRjNRc2tJTE44QU1vMnp4NTZwb2ZFbUVxOEtqSjVwcXQtSnNxZDZ2MHhLSXRSeUo?oc=5\n"
          ]
        },
        {
          "output_type": "stream",
          "name": "stderr",
          "text": [
            "WARNING:trafilatura.core:discarding data: None\n"
          ]
        },
        {
          "output_type": "stream",
          "name": "stdout",
          "text": [
            "Fetching content for: https://news.google.com/rss/articles/CBMiggFBVV95cUxObE1kQzdsYTlGLTZvaGF3QjJZUmJnTXRORmR6TUwtSnA4ZkhSS1lfVzlXaWpHaXY2V2x2T01rVHhfZ0I5UWdmdHR0U29wd1FiRmQxcHJJQVpqTWdfeEU5UktRSWdINUhTLTQwRUZHalhJWDJ2RWlTMFdIZl8wN2lTdVB3?oc=5\n"
          ]
        },
        {
          "output_type": "stream",
          "name": "stderr",
          "text": [
            "WARNING:trafilatura.core:discarding data: None\n"
          ]
        },
        {
          "output_type": "stream",
          "name": "stdout",
          "text": [
            "Fetching content for: https://news.google.com/rss/articles/CBMisAFBVV95cUxQeHZJVEl2UjlwLWFvV1JUN1JkbWdaR2FBU2hNb09zRThOSE1YX1Fma3dhWFZlWjFsTjkxbnBGeHFEU2FKQzVfQ09tYmNCVEdsZDFKMF91R0FVSUNKSVRLM05MNHMzRXR0cjJYUlZqc1dfNXFFV3lRdVBxVm8zOURsc1pLcDNTSVRwNjV4ZFRLemJMQ1pBN1ZaWmxsbGVlTUFCSlpPZkt3UWI0bTZjelBRbQ?oc=5\n"
          ]
        },
        {
          "output_type": "stream",
          "name": "stderr",
          "text": [
            "WARNING:trafilatura.core:discarding data: None\n"
          ]
        },
        {
          "output_type": "stream",
          "name": "stdout",
          "text": [
            "Fetching content for: https://news.google.com/rss/articles/CBMilwFBVV95cUxOV1A4N2VYQXdQMndibHo1MG1WTFdRM2JsSWt1QXdlTXFsYmxyZV9XeHl3V0V6M0JKZnBjVEhQc24zTTVtR2NvS3lyVlRpQkY4TXdDU3lqQklCTEUyNXVsUnRnNmNRMkVsZUNYRzRlLXFxYk5uZGhkRmxGN1lxN0xOeGxyWnctY1NKTzFxTk9XUm5uN0tDQTFB?oc=5\n"
          ]
        },
        {
          "output_type": "stream",
          "name": "stderr",
          "text": [
            "WARNING:trafilatura.core:discarding data: None\n"
          ]
        },
        {
          "output_type": "stream",
          "name": "stdout",
          "text": [
            "Fetching content for: https://news.google.com/rss/articles/CBMihgFBVV95cUxNNFNTNVhtaFZWYlR4QjhtWmUxTmp4QjkyNUM5OTkySWdvNEtyakFGTzNsanFQN1d3M2hncllIai14Y19mWGg0M2NSMF9iUnhvMWR2bFpwZEY5SGtSLXBLTExTTWVsZUtldkFlc0xyb2w3NTZaRDhoU2Znb0MwdXgxR0dwakdXQQ?oc=5\n"
          ]
        },
        {
          "output_type": "stream",
          "name": "stderr",
          "text": [
            "WARNING:trafilatura.core:discarding data: None\n"
          ]
        },
        {
          "output_type": "stream",
          "name": "stdout",
          "text": [
            "Fetching content for: https://news.google.com/rss/articles/CBMi1AFBVV95cUxPTUNCZ0FTNVltRkFRbEJVM0pCUGV3RVVUdUkxQ1JKTXFNWlJaeEUxSXFmZVNQUUNlTWt2azNlVlhlNndiLVdUMzFnUnFiLWJzVXFfcDliNkxFZUEzaTZNeFF0b09wRWNya0NEaWtMYVRYSm44N18tYjdaLV9naWpIVUtLMXB2YjlzNEo2YnFRaEJrZ3lESHJXVDlFOGJ3RGlPWmVOUXViQ1p1eUstU1AxY2dyaEZMMGU3ZzJ5NnEta0NEcThTNTRYckNZc0R4Uy0xdlJYNg?oc=5\n"
          ]
        },
        {
          "output_type": "stream",
          "name": "stderr",
          "text": [
            "WARNING:trafilatura.core:discarding data: None\n"
          ]
        },
        {
          "output_type": "stream",
          "name": "stdout",
          "text": [
            "Fetching content for: https://news.google.com/rss/articles/CBMisgJBVV95cUxOVzBLUFhjcFNWUHFlR3BBMFNmd0w3dmlBa05WcTVOdmtaSzV3RlhrVXpZQjJ3dlJNc2ZpRE96bW41UW4zR3ZnRy05UTdEMG5CcVlxMW9MZG1VcFZjc3d5VzZfMTRjMDVOOHpyTllfV2lMUDhqZDl0Ul9vMlFQVnMzZElWQ0pPNlQ4YWJKS1hqMHBlWVg3Mi1oNENLeVh3eTNVekZRMFQtOUh0QUpsQU5BODhNRm1lenY2bDI1c3NCVE1oQ3ZsMnBOYzM1Vzk2QU5nak9lODlpaF9SZ2pmSF9naFJwby04bE1JYnFUaFNBQ19xanJ6SXdBalJpVWh4RDFRRWVzME9USURxbUlRMlVjMlNGZEFtR3FFYlY3ek0zVUVrUXNodnI4Q0RYZTBMVTlnZVE?oc=5\n"
          ]
        },
        {
          "output_type": "stream",
          "name": "stderr",
          "text": [
            "WARNING:trafilatura.core:discarding data: None\n"
          ]
        },
        {
          "output_type": "stream",
          "name": "stdout",
          "text": [
            "Fetching content for: https://news.google.com/rss/articles/CBMijAFBVV95cUxQbURuZFVObnUweTdXRXA2cUVqNDNnbGFQbHdkTWVLYnh3WG9zWGlWRTlHM19UTkFvaEZjNF9qOHY1YVZQRThGRnNPZ2E5Ukl2a2xtMVp3ZlNMM3JaMW5DZU5Mb1V2NXNfaEVaSjlfUXZtQWZhT0JSZkRnV1hPTkJhdmtOaUlySjZNcWNGTA?oc=5\n"
          ]
        },
        {
          "output_type": "stream",
          "name": "stderr",
          "text": [
            "WARNING:trafilatura.core:discarding data: None\n"
          ]
        },
        {
          "output_type": "stream",
          "name": "stdout",
          "text": [
            "Fetching content for: https://news.google.com/rss/articles/CBMiuwFBVV95cUxQcGh6UWx1dVA5VE90M2YtQjdtRndQYXRFRks0bjc5djl2R0pYbzBja210eERsSzRfUkdfOVRtN0taYk5jSmxMY21reXJrZ2VrajBlaUQ1N3pRaHJBd19nUnNEcmx3UE8zcG9Zb2RuN3J2ZEZKMHJxWFppYzNtajROT0h2MzFqOGxNQ3ZRVTlyX21Tc3huZ1Vsd0ZvdGxkdXJaU1ZuSEExaHM0Vkt1MWptSVg3SEJhT1F1VW1v?oc=5\n"
          ]
        },
        {
          "output_type": "stream",
          "name": "stderr",
          "text": [
            "WARNING:trafilatura.core:discarding data: None\n"
          ]
        },
        {
          "output_type": "stream",
          "name": "stdout",
          "text": [
            "Fetching content for: https://news.google.com/rss/articles/CBMiowFBVV95cUxQczJKT1JCdjR1YTFkZk9qYmFPOExTZDFVUkZaMzY1VlBZeEJIT29zN3U3WTh0MWJYNzM5Y09UaHNvUGZKMWsyQldYR1hwdGVtVDNWclBJN1J6bWE5bE5UdTF4QTRUYTF1eDh2eE16T2FmYlpWazVJQmNlN0JBRUlpYXVBTlltOWNyY1R4TGdaQVVTRzZRaFVwVmdCbDRNZGFhYm9N?oc=5\n"
          ]
        },
        {
          "output_type": "stream",
          "name": "stderr",
          "text": [
            "WARNING:trafilatura.core:discarding data: None\n"
          ]
        },
        {
          "output_type": "stream",
          "name": "stdout",
          "text": [
            "Fetching content for: https://news.google.com/rss/articles/CBMi8gFBVV95cUxNbXg3WDRPRktkOWplQV9qX1ZNSHgzdEdubmI2dHZjamp5QmV2VWg1clRXTHNpRjRudzBlRXdneDA1M2R2NV9CU0NKMVppRGdqbGxxMEl3OWpma3VKMkZMQk5KWHBwMWhmcURpVFAzOXVCRE1YcmxUSnVTbGV2MEZBLXhHcEs5c2RpSVNaWnRHUXNxTmNTOEszX1dxMTVLTE5GbHBLcUhkd1ZUWlZfS2tiZzNFS2ZTd3pTYWE2eHJ5SHZEY2pCaEExVUl1TDFFbjV3czFzelVKN3dDOGFNclN4dEJLSS04MzVLWXRHVHl2ck9Sd9IB9wFBVV95cUxOekhGenA0eWduOFotQUtlQTIwRjFJZm1BeVQyanlMdk9ueXhrcFlHTEtYakdPQm11UEM1ZDhnczVsNEluR0N0UGFmWTFjT2RWMWQ5STdBb05aWnBUellobnIyWnVTSnZuUFlGX1hQaXMzdG5mNkltY2dSWm1vbzB4X3ExMXdZUndaUzU4cGVLTUJXT05mVlJqTE8yZVpybEQ3R21HZ21Yb1ZsRTdVQ2h6WjdXMG5qTWt4el9IekdONGFNUFpfX1c4c3g0SDVmQ3lrOGZmSy1tRXFoYkRMTDc2cWswZHIyaDBiOTQ1M3VDR2ZrUFAxMGhZ?oc=5\n"
          ]
        },
        {
          "output_type": "stream",
          "name": "stderr",
          "text": [
            "WARNING:trafilatura.core:discarding data: None\n"
          ]
        },
        {
          "output_type": "stream",
          "name": "stdout",
          "text": [
            "Fetching content for: https://news.google.com/rss/articles/CBMiW0FVX3lxTFBNZ2NnblpwV3cycFh4SWhmMWJteVo3ZjY1ZnJESVRnWEluU2wtOV9IZW9neW9lOWJPdFRiV1dGZnNtMlBCUjN4MnhJanFvODZHTTItcVFkb3VQR1E?oc=5\n"
          ]
        },
        {
          "output_type": "stream",
          "name": "stderr",
          "text": [
            "WARNING:trafilatura.core:discarding data: None\n"
          ]
        },
        {
          "output_type": "stream",
          "name": "stdout",
          "text": [
            "Fetching content for: https://news.google.com/rss/articles/CBMi2AFBVV95cUxOWDVPN1d3MmZEZFdHVlZIdjZmQ0NGajFoNE1pQVZ2RjlhbkhZX2FrYzg0d0lZcGNxMF92dkZ3NTRkVHNDWldaMVRkZlJrVXZJWGFGUldpdEtILXJhRXpVcUplRks0WjlSSzQyV21CUE96WWkyRF9DU0lyUlhlOEN0bklBS09MNm5oUE9JbE5iSURmdU95Wm8tcGQyZDJqYkRsRXRIY0pBRzdhdUdqRFllREllclYtNzdjcHA1cjZMNVZKeDdKeUtCWlZwa01wQTFkSi1oNlM0bHk?oc=5\n"
          ]
        },
        {
          "output_type": "stream",
          "name": "stderr",
          "text": [
            "WARNING:trafilatura.core:discarding data: None\n"
          ]
        },
        {
          "output_type": "stream",
          "name": "stdout",
          "text": [
            "Fetching content for: https://news.google.com/rss/articles/CBMimAFBVV95cUxORXNrOXdtMXFGR1Nzem42WWZxZVd1Sk8ydmNuN0ZMendKR3U0bkV5MUd2RUdwZURjUnpDektfSEpLOXYzYVdEUXBmNjg4clhReVRXeUhtaWJnWURHeWFsNHk5eVRpdTM5SnlPRzRwS1cxYzEyTE5BMWg1RnJDeU9NZnQ1Z01mUVZ5UGRyVkROZTYydVI2V1Vlag?oc=5\n"
          ]
        },
        {
          "output_type": "stream",
          "name": "stderr",
          "text": [
            "WARNING:trafilatura.core:discarding data: None\n"
          ]
        },
        {
          "output_type": "stream",
          "name": "stdout",
          "text": [
            "Fetching content for: https://news.google.com/rss/articles/CBMi_wFBVV95cUxQRlFLNXI0WnRGaEJIck5xSUNtQ3ZfUVVvNElJOE5lLTY1LXpkX0hhTXlzQVhtcEhWN2F2eTE0RmF3S0VTRTVmdWNORWxsU3hqcDZOR3N2Y3F5Y2ViVG5wUHF1UGFncmpyNTVTZTRKV05kX3k2cVF6T2Zpejhsa3FsU0xpeUJkVmNyNFI2YWVRRE91VWZCOS1TbmR5ZE9OMEpqUjR6VUFpMWhUTERvX3k1cThtQlBKN1BpYlAweG82MW0tUWRTRU4yWGtaZ1I3TFZJT0Q2ZzZSbVdYWlV1NDVUVURwWDVINmlRaEVsSmhsREdHVlFyNlFFeURfSWdyaEnSAYQCQVVfeXFMUGVnbW5ZQ0hYQmpVZ0JiLUZxTXRLWkY0ZnFRcVRfVnNWVmNMbWFkVVJ5alZ4Wk8tY2FIYkZDdmtodmJlTHQtM2RROTdESWh1cjhYUzVCSEhRRE8yUFhBOWs2amN3OW1BOElNay1KQ0J4d1lLWlVXek1FWFBWMzAzTnF0ellHdHlyT0RLbTVMemhDQWROdjAxYm1wdFhzNU5TbHRyWkhyVWFNZXhHUkRWQjdGNTV3aDJISDlUTVRBOHplY0lEOEk3MG5BSUFydWpSeFVXZFBuZkRjMHc5TkNoQVpFeXRqSWRxS1Z0R1o5YVhXWHlBWDBpWWRhMFE3enlLZ2VQOGk?oc=5\n"
          ]
        },
        {
          "output_type": "stream",
          "name": "stderr",
          "text": [
            "WARNING:trafilatura.core:discarding data: None\n"
          ]
        },
        {
          "output_type": "stream",
          "name": "stdout",
          "text": [
            "Fetching content for: https://news.google.com/rss/articles/CBMilAFBVV95cUxQZTFITFQ0WDFVQWtYZC1TT0haZDUtMklvSEhjT09mR3NhOUV3c0ZvbWh2UHdlT25NSXM3V2RpTVJsZW9LX2JrVktGYnBQTHNlRURRb2VJMjlSUC1xYkRKcnQ0QkdOZV8tNlJfMUJDcmhqVGxiX2FzMnY1QjE1UWtwQkd3aDVCNWNCTmFUd3M3bTA4Smll?oc=5\n"
          ]
        },
        {
          "output_type": "stream",
          "name": "stderr",
          "text": [
            "WARNING:trafilatura.core:discarding data: None\n"
          ]
        },
        {
          "output_type": "stream",
          "name": "stdout",
          "text": [
            "Fetching content for: https://news.google.com/rss/articles/CBMixwFBVV95cUxPRjBObHJlS01BcFlQb01pM2VjTVNianR4b2U2OXZDRHhocVE5QjB3UWM2QU5sOFRzS3JKUWNENUczVFBkWnMxMl9aOFJaak4wQ3h1bUNTX25oTmExUDNmVzUza0tiZzV6RFBhdVluQ2wySWhlOVdtOUZlcGJxSlpyREd1ZFQwRXpCcGc4RVl6R2U1Q3Zfa0ZDVHlMLWV0RWJfdURNOXl0T3lNa1JCMXVYUzI3Q2lCZVg1U0xJc2dsU0p0aEw0UnZ3?oc=5\n"
          ]
        },
        {
          "output_type": "stream",
          "name": "stderr",
          "text": [
            "WARNING:trafilatura.core:discarding data: None\n"
          ]
        },
        {
          "output_type": "stream",
          "name": "stdout",
          "text": [
            "Fetching content for: https://news.google.com/rss/articles/CBMioAFBVV95cUxNa200UG1SM293ZFRFNElyQkh4VUFDaHlta0RZem1hNFdCZ1Nla1RuYi1lZjI3ZG8zdXhIWGY2OHBPdkRNcnNVdXBzZ09YRFFnSERpcTlPYmRGOXhmeGhERTZmbDl0cGVVeEVNVlVMWDd5NlFnZG03dDlfV1lLNXNfN1RKckQzTnlldHZ1UFE3NThaU2RQYUJZeE1xeWEtMGZf?oc=5\n"
          ]
        },
        {
          "output_type": "stream",
          "name": "stderr",
          "text": [
            "WARNING:trafilatura.core:discarding data: None\n"
          ]
        },
        {
          "output_type": "stream",
          "name": "stdout",
          "text": [
            "Fetching content for: https://news.google.com/rss/articles/CBMisAFBVV95cUxOWTRTTzlJRVhLWktQNXpOQUxEZnhwYjdKVUtoQUNmVUxRVkdUTW9hVVU1RFBPSFFzSHdHWU9GQzFCbG5SY2JPZ2RDdnVsSUhYSWI0a25ubjJJcmU1ck1PRDVMUDFFS05sdGl3ejlkVW16MHg0UmV1bDJDRVdjZjJBQ2VsQnlfU2dObFd3TXcwTXdNYmtPWFVsMmFxRy1SVk9SNjJkT1laSWNOZVR3d1FwSg?oc=5\n"
          ]
        },
        {
          "output_type": "stream",
          "name": "stderr",
          "text": [
            "WARNING:trafilatura.core:discarding data: None\n"
          ]
        },
        {
          "output_type": "stream",
          "name": "stdout",
          "text": [
            "Fetching content for: https://news.google.com/rss/articles/CBMiiwFBVV95cUxOcFM2QTdGQWpVanVmaWVZOHJ0UE9BQ0hJMW9paXpkTmI3d2FsNFNPVUpobkx3QUpnN1ktSXJ1ZjNULWZvMUQ3Z3Zya2J3aThxR0J6YVJWenhkMVJEaFNLQnJWODBFV0VFS2ljV0xHbUp4LUY2bFNHZHBFYXNYbXM2bDN0RHJXNzVaVV9z?oc=5\n"
          ]
        },
        {
          "output_type": "stream",
          "name": "stderr",
          "text": [
            "WARNING:trafilatura.core:discarding data: None\n"
          ]
        },
        {
          "output_type": "stream",
          "name": "stdout",
          "text": [
            "Fetching content for: https://news.google.com/rss/articles/CBMinANBVV95cUxNV1FRUk8xY0hlSWRiMkVvVmNsNlJhVXdxLUNCZnY1X0d3ZkVIS0k0b3AtOEdpcm1GZ3VPeTVRTGtHRk9vY0tpTmxmX3Z0Xzhfa29NZmEzSXpwcXFpYldmb19LN0ppZE85UVFIVVRVSnI0Y2txRkRzOVNqQkFZTWpyYmNPWTVUOXBqWkxPY3ZOdGdGRDJzMDY5alZJN0VkbTB1emx2NDdYdzIyYU9SQXI4TXQ4UlNIS1FTeGRyQlpkRVZKV3NYU01LemZOLXVGMS1zTzBYZ1FuaUN4ejIyYk9lc2gyTTl0c0Rwa20wOC1BazdfRlpDb29GM2NzV2FYc3Vkc0Q3OFZTSzc3R2htNld3WnFtcnhZcm1NNEhUTUZpUlFJYXdyLVBQcFVxVFZnY182LWhsRVdfa05wYUlFTFMyTzAyX1pxSzBXb2x4YTFkTTI3VEwzUWJJUVFkRjdZLS14OHFMU2JkbjZtRW1YSVJscUhXdmxTZDAxQU5VNmlUXzVPdDJIQU1kTHVzRm1xZXdfT0FnRlJITHJ4S28z?oc=5\n"
          ]
        },
        {
          "output_type": "stream",
          "name": "stderr",
          "text": [
            "WARNING:trafilatura.core:discarding data: None\n"
          ]
        },
        {
          "output_type": "stream",
          "name": "stdout",
          "text": [
            "Fetching content for: https://news.google.com/rss/articles/CBMiwwFBVV95cUxQQzJiLWd0b3NfNWlyRk1XaFRqQllhaTY5d1pkSjJjN05SU2U0ck4zdDJMZnJ4YmVYQlF2d0l5YlRsem5EektFbDMtbFpPU3FKMjE5eHRGR2pPVGtlMHBfU3dhNy05ZlZmWkl2dGdaN3kyNU1ZU0gwYXgybkFPblRBOWwxeVFtNmFId2FqWnZTUEpCcVc2bUw3eVgwU1BNZG5aTjhLeGpVYU9UcnJ2aDVzNGoyNnZpZ1dJcDRvMVRGQjVsZkXSAdcBQVVfeXFMUFBDMkhnN3IyQW10UmFkZUo4WUVUWU9JQWtRTk1xZ3JPOGtGcDNqMmUwdW9ZV2VhR1ZWTE1RMDAwdl9ETW9oWElINXNWWF85bVQ4cVU4S3VfQ0VfcHdvYkl5dDlQU18tZThVOWxxaml4RDV5a0NwV0l0UmNPSjJIN29DVEVqM2pIRDUwZlNTbXUyZVh5SUJMTDJHTG1pbGlvUkEzS2hlamVNaEtpVm5WdnJWNy1Fd0NkZTRURzJMUGpFTVN3X0RFSDF6U3lrcUZjUUJXSGZMMjg?oc=5\n"
          ]
        },
        {
          "output_type": "stream",
          "name": "stderr",
          "text": [
            "WARNING:trafilatura.core:discarding data: None\n"
          ]
        },
        {
          "output_type": "stream",
          "name": "stdout",
          "text": [
            "Fetching content for: https://news.google.com/rss/articles/CBMirAFBVV95cUxNU3g1UUcyemNYcW1jTXl1MzdBZjczSzYyU084TWUtNnk3OThkRUJSdGUyeWdEU3lvY3pQNVJkMk9sVWJtU21xaFAxWVhsU3BIeDBnbUtDY0ppQnYtd0JnSDlfM2xtbW9OLXhmT0tsbmlfQXUwcWdFZzR6OHhGTnlKQVpKdzQxcUNqZC1jS2U2LVRReXFpbFhHdTJMa085N2VWWkFQVWthM1NfN1dt?oc=5\n"
          ]
        },
        {
          "output_type": "stream",
          "name": "stderr",
          "text": [
            "WARNING:trafilatura.core:discarding data: None\n"
          ]
        },
        {
          "output_type": "stream",
          "name": "stdout",
          "text": [
            "Fetching content for: https://news.google.com/rss/articles/CBMiwgFBVV95cUxPVmR2NTBBVmhzS1dXNnViT3hjcC1aemJ2WVM3dmI5RzhMZHltb1BrWjVNYzdFRU85WVlka1lLVU9za0dCT09jM1Z0ZHItTzd5OVI4ZGdIVTF1NlplQ2xBdUY5ZXdCNjJhZVpnSW4taHpKZ1JLdFZ3X0dJbFg5RDg5RXRSaC1hcEpISExZX0hDY1BuTFNKQTNBeW5IbV9BbDlFQi13UlF4TE1qNmthZHMweXNTUFYwLWhtTTY0WTYxQ1NaZw?oc=5\n"
          ]
        },
        {
          "output_type": "stream",
          "name": "stderr",
          "text": [
            "WARNING:trafilatura.core:discarding data: None\n"
          ]
        },
        {
          "output_type": "stream",
          "name": "stdout",
          "text": [
            "Fetching content for: https://news.google.com/rss/articles/CBMikwFBVV95cUxOZGhmRGhnVWhaemlQMGFpRThJay1ncHFNN0VYVm5OR25nSEotOFAta3dPajlDU01mN3UyOG13TjBXV0ZPSGdNOXBxa3Z2cHc0OUNvTXBDcFNNY0J0VU5RRW9LMG83VzVEZzhlU0lra0tyOEswUWtvTHhxejZQcjY4U1NSRm8tVUhBZFBydEF3YVA1VUU?oc=5\n"
          ]
        },
        {
          "output_type": "stream",
          "name": "stderr",
          "text": [
            "WARNING:trafilatura.core:discarding data: None\n"
          ]
        },
        {
          "output_type": "stream",
          "name": "stdout",
          "text": [
            "Fetching content for: https://news.google.com/rss/articles/CBMizwFBVV95cUxPV21fN2NPVVpQc3Y1b0gtY3NlZ3RlVTNrNlRhN1hQY1FnbXVxeU5zWFNoREtIYU1DSFlaN01oWmJrZ29oOVpfektsRGZQQmNSZDlxZ2t3ck9TQWlGNGdla2xKczg5NlZaNGJmLWtyejg2Ui11QWlwNkVBSUNYemZYcFByV3VrNC1mVEE5aUhkeE8xUnJoc1B0UDMxOHZKSkxUVlI5NXJ4UndLZkVkSUwxWDhHak9LSVloSG9VX0c1WmVoZ3k3VF9pUk1qQ3RRLWM?oc=5\n"
          ]
        },
        {
          "output_type": "stream",
          "name": "stderr",
          "text": [
            "WARNING:trafilatura.core:discarding data: None\n"
          ]
        },
        {
          "output_type": "stream",
          "name": "stdout",
          "text": [
            "Fetching content for: https://news.google.com/rss/articles/CBMiuwFBVV95cUxPX0FSUFlNaFo3REhSaHFMeW1Iei1OelFlOENJQkUxQ3dvT09Bdk0yOXhIbW1kUmUteElNbWxQVkpJb3lkSFd6N0tLcFBRcVVhemJyNXh0MDVzMGJxSW9tWmRtcVRrSVNPSk0zSG91dGpsMm1VTmRWSzN6dHJyM1VsX2ltRk9jTmctSFVfakVLUlpoTGJreXVYSV9seTRZYVh1b0VJVEZEcHJPSTVoc215UXg2YjMzdFZkTS00?oc=5\n"
          ]
        },
        {
          "output_type": "stream",
          "name": "stderr",
          "text": [
            "WARNING:trafilatura.core:discarding data: None\n"
          ]
        },
        {
          "output_type": "stream",
          "name": "stdout",
          "text": [
            "Fetching content for: https://news.google.com/rss/articles/CBMib0FVX3lxTFBVTHoxLWV5eVRUbDRqOUNiQkJENGFDWERFcUYyWDRNdjBIMlRjOGwwRFdGUzFudEg2bng2eDl1YjBQLU0ydlVfU0JaWW1PS2pPRTVhbkxnVV91SFBhMGhqRFZaT3hseFdoZVhhaTVmMA?oc=5\n"
          ]
        },
        {
          "output_type": "stream",
          "name": "stderr",
          "text": [
            "WARNING:trafilatura.core:discarding data: None\n"
          ]
        },
        {
          "output_type": "stream",
          "name": "stdout",
          "text": [
            "Fetching content for: https://news.google.com/rss/articles/CBMibkFVX3lxTE1vTFpHOWdMRUREc3BDaXFza2RLNVJhLXFLeTVCTWdJbHdYQnFSaHhiSS0ySkpGY0EzaEQxT0R1VGNTbDBELW9PQ2l4aGFNMTVsZVZ2cnpvNWRmLWREcTM4QlVudG43cTJyVHVnVDRn?oc=5\n"
          ]
        },
        {
          "output_type": "stream",
          "name": "stderr",
          "text": [
            "WARNING:trafilatura.core:discarding data: None\n"
          ]
        },
        {
          "output_type": "stream",
          "name": "stdout",
          "text": [
            "Fetching content for: https://news.google.com/rss/articles/CBMingFBVV95cUxPS1dxSl93aHJoTnFQTGJ1SmlpU29LcnBqQVpvdzFXZ0RFRFpvUHRlVDdjcVh2TENVRkRCczE0M2xWM3I0X0RRNnBNTWZpZ1JydU5lZVpKSnhvYkp3eGtFX3RiSlNZVHNvOWw0NVpsNW02R2NKTE4zMVlGLWhaRUl1d0NfYjZYRnpaTWlVbm9IdnVrOFFlR25FOTk0cG9Xdw?oc=5\n"
          ]
        },
        {
          "output_type": "stream",
          "name": "stderr",
          "text": [
            "WARNING:trafilatura.core:discarding data: None\n"
          ]
        },
        {
          "output_type": "stream",
          "name": "stdout",
          "text": [
            "Fetching content for: https://news.google.com/rss/articles/CBMiqAFBVV95cUxNUnpjcjRmR1I0VDlzR1FYcjREOU52U0V0eEpESGhrRE5rSml5OFBOWGRSb2UyOTk1Tk85XzQydVozeHZKbWhuZHRRUHBKVmVEWmhxTmhpeWx6YUFCNTFjTTBvajN5Ym9kWTF3NHFFUDhDYmV2Qk9FaFBfbmJSenZjaUQ1U25uSXlGcHhoS0dZMjBuSGMyM1BLRWN0UzVJdkgyaDNYQTJXM0g?oc=5\n"
          ]
        },
        {
          "output_type": "stream",
          "name": "stderr",
          "text": [
            "WARNING:trafilatura.core:discarding data: None\n"
          ]
        },
        {
          "output_type": "stream",
          "name": "stdout",
          "text": [
            "Fetching content for: https://news.google.com/rss/articles/CBMihwFBVV95cUxQZnk3VHpVQ3Q3bmxESWNqNkJYR0ZFajRmYkRFSDZvekN5VGxXV2w3Z3hpNm9QLW9OUnAzN212bkxfM3o2d214dV9tUUVNcWI2MmJrN19qcU1OWEIxSUsyclBpTjRGdjgwdWV2RkRZTDYtZ0tNOWhwRndVUXF4VjdoRTlGZU1HU3M?oc=5\n"
          ]
        },
        {
          "output_type": "stream",
          "name": "stderr",
          "text": [
            "WARNING:trafilatura.core:discarding data: None\n"
          ]
        },
        {
          "output_type": "stream",
          "name": "stdout",
          "text": [
            "Fetching content for: https://news.google.com/rss/articles/CBMipgFBVV95cUxQajBOODZWSnd0Y1R3R3NocUxkWTE3Z2VBTGt4emVyNllJN29VQ1oxN3ZnT0FJTlpfbEkyc1R5cDlTcmM4QTNxOXlVR3hQR2xIelpiVnlISjZuTW13LXhqTnhJalVTUzYtT2tuMHgwMXNRM1luZm5QaEVLeDhJS01kY2ZBTFM5QUF2RmpsTGtveV9jUEJleENleDA1M2hxMkN4WXktdWdn?oc=5\n"
          ]
        },
        {
          "output_type": "stream",
          "name": "stderr",
          "text": [
            "WARNING:trafilatura.core:discarding data: None\n"
          ]
        },
        {
          "output_type": "stream",
          "name": "stdout",
          "text": [
            "Fetching content for: https://news.google.com/rss/articles/CBMihwFBVV95cUxOZHNrSnRIUmZiYW1GWnZpbFRfQTN5T29vY3drb1R3OElNdTBsQnAzUGFfeUVHeVZJdHJmZ0tzeDMzNWp1SlBGOFViOTBhd3F0VGltaUdUV19QVjg0MFYwcGJ2OG0zbWVaeU1yMmxWNnEzUFhCdm1mTWNobWV0c1U2amx0anF3TWs?oc=5\n"
          ]
        },
        {
          "output_type": "stream",
          "name": "stderr",
          "text": [
            "WARNING:trafilatura.core:discarding data: None\n"
          ]
        },
        {
          "output_type": "stream",
          "name": "stdout",
          "text": [
            "Fetching content for: https://news.google.com/rss/articles/CBMinAFBVV95cUxQMVpsOEdrYXNMeGFVZzFaNGNEcW91eTFMcERPS2hqcjhWZlZhLUVMS0JTTFN6bGxnNnJLSFlIeXVjM01ndnhzWHhsVUJZRS1fR2RmUVV4N3paTS1JNE5LdndULUZSMUJNSkU5T0paQnpFeHBpM3pZaFU4QTNTOF9DeExHNXBkV2hPQTE3TGpWWWJrVWNpQk1vbUdZRlnSAaIBQVVfeXFMTTlsZzBsTk9Cc1FISlU0TjJUd0hsc3VqZndhVG9qeWpKMVVDVmc3UWl4S1BPZWVuQjQxLUdFWWx3ZjUyaHVFV1lOZlVfbUtJQ3ZDQTJNVTAwcVhFbnBIcWtVUm1yOTJTWFNZdk1rOGNjLV9mWWEyVENTTnZIeEczamRjUDFmOWlKQ0psbmdPODJ1RllneTlhdnU3RDhJVzVNa2xn?oc=5\n"
          ]
        },
        {
          "output_type": "stream",
          "name": "stderr",
          "text": [
            "WARNING:trafilatura.core:discarding data: None\n"
          ]
        },
        {
          "output_type": "stream",
          "name": "stdout",
          "text": [
            "Fetching content for: https://news.google.com/rss/articles/CBMi6wFBVV95cUxONHRiNFRlUHFOcWttckVZMmNrN1ZRbjNERUM0VlYwdmN5TkhFalA1Mkl0UllVQ3doSng2LXNhcHg3c0gtcTZxSDQzeEZpeVVjQUVJNFE5U1hmOTE5X01xQmdubVJVT3dSSFhTWDFBOWtKd2g4REphNHhvX01pSk9kZWJIeU9oX3oxYmswdy12Q0VaN3FSQk5XSUJiSUkwbjRmRHltVW05UlBQVEZuZkRDQmZtYk1sazFZcnI2R2piaGkzNEJDX29vc3JzX0xmSUh5X1JsVHJaU205NGN4SVdhR2FsclNLcXVJbDAw0gHwAUFVX3lxTE95TGk3cG5FT0J1UkFRR29EQ3B6T01fTmFPWG5mUDJMWEo2NTF4SVFXbll4elRVYXBteW8xQnBUMzRmczVQNEZWYVRtaTZ5bU9oZnEwRlM1WHByeldneDJHT01hU2s3UDliaGFGVXdBa2hPMjR5SDFUYV9vXzB3Q2dOZ2xXU3E0MEwyYTZqSjJrTDV0SFBKMUp4Q2ZJTDU2XzNGSWc1aTdwVGVrYl9NQlAyb1Y2b2tBX1pyVERaZjRwcjdtVHhlQzZ1bV9QSmtNR24xYllpb2pBbk5jbDJCRHJmV1pDOEVvUXc3dzV2djE5Vg?oc=5\n"
          ]
        },
        {
          "output_type": "stream",
          "name": "stderr",
          "text": [
            "WARNING:trafilatura.core:discarding data: None\n"
          ]
        },
        {
          "output_type": "stream",
          "name": "stdout",
          "text": [
            "Fetching content for: https://news.google.com/rss/articles/CBMi2AFBVV95cUxOR1BsaElhaE1FSUJfZlhQcnNDcU5UTW5Wemt6NXY3eVMtX2Zvc0hsaE1lZVdNYW1tNmp4NzFiX3JOdTN2ZnhCanJNcnRGckFxcVNpcWdYaHp0MUV3Wk41SnVCUDZ3Z3Aza3VMWldKYmJRQlhiOFNDSDhuWDdWeTNTVDk2ZFhudEJ4M2xKbFRWVG1HM1BXSTNXVFc4amZQRjJ2Y0pNM20yUm4wZGhlTzFaalJBY2hSX3JDY0RibVVPMHl1UFN6SE5hbU9SMk02eGcxNF9iUm5YUWY?oc=5\n"
          ]
        },
        {
          "output_type": "stream",
          "name": "stderr",
          "text": [
            "WARNING:trafilatura.core:discarding data: None\n"
          ]
        },
        {
          "output_type": "stream",
          "name": "stdout",
          "text": [
            "Fetching content for: https://news.google.com/rss/articles/CBMirwFBVV95cUxNS3NHU05XZU85YWVSa2NrQVdQWGlxVXdfRVRaYzNMN3J0Tk5yS1EwcFlKaGd6YnYyRWZ4dnpVbDdLcmZpbS1vT0JEaXd5bkduNTFOY3VjOFotcnBoXzRBT3dsSTlJMEtOMXhXQzVlbmVSMU80MmpGNE1wcGpBRk1fT0pKOC16T2JlQlczc0RIcnF4bkVHTmhySjkwLXpFZXo3X1MwVlNUekUwalQ1Y280?oc=5\n"
          ]
        },
        {
          "output_type": "stream",
          "name": "stderr",
          "text": [
            "WARNING:trafilatura.core:discarding data: None\n"
          ]
        },
        {
          "output_type": "stream",
          "name": "stdout",
          "text": [
            "Fetching content for: https://news.google.com/rss/articles/CBMiiwFBVV95cUxPNVBuemlrVlByb1JhUXZVRHZwaHVOT0g4M3h0Tk5DWWF3MW9hWGNZVFhUNkQ0YUh4c1h2X2pHd2xvanRZMmU4OFFzNUVnRThpRTVWYVFSb2ZCT3JCOTQwaEZLVG54VndJT2l3a3BRdW1HY1Q3WWVVOGwxQjc4TnB6enlqWktTVzMxS0U0?oc=5\n"
          ]
        },
        {
          "output_type": "stream",
          "name": "stderr",
          "text": [
            "WARNING:trafilatura.core:discarding data: None\n"
          ]
        },
        {
          "output_type": "stream",
          "name": "stdout",
          "text": [
            "Fetching content for: https://news.google.com/rss/articles/CBMieEFVX3lxTE81VmVtY1ZoREU3U1JoRWhxQUNXeHI5YmhQalBhT1ZKZ01oR3lDUXZWZ2ZWc2lLZkU0RGZCQlJCUXNwemVkQ3FLQW05bWt1eFJtWHVuNUZKZjlnWXkyYlA2U2NfbGdpZGFoMEdNY1NSUmNJUnVucFNOSA?oc=5\n"
          ]
        },
        {
          "output_type": "stream",
          "name": "stderr",
          "text": [
            "WARNING:trafilatura.core:discarding data: None\n"
          ]
        },
        {
          "output_type": "stream",
          "name": "stdout",
          "text": [
            "Fetching content for: https://news.google.com/rss/articles/CBMi4gFBVV95cUxOWFV0bGFhLXNURFdYSEZPVmhFS0ZqZWI0aktVZmM1YklNS0FMYWxTMFhLUmY0QjVTS1BUdmdvNUl1STVQWDRlbXE5c0draWtfMzdsZnRTdkRGcVlGN3dwdlY1T0twSlBXT290Z0ZvUi1kQk1jRjJHSDBpd3F4YVR3R0hZTmFSNHhSUnZGOFBQeWZ6enc0ZjZQYnNPWUdMcmVGNVNOTnhUS1ozcVlzM3h3V2NlMkhXcWMwVVhUbmxQVWIyVGtTbmRCVkNfTE5ueHNEcTdCZHJ0OEVwWFg2d1BObmhR?oc=5\n"
          ]
        },
        {
          "output_type": "stream",
          "name": "stderr",
          "text": [
            "WARNING:trafilatura.core:discarding data: None\n"
          ]
        },
        {
          "output_type": "stream",
          "name": "stdout",
          "text": [
            "Fetching content for: https://news.google.com/rss/articles/CBMipgFBVV95cUxQYnJxV2tRak1ETEstVlgyWmdCM2swalhwS2x5cTBaWDdrNVBpWGg1V05yLUpfeTRhTFJBQUpUbkZaMTlpNXEyWUV0ZGR0VEk3azJjOUp0cGNuSlF6aDRpRmM3eXI4LWRXMGttNEkzRTBGZjIxMWdLTnNnMXFzb01ZSnVLZTR3YWtlUHVZX2xxM0tGQi1ETExsR1hZdDJYLThKakN0SmR30gG6AUFVX3lxTE9rdHRUbUdtWkN1SWctdUdJTG9mM0w3QzdMSTNJOVRDMGVqdENtVW12azFFRWtUQWVoRUtkYWdsczhFc3lFaDZseEJOYzljNW1iQ09VanpncDhYQUMwSGMyRjktOTdqTzNXTjV5WjRxUWpuZXFmdExNUXVaLUhYZjhSWEU1UTkzMHluUzVzX2s0bHp2bFkwdWVFM0xwZzV5U0hsQ241bHI4U05WbUhiaFB6UFlTWmo3aVJpUQ?oc=5\n"
          ]
        },
        {
          "output_type": "stream",
          "name": "stderr",
          "text": [
            "WARNING:trafilatura.core:discarding data: None\n"
          ]
        },
        {
          "output_type": "stream",
          "name": "stdout",
          "text": [
            "Fetching content for: https://news.google.com/rss/articles/CBMiX0FVX3lxTE40dlVIXzNHZXd4VzhPLVFaWVdpVnhDWlR5U0FjSlNETlEzaTB1aFVrbGZlSXVJTURXaFRyYTZhSWc2eWFSUS11dnFLTG1saHZKczNYbmpxUG44eU1pX3dv?oc=5\n"
          ]
        },
        {
          "output_type": "stream",
          "name": "stderr",
          "text": [
            "WARNING:trafilatura.core:discarding data: None\n"
          ]
        },
        {
          "output_type": "stream",
          "name": "stdout",
          "text": [
            "Fetching content for: https://news.google.com/rss/articles/CBMiggFBVV95cUxOcHZyNGh0UzlENzBWXzNRUVoxdkxoMnQzazkxSmtYWXc0S0VvTmtGY0xIVnVOY0lYX1ZyMmo2MGVKbTlxWWRfX05ORXBJRi1Bek9BbnVtcDh6cG5nZnFZY01acG1LZEwxLVpUWjRaN1JaSEg2UEJXU3h4bXZoQ3ZQcVRB?oc=5\n"
          ]
        },
        {
          "output_type": "stream",
          "name": "stderr",
          "text": [
            "WARNING:trafilatura.core:discarding data: None\n"
          ]
        },
        {
          "output_type": "stream",
          "name": "stdout",
          "text": [
            "Fetching content for: https://news.google.com/rss/articles/CBMizgFBVV95cUxOcnpnT3NyXzloYmdXNThSd01ZUVJvYXpmTWIxZEdMUzlyd2NTUjNEdG8waGV1WlBvUFVLVXUtX0dWWWYtOFNSTFI4NFFWVWRtWmJ1VW0yTWVQcWV6bDJjZVhGTkhtSEFMS0JIMUJkZHVKT1ZxX0x5SHBsRnZhN3NHWTJfbUdEN2FwUEk3WUxJSmIwWVBvOUVQeXlJdng4OEhsaUQzdDEzVzRRdmZ0LU9ySm1sZVFPbzF2RlFaa0g3YXRTc2ZaZGF5bk5MSUJoZw?oc=5\n"
          ]
        },
        {
          "output_type": "stream",
          "name": "stderr",
          "text": [
            "WARNING:trafilatura.core:discarding data: None\n"
          ]
        },
        {
          "output_type": "stream",
          "name": "stdout",
          "text": [
            "Fetching content for: https://news.google.com/rss/articles/CBMigAFBVV95cUxOMElOSFFYaGkzUlIzc0ZSMmdhbzJTSmY2czc5TEhPN1d0QXdUMWdkWmExTnZaQ3hfZTdLODlrREtnOFV1MHcyME1zNkxsOXd5ZENURXdXdzNkTXVPWmZTclAyd0RVbzl4Z1BJVjJVYzZtbkVFRkRXT1ppSUM4elZXcNIBhgFBVV95cUxPS2VTSnZfR1gtQ3htWFQ4OTZGR0hyVVlaUzMwOEN3eXB2OWdfbXNtSnRmSEUwRVE5TTJEdDdBQWlHdk91TlhnckFYTklSVkd1MDVwUEhpbEZNU1MwSUhKb1d3SDBXTHR5NnRQYkpRa3VHTzRoQXVVSXE5ZnQxTF9VMUNnbG1jZw?oc=5\n"
          ]
        },
        {
          "output_type": "stream",
          "name": "stderr",
          "text": [
            "WARNING:trafilatura.core:discarding data: None\n"
          ]
        },
        {
          "output_type": "stream",
          "name": "stdout",
          "text": [
            "Fetching content for: https://news.google.com/rss/articles/CBMilAFBVV95cUxPOC1rY1dOb1puQ21FQkNSd3hXaFE2X2t6ckduZGVpZUIxVDUtY0pKWkFMbGsybU8wTFBnVzJ1QU93X0VUTkltSjJsV3pnRm1kZHJlR2o0R1FEcVJwblFMb29zZ2U2amZ4LVhJRXNCU1hQaWtqZXZmdkZoVVZ0UjNLWFA4VUdiSjBYRzVjZHVHaGQzeFhI?oc=5\n"
          ]
        },
        {
          "output_type": "stream",
          "name": "stderr",
          "text": [
            "WARNING:trafilatura.core:discarding data: None\n"
          ]
        },
        {
          "output_type": "stream",
          "name": "stdout",
          "text": [
            "Fetching content for: https://news.google.com/rss/articles/CBMisAFBVV95cUxOWGphWDFHZm1ldGIzYlI1QWJfRk04VlJQMFptazJFQXRuYjlZOFFpUTluSGdYejU1dWtxRzNXcDdlVFo0QmUtNnpocVpFNC03TEd6WkxmZFl1S3BGWmU0REFnTkM1bU1RMERndFZLa1p4dDNqRXFBWXV2bFlVUUhESDEyZGFSbzZ5S3R0VHFsb0h5WGFjVUNHUE5QUjhCVmpGdGFMTzV0MF9QZkpDR19qMQ?oc=5\n"
          ]
        },
        {
          "output_type": "stream",
          "name": "stderr",
          "text": [
            "WARNING:trafilatura.core:discarding data: None\n"
          ]
        },
        {
          "output_type": "stream",
          "name": "stdout",
          "text": [
            "Fetching content for: https://news.google.com/rss/articles/CBMihgFBVV95cUxPZElpUzQwOFRWcjBiczlzRHItQmpxRkhkWTNKblkyRXBpamNLdmtCcWFpMTBpZzl5eUVBa2VNM2xHT3hFbjM5Y0JPc0FRYmxUb1QwWHNWTm1FNTFUSzdNRE44dk9SRWpQU1o5akFyTEdQZU0xQ3A0Zk9meTVBY1ZSdVQ2UHQ3UQ?oc=5\n"
          ]
        },
        {
          "output_type": "stream",
          "name": "stderr",
          "text": [
            "WARNING:trafilatura.core:discarding data: None\n"
          ]
        },
        {
          "output_type": "stream",
          "name": "stdout",
          "text": [
            "Fetching content for: https://news.google.com/rss/articles/CBMilAFBVV95cUxPVWNGSi1CSFBqSnI3NHFKcFFvRGFZem5fOXlocFA5U2hCc0lLV1pPa0JRdmk4cFl2MTRiRjZLNVRHclJtbU80S3Fkc253a1o2ZnVJMEZDdjhlVzRTeGEyMDY3MEhRcC1ndmlSdUQzbHEtbW43QmpfNkV3RG81dXNrdU9fNGJSVV9yZE5kaWdoVnUtMU9a0gGoAUFVX3lxTE1qNHNnVEFuY1VBTG9mcnE5MDl1Ml96VEdwUDlCOTIwWk55X1dwZXlKSi11RHotTzdVSWxFYmV1eXlPZDJOMnQtSUN2N0d6WGJBZ09paFFCMTBhcFNoZlZvbk0xNk5ZNWlFWU1WLU1DdlM2blZHR3JhTkFDNUFiVndkaVhnSDZJc09FRHplT1Ruc2Y1SzMwUGhNVDhXUWNuYklSSk1HV2FsNg?oc=5\n"
          ]
        },
        {
          "output_type": "stream",
          "name": "stderr",
          "text": [
            "WARNING:trafilatura.core:discarding data: None\n"
          ]
        },
        {
          "output_type": "stream",
          "name": "stdout",
          "text": [
            "Fetching content for: https://news.google.com/rss/articles/CBMi3AFBVV95cUxOeTBqMklwZmg4N2dacUdVR1gxVTBwS3gwdWdVS2ExOHFZNjVuYW9WWkQtTlhvc0FxNEE4RldfelM5SEdtMW1LblZpMDJkNnBwdW9PYjlreGZoRDhPQ3VCTFpLb0JCaXZaMGpyTDlnSDJIVDlZb2gxZ3ZfakZCNjNLZ084UkNNWUlXendQWDBlcXZHa2Vfd1NSa3VCMVNRTTJWOHF4eXUxQ1pvQVJZMElsX0Q3Q3RUR3V2V3Y4MkxwY3NPeUZicEV3QVFtTHVuYWdjejJVSk84RlFXSk9Q0gHiAUFVX3lxTFBaZ04zWFMxUjU4NlpNUFp5aEMyXzFDTjBjbmRZLTdhOEhIRm1JTHp3N2JieVBTTlk2SnNfckRWTl9kUXB2NmY0bUV6cUtkM3ZnWXNYM29KTHZveFNzeUlzdkxneTA5b1RXc1U2eFVlSTZsaV9wcUZTZXFVbFp0S2ZFWkM0ZU5IYVd1QVpVN3RoWjlIMXBnYXZoZnZUN3ZuVVViQ0dUX05BVW5BbnpxY1YxMGttN0JKQ0d5UF82dF90cnJLN1dON0l3UFlEREpjMmc4WG4yaHc4aGJWQ1JKdkdGcXc?oc=5\n"
          ]
        },
        {
          "output_type": "stream",
          "name": "stderr",
          "text": [
            "WARNING:trafilatura.core:discarding data: None\n"
          ]
        },
        {
          "output_type": "stream",
          "name": "stdout",
          "text": [
            "Fetching content for: https://news.google.com/rss/articles/CBMiWkFVX3lxTE0tcm1NTXduSVJrc2txaHlsWDlPdmloTmFpSWlETERhOXpXREZfeFFNUHFkc3BQTkg3UVRQQ3BtOFhOSDdNdVRZeUNpZ2VUc3F2RHRSM1NYVDBHUQ?oc=5\n"
          ]
        },
        {
          "output_type": "stream",
          "name": "stderr",
          "text": [
            "WARNING:trafilatura.core:discarding data: None\n"
          ]
        },
        {
          "output_type": "stream",
          "name": "stdout",
          "text": [
            "Fetching content for: https://news.google.com/rss/articles/CBMixAFBVV95cUxNX25hQVU3T0tRVHhkeGx3QWxLU3dOMkp1T1NZSktQemZ6M3ZaMXV3ZDQySUJBc2lNTlAwbWZad3RSdWotU2JYd2s1V2E4ZXE0UnBYZ2UtQm1LNVVhMTlxTk01WXNQQ0stZGxvVTlqWmpYb1BuVGQ2aml4b1l4elpYWFYtTnhPYi1lZU5DZkRWWFdfb2YxMjRObWdwR1UyMEpxNzdEWkJ5bzdxZGRyRjVrQUJEMGtYRzBIT1dZUGljSkdpSmJ6?oc=5\n"
          ]
        },
        {
          "output_type": "stream",
          "name": "stderr",
          "text": [
            "WARNING:trafilatura.core:discarding data: None\n"
          ]
        },
        {
          "output_type": "stream",
          "name": "stdout",
          "text": [
            "Fetching content for: https://news.google.com/rss/articles/CBMi-gFBVV95cUxPQjE1cjBfc3AtM0ZTUnlOdzhvLVNZaWlaZmR6aUpDUDkxWEtDZVZrbzRoWWxUOFc1REc5aU1fQVE3WGFtOWhMMXQwODZlMEtpT24waGN3blM2MWVKZENlVTFZblA1S0o5SkJ6aXJiekM3Y3RoUGJSWURWR18tMkstMzRudnQtT1kzaHVFU2RRQV9mS0N0Y3lHTkl6TFJmQmpQY3J3djZJSERFOTF0V0Q5dzk3WjlFZGFmd3hUVVZDZWR2MEtua19kWVZVSG9CSzhXdG9LX1hjMFd3eW14bExITnNfa240T000TlZ6ZGluWE1rd19pa25lZ1hn?oc=5\n"
          ]
        },
        {
          "output_type": "stream",
          "name": "stderr",
          "text": [
            "WARNING:trafilatura.core:discarding data: None\n"
          ]
        },
        {
          "output_type": "stream",
          "name": "stdout",
          "text": [
            "Fetching content for: https://news.google.com/rss/articles/CBMikwFBVV95cUxQMV9MRVM3dDdIN3otQW5FUEJwLUV1UHgtNGEzOS04aUNQZ0x4U2k5OVZnbnRDWG9YRUpFMW5uVmExa1dYb2lmUzhtSndQeDR5UXpKYnViZDVOVDRBaE93bllGT0FkSEpsdmc3ZDlybUo0TGRySTQ4OFFjWFlUWWRyTkE2RkhTb1JITFNjbzBVT3hMcGs?oc=5\n"
          ]
        },
        {
          "output_type": "stream",
          "name": "stderr",
          "text": [
            "WARNING:trafilatura.core:discarding data: None\n"
          ]
        },
        {
          "output_type": "stream",
          "name": "stdout",
          "text": [
            "Fetching content for: https://news.google.com/rss/articles/CBMixgFBVV95cUxPYkJPZTlwc2ZabF9sUkNMTlVnVVJnaEYySTA4bXA3VUx0Q2RHdlJnNm0tSEZvUW5OREVieXZmdHBHMng4cGp6T1NqRWhzUjk5MWtJakhqYnBLT3otT3UwdDlJNmRkeFI2YjJKdl9OWHpPNE5sdWdWbnJSRjhManJQQlZ3Y3pMUDF3bFl3Qm5qV255RHhuU3ZESVEtVUk2UHB2V1lKUFRXWjRFNURiVURWQ3N5azh6UlBNYTAtSWZGSFMzWXdrY0E?oc=5\n"
          ]
        },
        {
          "output_type": "stream",
          "name": "stderr",
          "text": [
            "WARNING:trafilatura.core:discarding data: None\n"
          ]
        },
        {
          "output_type": "stream",
          "name": "stdout",
          "text": [
            "Fetching content for: https://news.google.com/rss/articles/CBMisAFBVV95cUxNdmR2cl9NNDM0Y2UxSmZVV3g4d19LNGFMSUhTSWZJRWNTNWhhMmM2ZlZNWU5wMnZZWUc0UjI0enc4eTRvLWZvWnZYMkJDR3VaWGNqbEUzSlZkeFlNYXRHaGpFSHFpOTZtT3RfcnJxcHIzQ2lxWlNyTWZXQk44X2FQMzJqbUJlek14TFN2THFRZlFlc3QwdFY3cXJrczF4QkxUNTZnUjJZbThsUGxONnZPdg?oc=5\n"
          ]
        },
        {
          "output_type": "stream",
          "name": "stderr",
          "text": [
            "WARNING:trafilatura.core:discarding data: None\n"
          ]
        },
        {
          "output_type": "stream",
          "name": "stdout",
          "text": [
            "Fetching content for: https://news.google.com/rss/articles/CBMirgFBVV95cUxQSkxRd1ZkUEhTUWx6bUZESHZ0MFNxMjVHeFZxYWRDVlM0MlVjZ0pJX1ZvN3liczlMWEFIVkJOR1hmSVpQOGdsd29RbTFKSTM0ZkIxU0NXWjNkREpDS3dBcU05SEM3el9vNG1rMGZLNllORWhDZUhsUTZWWDBhRkV2dGs1WXM4ZFdrNW9peUtNcmVJWTk2OHBFam5zSXo5TUNFdFRWYVRzREVWSmZhVmc?oc=5\n"
          ]
        },
        {
          "output_type": "stream",
          "name": "stderr",
          "text": [
            "WARNING:trafilatura.core:discarding data: None\n"
          ]
        },
        {
          "output_type": "stream",
          "name": "stdout",
          "text": [
            "Fetching content for: https://news.google.com/rss/articles/CBMiakFVX3lxTE5DU005YXRyalBOMm5IdEVMc0NueHZPdGkzZzRUWDV6STBJc0dSdG00eDdGdlV6NVpoNlVJdXhwTGR5UVBRaFhsNDRva0Q0N3lFZXJIV1YxdXhHTDRZRmYybWR5ZWFkLTk5d0E?oc=5\n"
          ]
        },
        {
          "output_type": "stream",
          "name": "stderr",
          "text": [
            "WARNING:trafilatura.core:discarding data: None\n"
          ]
        },
        {
          "output_type": "stream",
          "name": "stdout",
          "text": [
            "Fetching content for: https://news.google.com/rss/articles/CBMiuwFBVV95cUxQMzlfbW1PN19GNElmaFEwM2F3V1JPV1IzWnVoNS1BV3lydnVaNTk2Q2JJMDVVMFMzOXF6ckJiMmc1d3lLLXFMNUNOTktsUHdlUmFQYWtmRG1XODcxUUlCVC15anVjdlRpNGhWZkhaYXk0aWpCcUF5ZXhLS3JKNTBvWXRhQmM3X0xEcEZyTmhBeWxJOUNBU0hOdlVCalY2dU9rV2plYXBVVWZPTUxhSUJPVEJCcDEzTG9RMEF3?oc=5\n"
          ]
        },
        {
          "output_type": "stream",
          "name": "stderr",
          "text": [
            "WARNING:trafilatura.core:discarding data: None\n"
          ]
        },
        {
          "output_type": "stream",
          "name": "stdout",
          "text": [
            "Fetching content for: https://news.google.com/rss/articles/CBMiswFBVV95cUxPT1lhOXREeGZ5ZHREbFY3LVh2UjVtMmlsVTFYcVRqSFRPMmdZQi1lZlV4U3dRZ2N5eC1OMFd4Rm9hOWVjZXZZN2taWTVfYWR0cUdJMTYwdTRlSWVIMEp2Q3RZWUl3QUJWbjE3TWZ3SWRyTERERkhtbjZ1OVl4QUNDVE5UNHFPd1laWHBfMi1nX2dfaXdzVHpnRkhBRzNGUFQtV21rYm5OcU1JR0tmdGkzdm0tQQ?oc=5\n"
          ]
        },
        {
          "output_type": "stream",
          "name": "stderr",
          "text": [
            "WARNING:trafilatura.core:discarding data: None\n"
          ]
        },
        {
          "output_type": "stream",
          "name": "stdout",
          "text": [
            "Fetching content for: https://news.google.com/rss/articles/CBMic0FVX3lxTE5BemIyRkU2Z2dmSzFiUGJGb0l0MTltaW1zblhKaXZhU1BJNVl5Q0o1c0N3aWN3U1FBYWVNWHY3cFRsamxsQzlCRDljc205TTVaSUUyclRONnVibjE1c1U4aUxIRi1FX05nV0t6LVI4N3BwazQ?oc=5\n"
          ]
        },
        {
          "output_type": "stream",
          "name": "stderr",
          "text": [
            "WARNING:trafilatura.core:discarding data: None\n"
          ]
        },
        {
          "output_type": "stream",
          "name": "stdout",
          "text": [
            "Fetching content for: https://news.google.com/rss/articles/CBMibEFVX3lxTE80aFpGV2FpdlNzcW5UdTNvRWFWTzAySmt0MkFuTHdTRWJkQTdmY1BCSXZBMnFxMUVrTFFVNFlXMXMxYzk2R0lhdTJ4Qm13aWxDME9RVjZfaks2dUZrV2R5UWJGbjdNVXZZb0pKMg?oc=5\n"
          ]
        },
        {
          "output_type": "stream",
          "name": "stderr",
          "text": [
            "WARNING:trafilatura.core:discarding data: None\n"
          ]
        },
        {
          "output_type": "stream",
          "name": "stdout",
          "text": [
            "Fetching content for: https://news.google.com/rss/articles/CBMiogFBVV95cUxQX3JJeXJRQmlLbVYzMnUtZ3drZElXNllTSHd5ZFdQaGl5NmxQVzJxUTZhUTJ3R1NwY2kzZHRDc2N5eWdyb19rb1NYTnNfb2NhMXlad2t5MktucnRPMlJwOWw4UzY0UVlISWtmU0t1OXJESWFjNVI4ZDFjb0ZFZXZBd3lXTnotSUVjbjk4THVKaTVlS0JITWtBNlFHQWZzcFFLblE?oc=5\n"
          ]
        },
        {
          "output_type": "stream",
          "name": "stderr",
          "text": [
            "WARNING:trafilatura.core:discarding data: None\n"
          ]
        },
        {
          "output_type": "stream",
          "name": "stdout",
          "text": [
            "Fetching content for: https://news.google.com/rss/articles/CBMiwAFBVV95cUxObDJTTjZfbXhYaHVpdlVSdk9Nd0c2N1dYOVNGTHRybm5wcmpBUkZ4SGxLRzgxeC1rT1hlOWIzVkU4MFFBRGtwZzhjdlVhUmNWa1dFV1R1ckhYSF9HbWNteENJN0JyNGpSY3FDTURpRDMtcWF4SmN6TnV3YmdYUVpUc2NuMEI1Y2hwUFk2dE13OGJWQmxXVndVTHliVGxXc3AxU0pTYzJTZFJ1ekJQaENCOUNwZ3ZoN3hRVml0VlY5MFU?oc=5\n"
          ]
        },
        {
          "output_type": "stream",
          "name": "stderr",
          "text": [
            "WARNING:trafilatura.core:discarding data: None\n"
          ]
        },
        {
          "output_type": "stream",
          "name": "stdout",
          "text": [
            "Fetching content for: https://news.google.com/rss/articles/CBMiowFBVV95cUxPMTlhZ2FDakdIR0RmaWxBakF3Rmo5dHNQR1JtWnYtYkpINE5GSHl5cWxfN1Exck5xMHJCNGdBMzVlWGMwZGNWVGZoWGZCSFNXRU9pcGZ4UVZ1Vk5hblNEejk3X0ZYdkNBXzhtcVhRYUIxYjBxQ0NlWFlCc3JnLWFOeXNYUUhnZ0tQU3J3WWJneE5HQS0taEVKUjZGazAteWg0OWZn0gG3AUFVX3lxTFBOWGJhcklHREtoZEtwdXA4b3JqOGlVbjg5TjhwYXdNODhneUl0eGVOU3JTNS1uSFZTYm1LSERrZXFYM3lGVjRDZVhyRVJWSnh5d0lCZjNnSjNnY180ZDdzOHlJaExHVjFJbmFFQWxQQXVXS0VoZ1VmTGZFNFd3dVhCS1VCaW9UN2pXN1BKdmg0TFBmTVJFLV9hX0RULW1RcWxkdWZUUlpLYU9haE5ZQ0NSUjNNc2NWZw?oc=5\n"
          ]
        },
        {
          "output_type": "stream",
          "name": "stderr",
          "text": [
            "WARNING:trafilatura.core:discarding data: None\n"
          ]
        },
        {
          "output_type": "stream",
          "name": "stdout",
          "text": [
            "Fetching content for: https://news.google.com/rss/articles/CBMiowFBVV95cUxPOFUtYklGdWJuVXduR2FibjFRTnYwckdMa3BxOWRSQ0ZndUZxMUZsOFJOSWc5MEJFeVdJSkozV3VTbHE1bU9SVkw1Z2k2eFdFTll5LTJaYlo0RVJ0cmJuNGhtZDh0ZjZISHBxZUhTU3BMa1ZQam1mQ0VlelpDZm9xV3BtaXJfSkdZRTEwdjBDclJMTVNBS253RVRvc05VU3Y4X0FV?oc=5\n"
          ]
        },
        {
          "output_type": "stream",
          "name": "stderr",
          "text": [
            "WARNING:trafilatura.core:discarding data: None\n"
          ]
        },
        {
          "output_type": "stream",
          "name": "stdout",
          "text": [
            "Fetching content for: https://news.google.com/rss/articles/CBMiswFBVV95cUxPRzFPWHA3bTQwVXZ6QVNpMlA4N2QyX2FDbHU5czlpWUNJODFIaFB4Y2RSQnE2aGJUeTkxRHIzX1loVmJZQnh2TXNiZTBoaUNIT3ZDRG80czhXcmxHMlRZck9vRzl1NFhlU21kT0NMQnRYTlhTV0sxT1U3V2N6UGJhSm83RHBOX1NuVTlXbjVJcTgydTJidHZOUF9uaHFXMC16QkdqNVZGSFJ5MmtPczVwOHJwSQ?oc=5\n"
          ]
        },
        {
          "output_type": "stream",
          "name": "stderr",
          "text": [
            "WARNING:trafilatura.core:discarding data: None\n"
          ]
        },
        {
          "output_type": "stream",
          "name": "stdout",
          "text": [
            "Fetching content for: https://news.google.com/rss/articles/CBMimAFBVV95cUxQNTRwR3k1b3RWQ21KbUk1WXZHWEo1ODE1NW9oWGxTVm8xS0FqcTR2Y3pzRnduUG5relhlOW54QzNtTGRPSnR5b2ZZLTdBck9vLUFEcXBCSzRFazhnRzFVVmRsSTBfNnRXM1FVMWJMUklSN2VDcTl1TGI5NTVmQkdyZlNVYzBlWUc5QllUWUNVZFJGaGpFeGFmVw?oc=5\n"
          ]
        },
        {
          "output_type": "stream",
          "name": "stderr",
          "text": [
            "WARNING:trafilatura.core:discarding data: None\n"
          ]
        },
        {
          "output_type": "stream",
          "name": "stdout",
          "text": [
            "Fetching content for: https://news.google.com/rss/articles/CBMiXkFVX3lxTE9WLU5jVTNaOVNnT3N1NjRBSXQ3d083TzBnb2YwMUp0N3d5ZTVWcXc2cXZMeDZJVmsyOUw2MkpteG5pUFdiOTVCN2VQOE5oNnBIREQydk5acHp0eTFUN2c?oc=5\n"
          ]
        },
        {
          "output_type": "stream",
          "name": "stderr",
          "text": [
            "WARNING:trafilatura.core:discarding data: None\n"
          ]
        },
        {
          "output_type": "stream",
          "name": "stdout",
          "text": [
            "Fetching content for: https://news.google.com/rss/articles/CBMioAFBVV95cUxNbGQ4a05xUzhPWmt6ZElBQWlKeWVLbVkxWm0yQjd4c04ybHg3cndDTllkTDR5OVRGVFNadjJFWnYxRTJJQktXdlJMOURkSXM2ZHR3NldrNDJTWjRGdVczQ1FFRy1mVlNOMkphMy1jZWs3TGEzR0cwQWVaNGJ6UE4ydXNkNVp2Rk9qRjhrazlvNUp1NWpYZlpkZWlaaG93THdY?oc=5\n"
          ]
        },
        {
          "output_type": "stream",
          "name": "stderr",
          "text": [
            "WARNING:trafilatura.core:discarding data: None\n"
          ]
        },
        {
          "output_type": "stream",
          "name": "stdout",
          "text": [
            "Fetching content for: https://news.google.com/rss/articles/CBMirwFBVV95cUxONVBkMnlrUng5a2hfcjYzLU9sSHhIa1lrSEprTno1T1FwM0N0OVZkczhLWWU2bTdJVUhMQWFrVHEyUFNwTTFaQnNKREFkaWphVVNxcHJWYlhaZC1sQnlfNG8tSkpTQU9saW5vX3ZQVlc5eW5ZN1Fzc2FuUWhTTjh2WjFjbVRGOHIzQnZobE1sSjRuSEd4d3cwZ3FsZjNpM1NITEhHbmdYMXRRSTFCbGN3?oc=5\n"
          ]
        },
        {
          "output_type": "stream",
          "name": "stderr",
          "text": [
            "WARNING:trafilatura.core:discarding data: None\n"
          ]
        },
        {
          "output_type": "stream",
          "name": "stdout",
          "text": [
            "Fetching content for: https://news.google.com/rss/articles/CBMickFVX3lxTE9IdkRCYjJTSUhQaDhycHJuQ2JwWTJ2c2JmeFJwVGVYaGtkZGdocFl6bXdNRXhlUklZVGtkcUJySnJ1Sk1nWXRYYVg4RzhLOHJPZzdhdEhpS3lEbThqOUdXcFoxdlhWYmNyeHpSVldzaEtSUQ?oc=5\n"
          ]
        },
        {
          "output_type": "stream",
          "name": "stderr",
          "text": [
            "WARNING:trafilatura.core:discarding data: None\n"
          ]
        },
        {
          "output_type": "stream",
          "name": "stdout",
          "text": [
            "Fetching content for: https://news.google.com/rss/articles/CBMiowFBVV95cUxPZUl4eWZyRkN1NlVYbWwyVTk4Zk0zMTRScnVuNmRKZktJSlFQZ1o5OUc4MGJITUxNak12N1YtWHhhTnpHZlZ3RUhIb2tCLS14V0txMUl0QThaM0ZVaEU5SzBRVkZWZGJ5RmM4Zm1QVDVLX0NUT2dwY1VCYWIyQnhBdDNZM1M3S2N3ZjBKWTVUNVIzT0dxSW0zVHVNQ3M4VWlqakhN?oc=5\n"
          ]
        },
        {
          "output_type": "stream",
          "name": "stderr",
          "text": [
            "WARNING:trafilatura.core:discarding data: None\n"
          ]
        },
        {
          "output_type": "stream",
          "name": "stdout",
          "text": [
            "Fetching content for: https://news.google.com/rss/articles/CBMiYkFVX3lxTE1vUkhGLUxtcmZHOHp5V2U0bVZPQ0FZZmtYOFlyQ2R1SHFNNXJ3N1ZDcWR1c3pPTkNyNkc5TG9hckVxd21GZmRlWXBxSkdYUVp6VmRsb183Z1AxRVhEeTM2TjBR?oc=5\n"
          ]
        },
        {
          "output_type": "stream",
          "name": "stderr",
          "text": [
            "WARNING:trafilatura.core:discarding data: None\n"
          ]
        },
        {
          "output_type": "stream",
          "name": "stdout",
          "text": [
            "Fetching content for: https://news.google.com/rss/articles/CBMixAFBVV95cUxNSWdWSklYVGktdFFHTUtOWlpYZVNBQi1Fb1h1eVR1cDdpOVNVYzZGeGhRcHBOSWY4N1pJYWpKX1d6N3B1bENSa2ZONEVEX0JRd3J0N0tlMVgybTVwcTBSVUNnczJwSzQ0YUNEd2VjaFNiWVlLV0pGcVJ5dFBFaXdicThvN1NwdWlqX21QcEJRSkdMeXFwZ09TRDVHQW5XQTM2QjJYQlBZU0lHLTlqZ3hMVXR3eEcxaS1LMWJHX2ZlQXdFUk9O?oc=5\n"
          ]
        },
        {
          "output_type": "stream",
          "name": "stderr",
          "text": [
            "WARNING:trafilatura.core:discarding data: None\n"
          ]
        },
        {
          "output_type": "stream",
          "name": "stdout",
          "text": [
            "Fetching content for: https://news.google.com/rss/articles/CBMiiAFBVV95cUxPM016elFacXAtNmRyLWJZUjZpX0pUMkMxd0pvanJGNUJaZTFiYjIyUnRqR2V1dnd0b3JabW9pQkxET2lobTE4Y2dwVUNlWHQ3bHlCRmwwMEhtZzdiLTF2cTU3SmZ4eHplc2ZhV3I2NExWSHdnQ2hzS1RsdXVuMV94U2tyc3gxenZf?oc=5\n"
          ]
        },
        {
          "output_type": "stream",
          "name": "stderr",
          "text": [
            "WARNING:trafilatura.core:discarding data: None\n"
          ]
        },
        {
          "output_type": "stream",
          "name": "stdout",
          "text": [
            "Fetching content for: https://news.google.com/rss/articles/CBMiogFBVV95cUxPN3RzdlAwZlE2R1Zfdm5xMFlfWEdkaFF2T1JBdHZnTGV3SE9PakpqcXdyR0dRV05kVWlLWU5NaEtaWFZGOXN1REV4eFRZWGNHZnZObkVWRU81ZUJOQVhxRzBQbFhjTk1uXzZvSHJEV3NxZ0NIZW0yeFJUMnowdnBhRHRNSlppYXdLd2FVWFBoeDEwYjEyRkVvZE12YWxwdktNOGc?oc=5\n"
          ]
        },
        {
          "output_type": "stream",
          "name": "stderr",
          "text": [
            "WARNING:trafilatura.core:discarding data: None\n"
          ]
        },
        {
          "output_type": "stream",
          "name": "stdout",
          "text": [
            "Fetching content for: https://news.google.com/rss/articles/CBMid0FVX3lxTE1QUmNJa28xWXBoeG5uT1NHWjBxQUtXaURDdk5kMUNlZjZJU1diTl9BY1VDNzdnQlJ0MVJCYTRIVGpCbXJGNlZTb3NtY1FKbGQ2N2pvdDBjRFEyZU5PakhiU1BxSmRpWmsxRVpydDB5bDBkbldFLVow?oc=5\n"
          ]
        },
        {
          "output_type": "stream",
          "name": "stderr",
          "text": [
            "WARNING:trafilatura.core:discarding data: None\n"
          ]
        },
        {
          "output_type": "stream",
          "name": "stdout",
          "text": [
            "Fetching content for: https://news.google.com/rss/articles/CBMirAFBVV95cUxNMzBzZUd3S0ZXYlpyOEw4ODdUZFBsdGM0MmpwcmRrd3FRZ0p2MmdPdU5CLTNxUTI4MEVsSVUteG9vSGpYWm9TUl9QLXBWbEVBU20wcWVfQzZwRFUwX3RabERzZ25qM1c0Q2xmREQwMFR4Qk5VM1RHTGdqSl9vbm83NTJLMlNiX3REUE94LWJoOWVLRl9EVDhvbWZBRnNJeGtfQm9zVm5WR2dLdFhZ?oc=5\n"
          ]
        },
        {
          "output_type": "stream",
          "name": "stderr",
          "text": [
            "WARNING:trafilatura.core:discarding data: None\n"
          ]
        },
        {
          "output_type": "stream",
          "name": "stdout",
          "text": [
            "Fetching content for: https://news.google.com/rss/articles/CBMidkFVX3lxTE1IOElKUEVKZ0ppUGZIZE1ieFRBQWZacVhEc3BENXVESmVjQ1pRVW5OdDNxOWFWU0dwbHU1X0sxektvSW1YZXB2TlM4NXZubU9TeHF3cE9ZUU9XNTJZYklGVnJfTUJFYkZBaVpPWEs3OTdLSEZpZlE?oc=5\n"
          ]
        },
        {
          "output_type": "stream",
          "name": "stderr",
          "text": [
            "WARNING:trafilatura.core:discarding data: None\n"
          ]
        },
        {
          "output_type": "stream",
          "name": "stdout",
          "text": [
            "Fetching content for: https://news.google.com/rss/articles/CBMiigFBVV95cUxQWjU1bDN1bzUtdkVTdEJZUFJ2WTNRdlFla0E4OEF1SkZfbnoyRWlHRTYyVncwemo1RjlzVTRaU3dBM0UxcFBmcmRPSUEzWDNZel84T3JNc3dYQk1Vc1ZrdC1PSEFSMUxlc2gyMTU1TmxXd3JtOTh4akFIdUZMb3V2a0h4czNMbUM5eGc?oc=5\n"
          ]
        },
        {
          "output_type": "stream",
          "name": "stderr",
          "text": [
            "WARNING:trafilatura.core:discarding data: None\n"
          ]
        },
        {
          "output_type": "stream",
          "name": "stdout",
          "text": [
            "Fetching content for: https://news.google.com/rss/articles/CBMigwFBVV95cUxNYzhKVXRob1FjNnFZeTlUZlF3OG9ueUJpYk51YThHMXJuNmpEdE9TUkNTUE9ES0FBVVZYeTBTSEZFNjBYOWlSSldRZTBGSTJESW9tczREc25SWFFzRXFKYUk5eEtIUU9ZaVQ0MDh2dHFaRjFoY1g1TEI4WmQ2UlJuTEloMA?oc=5\n"
          ]
        },
        {
          "output_type": "stream",
          "name": "stderr",
          "text": [
            "WARNING:trafilatura.core:discarding data: None\n"
          ]
        },
        {
          "output_type": "stream",
          "name": "stdout",
          "text": [
            "Fetching content for: https://news.google.com/rss/articles/CBMibEFVX3lxTE1aTDVXS1FaLUVJQVhadlV6Tnl6aGNxS3EwMlY2OTA4b05sTVVCU2IwbTFiWVI4V0lTQVp5SGRFQjhVdTNfSU1OekpWLTJzd1Itci0zRDY0WDJPMXJCZUNfbjNReDFJNE5sbnZNLQ?oc=5\n"
          ]
        },
        {
          "output_type": "stream",
          "name": "stderr",
          "text": [
            "WARNING:trafilatura.core:discarding data: None\n"
          ]
        },
        {
          "output_type": "stream",
          "name": "stdout",
          "text": [
            "Fetching content for: https://news.google.com/rss/articles/CBMikgFBVV95cUxQVnF5akQ5VlNjc2R0SS1nWEdUN2ZYMC1oZWFpVUZ6Z3pRRFg1NUhQQzdPbmp0dWdrQkFsYUNMMGcxdy16cENtZnpBYk1yNGwxYTBrbEliZnBVQzlha0gxLVd6T0JoRkZYVTZDLWpzWWpIRm5mblJTT19xM0gtRDk5ZG5GY0dPaFJFSmFPWDVEYW9ldw?oc=5\n"
          ]
        },
        {
          "output_type": "stream",
          "name": "stderr",
          "text": [
            "WARNING:trafilatura.core:discarding data: None\n"
          ]
        },
        {
          "output_type": "stream",
          "name": "stdout",
          "text": [
            "Fetching content for: https://news.google.com/rss/articles/CBMirgFBVV95cUxObGtxazJJU2xRV1FVZU0yekRzNjZ2RzY5MzFOTnVWeEJwYzc1Z1laa2pibFdKQWQyWTg1b1ZPT2xsRTFtVjJkSjAwcFBOWHpOejBRV0VEVFRkZkJzU05GMUFXcGRFdXhNeHpmRGJnbFJzVDdvY0RGakNGOFROTUNTejVhekxzTzBWV3licm16Yjc2U2VnQmtNS0RuTWl3WlQ1UC1HWldjU3N0OTVPSFE?oc=5\n"
          ]
        },
        {
          "output_type": "stream",
          "name": "stderr",
          "text": [
            "WARNING:trafilatura.core:discarding data: None\n"
          ]
        },
        {
          "output_type": "stream",
          "name": "stdout",
          "text": [
            "Fetching content for: https://news.google.com/rss/articles/CBMiswFBVV95cUxPX0FHRkxnTDhfUDU3LXRBc0pwX1A0TWdKay1JU0JwV0dVTm1adHJQNW1rODg0VnV5dC1Zd0doUlFLNkwySkQ5VVlsTTk0MUNNdWhVNVhjSUIyN2lxVnZmM3liaVplcTVBanM4LTJuaTFiRWEwNkNxaFVTTlFEOFJoZVoxOEYzcWZNSFhDUENwQkx2QlE0N01xOXFRTTFNUXJJVjhDY0twb3RIVUpuVEFCN29jVQ?oc=5\n"
          ]
        },
        {
          "output_type": "stream",
          "name": "stderr",
          "text": [
            "WARNING:trafilatura.core:discarding data: None\n"
          ]
        },
        {
          "output_type": "stream",
          "name": "stdout",
          "text": [
            "Fetching content for: https://news.google.com/rss/articles/CBMimgFBVV95cUxOZEZxdm9VeEplY0pGTklLUzY0VzB6ZjNzYTFCU19uaVlGYnNCMHFSWVc0c0VscU9YMHB6ckRJSEVTWkt6c1dUQzZ2WkpHc3JYV180VTBIdVRFYnJEM2RkUDFOR19HVTVVZjJDc2NxSzZhSi1tSVFYZ3I5OU53QmZGS1dfdUpYeERsREVoUXZQR090eFpuSGgteXp3?oc=5\n"
          ]
        },
        {
          "output_type": "stream",
          "name": "stderr",
          "text": [
            "WARNING:trafilatura.core:discarding data: None\n"
          ]
        },
        {
          "output_type": "stream",
          "name": "stdout",
          "text": [
            "Fetching content for: https://news.google.com/rss/articles/CBMivAFBVV95cUxQRm9ZeGk5QngtelB5WG1wWF9CeDRhbEFfRzcxSXNxRmhkVVVzTHp2TGlRRGt2bmwyRUY3eGVDQVBNWlpzcldlMlVCMWE0NXd2R1hheUM5alVGM3dVQl9xdUFLWXZDMkhyM3NnNndPNWVvcEpkWGNURXZlTFJpMkVNVmRsMW4zRlNZTGcwdTNVUlZHdUk4M0NhYmczdnBER05NVko5R1NDaVplZXFBX015QVlfQWtLdGxqbVNCZQ?oc=5\n"
          ]
        },
        {
          "output_type": "stream",
          "name": "stderr",
          "text": [
            "WARNING:trafilatura.core:discarding data: None\n"
          ]
        },
        {
          "output_type": "stream",
          "name": "stdout",
          "text": [
            "Fetching content for: https://news.google.com/rss/articles/CBMitAFBVV95cUxNTS1tMUduUnppd0IzbkxoUXdpWTJST1AtS2dGWERBYzJNMnB4bzNudzNrQ0VOX3hyTG5WMUx3dHdqSlRSRld2TmVKNEhFaFJ0NFdTT1FHZmJsbGk1VEQyekloc0hRUTdMMUNSS0NIemprLTY5MnM4emcxVGR2OFpQRDVrcDJPXzdvNTlzbklfSjUtRGZwTEpmSFozdTJGVEJucDdVYTNGMXhNQnVSUWFsTHZiSGk?oc=5\n"
          ]
        },
        {
          "output_type": "stream",
          "name": "stderr",
          "text": [
            "WARNING:trafilatura.core:discarding data: None\n"
          ]
        },
        {
          "output_type": "stream",
          "name": "stdout",
          "text": [
            "Fetching content for: https://news.google.com/rss/articles/CBMiqwFBVV95cUxNQnpWdWNyUHpCUzIzNXFsVk4zbnlUVU5OTEc4M25tTzA4cktsajZTTHpKZzJVbjlaWVYySlRjTmtfTGRGUzl1Tjhsd3phX1FmeEc4S2J0WmJHcEFxQVhndnRBNXVudl9lcGpqTTBpYVhPXzZjY3lENmFFTERFa2prdGFHSEVWbHZFWWpEUWRxZ2FrNVVITXZrWTFxRFk5Ulh0c3p5eDJjRTJOVzQ?oc=5\n"
          ]
        },
        {
          "output_type": "stream",
          "name": "stderr",
          "text": [
            "WARNING:trafilatura.core:discarding data: None\n"
          ]
        },
        {
          "output_type": "stream",
          "name": "stdout",
          "text": [
            "Fetching content for: https://news.google.com/rss/articles/CBMiqwFBVV95cUxONVFiUThHOHduU0VEbUk1VXlMVmRCdVduLXVsY0JNN2VRWWNmUUVNU3hnUVdXQ3h6WG4zbVVvRjZIZW4zQy1aMWozNjFNV29LWkwxajlrV2hKdmtaY3N4WjR3N3J3alFicFMtZFVrVlhaRHUwOHF1UWxYa1dwZ09yMU4yLW5kMXRfSXB1YW5BZjRJLWNBREstY0lkY3k1NmI4cS1mRE0zVzIweEU?oc=5\n"
          ]
        },
        {
          "output_type": "stream",
          "name": "stderr",
          "text": [
            "WARNING:trafilatura.core:discarding data: None\n"
          ]
        },
        {
          "output_type": "stream",
          "name": "stdout",
          "text": [
            "Fetching content for: https://news.google.com/rss/articles/CBMibEFVX3lxTFB6Ym5ET29xQnhpVDJzT3F4TVBJM0lmSnFxaDVQeVVpeF9nY3FISkUzcDFHOFZObTVSOUl6dDV2VjZXTHllRU5RcWVKamRhVnByYVRGc1U2SmxXeGRJX3VDVkFSUkp4RlBxMHRTUw?oc=5\n"
          ]
        },
        {
          "output_type": "stream",
          "name": "stderr",
          "text": [
            "WARNING:trafilatura.core:discarding data: None\n"
          ]
        },
        {
          "output_type": "stream",
          "name": "stdout",
          "text": [
            "Fetching content for: https://news.google.com/rss/articles/CBMiowFBVV95cUxOdS1SdHlheENGc1hXbVlfUzhKbzE3bHpPNnNZRFREb0l6ek1IV29jYWI3XzFUTmJjWVVIcE41MlpINXhheGJyN0pzUDBVQVpOcENXbzllOXl1aFF5MXdzWWtBWG1pbDBFclRQSXJGMXcza3NOWl9Mem5HOFgyVjJjWkExd0hTOGhqcFRkSHRsNEVDeXVZWlY3dGUweHhpTmhnRHhV?oc=5\n"
          ]
        },
        {
          "output_type": "stream",
          "name": "stderr",
          "text": [
            "WARNING:trafilatura.core:discarding data: None\n"
          ]
        },
        {
          "output_type": "stream",
          "name": "stdout",
          "text": [
            "Fetching content for: https://news.google.com/rss/articles/CBMiggFBVV95cUxNTlk2OFBpV2Rramw3akE1akpqN19SaEJ0ekgxUjNWbm5mWTZlNVc4c0JUSHVuck9sQTlUV3F0UlkxLVJvQkM0SXRVVkUyWEJQaWRGUl8xcENxUzZMWllLOGJGQmh0Vm4wN3R4YVZRY01MeHFNMThFQXhSYmxZVGhLcjFR?oc=5\n"
          ]
        },
        {
          "output_type": "stream",
          "name": "stderr",
          "text": [
            "WARNING:trafilatura.core:discarding data: None\n"
          ]
        },
        {
          "output_type": "stream",
          "name": "stdout",
          "text": [
            "Fetching content for: https://news.google.com/rss/articles/CBMiyAFBVV95cUxPSDROZXRkTVZiUnJXVXZnZDVYQ1BfT1NQUzNPNmFwVEc4NkZubjVLa3BHZVhseFRUNTFwdUFUbDFTeGFTUGNWdjU3blRPaGtMX2otRHM2ZFBudVBJbUtCbHp6QjMzOF9iVXR2c28wYlBYT2NlTGZXSzhRTThrVWRWZXI0WW80S0pteWRVVFpCblhXRC1CaUVnUUdIQlJkb0xHWXlwVDZZQ2RsSm1nWGdvWnQ0YWNHekt5Ni1DWGVXcTVWdDV2eDJ1VQ?oc=5\n"
          ]
        },
        {
          "output_type": "stream",
          "name": "stderr",
          "text": [
            "WARNING:trafilatura.core:discarding data: None\n"
          ]
        },
        {
          "output_type": "stream",
          "name": "stdout",
          "text": [
            "Fetching content for: https://news.google.com/rss/articles/CBMizAFBVV95cUxPeFM1OWIyVG02azF1Q24yYUh5dHotNkI2d1R5VnZIUC1kOGtIYmRTczRhOHg2Y3JtRzRqT0kwZjVCcFZuRWRTOVpfaFBJS0RxTzdJTnNPRXZoT0phU29aTFFPU21hd2ZkNlJqLXZGVUc4N1lVX3NmTlJ0eDltdU9VVl9nMXA5aXQ3bXNNMjN2WGpBRnZQbU1YVHpZekZJaGF5OVB4STFIalVKRC1qQVNSQ2VkNFR4MGY3V0hPak1MbmNhVHQzdk1YeDBVVDA?oc=5\n"
          ]
        },
        {
          "output_type": "stream",
          "name": "stderr",
          "text": [
            "WARNING:trafilatura.core:discarding data: None\n"
          ]
        },
        {
          "output_type": "stream",
          "name": "stdout",
          "text": [
            "Fetching content for: https://news.google.com/rss/articles/CBMicEFVX3lxTE1CVEhqTDg3TWgxcnA0TEx0VnpHczgtdUNSVFR2RDNEbE5ZVm1BMDdzZUoxTlBHTDZWQUdOdjNBVHFkSWRzUFBvUmhtT1VjOTN5RmtFcGZ2WjNRX2VyR29HMGhMWml2R0RVc3FuSThuZ2s?oc=5\n"
          ]
        },
        {
          "output_type": "stream",
          "name": "stderr",
          "text": [
            "WARNING:trafilatura.core:discarding data: None\n"
          ]
        },
        {
          "output_type": "stream",
          "name": "stdout",
          "text": [
            "Fetching content for: https://news.google.com/rss/articles/CBMitwJBVV95cUxQdGo0eHJ3MjV2YTlWX0RZemc4eXFVOHFLR2VDNzA3aHpiVnN2MXNUeTJxcGV4QmUzWmYwZVFoR2lKaTlNUWNyMVh6NUN5UW1UY3hodkk1U2Q0S2hycHlhd1dja1VqeVA0SVVoLVgwN1RIcUNHcnJqSTVZMTlVU2JMWmlVSEZ1d3U4MzZaRW8xcWxhLXRGZWJ5VzZDZjJsQTBSaXVPRkFVYVlEWDFwNENaTDNuZWdEb2pXYWtKSENyWVZLaUVqOFBKRUVwWE54dHVlanlvTVBTZkF0dDlLN0g2UlFwaFh1RlVIR19UbXdLbkQxOWl0c2lTNnQ3ZjJaNWRwbUtTV3dfOEZDaG1pcXNIZ1hRZHNrMkhuUm1Zdm56ckFyd25LRXVCUW1BbFVuX2otVmhyLXhmNA?oc=5\n"
          ]
        },
        {
          "output_type": "stream",
          "name": "stderr",
          "text": [
            "WARNING:trafilatura.core:discarding data: None\n"
          ]
        },
        {
          "output_type": "stream",
          "name": "stdout",
          "text": [
            "Fetching content for: https://news.google.com/rss/articles/CBMiiAJBVV95cUxPdi1SRDFfTms5cEQxb2xOenIzX1QyZ0VPU2ZUakFUckhCUm9YbC1FV0t1aTNsOExQMTJuM1FjbVFhY3dvYWJxWUlHdjBVRjJwelIzU0JpWko2cUFVSDREZ2NZWVlfR2lmaU1QdWZFYXNvbFl6S2VINUZRTXJwYlFKWE5CN2UwNGJiTVBWd2N0VXNVMURCQ244Vld1T1FLTmg2UkhuUHhHYnhtYjFXbF9nQ05MOGtzRzRna1l1dFdySXdydVVfSHBuYmlMTFlUMllXdzhUXzlNR0ZkTlE2UWVWYm44dEFqRThqX3J4QXpuWUFLWnA2ZDVuY0JhMFJtRnRkWXRvWWlZZEg?oc=5\n"
          ]
        },
        {
          "output_type": "stream",
          "name": "stderr",
          "text": [
            "WARNING:trafilatura.core:discarding data: None\n"
          ]
        },
        {
          "output_type": "stream",
          "name": "stdout",
          "text": [
            "Fetching content for: https://news.google.com/rss/articles/CBMieEFVX3lxTFBHd0hvSk5kWUxaMXNTX0VLZzY3bEFLdC1pc1V2RXVYYVo4WmY2VFYyZUhxUFIzd0w3bWQtZkk2NkVvRWYtR1FJVFl2Q0JvOHprb01YRFNKdWZDZ3FiRmM0SkE0cVp6Z05FSE94bzk0SXU3T0FVR2lfTg?oc=5\n"
          ]
        },
        {
          "output_type": "stream",
          "name": "stderr",
          "text": [
            "WARNING:trafilatura.core:discarding data: None\n"
          ]
        },
        {
          "output_type": "stream",
          "name": "stdout",
          "text": [
            "Fetching content for: https://news.google.com/rss/articles/CBMi3wFBVV95cUxQNXJBZUMxWEo2NkQzdV9zLTdNTk1wbUpjeC1OdWxfc3RkSmVhTWNycEY3MGJFd2psWGFhbXBwYURrSnVjdzVlMmtaYUtJTWdnV25OVkhVbHF0a0pLM3RXQUllTzJWSXNwSGduU1gtS2lIZzZrel9CaHIyNlBQVVdRdGZuNXdUdVdJS1lEUF9SdGJSMzVIMnFSM1lsZ01zbWpUNkgzdkNtWkctWW9INHJrY2JqUndPVzJTYkY4U00zdGVHRnJGcjdDdHdNa1RObmY5MWdQZTZVMkJVcDFzSHI0?oc=5\n"
          ]
        },
        {
          "output_type": "stream",
          "name": "stderr",
          "text": [
            "WARNING:trafilatura.core:discarding data: None\n"
          ]
        },
        {
          "output_type": "stream",
          "name": "stdout",
          "text": [
            "Fetching content for: https://news.google.com/rss/articles/CBMivAFBVV95cUxQdXNlVnVOZVhhakljUnpCSFlrUUREUW9ZWkdtRkxmWll6TnBJQ2FCUUowRTFUYTVSWnViOVJOVXBGeS0xUnlEYTAwSGVhbFJMam5KeDdUNWNXSnhfaC1sSHhMWEZ0V1pTenZUUWJobGpHTGRSM0RxNEtxZURsazJZRUY1WUhTc2IxemhwY29sbFVORHBtVk05OG1kN2ZjYmdOWHZGV1NWTHp0dXJJbDVYQ1lrbnNhWGRkdmlxQg?oc=5\n"
          ]
        },
        {
          "output_type": "stream",
          "name": "stderr",
          "text": [
            "WARNING:trafilatura.core:discarding data: None\n"
          ]
        },
        {
          "output_type": "stream",
          "name": "stdout",
          "text": [
            "Fetching content for: https://news.google.com/rss/articles/CBMiswJBVV95cUxOMmpsbFVycEpaakhDNzdFYWVWY1ktbk9TajhzaXZMV1pxQkRkRTVUUjBIZnhQQ1lzMFNHWFRaTU5QcUlhdE1OWmRHRDVaZVZ1STdiVXZGSHZMek94UDdlcU95V2JoMWJuWC1id1FGTlBoNnRsVkMyUlRGXzh3OFVPM0NoRkJfNHNFT00zVEJVNTlwdXJMb01ScU82QnNQQ2FVaTFxVkhTYzJtWDVGcTlzY3lrbjhQd09lVi1aWjFhd3ZSd1dDYjZ5Uk8tR08xWGphVExWNm1kSTc5MHRaX1ItTElHX1ZMOFdlaXl4TG9RNGFqMGtEZnJsdVFDRmJJZF9ub1ljUnZ1bGxEb19WcHQ0bHFBM1JfWHFEZXpxT1VHZ1RQTnh4V0sxSzhYa1hqcmRiX2R3?oc=5\n"
          ]
        },
        {
          "output_type": "stream",
          "name": "stderr",
          "text": [
            "WARNING:trafilatura.core:discarding data: None\n"
          ]
        },
        {
          "output_type": "stream",
          "name": "stdout",
          "text": [
            "Fetching content for: https://news.google.com/rss/articles/CBMivAFBVV95cUxOXzFvNVF6LXBpaFBQcC1ORmhQZ1NpcVU4NEN6YzhmeEJucmFiLWV0S1lnRkVsRUVQSkhpR0Nfcy1zMHpvUUREbFhBNm5UaUxIVHpBSFljWk5QeEtacmtsMmprWS1TMkdXM09sVGdleTN3OGY3VVRLaFptRjR4TVp6MEpoMnQtckVvZGlvTTZHckoxRjR3b01sZlZ3cE5IY2w3cVJmaGRGdzFLYmNOTmtHSzBwMG54OW9xeWxUMQ?oc=5\n"
          ]
        },
        {
          "output_type": "stream",
          "name": "stderr",
          "text": [
            "WARNING:trafilatura.core:discarding data: None\n"
          ]
        },
        {
          "output_type": "stream",
          "name": "stdout",
          "text": [
            "Fetching content for: https://news.google.com/rss/articles/CBMijwJBVV95cUxNalFYNGxxVUoxWFlsdGd3ZlRMcXlWVlN6VzBCZXVnajNSQkIyYmlCNmJMbUtqa3h0Tl9uOS1HeGNNVVFlY3ZnTWgwRUtiOGRDcXVlbjhic29yQUZ0SjJxOHFmNWY5Y0w0alg0aGVGMGt3bktKTFJHVmFQLVF4cXNCVmNMNlhFYUludm9KNnB5OFI1SXExRXNPYWVEWVYtMWhweUs3TERBbjVOdC1STTVVUGZOLVRyY2R1NHRyZWtPcVdDMHRIdVBZQzhyYklraDhGTVp2LUxxNVQ0R2drTkluUGd0Si0zVjYycnV3QnJuU0o3MmZEMTNURUlRdmN0ZmFONUNLRWhfanFiTHRBVjZV?oc=5\n"
          ]
        },
        {
          "output_type": "stream",
          "name": "stderr",
          "text": [
            "WARNING:trafilatura.core:discarding data: None\n"
          ]
        },
        {
          "output_type": "stream",
          "name": "stdout",
          "text": [
            "Fetching content for: https://news.google.com/rss/articles/CBMiugFBVV95cUxNSVBBeUxYRlF1TzBIZEhoSnQ5N2VRMEZ2SGhMdEdYQ01UM1ZfTl9GQVhYWnBmWWp0Y3dydms3MXRveEFGeEFPbVNJeXd2enVLcWo1RUZwaFltWk9wNlVBeGZnTnhaakV2dEl0Zmt3cDItWHp2SkxlYW1USHNibHlDVjhtc3p1d2JLb1dxVWFCMlJTOHFRdFhQUFdWR1FfVFRmX21LSmtZMzY3QVpzMy0wT2V0SVJfQnFwd2c?oc=5\n"
          ]
        },
        {
          "output_type": "stream",
          "name": "stderr",
          "text": [
            "WARNING:trafilatura.core:discarding data: None\n"
          ]
        },
        {
          "output_type": "stream",
          "name": "stdout",
          "text": [
            "Fetching content for: https://news.google.com/rss/articles/CBMikwFBVV95cUxPdFd3bDM1Z1EtVzktYVBpT2luQmJPSmE1d1RIazFWNHpkRXVEQm1xbnVrMHM5YXBjcDlSR3BvYjQxQVc0SXRGaVBZQmlXVU5sY2ZZQlc5RTh5eUhmWjk4MS1nM0RZLU0wUU85ZGt0dy0zalZjVGsyTHNVaXViaW9VbF9SMkw1SzVOZ2RYa3ZqLW5QX00?oc=5\n"
          ]
        },
        {
          "output_type": "stream",
          "name": "stderr",
          "text": [
            "WARNING:trafilatura.core:discarding data: None\n"
          ]
        },
        {
          "output_type": "stream",
          "name": "stdout",
          "text": [
            "Fetching content for: https://news.google.com/rss/articles/CBMiqwFBVV95cUxNZUlzc3h2aWVuT3BCd3FVWk90MEdBblZqRjNiR1phVDMwSWhHQU9PVHhRem1qaEJPaHUzMW1ON0RTVHN2N09FM0VGU1U0Wl9QSkNuZTBwNE5GV0o2cWItWlNiR2FObVpadmJZNHNGMkx2RDczb1IxV1c0cmpaM2VDdTg2TUNydlYwN3VvUTFzbk1Hc1NJakNIU0hXR0VKdmRSa3c3YWloTlN4WlU?oc=5\n"
          ]
        },
        {
          "output_type": "stream",
          "name": "stderr",
          "text": [
            "WARNING:trafilatura.core:discarding data: None\n"
          ]
        },
        {
          "output_type": "stream",
          "name": "stdout",
          "text": [
            "Fetching content for: https://news.google.com/rss/articles/CBMilAFBVV95cUxPMDRIaGdHcG81dXJULWZ1TmlCbEFyczRTdUxJbTJPdXNtdFMxek9BcE1nVno4VDJCaDV1ay1xZXk5RkF2NGZjTWRTaURTdjkyUWY4RG5uVzBiVTBjR2JrSmF4b3EyQngtZk9jWnVaZXlfREJxOXMxM1VkbmNXV21BUkJBeFFNQ3RSaUIyNk1XWUNqdjVf?oc=5\n"
          ]
        },
        {
          "output_type": "stream",
          "name": "stderr",
          "text": [
            "WARNING:trafilatura.core:discarding data: None\n"
          ]
        },
        {
          "output_type": "stream",
          "name": "stdout",
          "text": [
            "Fetching content for: https://news.google.com/rss/articles/CBMiygFBVV95cUxPWHVlVmlIbGhYRmtUZmtGYkwxX044Wk1LcTBfUTRpQ0pFSWVyZkRlNjAwZl9fREZwUkotZUFSSF9aOEROYzd1dDZiZGJTdHM4ajZ1czFxZkhKQXd0Sm9feHczNHRPam1yVDZYc183dHltRHljRDY1YmlVaFJhRS0xQ0h4TWh3OVZhTnIwdnJDdnhaZTFTWk5KOEc1ODBoOW1fZXR6Vi1HYU04ekFZRTVZLVYwMTl4eks4OUM5RnI1dHNrX2U3WUxpTWVB?oc=5\n"
          ]
        },
        {
          "output_type": "stream",
          "name": "stderr",
          "text": [
            "WARNING:trafilatura.core:discarding data: None\n"
          ]
        },
        {
          "output_type": "stream",
          "name": "stdout",
          "text": [
            "Fetching content for: https://news.google.com/rss/articles/CBMicEFVX3lxTE42akkybDZMbXdLNnRNWXY5Y0g2aFo2N1kwTHlfY2ZUZjlCc3pmcm11Q2I1VkFObUNXNFN2WDVoVUJpb3BzWlBuSWdYMktoZFM3VFZXWEZ6d0FTclBvQmQyRF9Dd0RDS2pYTWhXaGc4Qkc?oc=5\n"
          ]
        },
        {
          "output_type": "stream",
          "name": "stderr",
          "text": [
            "WARNING:trafilatura.core:discarding data: None\n"
          ]
        },
        {
          "output_type": "stream",
          "name": "stdout",
          "text": [
            "Fetching content for: https://news.google.com/rss/articles/CBMibkFVX3lxTE9RTVZVSTRuYUgzWUg2NXY3a2k1WlJfWndfTkhHRXlDVXlQakhPVXBLUUxGcU9hWDZScFEycU9uTGZGQTg0Q3VKRENLX2dHYlUtTWlYZUJIcmZPdndoT2F1YkNpMlhqNkN3eWw4Q2pB?oc=5\n"
          ]
        },
        {
          "output_type": "stream",
          "name": "stderr",
          "text": [
            "WARNING:trafilatura.core:discarding data: None\n"
          ]
        },
        {
          "output_type": "stream",
          "name": "stdout",
          "text": [
            "Fetching content for: https://news.google.com/rss/articles/CBMirAFBVV95cUxNSEhvTVBmUEs1cGVsYUU3VEZObmdjWHdDNklOaDJENDloRmNTU2ozMmtiTkVPQ3F1ZjhWRHhCRmY5NHZMX1NpcWZWSkV3TVl3MWlDdWk4Qmd4aTU0YjZRY1NwRXdIV3l3cmNZWGdXa0Q3UTdGYnBaQkYwck1QUFdCY2tyOTcwTUh3SHpIOG9TM3ZjejU4aHFMeldPV0lVUWdvODVyVjJCeHpLazVS?oc=5\n"
          ]
        },
        {
          "output_type": "stream",
          "name": "stderr",
          "text": [
            "WARNING:trafilatura.core:discarding data: None\n"
          ]
        },
        {
          "output_type": "stream",
          "name": "stdout",
          "text": [
            "Fetching content for: https://news.google.com/rss/articles/CBMijgJBVV95cUxOM29naDBqbVZyRnVRNVFFd29uVVA0R3ItZ3UwVFBJN1o3NzRKaTVhRzdxNUwtMjZMN05OTmtuS21PU1FpTWh3RHRrdnVuQjgtRVU5YjdtajhtMDdIdGpNa3p1ODh3TjdHeXpEcGpuXy1DcjhNd09QLVBnNlpHWkNOTG51UmE3R1o5VG5PTGhhUUlxLWFBX0VfVlRlbXFtel9pY0hMQ1lIYUhSWllXRnJnazQ2VDBPck05Vi04d3p4RWxJU3EyOHk3cnB4anpXbGQ0RXdobWl6d2pPZzdPdGhVZ3JYSFdKN25KM0FnUnV0MlZoc2s1dm44RGVNX19JSFh2NHFEMWlXVmpUaDBub3c?oc=5\n"
          ]
        },
        {
          "output_type": "stream",
          "name": "stderr",
          "text": [
            "WARNING:trafilatura.core:discarding data: None\n"
          ]
        },
        {
          "output_type": "stream",
          "name": "stdout",
          "text": [
            "Fetching content for: https://news.google.com/rss/articles/CBMi6wFBVV95cUxOVU1hSFlwMXBLREEybFRWZkNnbTVYWk96YzBDRFFPX0RhUjE1OU51S0Zpak9rc3FSdkl0UUUzNVl5SkZyTkpLcjFZaGhJUERHdFVGSUI3M2M0N3JmYTF4NDBJdGozbi1kTzhVTWlfUU4wOTBLMlVSbW9WbmFGWUZUWEtIX3l4RFhweTBSbVBmLUVISVFEZ3IwTzNxUUZhNTNRQkVTVERQZS1QcXlsa3pRanJWVnY5cE5yS1U3MWJOenJ3SnAwX2s2eUtGREhjTktwcHltMFBVWURMU0JwYmtsUEZiby1TZzlGMDZ3?oc=5\n"
          ]
        },
        {
          "output_type": "stream",
          "name": "stderr",
          "text": [
            "WARNING:trafilatura.core:discarding data: None\n"
          ]
        },
        {
          "output_type": "stream",
          "name": "stdout",
          "text": [
            "Fetching content for: https://news.google.com/rss/articles/CBMikgFBVV95cUxOeHd1Q2htVzhBcE5RcTlnZk9ma21hb0hVLXlvc3g2cE15ZWlLanhCRVpBWGdpbUlJMU1aaW90VTN0dDUtM3VQYmNlME5pcV90OVZUS3k0WWdwcVRDOGxXMHRJSzdvQUdDWS0wOVVMSnFrbEdTN3RISmxEMmtGWTFuX1BVQkNQaVdhWl9NQllKV1NXQQ?oc=5\n"
          ]
        },
        {
          "output_type": "stream",
          "name": "stderr",
          "text": [
            "WARNING:trafilatura.core:discarding data: None\n"
          ]
        },
        {
          "output_type": "stream",
          "name": "stdout",
          "text": [
            "Fetching content for: https://news.google.com/rss/articles/CBMimwFBVV95cUxOemd6SFRCU21USUFwZXhYTE5oZWhBX09QU2ZzQy00Z3RjMmdWVmw2Z0RYeWQxaTVPVFpwVXF1RWlJbGlfMFhCQm5lTHZ2Y3N6OVV6THZmelpNekt0MVhXNFNLOXU5S0xlWkJHMFE2T0VkNlZfRHp1R2MtRGV0VFlvQWs0VW1pOUtFUjB2YmZkQTJQeVBkSDVVMy11aw?oc=5\n"
          ]
        },
        {
          "output_type": "stream",
          "name": "stderr",
          "text": [
            "WARNING:trafilatura.core:discarding data: None\n"
          ]
        },
        {
          "output_type": "stream",
          "name": "stdout",
          "text": [
            "Fetching content for: https://news.google.com/rss/articles/CBMingFBVV95cUxOdnItcTRzOWhGRERXbkV1T1hnamliVGFqZEJKNnRaV01icUJpeVA5MC1iY3VidHVnWnJpcVBaLTd5NkJmZl9XZF94T1VvaGxIbTZ1djhtejI3VGttLVVmbDRxZWZEcXFDU0FwY1hpRWRxWjFKNnNBaWJJUFZFeTlKQkRucHgzTlBWcUVqYTNNd08wN3d5VzRYZ3NHZmpDZw?oc=5\n"
          ]
        },
        {
          "output_type": "stream",
          "name": "stderr",
          "text": [
            "WARNING:trafilatura.core:discarding data: None\n"
          ]
        },
        {
          "output_type": "stream",
          "name": "stdout",
          "text": [
            "Fetching content for: https://news.google.com/rss/articles/CBMijwFBVV95cUxORjhiaXVxVVEzaGxtMUdZU0tZeEJkMkNuUVE4dTZfYkRYUG4xWjRsbDFOODlxMTBOZVpwTzJHTmdhYlgxVm9kVW9lUHBOU0RiYmJTSmNYemhYa1NCNDduTzVoeFNycHJuYXgzOEc4N0JUakFXWjY3cE8ycnRLQ0tBcmtkejhyZ0tqQ2hucmFlMA?oc=5\n"
          ]
        },
        {
          "output_type": "stream",
          "name": "stderr",
          "text": [
            "WARNING:trafilatura.core:discarding data: None\n"
          ]
        },
        {
          "output_type": "stream",
          "name": "stdout",
          "text": [
            "Fetching content for: https://news.google.com/rss/articles/CBMiekFVX3lxTE1TTi1KUXhqWnNSdHVvNkprSU04UXpYQlhpTXVhNE9vLUdhaDNQemZXN2ZoMXNxa1JhZk1IODdUUGc3Y2VyN19vOTNlelNmOHN3WWg4bE43WjBOWXl3em5sZGwxR3N0U0w3Nl9zdjZJNDY0dWpILXJwUWpn?oc=5\n"
          ]
        },
        {
          "output_type": "stream",
          "name": "stderr",
          "text": [
            "WARNING:trafilatura.core:discarding data: None\n"
          ]
        },
        {
          "output_type": "stream",
          "name": "stdout",
          "text": [
            "Fetching content for: https://news.google.com/rss/articles/CBMirgFBVV95cUxOSXdnbnlCWm5CQ0tQeUE2dkp1MThQLTM0MU5WVXdwWGdQQzh3T0FyMENEWnlWSTBTLTV3RGllRHk5QXRTQ0JNU3ZUU194dEZlekNkb1RsUEY2RXFJY19mX1ZaaG41QUphV3p3QUsyVnNfNVZTTmtOVEQ5RkQ5T1U4QVdTUXYwVnFhd1lRa3dCVG53U0lhdXFBZ2cybWhCY2FfRVUyRXFpQjNvNWxNcnc?oc=5\n"
          ]
        },
        {
          "output_type": "stream",
          "name": "stderr",
          "text": [
            "WARNING:trafilatura.core:discarding data: None\n"
          ]
        },
        {
          "output_type": "stream",
          "name": "stdout",
          "text": [
            "Fetching content for: https://news.google.com/rss/articles/CBMiuAFBVV95cUxQdlVnQlhZQ1JvRnZwVnN5VG5lT0hoUXFiNmRlX0tjNFZlNTZTZUpkR05EZy1kQ09sOEw5RHpvdUJXODF1STl0Wm1pNEpFRlloWWxJODhIOWY3MXNDOGQwd0tlM2VFTzZKemNBam9CaUs4VXI2OUk0TnpEd0gwTTA0aVJHM21QaWlYMWRkZlczZDN0QXJlZXZUUUdWMkJEalRDTllPMUx2X0Y3NGpZa3NtdEY5MDJDT3dL?oc=5\n"
          ]
        },
        {
          "output_type": "stream",
          "name": "stderr",
          "text": [
            "WARNING:trafilatura.core:discarding data: None\n"
          ]
        },
        {
          "output_type": "stream",
          "name": "stdout",
          "text": [
            "Fetching content for: https://news.google.com/rss/articles/CBMiqgFBVV95cUxOY2x2MEpxVlZzRjd4WW4tcnk1czU0WTBEZTRPX0J6Sm9UNGlUUUwwUGdmNmg0eTNBLUxyZFlHNzRzX2cwa1F2Z05nck5fREZGOWd2ODRLdDdNVEdVeUJBMHJyc3FodDJZSXZnVnRVTUV5TUJqbFpITHRkcXF4bF9pWnhJN2cyd29iTy02XzlMYVdCYUZWTFlza1VMNHBkb1B4eW9Nc3ZsRS16QQ?oc=5\n"
          ]
        },
        {
          "output_type": "stream",
          "name": "stderr",
          "text": [
            "WARNING:trafilatura.core:discarding data: None\n"
          ]
        },
        {
          "output_type": "stream",
          "name": "stdout",
          "text": [
            "Fetching content for: https://news.google.com/rss/articles/CBMijgFBVV95cUxQR3NURDhNUDRieVVmbG1BdWExV09jcXRZTlptSW43R204aklkQ2xLb3JRaVdOTEdkLVE2SDRsWGx6cmVHVUF5RlFldG82Tk5RX0xYbzJWaEhmdEppNUNUdGhGRVhUN1YtXzVyenlFTkM0WjhxNHk3TXR1T3JGVzhuN2x5R0RJR3dRT2NTY1hB?oc=5\n"
          ]
        },
        {
          "output_type": "stream",
          "name": "stderr",
          "text": [
            "WARNING:trafilatura.core:discarding data: None\n"
          ]
        },
        {
          "output_type": "stream",
          "name": "stdout",
          "text": [
            "Fetching content for: https://news.google.com/rss/articles/CBMikgFBVV95cUxNWWREYkJ1MUU4T1BfRVphX0dBRlNmWWF3bHFtdzJDLXZ0OVROQ24zZmhiQm5DbXBaQ2R0NHNuSjVZRTFDVVBWS2lsdUh3ZFgtMl9QbmRITWlEOXM3QlowLUNVSHNLNEhBY0pDQXBMQ2k2ZlRFcjNMczMtaDlhRnZnSkNwUXlZQzNsTFJvTzRLbzJzQQ?oc=5\n"
          ]
        },
        {
          "output_type": "stream",
          "name": "stderr",
          "text": [
            "WARNING:trafilatura.core:discarding data: None\n"
          ]
        },
        {
          "output_type": "stream",
          "name": "stdout",
          "text": [
            "Fetching content for: https://news.google.com/rss/articles/CBMiigFBVV95cUxPMnRPWS1TR0ZabzNqQkd5eFd3eXlyVWNWcTZKTEM0RG9NQXcxdW9Wd1ByMnJob1FXeHUtUTVqWWkzRUdTZUFCUW84amNNcUp6dkdtOV8xeG1SUmlKNVFiY2RFelVJQ1NFM2x3aXdaVVFUNzFLSnVsbTR5M2Y3akZaOHJKeDRiR0VUTmfSAY8BQVVfeXFMTktJeENpQVlmcmpvSDVCUERNNnZOTFZmYks3RDhBdHRMbEFLYXVPd2dtRVBRSUpUckRfT0I5N2VhSndSRENZdFpTV0VVQnFVNnMtbjlyQWE1SFlOVUxQaWN2WFFhOEwwQ2tRWUw0U21JY2lLRnJOOW1JRXZJNFhuajlMczd1WlRYeXpfOVBVRm8?oc=5\n"
          ]
        },
        {
          "output_type": "stream",
          "name": "stderr",
          "text": [
            "WARNING:trafilatura.core:discarding data: None\n"
          ]
        },
        {
          "output_type": "stream",
          "name": "stdout",
          "text": [
            "Fetching content for: https://news.google.com/rss/articles/CBMikwFBVV95cUxOMnZLaG5OME1IRUd2WXZJTVBRLWdsd013Q2VTQ285Rk1vRHJLTllybkY0bG5IaDRkVlRCV25RMGFfZXgyMC1jR2lvNW93SmRkQW5HVDVHeFV4ODE4SFBqbkhBZm9TMEhGbkhOMXlyd0JnUEtQdE1BWG5zWE5CM3RSZzNJOUVfSWtZcGlsM0djTmFBNjg?oc=5\n"
          ]
        },
        {
          "output_type": "stream",
          "name": "stderr",
          "text": [
            "WARNING:trafilatura.core:discarding data: None\n"
          ]
        },
        {
          "output_type": "stream",
          "name": "stdout",
          "text": [
            "Fetching content for: https://news.google.com/rss/articles/CBMiigFBVV95cUxNLWNrZTloVjFKOGxfS0xRajZvQzNXQlVFLUhMclV3a3lsYlB4NF9ob2lBcGJmc3pwRW9RZ2JUaFB2NlgxUUtuaXVXTmpOOHpZNU5GNGNXX09rYjlFUGRtdmRMazJ3bU9VS0JlQllpdXgtMndXMEVIYlY1OUdCdUktZUdleUVXc1ZIN2c?oc=5\n"
          ]
        },
        {
          "output_type": "stream",
          "name": "stderr",
          "text": [
            "WARNING:trafilatura.core:discarding data: None\n"
          ]
        },
        {
          "output_type": "stream",
          "name": "stdout",
          "text": [
            "Fetching content for: https://news.google.com/rss/articles/CBMiiAFBVV95cUxOdkJRT3dYX2V2YThFYUJWclViYU9LS2NwU0hwMk5vUEkzNWpYeHlDQ3VURW5yZGpsb2JIbTYtam1FYnoxejJxVkFFQ09CX19hWE05LVo5XzdaSS16UV9IT0hnVXdzVkkyNjNYeXdJeW8ydExjb1lTbS1FcTQ4dG9qdXlGeFlQYThD?oc=5\n"
          ]
        },
        {
          "output_type": "stream",
          "name": "stderr",
          "text": [
            "WARNING:trafilatura.core:discarding data: None\n"
          ]
        },
        {
          "output_type": "stream",
          "name": "stdout",
          "text": [
            "Fetching content for: https://news.google.com/rss/articles/CBMirgFBVV95cUxQSmZGTm9nRElsWHNxOTU1TWE5QzlKTUxESHJIVnlWc1J2UTF3TklpbWx2N3AwUFVCODBZWUdRRVJQS2hJWHJOUDJBc2RqM1RFYTh5QUR2WW1wR2N2ZGpWelk3Tl9NWGZXRGdhX2NPdkd3bmF6VnJGNnVYNUxJZlQxWU1ERE5FVHQ1NHlNdDdPYmwtZlRaTXRjSVdvS2FnNm5wWGY0cjlkZnEzVnAyM1E?oc=5\n"
          ]
        },
        {
          "output_type": "stream",
          "name": "stderr",
          "text": [
            "WARNING:trafilatura.core:discarding data: None\n"
          ]
        },
        {
          "output_type": "stream",
          "name": "stdout",
          "text": [
            "Fetching content for: https://news.google.com/rss/articles/CBMidEFVX3lxTE85V09hRkNxeEpURGxJcFYxWXZ4b3N0VHpYZUFCUWo4NzlQd0kzUmxMVW9ENERpanRRSG1qQ0hJb01fZTg4aV80WWwzQUw5SEQ1UTViRmUyRFFBZndDVm1FUjlqVzB5MDZpZkhzaFJzX1doWENP?oc=5\n"
          ]
        },
        {
          "output_type": "stream",
          "name": "stderr",
          "text": [
            "WARNING:trafilatura.core:discarding data: None\n"
          ]
        },
        {
          "output_type": "stream",
          "name": "stdout",
          "text": [
            "Fetching content for: https://news.google.com/rss/articles/CBMixgFBVV95cUxPZGUzcUl4REFxTkE4OEF4Z2N4amVJYXB0YUZSaG5MWEtOQnJvMmc2ZFZvclBpa3ZtODJPQ2EwUzFUVWROa01zRDlNM244akdQZzNZNU5tSm5ocVpGZklWQkJnS1BLbTEySWl6UDZPeV9WOGtDMjNsdU1ka05laTk5emotZHVCVVhHZUNoUnJZMS02eHh5TmlJTnVqZGJuVHZORXozV2xBZ0dNVzkxLWlXMy1JVWdJdFFTY0lpZXZPT2hDWHJBT1E?oc=5\n"
          ]
        },
        {
          "output_type": "stream",
          "name": "stderr",
          "text": [
            "WARNING:trafilatura.core:discarding data: None\n"
          ]
        },
        {
          "output_type": "stream",
          "name": "stdout",
          "text": [
            "Fetching content for: https://news.google.com/rss/articles/CBMirgFBVV95cUxOeVpwVF8tM05USjlvUE9Iemw2YTZ2SUVpc2JKQmtwWnBtRXFfR2RMM2RqZHRRRlpCSGloczdMVUp6b21wWl96Y2pyUHpock9QQjJzUzB6MjRhMXFHUFdONHNtdnZiX3FWcGlkVUxRUDJKX0pvVlIyX0hiSU1qRWlUOUtja0lMUmJuMW9SSFpvZDMzZWJ1Z09jeVYzdUtDZV9oM3RvdHQ2dFNLYjlYX0E?oc=5\n"
          ]
        },
        {
          "output_type": "stream",
          "name": "stderr",
          "text": [
            "WARNING:trafilatura.core:discarding data: None\n"
          ]
        },
        {
          "output_type": "stream",
          "name": "stdout",
          "text": [
            "Fetching content for: https://news.google.com/rss/articles/CBMi3gFBVV95cUxQd0p6djVZVW1nYm4ybmJJNk9ieXl1M2ZjWkNOWDMtbTFCVlBvS3lPX3NRaklkdmJNLXJfUTQzLVk0NWxPejZIMGN4alVEd0gwMUkyZklNT2xVNEpzX2MzdlFNYkNkWGp6MEd1bE1TWW5ZNm1wemVoUDhJQVhEVmtyQk9WRmpFWE9VSWdSeEZqb0JORG5PRU1DYjdEV3RxUUJkZEZ5T1d4c0lIZS1YNUZ4dUNJc0E0WXc4M0QtSDBpRlRlZUlUcFYySmUxdXEwY1B4Q0kxZXZFTjRlbldyb2c?oc=5\n"
          ]
        },
        {
          "output_type": "stream",
          "name": "stderr",
          "text": [
            "WARNING:trafilatura.core:discarding data: None\n"
          ]
        },
        {
          "output_type": "stream",
          "name": "stdout",
          "text": [
            "Fetching content for: https://news.google.com/rss/articles/CBMiswFBVV95cUxPSzNNU1R1LXhES2hacHBJYjl6WjJJVDRlZFF0bGRSR0xxd2ZZalZEeUx3ZWMxejM1WFRnMEJ1UWZDTTYtcVJqT3dJZ1ZJdWI4UFl2U2pTS0c1TjhHaUtyUVdvR0JFNlhiaTRQWlJMM1l6RVhMTERGRk1QSmtIVVVaUUhqNkYxMDlDNjR5OF9vN3R6WElGdzYyb0dudzBSSWx2RnduTzBENnBKMnBCOTdDc0hSZw?oc=5\n"
          ]
        },
        {
          "output_type": "stream",
          "name": "stderr",
          "text": [
            "WARNING:trafilatura.core:discarding data: None\n"
          ]
        },
        {
          "output_type": "stream",
          "name": "stdout",
          "text": [
            "Fetching content for: https://news.google.com/rss/articles/CBMivwFBVV95cUxQQ3dvTWlFS3M4WkZlTWt0UFY5MkVvb3UtOXcwdWhyNXBha19CMUJoeHg4cFhvd0JacW9ZVV9LeUZKdjhlSTFEakVOYlp2M0c1Z2xSLTZiN0ZrdDdnZHQ0QlFUaHl1bEpXMW9OcVllMms5SS0xQTc0TGdUekJxbVplSEhfMUk0SjVqdzZBOTQxdDQyZUYtbnJrT0U2LVhxb0RHOTd2ZFlYMHdaZ0kxZTYzcWVFZEEzbjhBYllpV19kRQ?oc=5\n"
          ]
        },
        {
          "output_type": "stream",
          "name": "stderr",
          "text": [
            "WARNING:trafilatura.core:discarding data: None\n"
          ]
        },
        {
          "output_type": "stream",
          "name": "stdout",
          "text": [
            "Fetching content for: https://news.google.com/rss/articles/CBMiqAFBVV95cUxNNUFkRzQxMThKRWpHYjJjNHpad0h5SnlCazBoZUxSOHVGVnJtbHlzY29GbDFwS2xpUVhOcGJDMENReXN3N2Z6SmNGQkpidlNQaWpjVVVyeTNWc08xUnhHYlNUaFpuZzVrdkxWZnVxanlwSkFNd3VDYW9UcGpSUE5fZENVOTlzaHNOaV9QVXNCVkc4TXlKSWFnY0lSamlEVEF6dlBhQWo0c0g?oc=5\n"
          ]
        },
        {
          "output_type": "stream",
          "name": "stderr",
          "text": [
            "WARNING:trafilatura.core:discarding data: None\n"
          ]
        },
        {
          "output_type": "stream",
          "name": "stdout",
          "text": [
            "Fetching content for: https://news.google.com/rss/articles/CBMiugFBVV95cUxQXzUzSzhWTFBXaXppRjhIVUJsZmU4WlZzSXpFakw1RnNuUndUcE5UUnptb3BpVUhZeFJneFFMRkFCcTlNTVNuUTZxVnZXbGRtWG1zc1dzeENlYlU5dWZmQlJZQ1dfRVdndWN3X25lOGNJLThMMDJlNE0wUnFNcUFnb096TlNTeFdiTGFKZEVES0lWM1Y5ZTB6SVJRdzlKbUsyTnpRSXNzci1tclQyVDdZR0djc01zaWFBWEE?oc=5\n"
          ]
        },
        {
          "output_type": "stream",
          "name": "stderr",
          "text": [
            "WARNING:trafilatura.core:discarding data: None\n"
          ]
        },
        {
          "output_type": "stream",
          "name": "stdout",
          "text": [
            "Fetching content for: https://news.google.com/rss/articles/CBMiqwFBVV95cUxPd29lVzgyblR1NWUyYnI1bnF0cTZTVGVUSG0xTXFsd3BrMG5QMk96U2hHZm9RVlZDaDBUMTZ2dm1ueTFzVDUtekR1Vktjc19WQmxHc0Z2Vlo5WXhvdjN6NExCaEc3cjg5RERrUXNfU1Ftd1F6TzVtd09vTFhOM3BNRnFkVGFrMmJ2d3p3UnowWlZYaFliTUQ0YWhGb1lLaTc4TzNQejhBc0VhV1U?oc=5\n"
          ]
        },
        {
          "output_type": "stream",
          "name": "stderr",
          "text": [
            "WARNING:trafilatura.core:discarding data: None\n"
          ]
        },
        {
          "output_type": "stream",
          "name": "stdout",
          "text": [
            "Fetching content for: https://news.google.com/rss/articles/CBMilgFBVV95cUxOa2NadU5RZExVTnFSVUpta3lNMFJRZV93cVVGS0l1MGNnaVpCem82TnFleTJ5Y3A0cXVXVjRsemlYSm16alpXWlVjYk5hWkNBZjZPdjM3eGROOWx0SlgzMzY2SWR6WXB6V2gwVER2a2Y3VXVZMmpxcnFkZHVzbVo0RUVUbl80cmFoX3ZBcnR4dzNWcnpfWmc?oc=5\n"
          ]
        },
        {
          "output_type": "stream",
          "name": "stderr",
          "text": [
            "WARNING:trafilatura.core:discarding data: None\n"
          ]
        },
        {
          "output_type": "stream",
          "name": "stdout",
          "text": [
            "Fetching content for: https://news.google.com/rss/articles/CBMitAFBVV95cUxOeC1HUXFUeC15My0wSlBXWm54Rzc3dTVOMVpLcFhQY2p6UFhfaUQycF9DYTVYaTJLcFEtQ0dEa1FyNk9KUV9SQlZ1SHYxZ2JoZjdZSmtJV2hSZTJJZXphZWk3LWVseE92SGJNd1pIUFFpNW0tT09VZm82ZURBUGlQVEFkQXp5OWkwcFhmaEp0akZ2ZTNaUmtQVjVoNGZUM2VDdUk3ZV9sTUZRQzRRdm9RUDB3UHQ?oc=5\n"
          ]
        },
        {
          "output_type": "stream",
          "name": "stderr",
          "text": [
            "WARNING:trafilatura.core:discarding data: None\n"
          ]
        },
        {
          "output_type": "stream",
          "name": "stdout",
          "text": [
            "Fetching content for: https://news.google.com/rss/articles/CBMie0FVX3lxTE1OTTRrQTk4am1FanV2QVdLb0RjTnV5OUZ5X1VZbTdkYVFWckVFbjh5Vk9ZeV90dXRteGZFMG9leDAtYTZ5RnpiN0YtN2lON3pURHgxblNYTzhKY2dhWUpRSXc4cUh0dzJELUdIb2RyZWxmZGdSLWFWQVZJaw?oc=5\n"
          ]
        },
        {
          "output_type": "stream",
          "name": "stderr",
          "text": [
            "WARNING:trafilatura.core:discarding data: None\n"
          ]
        },
        {
          "output_type": "stream",
          "name": "stdout",
          "text": [
            "Fetching content for: https://news.google.com/rss/articles/CBMiqgFBVV95cUxPTjUwSkM1MGpjWXpxaHpKZnN3a0FSVEZjT2JKZFZtNHFYN2w0Mkd4TzR3TEpyYVNhem5iMlRpYU5KeW5YX3UtZjZvdnU2Q0VIcTlCUDFzRGg5RmpBMXFOVzNnTl9rYjhoQjhzWmRYMHZrbGJ1QTA0VmFSUGY4ejhJbXBDMUxuWk5BdlNCbDFIZ3lWMUdzR3hLemt3cU1kOWtxS1NDTmgwNDlOZw?oc=5\n"
          ]
        },
        {
          "output_type": "stream",
          "name": "stderr",
          "text": [
            "WARNING:trafilatura.core:discarding data: None\n"
          ]
        },
        {
          "output_type": "stream",
          "name": "stdout",
          "text": [
            "Fetching content for: https://news.google.com/rss/articles/CBMipgFBVV95cUxPVXk3dDVlN3oxTXA3MWI0aHlWMGF0Nm9Jd3otNUN5ZWRFckxzODdGU05WSGM5ZnpVOEVaMUhxLUFlNWhNWTJaMl80RGJqdWp4cmdYNVRLTVFmdi1KRlhIbnhDM0RheEoxVlo3VVk1UnVsdGVsbGV1T1hadzFia0hBYlloR3BjTkJwSmMyWUlsMl9jcmNyb0pPNG5FOGNjZXdSaGxNSzR3?oc=5\n"
          ]
        },
        {
          "output_type": "stream",
          "name": "stderr",
          "text": [
            "WARNING:trafilatura.core:discarding data: None\n"
          ]
        },
        {
          "output_type": "stream",
          "name": "stdout",
          "text": [
            "Fetching content for: https://news.google.com/rss/articles/CBMi4wFBVV95cUxQSjZyVE5faDRhWlhBZUl6WTJGdFEwdVlQUXRUZHY2eHV3OFRScmg3LU1YemdWcDdfMncxNER2dWQwVm0zY2pxTllnY0xLeUlqZG5DNndaSWVKZzRCckh5VFRMLXA2dkR2OXkwQ1NuZVRzWjF4eVhBb1NOSEZJNkFIeUw1Uk9iV3JHNk56ampzT2pkbGhGQXMzcndHZ0xlcko1ZzlLVUpQQVRqSzYxVDRWSU1CQ181VUQ4bDNOVGVkTDNaX0JRaUk0VVlaT0lfcUVxU0ZTZmpjYzFtWE0xR3F2SXl0Zw?oc=5\n"
          ]
        },
        {
          "output_type": "stream",
          "name": "stderr",
          "text": [
            "WARNING:trafilatura.core:discarding data: None\n"
          ]
        },
        {
          "output_type": "stream",
          "name": "stdout",
          "text": [
            "Fetching content for: https://news.google.com/rss/articles/CBMi2AFBVV95cUxPZFMzNjdualNBaDBQOUI4Mno5RHU1RWNDa3Nlb1lLdzdkVzhxUGVIdUtydjFLLVlnT3oxVXA4NFk5Rm5DU2RUd2ZmSWxpcVRwaE50cWF5Rm56WGtLel9ZRzlUOGRFb3V1MkcxQ3o0aC13MFRLbVFGMW5jb0QzQ0xrTHQ3elVkRXZTMXBrWS1LQnJGbk1fb1ppTjFGUG1ESUwwekZac0NSVEdQMWN5c2xUZ0tyLXJGZm1EYVNSTjN3dWQ0eUtmYkFsTzh3VGRYaEhvdUZyR1VDNVc?oc=5\n"
          ]
        },
        {
          "output_type": "stream",
          "name": "stderr",
          "text": [
            "WARNING:trafilatura.core:discarding data: None\n"
          ]
        },
        {
          "output_type": "stream",
          "name": "stdout",
          "text": [
            "Fetching content for: https://news.google.com/rss/articles/CBMipAFBVV95cUxQa01jOGtpRHhMM3N6M29FeXljeVljLUI3YU1DMjBheW1Za0ZmYXpDNUUxT0lzNVV6dmlDbXlacFFCQkJNWXZkeUo3c0ptOC1hVWw0Q0NuTWFDbmFjYVBMckZ2cHVGbHZESWI4NmtlSUluQWhQbVc3OTdKU3NsRFF6MDFhaHRleGJ4SmFVYU1ybUJ4aE1qeG1HdWF4a0VYRnZFSzVDYw?oc=5\n"
          ]
        },
        {
          "output_type": "stream",
          "name": "stderr",
          "text": [
            "WARNING:trafilatura.core:discarding data: None\n"
          ]
        },
        {
          "output_type": "stream",
          "name": "stdout",
          "text": [
            "Fetching content for: https://news.google.com/rss/articles/CBMimgFBVV95cUxNek1sNjNhWWlhNDQxakdNdDF0LWRxNWdxTHRlWlg3UHJYUzJYSHRpSGpiVHdhZWhCWEpsNWg1SjlNWVZOaGwzblRmdFVFbjFvdGkxdUZfSXNpQjNnLTQxSElxT1BDcXhnNHVUbVd2QTdUcEotSWhhdnBNdlZxQ0poSHFnYUZZRmRDeWVkU2dwTkU0T042UG9uUFRB?oc=5\n"
          ]
        },
        {
          "output_type": "stream",
          "name": "stderr",
          "text": [
            "WARNING:trafilatura.core:discarding data: None\n"
          ]
        },
        {
          "output_type": "stream",
          "name": "stdout",
          "text": [
            "Fetching content for: https://news.google.com/rss/articles/CBMid0FVX3lxTE13WnBHVWoteTJSdFhiQzdzZzR2cDRGSmdvNWotNXQxZFJwaXJMQTFjLTVpVnN5aUg2SE1SbVFPejlvQnhkeGh6Vmg5WXc0Vy1LZldZU24ydm1CZWRhZEdMNmpMT2ZWaDZiOVhzZ1BVZWFieTlVYlBN?oc=5\n"
          ]
        },
        {
          "output_type": "stream",
          "name": "stderr",
          "text": [
            "WARNING:trafilatura.core:discarding data: None\n"
          ]
        },
        {
          "output_type": "stream",
          "name": "stdout",
          "text": [
            "Fetching content for: https://news.google.com/rss/articles/CBMif0FVX3lxTFA2ZWUtLXg1U0U3SzFSZGJaRjdaMFRtd0JtUE1HcFRBSDVadHR2cFFaSk1EenExUHpOQkxSQ0FxNGhMX2kyYWNMUjZOQVdxWUhLQXUtbU55dkR0dnllMkdtWGJZX2R6THJCWGx2RWRKTU9YYnJkVGU3TUxzNkFpcTQ?oc=5\n"
          ]
        },
        {
          "output_type": "stream",
          "name": "stderr",
          "text": [
            "WARNING:trafilatura.core:discarding data: None\n"
          ]
        },
        {
          "output_type": "stream",
          "name": "stdout",
          "text": [
            "Fetching content for: https://news.google.com/rss/articles/CBMiswFBVV95cUxNUGhXbUQyWUFUWE9CZGEwbFc4RWZpQnI2V1hHQ2hiMkpZSmpxSU01UWdiZ2J5dm1KVjgtMkRUaVF5OGxhRzFlNjZTQlRXT2pJeHk4S0FvTFkwcmFOc3ZzbHB1dzc0REtxX1B4Q3lGTjJuY2pMYkcyWmRQbmRzT0xiaUFhcktKSVBVdkJpbXFTeE41ck9xT3ktZXJjVzY0OGZfLVZPTlBoNDlLYkFMLUh5bThKWQ?oc=5\n"
          ]
        },
        {
          "output_type": "stream",
          "name": "stderr",
          "text": [
            "WARNING:trafilatura.core:discarding data: None\n"
          ]
        },
        {
          "output_type": "stream",
          "name": "stdout",
          "text": [
            "Fetching content for: https://news.google.com/rss/articles/CBMisgFBVV95cUxPVm5WODkwTFhhN0pVb0lrelB0MzczVWNLYWxZeEVNLUdIeUgzWGpab3V6cldKZXdYQ2JZU0hwQm5iVHdFc3YtX3BsZTRlS0dvMWIxMHBNeGFWSDFqRXZNeGpzVENNcUh3cnVZcUpWOXNJZF9CSldxR0FpWDg2STUySXBsQjlXUWlKM0dFZlNkLW12cnNDTUJDMDZfUGszaGVMTFVFcGs5TUU5dFRtZk1hNkt3?oc=5\n"
          ]
        },
        {
          "output_type": "stream",
          "name": "stderr",
          "text": [
            "WARNING:trafilatura.core:discarding data: None\n"
          ]
        },
        {
          "output_type": "stream",
          "name": "stdout",
          "text": [
            "Fetching content for: https://news.google.com/rss/articles/CBMipAFBVV95cUxQX0xmTjQxSkVWeEtSSDlrcHhnNkVOcHRLaE9UT09GankyS28wRFlWdWdvN2s4UmtublhfN3o1WXpsbTFmb1VMUlJhTGtVb2xBaUxRazVjVktCWHozSEcyTjJOUUV0RWhXT3RaV243ejlIMkdsUXVzMElCQnZuQnpCelg3WDZGSnR0bzFDdXZEU2VySmZiU2JWN3BFaTJsSDNxb2EtZA?oc=5\n"
          ]
        },
        {
          "output_type": "stream",
          "name": "stderr",
          "text": [
            "WARNING:trafilatura.core:discarding data: None\n"
          ]
        },
        {
          "output_type": "stream",
          "name": "stdout",
          "text": [
            "Fetching content for: https://news.google.com/rss/articles/CBMiuwFBVV95cUxPOEQ3emdzcDJYcDE5RkhLcW5fSjhoenZVazM0WVRoY19qYkxIS21sN3phRnFjSGNWSlY2R1BQMno5aVZzQm5YaU1PamxORzNjZkRxbk5DS2FIbV9JN1Qxa1lBYXRxMUlSU0o3dlN6MlM2ekRBUDNsYlNnX2psVmx6eDQxNi1acjB3Wngzb1RVUVg4ZWt1VzB5My05RUpfcFAtRmlwalltMGI4N0w3UFFUYmRibWN4a3FPTmdR?oc=5\n"
          ]
        },
        {
          "output_type": "stream",
          "name": "stderr",
          "text": [
            "WARNING:trafilatura.core:discarding data: None\n"
          ]
        },
        {
          "output_type": "stream",
          "name": "stdout",
          "text": [
            "Fetching content for: https://news.google.com/rss/articles/CBMizgFBVV95cUxPOWhkelJIOFV5a1NLTWxsOEZXRnUxYVQyRlQ0dGJQWVNUNWIxZHZDYXUzYW1ZanA0bjNwUjdzQWloR2I5cEJlUmhHSzRZSWZ5WVZEVjVCeFBOSjZmNmNsTXg0YVZxR0p2cFVmWlBLXzNfZXZ6Wk16MlllbTdtZ2h3QWo5Q1NvejFvTHZ3NXVrOGQxUVMyQXI4aGNWanlXTVUyZnNHUGFsNnFVM1k3OXJVN3BVdl9qRXB6V0d2TkV5S3R0aFN2ZXVTVlA2M2ZtQQ?oc=5\n"
          ]
        },
        {
          "output_type": "stream",
          "name": "stderr",
          "text": [
            "WARNING:trafilatura.core:discarding data: None\n"
          ]
        },
        {
          "output_type": "stream",
          "name": "stdout",
          "text": [
            "Fetching content for: https://news.google.com/rss/articles/CBMisgFBVV95cUxOSjhyZjh1RkdpYncxZmpjUm53alhua0NBWVgxbURhbnQ3Yld6YlhVU1pZclhmb1Nmc0QyS2tVemNoejFibU4zaHZ0VkZzd29KeTJtcF9vU0QwUFgwUEJkeHZseHZIOElRR0tIazB6eHhDaUpCNHBNSVZfdl9TR2dCRGVzVW1NOTNPblNLRzdrY2paR25tWUJTSGt0TXpYVzVmLXBnLWNVU2JIVndHcDZHcWl3?oc=5\n"
          ]
        },
        {
          "output_type": "stream",
          "name": "stderr",
          "text": [
            "WARNING:trafilatura.core:discarding data: None\n"
          ]
        },
        {
          "output_type": "stream",
          "name": "stdout",
          "text": [
            "Fetching content for: https://news.google.com/rss/articles/CBMiXkFVX3lxTE00eXUwaWxmLXNRNGdEbkFwbnlDemU4dnJrNlFnUXFhN1U0eTRLSFFnOHhyM1dwdVlrS3pja1V5bFhsNDRBcjlOdXpBdmYwOFgxY3ZpU1VReE5JVVhIUEE?oc=5\n"
          ]
        },
        {
          "output_type": "stream",
          "name": "stderr",
          "text": [
            "WARNING:trafilatura.core:discarding data: None\n"
          ]
        },
        {
          "output_type": "stream",
          "name": "stdout",
          "text": [
            "Fetching content for: https://news.google.com/rss/articles/CBMilgFBVV95cUxNb1BzUUtDLTk5RWhEaFBnUEwzZ2ZnZEZuaHVqTkNKQVBva2NvQWtEa3RXYmo4aUhnbGY3NFE4NG1ScHpnYXZOM2ZPcHpkSTdYN3dfUFNzR0UxQnVpd0dxVjZ5QjctdEZocURDV2pWNWlmQTlzeHZ2emZCUTUzLURzXzJMR0s2SFVOQ2Q0WWZhTXF0dWYxMHc?oc=5\n"
          ]
        },
        {
          "output_type": "stream",
          "name": "stderr",
          "text": [
            "WARNING:trafilatura.core:discarding data: None\n"
          ]
        },
        {
          "output_type": "stream",
          "name": "stdout",
          "text": [
            "Fetching content for: https://news.google.com/rss/articles/CBMihgFBVV95cUxPd21wYnRsYXo0eV9lMEdUNkxlQmhjbzZjMnhfdFdtcEwtMW9URDltR0FEQ0ZPUDBiQnk3X1kzZzVlY3dwRm1TZEM2UjBuR2xYVV83VFNvVE5jTjdDWnItX1YzUzRfM2FTVDBYOFppOVl6WWd3S2JwYjN0TWxnYlBtWTd0d0NSdw?oc=5\n"
          ]
        },
        {
          "output_type": "stream",
          "name": "stderr",
          "text": [
            "WARNING:trafilatura.core:discarding data: None\n"
          ]
        },
        {
          "output_type": "stream",
          "name": "stdout",
          "text": [
            "Fetching content for: https://news.google.com/rss/articles/CBMivwFBVV95cUxOUUFISTlOdDN1LVRvSVByMlJFeU9KUE1HYkdlQlFIZzR2S2RiU2FhbUxKdDhNeFdlMlo5cjRleXU2QVYzRDcxSERCa0QtbldYd2l4ekVTWklSdXVlZWxPWFJnYVNfMWV3cXowMDN3ZHVMNDdQTk9qRDBzRXlhb0JEREVyaHhqdHNNa1ZZZjR6TDd5enh6MjNQVE5RazBINXpXWWlsVlNMVE5MaHBYWk1Na0NPaGZyUldNMXJsOWdRZw?oc=5\n"
          ]
        },
        {
          "output_type": "stream",
          "name": "stderr",
          "text": [
            "WARNING:trafilatura.core:discarding data: None\n"
          ]
        },
        {
          "output_type": "stream",
          "name": "stdout",
          "text": [
            "Fetching content for: https://news.google.com/rss/articles/CBMisAFBVV95cUxObUh0aG9WcjJZZmZPM1dwaFNSU3Q0RmFqMkFBSjZpR1FWWGk4cHltLWxBczhsbl91RHY3WC1nb2ZEbzVTM28wOWNFb2xhaWZ6Y1RrSmxYSzAwVnJOV3RNS0JrOFN2eTg2MzFPNE5FdkdLMmJyM3ZHWkpfVWNaem5ZRFNxNV96Tm4wTk53U28yc2ZsbGc3LWh0NlNRbXJHQXpncC1FaldUdl9kLWlZMXNobw?oc=5\n"
          ]
        },
        {
          "output_type": "stream",
          "name": "stderr",
          "text": [
            "WARNING:trafilatura.core:discarding data: None\n"
          ]
        },
        {
          "output_type": "stream",
          "name": "stdout",
          "text": [
            "Fetching content for: https://news.google.com/rss/articles/CBMiY0FVX3lxTFA5VDhnTVRNM25BdzNJb1lnTzFERGM3RWgxZHFMbHBRSklRdVRRNHFhWlFFUU5rNjE0UllENnppX2lnVFVLazRzTUJ6dzRYM00xQXJuQU9IZ1lZYkdLeDhfVjNWMA?oc=5\n"
          ]
        },
        {
          "output_type": "stream",
          "name": "stderr",
          "text": [
            "WARNING:trafilatura.core:discarding data: None\n"
          ]
        },
        {
          "output_type": "stream",
          "name": "stdout",
          "text": [
            "Fetching content for: https://news.google.com/rss/articles/CBMimwFBVV95cUxOSlUyNkpoQXQybE4xWHhIdGFlRmZ6YXg0el96R0N4VEdWX1FXWExWOHdwOTRVNzJXSzFydlN6WXQxTnA0c2x2bnhLRkVMNHdYbm52eEdJbWtmbndKOGtYei00MWN6NHM2RDhhREdBVXhNU1cwX1N1V040MTkzZVZlS1Q3ZUVncC10VzFBVG5pZU9ZWG5ITTdoWG1Bbw?oc=5\n"
          ]
        },
        {
          "output_type": "stream",
          "name": "stderr",
          "text": [
            "WARNING:trafilatura.core:discarding data: None\n"
          ]
        },
        {
          "output_type": "stream",
          "name": "stdout",
          "text": [
            "Fetching content for: https://news.google.com/rss/articles/CBMieEFVX3lxTE1fcmxhejFLTTRKV24ydUZJOUhHVDRja3JHUHdzbkFmWjhnTUhnc1pYLVJzc295eS0xcmFoazBNbzBodGsxWk1heVJhaFpmakppZUhuNDJpSWRSOTR6RzZ6dVFyZEhBai1Zc29lYWhhLVRCLWdlZ3FGVQ?oc=5\n"
          ]
        },
        {
          "output_type": "stream",
          "name": "stderr",
          "text": [
            "WARNING:trafilatura.core:discarding data: None\n"
          ]
        },
        {
          "output_type": "stream",
          "name": "stdout",
          "text": [
            "Fetching content for: https://news.google.com/rss/articles/CBMilgFBVV95cUxOMWZPRHhLUHlhQlg5TFd4dks3YUF2Y1hseERIalRqZjFxTkdQeHg1RmY4NkFobE9nRm10dzdWNlVxM2VCV3pjMmlWc3lsRmtOWS1uNUJsdEpZekp0NFFPRUFsXzVtdWNtMHFJRGJ1X2IzcHl3NkhOZk1lOWl4MXZ4VlJjb3ltei1FczQ0ZVBwVEM2SVhfR1E?oc=5\n"
          ]
        },
        {
          "output_type": "stream",
          "name": "stderr",
          "text": [
            "WARNING:trafilatura.core:discarding data: None\n"
          ]
        },
        {
          "output_type": "stream",
          "name": "stdout",
          "text": [
            "Fetching content for: https://news.google.com/rss/articles/CBMiugFBVV95cUxPQUVuSGVyaUhRMUJZM3NIMEtkc0cyZWNrUjNid2RMaHN1TDdjQk96VmU1NW9xQ1pJdy1admJsMlZzQ0tvVGhMdmZoS0pKOG53cFg0TU9aSTNXdmk5TjZUVGgtZ2lzQzM5V1RXNl93U0N5ZkNJb2Zaa1ZWdU9XOGlMMGtmMkY0Y2RCQjVqZzVLMkQ0X0ZhTmVWN05ON1pPWGVtcnNRV01LekpydXN6bUNUYl9xOGxiWEY3R1E?oc=5\n"
          ]
        },
        {
          "output_type": "stream",
          "name": "stderr",
          "text": [
            "WARNING:trafilatura.core:discarding data: None\n"
          ]
        },
        {
          "output_type": "stream",
          "name": "stdout",
          "text": [
            "Fetching content for: https://news.google.com/rss/articles/CBMia0FVX3lxTE5ZNDk1ZlAzUEctRXoxYW4zWjlqVHhtYlBuQm1kdDFTRGc0M2hjREtUV1lURFBvUUdtWUlhNi1heW1mNVRlVnR0OGVuNlVUajM5TXh0Q0hVU0RrN0RwdnBpVS1vZzl4Rng2VGFz?oc=5\n"
          ]
        },
        {
          "output_type": "stream",
          "name": "stderr",
          "text": [
            "WARNING:trafilatura.core:discarding data: None\n"
          ]
        },
        {
          "output_type": "stream",
          "name": "stdout",
          "text": [
            "Fetching content for: https://news.google.com/rss/articles/CBMic0FVX3lxTE54RnNOMTZQRVhQMm4zb3FVdzR0S2Z0Tks3Q0V3akthRUIydzVvcG9mUFVwcjhjMXhmYnRoUVk3cjhnU1NVNnlqSE40TGJmbzJ4RURfT2tReUxTS2lmZHhXZUZXZ0czUmZDZ1JOUERCbTRfQms?oc=5\n"
          ]
        },
        {
          "output_type": "stream",
          "name": "stderr",
          "text": [
            "WARNING:trafilatura.core:discarding data: None\n"
          ]
        },
        {
          "output_type": "stream",
          "name": "stdout",
          "text": [
            "Fetching content for: https://news.google.com/rss/articles/CBMiowFBVV95cUxOVHgtZzJIdVd3ek5Zb1hEZ1R2YnJkNG1HX2tmbWQ1d2VSVGNJZHdwRU1HdWM2TEFnWjRUV1FDcjBPWW5qZFJ5OFVOZFhMaDR6TGVHS0RCa0JnNkN5VjNjSzdxR2c2aWREdF9fODFZd1hIdVE2UXNlSGhLUXM0bTVPWE9UU0dDcllTeFhOMXBhVHRqcEYtUjdiV3BxTU12Ym1fQ2dv?oc=5\n"
          ]
        },
        {
          "output_type": "stream",
          "name": "stderr",
          "text": [
            "WARNING:trafilatura.core:discarding data: None\n"
          ]
        },
        {
          "output_type": "stream",
          "name": "stdout",
          "text": [
            "Fetching content for: https://news.google.com/rss/articles/CBMihAFBVV95cUxOQXJLek9GUTJVUmYxSVNEanV2c19DNlgyVG9FQmcydFVnaFZXNHlpSTdGTEIzTVVpckM4aHQ5eHhBU3RaQWpSSEpOWkx6amNnMGpLeC1OdktZWVVjeF9hV0hTM01EZG4xWmJvejVvRDgxaWtfekhiUGdrT0dnR2kyQ2lydUs?oc=5\n"
          ]
        },
        {
          "output_type": "stream",
          "name": "stderr",
          "text": [
            "WARNING:trafilatura.core:discarding data: None\n"
          ]
        },
        {
          "output_type": "stream",
          "name": "stdout",
          "text": [
            "Fetching content for: https://news.google.com/rss/articles/CBMi1wFBVV95cUxNZDNHaHIwOHl4YVB3RkFKTWNlVUdPLWtHTjBSZ0VDeWcxTlBjMkpBRFhJVUhGbWRrT1g0ZlB3eVVvRnZyUnZFZjYzU2FnU3FqMjU3VXBJbDgzMVl0NGlJU0tuTnFtWDdaUmxvTzZfMnNYaHZOTUc1VzVzQzFIYkRJbVRYOUdnR09yZVM2Y3hKLUFhYnRvXzZ3Vlc1OVlYU0U2QU1ySzVFbkhtTWdSYTE5dWluOUJJc1d6UFNXWjBNdmFrdzZhaFNEcGpYaGllMW9iTDhIV0FURQ?oc=5\n"
          ]
        },
        {
          "output_type": "stream",
          "name": "stderr",
          "text": [
            "WARNING:trafilatura.core:discarding data: None\n"
          ]
        },
        {
          "output_type": "stream",
          "name": "stdout",
          "text": [
            "Fetching content for: https://news.google.com/rss/articles/CBMimAFBVV95cUxPUy00X00wM3UzaWo5emJsY293QUFYYnB2VGx0NkpaS2g3bmdEeGhyWF9WZWFjeVEteVhUVENVWjdBdEg0MEpSbmdzbkRGaGRjbjNFOEVZa2l3ZDVzYkxDQlA0cW84TFFHdnN3RmdNY2RmckozN3N0WlFWWTAxS1pKSFdFZ3FQajJyR3R3UVpoUGVZLTZXUUNibw?oc=5\n"
          ]
        },
        {
          "output_type": "stream",
          "name": "stderr",
          "text": [
            "WARNING:trafilatura.core:discarding data: None\n"
          ]
        },
        {
          "output_type": "stream",
          "name": "stdout",
          "text": [
            "Fetching content for: https://news.google.com/rss/articles/CBMipAFBVV95cUxPR3lCYmplYXVMSXpxN3Brekk2ZHZRNEdNM0EyUlZpLS1PUjEydmUtX2FuRXphUlhmaV9EZWlhYmQyV0J6SHRfaGZQZWpHaklkU1lsMFVEajg2Xzd5cHV4Q29qa29hUGhwemw5ZlBfRTl3bmxsaFl1TlRremVOc2FVZzFsN2ZSaVpLZV9GSHpwX2dVazgzbGRRb3IyODRsX0xkSkZIVg?oc=5\n"
          ]
        },
        {
          "output_type": "stream",
          "name": "stderr",
          "text": [
            "WARNING:trafilatura.core:discarding data: None\n"
          ]
        },
        {
          "output_type": "stream",
          "name": "stdout",
          "text": [
            "Fetching content for: https://news.google.com/rss/articles/CBMioAFBVV95cUxNQ2U1VWRFaFNqaVRYWElpWHdYeHFkUjVXbjhsbFlXR2tWMWFMcUZxQS1YcVpXOV92Y2tMX05PNUJybE5Pd3FMRVU4UlF5WjFTcmk4aVNoVmZNM0pjRHJpUm1STDlNei1mZmZyVGp4TXZSWDBWYkdCTGlCMFVheUR3R2ptN2J3aHFQNldSNkVwYmlNTUJHXzNqZDdIOC1zdmFS?oc=5\n"
          ]
        },
        {
          "output_type": "stream",
          "name": "stderr",
          "text": [
            "WARNING:trafilatura.core:discarding data: None\n"
          ]
        },
        {
          "output_type": "stream",
          "name": "stdout",
          "text": [
            "Fetching content for: https://news.google.com/rss/articles/CBMieEFVX3lxTE84Vnd2OVNkeXRhNG81ekZDWmZFMlhqRGdjeGxhQWlzMXhGUm85SE1QNm1MUHBDNGR5UHpjUy1nZVllc1BId25vUmtPVVVoVVMtU3VGTVFWNF93Q1N0eWlRLUVCNGJpbmxzWTVES0treGtJcjdYdkswZQ?oc=5\n"
          ]
        },
        {
          "output_type": "stream",
          "name": "stderr",
          "text": [
            "WARNING:trafilatura.core:discarding data: None\n"
          ]
        },
        {
          "output_type": "stream",
          "name": "stdout",
          "text": [
            "Fetching content for: https://news.google.com/rss/articles/CBMizAFBVV95cUxOTVZycHVMNEZKa2t4LXZaU2Fvc2N2SmMzanpsbXdWcEFuRWZYTUxRYkkxWERzaUxON3U1SV9MTUpfT1pwMmNfOC1KWEgwSTl1emtCRkpqekxXR2hjWk44UTNEak9NUHE3THY4UFN2UldBbERvME1ycEtIRFozd2dGQW5xWUJzRGtvNHlJc2xPVjNwckJSTzV1NmlVVm4yZkFuS2l4OFV5S29DRzZlUHZpVG5ld0VVTTQxS1JFZmd5VXdiTTBTa1VtSDByX2c?oc=5\n"
          ]
        },
        {
          "output_type": "stream",
          "name": "stderr",
          "text": [
            "WARNING:trafilatura.core:discarding data: None\n"
          ]
        },
        {
          "output_type": "stream",
          "name": "stdout",
          "text": [
            "Fetching content for: https://news.google.com/rss/articles/CBMifkFVX3lxTE5WVlgycDRIOFNWVENHTTBzUXpjMU5QMlZHQ09lWmNwNmVhdkNrVlAzdXZ6bVlCQ1hSMGROcEZyT0FibHdJSHpsTk9HSEhoV19ES1NGOFdtMFVhUDZQSmp3cEhzekxUZi1vSFpabjV0bENvaGwtZXBsbWFJLUxkdw?oc=5\n"
          ]
        },
        {
          "output_type": "stream",
          "name": "stderr",
          "text": [
            "WARNING:trafilatura.core:discarding data: None\n"
          ]
        },
        {
          "output_type": "stream",
          "name": "stdout",
          "text": [
            "Fetching content for: https://news.google.com/rss/articles/CBMiugFBVV95cUxQVjhEemdOcGZqa1JEenluNzd1dV9BN0k0ZXBwdU84OHZlNy05ZUVoaDVYMU5QZDJIdUF5V2NuNmthdUZlbXlBVUJfSVdmYk1BMmdVSXFvRWZjdUhKX0s4RWNWY2FCV3dmSFZnV25RWXI4SVJKSGJRS2VaX29fRDZrUXlLdndaOEo0WllQdmUyWDhNQjlteFQ4T0s4aXJNRFVYN0N0SFRrd2VoUFprTElpYkNHYjJkMTdyRHc?oc=5\n"
          ]
        },
        {
          "output_type": "stream",
          "name": "stderr",
          "text": [
            "WARNING:trafilatura.core:discarding data: None\n"
          ]
        },
        {
          "output_type": "stream",
          "name": "stdout",
          "text": [
            "Fetching content for: https://news.google.com/rss/articles/CBMifEFVX3lxTE5vNzhBbkZRMlA4c2x6LU5Ddml5OWN4Tklta3k3MnhlRkdRYWlIaDNlYkU1RW8wLVlGQmFWTUREUnpQM0M2dmJQQnh5UzRxSi03S3VfREFjZEo1X2xUMWpEc2hzWkZ6MVNjR1JKa3pTdVNsSTk2VlZLa3dfUGc?oc=5\n"
          ]
        },
        {
          "output_type": "stream",
          "name": "stderr",
          "text": [
            "WARNING:trafilatura.core:discarding data: None\n"
          ]
        },
        {
          "output_type": "stream",
          "name": "stdout",
          "text": [
            "Fetching content for: https://news.google.com/rss/articles/CBMitwFBVV95cUxQUE1mdXB5MFppX2pVMUJjZFJJd3gyWmFzY1YtOWtLblc2MGdZajRLUVhab3ZvWWtvUFJZQnpMT0hQNTF2bGJKa0lKZkV3Uk1zT0VaLTBYSVVQMHhhbmpla0RxMnlmeEZRWkhWWGpFY3BpanZUWFE0Z2RzejZBSUQwQ0I3ZEF3bEt4bGI1TmhWeDdZcmQyQnRNWVFEMl9LclQ0WklzTnZ6MzhlRWhuUnByNjZkVVV2X28?oc=5\n"
          ]
        },
        {
          "output_type": "stream",
          "name": "stderr",
          "text": [
            "WARNING:trafilatura.core:discarding data: None\n"
          ]
        },
        {
          "output_type": "stream",
          "name": "stdout",
          "text": [
            "Fetching content for: https://news.google.com/rss/articles/CBMibkFVX3lxTFBBS0swV2tFdEpmcl8zSWZDaWJBbTVKbS1YUV8zQUV4a0FGank2bFpwYjJlcTJUQXl0ZzVoQjhkUl9SVUtoeG5uSThzcVg3VXhRQ1JOeF9tSjZIemJEOC1hRFEtOHhGdkVpT1NWU253?oc=5\n"
          ]
        },
        {
          "output_type": "stream",
          "name": "stderr",
          "text": [
            "WARNING:trafilatura.core:discarding data: None\n"
          ]
        },
        {
          "output_type": "stream",
          "name": "stdout",
          "text": [
            "Fetching content for: https://news.google.com/rss/articles/CBMirAFBVV95cUxQd3RiZVMtMy1GS00xUVcyOUZKV1R1VHV2cWEtcWxHRnBSU2FaREV4aVNGaVBBeW9UOUhPci1JWkRlbFdEcHdjRXBReU43RTZqeUQ1eGRmbnFfY0dSTmVROXlZc3RGaGdVSWRsTzNzRUR2WlZJMHphQzNfWHJNTjZubTgzV1dwLWlJX2k5YzhLTnpJUWRxbXM0d3RZcUxLN1hlTHVlZTlkWGFYMkR5?oc=5\n"
          ]
        },
        {
          "output_type": "stream",
          "name": "stderr",
          "text": [
            "WARNING:trafilatura.core:discarding data: None\n"
          ]
        },
        {
          "output_type": "stream",
          "name": "stdout",
          "text": [
            "Fetching content for: https://news.google.com/rss/articles/CBMid0FVX3lxTE1HNzFuV3ZmU0QwdUtDNlBZdUh6Z2ZjY2J2Xy1jaC1MSzlQWWhINm5nTmJmQUlNTm1XWU15WFVnQnFxLW5iWHhENHhQSVVuQ3FMWUE0TWdQRFBrUFdEYnprbElYUno1Wi1nRi1WeEpMaEJPRE5KdG9Z?oc=5\n"
          ]
        },
        {
          "output_type": "stream",
          "name": "stderr",
          "text": [
            "WARNING:trafilatura.core:discarding data: None\n"
          ]
        },
        {
          "output_type": "stream",
          "name": "stdout",
          "text": [
            "Fetching content for: https://news.google.com/rss/articles/CBMirAFBVV95cUxNazBUMFRPODRlTnFxZ193YjE3TDRPeS12eHBWOEQ1TERNYW95bVNYWEd3bmFVb0psLXl1bDFzREUzMUVLRC0zaFpPNVowVnZxdU1PdllQZ1JRamFPV0M4eURsYlZsMGd6TUZPS3VjWVVOU2xJaEw5U0RPOVZ6YVJsU292ZnlGeDVqRFpWMTBsbXZsTkIxUjhiUjJmcHJaX2QzZXlWQ3lEb0ZOVmtG?oc=5\n"
          ]
        },
        {
          "output_type": "stream",
          "name": "stderr",
          "text": [
            "WARNING:trafilatura.core:discarding data: None\n"
          ]
        },
        {
          "output_type": "stream",
          "name": "stdout",
          "text": [
            "Fetching content for: https://news.google.com/rss/articles/CBMisgFBVV95cUxQZHJ5dUFSaHVKVDZCTjRJNExfQW41MGY4cFBLQlo3MkZOeXdoaDZfZTZydFE3U3dZVmRpeGs2WWdPV3ljMUdsZUtUbk5VS0RGblozVzR2OEF0UkJrS3RvWks5QWRxUjRZZmI4TkxsZ1MxNXFLN2I1djdobElhaU5tTjFlY21VMF9KNHp3RzlEZXBxUGFkQ19La214X25WcmRJLTlUVE55Q1RpcVUzb1VLaHlB?oc=5\n"
          ]
        },
        {
          "output_type": "stream",
          "name": "stderr",
          "text": [
            "WARNING:trafilatura.core:discarding data: None\n"
          ]
        },
        {
          "output_type": "stream",
          "name": "stdout",
          "text": [
            "Fetching content for: https://news.google.com/rss/articles/CBMipAFBVV95cUxQLWNFZ2NzYUVmUWtMRHlXYmVuYUZRZHpvalVmMWo1ZU5FRGgwb1d1eUppVnVxLW9fSmhIYkFxQm9xX3VQWGMweXJXTzJUS2FJRkg1SXlEMV9QUThPbkM5UDYyXzJkRDdocUoyQUZmMVdpQlRibDJPSzYxakJabjFjbnY3bV9DbmVYWFRGR1ZTMEoyVlRJbUE2dk5xSUJjVENRcFhLMw?oc=5\n"
          ]
        },
        {
          "output_type": "stream",
          "name": "stderr",
          "text": [
            "WARNING:trafilatura.core:discarding data: None\n"
          ]
        },
        {
          "output_type": "stream",
          "name": "stdout",
          "text": [
            "Fetching content for: https://news.google.com/rss/articles/CBMiQ0FVX3lxTE1WN3dlZ1EyOWlaTWROTkJrVnVMc0Z5dUxsUnNaRDhELVZWY1BNdklJSXdtSHZDa2Vzd1BzWURtWm5BQXc?oc=5\n"
          ]
        },
        {
          "output_type": "stream",
          "name": "stderr",
          "text": [
            "WARNING:trafilatura.core:discarding data: None\n"
          ]
        },
        {
          "output_type": "stream",
          "name": "stdout",
          "text": [
            "Fetching content for: https://news.google.com/rss/articles/CBMisAFBVV95cUxOa0xsaDFfb1BjTGJ5S2g3aTY3SlVFY0hqRGpJY25Zem5WV3FuLUhMVmlYaVVTWGVxdzZOc3NaUW45cmtGa3pSRXN2Mnd0VTgzRXdSSnFIVFJGbUtlXzlBMjlfeHVpcF9ZTTg2aXVSeC1seUY2TW1RRDFFU1haUXJrbmp0b0xadHg0amxwVl9DV3A5R0xLZVBnUmUwc2U0ZklvWnM5dkFPWFN0cGF3YUcwZA?oc=5\n"
          ]
        },
        {
          "output_type": "stream",
          "name": "stderr",
          "text": [
            "WARNING:trafilatura.core:discarding data: None\n"
          ]
        },
        {
          "output_type": "stream",
          "name": "stdout",
          "text": [
            "Fetching content for: https://news.google.com/rss/articles/CBMiowFBVV95cUxQOTdXLVdFUDdMNzV0cTRwUmRFcVFyMzh3TzZJdjY3Qy0ycXBfYlNjd2NMT1VWVlVqbzBMdEc5Z0VaV3I0elNQcWZieGFCLXNzd3dQNUNLdTVJb0l6dW16N3d1d0h5ajVjYXJfM2Q1S2VLUTltNS1wU29MOWxRRmk3YzkxbXV3TmFhZV81SWUxME1fbUs0T3h1czVaM1pLYmsxRFEw?oc=5\n"
          ]
        },
        {
          "output_type": "stream",
          "name": "stderr",
          "text": [
            "WARNING:trafilatura.core:discarding data: None\n"
          ]
        },
        {
          "output_type": "stream",
          "name": "stdout",
          "text": [
            "Fetching content for: https://news.google.com/rss/articles/CBMiigFBVV95cUxPOFVGTTV4enQ4T2xPOHQ0MEJoYVJEQ2F1anN5Ym9qQ29hQVlHb1dSbmQ0YjhjWm1oWHU0Uk5saTIzU0Yzb2dRRXZ6bmFmTFVqQXJDbzRXT3JYSzlGNWlOTUg3X042aDE1d0ROb2JwZXl5SjVhTUdndWtTT3hFUHZ2WjdWWWhZYmJTaHc?oc=5\n"
          ]
        },
        {
          "output_type": "stream",
          "name": "stderr",
          "text": [
            "WARNING:trafilatura.core:discarding data: None\n"
          ]
        },
        {
          "output_type": "stream",
          "name": "stdout",
          "text": [
            "Fetching content for: https://news.google.com/rss/articles/CBMikgFBVV95cUxQYm9pRVRIN09RWF8wR0hvVUNZR1FUd2NKNTdNQndDTHpWVV9rZ29LOWVaMzFlZkUyNlJ1TTBmd1ZLZXhhemFITDRyMlpKOUFoV3VLcW0tVWREaUhZUHRkTVZYaVNkZW9tRkFpeElqU3lHdFAxM1lfRHlCQ08tV0RicXB1S0ZONTFhMHFzU2FKM2hmZw?oc=5\n"
          ]
        },
        {
          "output_type": "stream",
          "name": "stderr",
          "text": [
            "WARNING:trafilatura.core:discarding data: None\n"
          ]
        },
        {
          "output_type": "stream",
          "name": "stdout",
          "text": [
            "Fetching content for: https://news.google.com/rss/articles/CBMipAFBVV95cUxNak1qWXZ1d2FYYXkyNTFfVGg4cmRSQTF1NW5NOXIxd0lBOXlZankxUEl5SGtZUzlWY1FQWlA5RU5YQVdiOGtFRHhXcjV3ZDlCcGd1bTFwREluOGx6UFVLbk91ZF96dXRidC1oV3dZQVNTeEhPVTBMSzdYUlpGR1RKTF91VW1mVmtRZDZKN0xTVXZXS3hjLUtiYXRBcWZHMXI4QlhSTA?oc=5\n"
          ]
        },
        {
          "output_type": "stream",
          "name": "stderr",
          "text": [
            "WARNING:trafilatura.core:discarding data: None\n"
          ]
        },
        {
          "output_type": "stream",
          "name": "stdout",
          "text": [
            "Fetching content for: https://news.google.com/rss/articles/CBMiwwFBVV95cUxOaDZRajhsVnFHYXVtR2V5MmtSREllaEVrYjRWZEJnZW5PbkRLX3BGaS0yY2FqMHBvZ1l1bXY5TkZORFNLUDBfb1M4ZUpCM3pTdXU1Sk5OVmxhdWNOUXpydjVNVXFERzhObF8tYjRnbTQ4RFVIdFgwX0FXNUMtdEdUdDN6TVFQb3hPX2ZqYWgwYUNUNkdVdWhybDFZczlOcml5cG8tWXpLQ2VQQVliUjZ5UnlhTllDR3Q1eU4tRTBpNDFGZ1k?oc=5\n"
          ]
        },
        {
          "output_type": "stream",
          "name": "stderr",
          "text": [
            "WARNING:trafilatura.core:discarding data: None\n"
          ]
        },
        {
          "output_type": "stream",
          "name": "stdout",
          "text": [
            "Fetching content for: https://news.google.com/rss/articles/CBMipgNBVV95cUxPUDVHZ3dnTG4wS3JpbWQzN3lzRjRKQlpkU2VWS3RzelZ5a0owbW5pUWR2Yk1qN25QdzNic0ZZXy1HdGZaUEJmM1RfektVVG1tcktzVUhNOE80OTE5WEZhYmd3cFJzX1FHMGs3R3V4VkNVYW5JUXU4UkpKZ0NqSjNSMkROU2I3X29rMHBhYzNZLXRWUGRkcVFmSGVlbWNUNWRoS0YtcmZpUjM3RWNZLTFGbkZRc21FWVJ6dVRycmU0V0xoN1NkT2JFcDB0eFRTd3NQRWJwLTZ1TmhQX3FPQUZRTTJLN2Z1a1d3bDZHYWw0Q3lBQnhjRlFmb20tTVZhN1RqUjhybV9QYXVaLVJtYkJYQkFTbFg0MHBGLXJObnRvSWtUUkg3dk9FMlBtWDlFREVBeHZSU3NVRFdVVHBVenp0TTd2cWpvWDliY09SdmxvWWxBWnpYSEcxMURRSkJkdmRiQmRjWWs2NVpScVZ2ZUJlQUVybkprcjJ3SGhEeUZMS1Qta000bjk2eG1ZQzJTcG04MzI2ZDBZQWlYRmhDd2swcmlqQnpLZw?oc=5\n"
          ]
        },
        {
          "output_type": "stream",
          "name": "stderr",
          "text": [
            "WARNING:trafilatura.core:discarding data: None\n"
          ]
        },
        {
          "output_type": "stream",
          "name": "stdout",
          "text": [
            "Fetching content for: https://news.google.com/rss/articles/CBMizwFBVV95cUxQVFRTWW5FS0dYTFQ1THNSSnlNaGtvZjFzTVZGX0RJVUJmMnJ2MGZiTGlMWHlwVmZUYzZsSThXakdoeXdkVGpzNmc2THA2ODhJVXhzSXdjV2tQV2VNUzFkTmpTdmFkLWVXZ3hObXpibG41UThRT3lPeDBreGhwNDZ3Sk5wRmdLRi1oaW5uendyX3RHdFRQYVZtOFFhYWQ2elhNbDBJaHdkS3l1VHZ0aG9jYmVHdHh0M09KTWNTczRUa081WTExSDNEWlVLY3BINEU?oc=5\n"
          ]
        },
        {
          "output_type": "stream",
          "name": "stderr",
          "text": [
            "WARNING:trafilatura.core:discarding data: None\n"
          ]
        },
        {
          "output_type": "stream",
          "name": "stdout",
          "text": [
            "Fetching content for: https://news.google.com/rss/articles/CBMiiAFBVV95cUxNRi04MXFIdHlSQTFFWW5abUEyU3pteW5vZVE0NGhodnZBZ0NpaHllOElDWUg4bFZOZDlUN3EwRGc3bDZTU1BabVBYRnAzLVhLSDdNTEluRHIweGJDVDBLZVZOOGVMZWtxaTY0YUZ1elNBb0NHLVEzN2t6QVlXRndfUGhOOXEtOWdC?oc=5\n"
          ]
        },
        {
          "output_type": "stream",
          "name": "stderr",
          "text": [
            "WARNING:trafilatura.core:discarding data: None\n"
          ]
        },
        {
          "output_type": "stream",
          "name": "stdout",
          "text": [
            "Fetching content for: https://news.google.com/rss/articles/CBMilgFBVV95cUxQVk9VYWx4Vng3NWZjODEwbTd1Q1VsTlFKbDY0Ui1ZelgzZjNkZ0hGQk9VNVh1WVU4MHNMSzJTdWUyRGJTV2YwZW92TldmdEYxTDkzanB4Q3FORUIyU0pMRFN3d0wydHlMeXFtN3JkZlhTY0lwcWljdjJiSXFsM1RyV25sQkZseVVIY05kVURrZHFLRnRyWVE?oc=5\n"
          ]
        },
        {
          "output_type": "stream",
          "name": "stderr",
          "text": [
            "WARNING:trafilatura.core:discarding data: None\n"
          ]
        },
        {
          "output_type": "stream",
          "name": "stdout",
          "text": [
            "Fetching content for: https://news.google.com/rss/articles/CBMixgFBVV95cUxOS3R2ZWFWUFNMZkpvNVlNRFN5RVBxWlUwdE9DdWtqU0Q2NGZySmpXZ3JaMFJZLTdheWVGR2FkZEkxaHgzWUhkWEdjM2lPVXFPSkRDLTMzM0xudWFpSzhuMlB4TWRKQ1J6WVQzMGRVNHZoSXc0eDhCODVhWktfU2phWkFmVmxrMEJQSWhfWk9EaTNmenk3ZExjeWZjbzRMSy04QnRZTk5RbDFERlZ5WjJBdG4tWFNlQzNfLTNJNzBzNDc5Z1dRRGc?oc=5\n"
          ]
        },
        {
          "output_type": "stream",
          "name": "stderr",
          "text": [
            "WARNING:trafilatura.core:discarding data: None\n"
          ]
        },
        {
          "output_type": "stream",
          "name": "stdout",
          "text": [
            "Fetching content for: https://news.google.com/rss/articles/CBMiggFBVV95cUxNTVZYbHZzS3VQVjFxLXotNEMybXRBb1hiclRsRWV6ZnVKSExtSTRwUVpYRTJFSEZkLUR1QU9xcGlkTzdNNUhZQVhXSC1pajdEMlpYclpEUE9kS3VPSXRYT1NudXFfY2ktZElqZm1WMFhlM0syVVdZemh0SmJxSlI5Si13?oc=5\n"
          ]
        },
        {
          "output_type": "stream",
          "name": "stderr",
          "text": [
            "WARNING:trafilatura.core:discarding data: None\n"
          ]
        },
        {
          "output_type": "stream",
          "name": "stdout",
          "text": [
            "Fetching content for: https://news.google.com/rss/articles/CBMiwAFBVV95cUxPbDBkVXN0YWlQdndCdnR3bmUtSEpXZ2tFTDFQYjE1U1BTekFuMWxscGdvVU45eG0zVm5wc3lwZWNHYkU5TmFyVFd1cjBKMDVta3EwMjl4YlNZeHh5dDhzdjJOdGc4RWd1bjhaWkRmYW5OSl9wUFZSVEpVaUFld1YxYURNUWdHQWFQVkxTemIzQXAzTllGLWlUbGw0SFl6Tnpvc3F5ay1UVkxmMU9jNnRMTWhGby1vOUJWeENkV0NlU2w?oc=5\n"
          ]
        },
        {
          "output_type": "stream",
          "name": "stderr",
          "text": [
            "WARNING:trafilatura.core:discarding data: None\n"
          ]
        },
        {
          "output_type": "stream",
          "name": "stdout",
          "text": [
            "Fetching content for: https://news.google.com/rss/articles/CBMijwFBVV95cUxNUlFWSmJxUXJxLVFYU1dYS3lyMHRYYWZjVjVyYkp1eGFLRUJ4aWpPYnNJVkI2ckdteXRIaVd4dVd4QWNVUm9EM3VhTWVtaU1iR0daMnJndzBqdjJuMnBPZ2J0LUpQRVR0bnRFdXg5TVVmZHhPLXp4T2xKOUMtd0FQRkg3NE1TQ3UwNGpRbUpONA?oc=5\n"
          ]
        },
        {
          "output_type": "stream",
          "name": "stderr",
          "text": [
            "WARNING:trafilatura.core:discarding data: None\n"
          ]
        },
        {
          "output_type": "stream",
          "name": "stdout",
          "text": [
            "Fetching content for: https://news.google.com/rss/articles/CBMihAFBVV95cUxQWGhRSzdKVEY2YnA3TEJ2eVowWE1kUExNUzdtTllWSThsUkhDYlp6NzJQSzBJUENwaVU2QnBGTXg0aVo4VUZxQzBsZTdGWDV5cXVHMk5fdndfR2N0cGZjZ3ZZbUJyUGYteVVOQkZfQW5JV25VRTFjTmk3M0VmTDR3QktiWlI?oc=5\n"
          ]
        },
        {
          "output_type": "stream",
          "name": "stderr",
          "text": [
            "WARNING:trafilatura.core:discarding data: None\n"
          ]
        },
        {
          "output_type": "stream",
          "name": "stdout",
          "text": [
            "Fetching content for: https://news.google.com/rss/articles/CBMilAFBVV95cUxQUTlDbnBLUjJ0Q0pzX2ZlMy10SzFOamhQcXBKUVpIZ3o1TkNOa3VTQV9WYTA3LU8xb2JqX3pPSWFGejJFM3ZzdmI5T0NBamNjRHVqZVFZQWU2dUdzdEItNXQ1M21jbGdUN2hzckFoakRJaXo2LU1YYndQOUVtclJhRjhiclhmQnJVQjdPSVFmSGRfeTdL?oc=5\n"
          ]
        },
        {
          "output_type": "stream",
          "name": "stderr",
          "text": [
            "WARNING:trafilatura.core:discarding data: None\n"
          ]
        },
        {
          "output_type": "stream",
          "name": "stdout",
          "text": [
            "Fetching content for: https://news.google.com/rss/articles/CBMirgFBVV95cUxOSGNEbjVXZGRpTGF2Wm1laGphX1ZIdVdjbUszcGdXSjZ4SlJmaWQ1eW9IZHhzRFFkYjRCbHNlbThjTWtqMUFLRlN3elgtNUh0bUNKRVVWdUpKaXhfTUpDMDZNUndXWEp5ODh0eEhSTW5ORV82Skk1Z1NuU0tJSTRDdjVsZlhNbFRMejhjTGJTRldNS2lScjBSUGYxcUlHWFhSSU5Qb3U5UFhSbzdIQ0E?oc=5\n"
          ]
        },
        {
          "output_type": "stream",
          "name": "stderr",
          "text": [
            "WARNING:trafilatura.core:discarding data: None\n"
          ]
        },
        {
          "output_type": "stream",
          "name": "stdout",
          "text": [
            "Fetching content for: https://news.google.com/rss/articles/CBMiqAFBVV95cUxOMVdBVktIZ2U2MXZ6R1pxWDZWOHlvMEhqLWMxQWdCZ29ENEdMQzhpeVdwdkR1a2ZKTV9yYmNqS1puTEtnZkJ1QUVzdHJNbmxxVDBKT0lfdnpONmpTS3RuMWlZLUFPR0FaWjhtUFBpLVd5cHVrSW9iRVNqcUIxb2l3UFlrWmNpb2dLelJ1NWZqMkEybTM0LTRkUENDdHdrbmtJRWxtZE1WZkE?oc=5\n"
          ]
        },
        {
          "output_type": "stream",
          "name": "stderr",
          "text": [
            "WARNING:trafilatura.core:discarding data: None\n"
          ]
        },
        {
          "output_type": "stream",
          "name": "stdout",
          "text": [
            "Fetching content for: https://news.google.com/rss/articles/CBMiqgFBVV95cUxQdUFVYWl3MVJvQWJnaXl5TDlCVUNpbW1SVEZIdkk4MGNXUXdBWjJBb0ZuZ3NaNW5Qb1lKTS05bTZzSlpIV1Q0VllfM3d3LTNYWk9ISUZLZnlmMjBaWDQzXzJtUGNPOTBZVDhUT0JvMUVOUTg2TW40QUpCMVpxSnNlS3pnNE1fZTYtT0oza3N4Rk40WHpndE95cHdhOWViazhtTW1JY183ZXdHZw?oc=5\n"
          ]
        },
        {
          "output_type": "stream",
          "name": "stderr",
          "text": [
            "WARNING:trafilatura.core:discarding data: None\n"
          ]
        },
        {
          "output_type": "stream",
          "name": "stdout",
          "text": [
            "Fetching content for: https://news.google.com/rss/articles/CBMirwFBVV95cUxOM1NyZGl4X0JxUWs5M0tlN2dBVlBzenlfel9qN0d0Zk03eFM3akNiWkoxcXl0MkJKZDM5OF9WQTdGRC1tbVRpWTJkYkhvNjZ6OHd1dVA4UmZhTEk0RHhpdE9HNl8yLVdpTTVvd0pkQmRWVmZBc2dHRGcwVjFwY0tvRExLejZPWi1IcUtraXJXN1JhUm9aaEVOUVRxZUxhTm5HVVcyUlJaN3JDSU5LQ1RF?oc=5\n"
          ]
        },
        {
          "output_type": "stream",
          "name": "stderr",
          "text": [
            "WARNING:trafilatura.core:discarding data: None\n"
          ]
        },
        {
          "output_type": "stream",
          "name": "stdout",
          "text": [
            "Fetching content for: https://news.google.com/rss/articles/CBMikwFBVV95cUxQXzNadFoyMnZsOWZtNk1rRkdZLUtqemhjeDN3MU1TN0IxMmprTFFqRzJCb0ctMHR1YmYyUm15bWF4UG9acUlEWTNtZUJLM084SXhqTzNFVnV3WkpaYXhxT1A3NmQyX1Q2MEt0SGhoMHpucjJXOEVJZWRTVUszNmxaYUpodzlqQ2tvY3lLbXJrSFF3aDA?oc=5\n"
          ]
        },
        {
          "output_type": "stream",
          "name": "stderr",
          "text": [
            "WARNING:trafilatura.core:discarding data: None\n"
          ]
        },
        {
          "output_type": "stream",
          "name": "stdout",
          "text": [
            "Fetching content for: https://news.google.com/rss/articles/CBMickFVX3lxTE94dFlhVnl0Smg4QmwxVE43b2tQNlBOVExYVmhYS3dDSVhTeDdzTHBwelJ1U3kyRUVBa0tnMElzcnE4bnM0cXgwa3gxT1lkM0JmNW15aXB2MjdiTTkwOTFHc21pSk0xeTVxdTZFa2Q4VjFaQQ?oc=5\n"
          ]
        },
        {
          "output_type": "stream",
          "name": "stderr",
          "text": [
            "WARNING:trafilatura.core:discarding data: None\n"
          ]
        },
        {
          "output_type": "stream",
          "name": "stdout",
          "text": [
            "Fetching content for: https://news.google.com/rss/articles/CBMiugFBVV95cUxNQUVtUGRQY1BOQmRkTUtCYU13eUQyTUNRZ2NaUXFhUFhfeTRtRkhSQVZvWGI4WERRZGxwdDI3bUlUc0RPTjVzTWJpcDFUck9pM3FtRVBtR2M4c0ljaFpMck9qX3J5SEpEcFA0UnBPOGcyRTFmcE11QkQwZkRCYmRiZGdsYTN4c2dKbWdUYUowcFZidXpoYm81Q0FrQlVkMXZ3X1IzRGpQdFlXNjdEYXI4Z0VTLXo3WW9lbFE?oc=5\n"
          ]
        },
        {
          "output_type": "stream",
          "name": "stderr",
          "text": [
            "WARNING:trafilatura.core:discarding data: None\n"
          ]
        },
        {
          "output_type": "stream",
          "name": "stdout",
          "text": [
            "Fetching content for: https://news.google.com/rss/articles/CBMihgFBVV95cUxOY01CMm9BV2pLcG5aOGhHOXYwU2RMMXBxV21uOWphTkhtd29EdVdpbm9GSlRDQ2NQX3hNYk00LXhpQm9Gc3N2WFRiU3NYMEdwQUo0cDZWVVBEcjV2OC1lODRFb3g5NEROSXU1UTU5OGV6M2tPM0Jsa3lNWUkyWDVKaFk0cnViQQ?oc=5\n"
          ]
        },
        {
          "output_type": "stream",
          "name": "stderr",
          "text": [
            "WARNING:trafilatura.core:discarding data: None\n"
          ]
        },
        {
          "output_type": "stream",
          "name": "stdout",
          "text": [
            "Fetching content for: https://news.google.com/rss/articles/CBMipgFBVV95cUxPdW1jOThIRVRyYVNxVXRYbVFMd0d6MkRreDVwZ3NjMXFfR1JkSm5GekhLeDBQc3hpa245VmhoeXQ5bVpFeGZONUdxbU1iOFd4aEpsdnlQdzVHWlJRVHhHbEtHNUFMQWR1cHh2WjMtRVhqSVBYamExa2V4QVZhc1d1LTRDVWdCVWpXYldWaW9VTzdyUWp6UTNqX2xaM3I3QkktS25rWUtR?oc=5\n"
          ]
        },
        {
          "output_type": "stream",
          "name": "stderr",
          "text": [
            "WARNING:trafilatura.core:discarding data: None\n"
          ]
        },
        {
          "output_type": "stream",
          "name": "stdout",
          "text": [
            "Fetching content for: https://news.google.com/rss/articles/CBMiuAFBVV95cUxNdjN6bDBWT1pnVklfcW5HMllnZmRILTA4YmZqeWl5dXNvX0liRzNQTFE0bHFPR3V4NkR5SDdwWHhtbExZSmloRW1SQkMxUE80V2NLUHhoZ0l1QVE2Yll6bFpUeVJtUVpFUThmbUxoRk5wazgwS1gwQ05XcXhiNmlFb0NVbExLVWx1cERodF9HOVB3UzZpcGpoSDJPSk5udUhRdG9QU1lGcUx3bW1rSXd4ZjNpNG5XYkx3?oc=5\n"
          ]
        },
        {
          "output_type": "stream",
          "name": "stderr",
          "text": [
            "WARNING:trafilatura.core:discarding data: None\n"
          ]
        },
        {
          "output_type": "stream",
          "name": "stdout",
          "text": [
            "Fetching content for: https://news.google.com/rss/articles/CBMilgFBVV95cUxNMjBnQTlEa01UY2hsTjVlVkREZlFqQ1R1cFpFUkNoVzJqSjFpMUxZZHoxWlF3T00wQmVyUS1FUElCd0tyMWY4U3lzMFRtS2lOMnkxQWxuWXhLQlRIc2pZeW81NndEWWNTN1lMWG5tSTF3VDNJUnFmSFRpSzFkejMyaFYyNjBsS3VCZ3BqQzhLWXZRUFdDanc?oc=5\n"
          ]
        },
        {
          "output_type": "stream",
          "name": "stderr",
          "text": [
            "WARNING:trafilatura.core:discarding data: None\n"
          ]
        },
        {
          "output_type": "stream",
          "name": "stdout",
          "text": [
            "Fetching content for: https://news.google.com/rss/articles/CBMivwFBVV95cUxQUkxhWkxwRUxYN2M3WEdzTVFXbWNMVk1xaUVELU5sSXA0eW43N3hLUTlKLUlHTTdZWktNUC1SWWVFQXp3LUJPSGJlUnNWNWpmNUIxSExMOGN4LVBkQWdxYi1jaDMtOWt3ZmNBQTlBZFY3YXNma2NoUWRLZk1hbjdscnFCRlRKZ2Z6amNXV1NQWXhyNncyMUtxLWRGeU83b2lPb0xjWlhvTF8tRE1sUHluZGdRME1JQ1dnM1VyejhPSQ?oc=5\n"
          ]
        },
        {
          "output_type": "stream",
          "name": "stderr",
          "text": [
            "WARNING:trafilatura.core:discarding data: None\n"
          ]
        },
        {
          "output_type": "stream",
          "name": "stdout",
          "text": [
            "Fetching content for: https://news.google.com/rss/articles/CBMiwAFBVV95cUxQU0VOZzdMaFlGd1o0dDctZG1CVVZGSnBZWWtLczlNZFM1djV2aVBsakVKbnl1NTd0N01XVFQxcDlkR3pzSXA1c1ZWNElyOE9tQjJROU5qd1A4SE90blBvdnZ0SnFEVGgySXJrdjdmVnJaNXFFWVBJRlQ4T3JKR1NuN2h1SGRfdmxQdmttbkRKVXZ3RVJWLTZsMnliWThZZXpNRnJwR1ZEWURZVV9URTF4VkdhSmU5alNKajJXTnFqQnA?oc=5\n"
          ]
        },
        {
          "output_type": "stream",
          "name": "stderr",
          "text": [
            "WARNING:trafilatura.core:discarding data: None\n"
          ]
        },
        {
          "output_type": "stream",
          "name": "stdout",
          "text": [
            "Fetching content for: https://news.google.com/rss/articles/CBMiqgFBVV95cUxQd01YSjBESW5FNGdaN3lQUXlHbjh6b0ZwTWxlaVNSQTlTdzhYUU10eVE0eVEtcFBFSGZNOVp3NXJXTUtEeV9jaDlKT3VCYlVZbll2T0xhZ05oVVRPbEdIRWhoUjBMUGw4MzlsWHo5QnRTUmQyc2ZDeU1ZaDg4SHJYTFNNdWx3WHc3S013cTJNUmE1VkFBQlZWTUtGRVB2NkxLVGhCb0doYi1wQQ?oc=5\n"
          ]
        },
        {
          "output_type": "stream",
          "name": "stderr",
          "text": [
            "WARNING:trafilatura.core:discarding data: None\n"
          ]
        },
        {
          "output_type": "stream",
          "name": "stdout",
          "text": [
            "Fetching content for: https://news.google.com/rss/articles/CBMif0FVX3lxTE9GRlQtWVRfcHQwZndWbXRyblVXWC03Ul8yMlN3TWloV0pQWFZIajdINUM0c1lwSWgwN3JtQlp3dU95bUtKUHdIN1k2U2hmdXlKQmpCQ2VyZnhmYVdEYU9RclRNaHpUSlFYUnVPUlZQd08wWjB0UFZwM3N4bVJnWTA?oc=5\n"
          ]
        },
        {
          "output_type": "stream",
          "name": "stderr",
          "text": [
            "WARNING:trafilatura.core:discarding data: None\n"
          ]
        },
        {
          "output_type": "stream",
          "name": "stdout",
          "text": [
            "Fetching content for: https://news.google.com/rss/articles/CBMiwgFBVV95cUxNZjlFWXo4UEpraDFqOTlrU1hTTnoxSGxNSDlEOHYyeVE0dnRiWjZnblJha2JNdWpQX1V2MmVPUURTTE4tZm9SMlU0MXZSVERpU3ZWNHdwLVNoWWljTHYxa2M4T0g2YTd1X0d3Y20zVFZKd013MV9LSjl4cTZsTHl1V0ViZ0dQUlNURlFDbG8zT2czeEw2SkR5RE1iYnJTY1ZEdmo1eE93Mmx6UHRUa2lGZkd5RlYwRFhuQk9lZk03TkZMUQ?oc=5\n"
          ]
        },
        {
          "output_type": "stream",
          "name": "stderr",
          "text": [
            "WARNING:trafilatura.core:discarding data: None\n"
          ]
        },
        {
          "output_type": "stream",
          "name": "stdout",
          "text": [
            "Fetching content for: https://news.google.com/rss/articles/CBMihgFBVV95cUxPUFZfRnV0N0tlMFlUYmpQeDRRelRpLTRhLUI4MmVCTWVpQXkzQmlhb3BTYWNLbVRrWUZWMWp6NFhkWkpYX0NtZ213YnltNUtGVG1SXzFOb1RzY3FyNFFmZDN6Skt3eFdaX1dHck1YR0hRS0NjT3doaFRYMkRZZGRzdzdfOGwtZw?oc=5\n"
          ]
        },
        {
          "output_type": "stream",
          "name": "stderr",
          "text": [
            "WARNING:trafilatura.core:discarding data: None\n"
          ]
        },
        {
          "output_type": "stream",
          "name": "stdout",
          "text": [
            "Fetching content for: https://news.google.com/rss/articles/CBMigAFBVV95cUxQYXRGbWFMOUV1SWM5cTVmUnBaWkhsTkpxZ09BSkV3ZmxZbC16dXo4Wk5mMlNMT3gzODlQSmZqQklDMnQyMm8xZVctVXE3eWhFb3lpS1E4d19makJzWnpwOGpqUkh1azBhNk9vMExFUnhfTUREWmd5cGExVURYN1pVZQ?oc=5\n"
          ]
        },
        {
          "output_type": "stream",
          "name": "stderr",
          "text": [
            "WARNING:trafilatura.core:discarding data: None\n"
          ]
        },
        {
          "output_type": "stream",
          "name": "stdout",
          "text": [
            "Fetching content for: https://news.google.com/rss/articles/CBMilAFBVV95cUxOT05ERktuZFFweGdXWlltYktxMnJHS3RVcVc2VXc3Z0JwamJqTkRlYnlCejZxZlYzakFwcjRMOUxLSVhMNXlZbHgxLVFpbkdEMl93NXlCZEFKNERXUmRtaHRnRUxzVk5nZzBqQ1pnZFkzbmdNVlphODRwNWZSeXVwb29oSDJMTXVGdVRNOFo0STVpaXl2?oc=5\n"
          ]
        },
        {
          "output_type": "stream",
          "name": "stderr",
          "text": [
            "WARNING:trafilatura.core:discarding data: None\n"
          ]
        },
        {
          "output_type": "stream",
          "name": "stdout",
          "text": [
            "Fetching content for: https://news.google.com/rss/articles/CBMiXkFVX3lxTE1YU2pneUNKUVo3aXZBU2htUV9BN2V1YWVobll2WHNpdS13bmlyalNRWThla0ZRUDAxSWJBWVJFcURMTWxSUDFQQWlXaUI1OVNIektITUxsQU1OZ2NYTVE?oc=5\n"
          ]
        },
        {
          "output_type": "stream",
          "name": "stderr",
          "text": [
            "WARNING:trafilatura.core:discarding data: None\n"
          ]
        },
        {
          "output_type": "stream",
          "name": "stdout",
          "text": [
            "Fetching content for: https://news.google.com/rss/articles/CBMiiwFBVV95cUxQZks0N2RHZnJrWWU1THRhcEVlSG8xbVlHUnlmd240ZWRWWTBjcVl3YVo1aTQ1Y1VCcFpmMHlTSTM1Uk5FT1lscGNiclM0YVFfTjJlNThQR0l2WnVIeTMydGI2Nl9JSFRzQTFoeFVFa1FLNlhIeDYyTW8wRGVkbjB4cHd6dEV5VE9vc2dN?oc=5\n"
          ]
        },
        {
          "output_type": "stream",
          "name": "stderr",
          "text": [
            "WARNING:trafilatura.core:discarding data: None\n"
          ]
        },
        {
          "output_type": "stream",
          "name": "stdout",
          "text": [
            "Fetching content for: https://news.google.com/rss/articles/CBMilAFBVV95cUxNSTFfTExzVFlsb1c3aTVKV1RzempVZVE4NkRmdU8wMm9pWmtqZ3ZKU0JDTzRtbE9uSzVCOTJZQW1pUHYtdVUyVXBUZUQ4QWJNcDVpTUhFVnFzdjR5bkVBZ3ViSDhabkozNU5HZVV0Ti1iUENzUUVRaXdVbFgtTmx4SnhHUERHSUtXN0xXMGRmWm4wb3ZS?oc=5\n"
          ]
        },
        {
          "output_type": "stream",
          "name": "stderr",
          "text": [
            "WARNING:trafilatura.core:discarding data: None\n"
          ]
        },
        {
          "output_type": "stream",
          "name": "stdout",
          "text": [
            "Fetching content for: https://news.google.com/rss/articles/CBMiqAFBVV95cUxQTTlud2g0UDNQV29aZVF0eGZ2bnJqTTJPRkR1WTRMVjQ3bWo2YVY2Q3VzSXB1ZV9pelhTdzU5ZzNQS05XV3JKNlJacmdVWFQwTXlLVzJGOUJ2WWZWUi1LMDJhSXJNUGlCZzBPdlJHLXBzaXFhblA5RV95TlhoNnFKN0NPNWpoY3dhWDM3dkZHZ1luV2NZVjBxNmEwTGRxcER3VnA4bmRTbmg?oc=5\n"
          ]
        },
        {
          "output_type": "stream",
          "name": "stderr",
          "text": [
            "WARNING:trafilatura.core:discarding data: None\n"
          ]
        },
        {
          "output_type": "stream",
          "name": "stdout",
          "text": [
            "Fetching content for: https://news.google.com/rss/articles/CBMihgFBVV95cUxNY0JTX2c0R0VYWTNIMFVESUhxZzVIenFoQm9XdHBtWFhGaC00MHNnamJ4UDFudVFPVHQ5bThiSnpJWlJwUmVxbGpheTc3OV9DUE43dnRlQjc3LTMyZEZyT2VCSzRtellzU0VFQlJ6YlFVd0dmVF9pRWwzYWJ6eEJZWkxYeV9CZw?oc=5\n"
          ]
        },
        {
          "output_type": "stream",
          "name": "stderr",
          "text": [
            "WARNING:trafilatura.core:discarding data: None\n"
          ]
        },
        {
          "output_type": "stream",
          "name": "stdout",
          "text": [
            "Fetching content for: https://news.google.com/rss/articles/CBMihgFBVV95cUxORE1zZEFHS0VJQU55OExGaWtOSXF2VC13ejBoNzFWWV9La1lXRXZDQ3NEeDU3dndLeFlMclRQdC1RVmV5dzQxSFFqV1VvXzFOWV81Y2FKTUdDSDBHX2RuZUItb1RyYVpwbk4yQmVoOTFTSEhaVGVKM01ZMFBUejlzYmlDRXpWZw?oc=5\n"
          ]
        },
        {
          "output_type": "stream",
          "name": "stderr",
          "text": [
            "WARNING:trafilatura.core:discarding data: None\n"
          ]
        },
        {
          "output_type": "stream",
          "name": "stdout",
          "text": [
            "Fetching content for: https://news.google.com/rss/articles/CBMidEFVX3lxTE94NkdYYmhvM0EwczUwVXhEYktBTl93VVJkWDVvZ3BvN1NyTVRRM1RJUkpuaGlaTlY0OHhVLWFSdHBCUlhZbS10ZXFNT2thbGFhV0F6Qk5jbU1iZUMwdTFEZFg0cldkeXBpR0xUTXFIZDZSNi1N?oc=5\n"
          ]
        },
        {
          "output_type": "stream",
          "name": "stderr",
          "text": [
            "WARNING:trafilatura.core:discarding data: None\n"
          ]
        },
        {
          "output_type": "stream",
          "name": "stdout",
          "text": [
            "Fetching content for: https://news.google.com/rss/articles/CBMikAFBVV95cUxOT3ZkaTV2Wi1KRHlfcDk1RWx1NEFfZ3JLaXQzMm90cGRacjRkYVp1OTFzWklNdWtOTWZ2eWw1WVdacUMyZ0IxWlpLeWRDbFNxR01wcVU5aWUxMkRIalNXazlVOVpHZktXVGNEV0FRdlg0XzVQdURDQ1lwQkI3SkdqRUlPU01DYWY5cmtNS3Niaks?oc=5\n"
          ]
        },
        {
          "output_type": "stream",
          "name": "stderr",
          "text": [
            "WARNING:trafilatura.core:discarding data: None\n"
          ]
        },
        {
          "output_type": "stream",
          "name": "stdout",
          "text": [
            "Fetching content for: https://news.google.com/rss/articles/CBMitgFBVV95cUxOLVZtYnJXcURObWQtdW5LUVcxUnZmUXZRbHVsanpIR0pPZVVaUDFuaXY0QU9Raml3cTVSVjlvOTBXVnJoSlRucHpMak92WU90N2x2QUN5NlRBNkNxMzBtampnU004aW1zcE15ZXZmbHIyV3hnUXFOWC1nMXFWQXo4Z1pZek1lTmVoSExYY1Vyd1R2bFdQbU5jazVYV3RaTFM5NVJmRFBudlFPZFRHVTk0Z1AtRjdWZw?oc=5\n"
          ]
        },
        {
          "output_type": "stream",
          "name": "stderr",
          "text": [
            "WARNING:trafilatura.core:discarding data: None\n"
          ]
        },
        {
          "output_type": "stream",
          "name": "stdout",
          "text": [
            "Fetching content for: https://news.google.com/rss/articles/CBMirgFBVV95cUxOVldSWDg1VlRGOTUyTkJqS3NSN0J5OURGejk0dFpsaVU1ak5PdHFkbDlGay05ZTVUXzRSR1RqMGkwVE5yOXA5TDFHUnhDTVVyWjRiRjNraE4tc214cTF0a2NRRi1rWG1QNXk2bUpocVh0Z2xvTl83cURRWmpwbmxaY3ozU3FSMGIyeS10RTZ5c1NjUXoyb3pMX2tPYl9jSXJNem5uXzhCRzFTR3dUNkE?oc=5\n"
          ]
        },
        {
          "output_type": "stream",
          "name": "stderr",
          "text": [
            "WARNING:trafilatura.core:discarding data: None\n"
          ]
        },
        {
          "output_type": "stream",
          "name": "stdout",
          "text": [
            "Fetching content for: https://news.google.com/rss/articles/CBMia0FVX3lxTE9pMzExU1d2RTRUaDdCSF9xbXBLSlhHYVdMNUlMZU5jakJxMm11a2Fjc0k3eURuRzRPV2lnbU5pajlDQWU5Z2JVQXpBdF9vdzYwRldCSURkNlZfT1B4ZUE5eHpobS0xcjE2TE1N?oc=5\n"
          ]
        },
        {
          "output_type": "stream",
          "name": "stderr",
          "text": [
            "WARNING:trafilatura.core:discarding data: None\n"
          ]
        },
        {
          "output_type": "stream",
          "name": "stdout",
          "text": [
            "Fetching content for: https://news.google.com/rss/articles/CBMie0FVX3lxTE5BMTdBejBWMEZqVkRZLXh0YllCUlp1djZMazVQaVQwcTAzT1NMc2JsQVYwNlVWSWk5MzFTN2hVMTBaM3hhZE9FVkljYXZrSDUzaXFkaVNPTFBFZU5ycDYycURnQ2NsU0FGMUo2VVlfTGNsbS1SN2RWbkVfcw?oc=5\n"
          ]
        },
        {
          "output_type": "stream",
          "name": "stderr",
          "text": [
            "WARNING:trafilatura.core:discarding data: None\n"
          ]
        },
        {
          "output_type": "stream",
          "name": "stdout",
          "text": [
            "Fetching content for: https://news.google.com/rss/articles/CBMihwFBVV95cUxQSG5NN0dwdEZSU2cyeGdZcTQwYmpiVDFoTXlLYzBLMTltdUFUSGJLTXM5WkdzQkU3RUF5Vy1JbUt2QUJ3R2dYSF9pX0pvR1NHMWczekh3b2VIYUV2N3RlM3B0eWZvaFBORkFpX2JSWkR2eWc1QXltdzdjWUxvcF9hQUpCMV9pRFE?oc=5\n"
          ]
        },
        {
          "output_type": "stream",
          "name": "stderr",
          "text": [
            "WARNING:trafilatura.core:discarding data: None\n"
          ]
        },
        {
          "output_type": "stream",
          "name": "stdout",
          "text": [
            "Fetching content for: https://news.google.com/rss/articles/CBMigAFBVV95cUxOR1lwUXN0YUlLUGJNWlNvaW9iQlFvdlFzaHNNTFh2SnlIX1dpNHZlLUFzZEZtRlZmSzlSM0lBdzBXRDJpbC1xcTlMeDg2WFBidERhZllvSDVBUDVybjBIeG8yazdCUU5haXlGdzVVemJRbjc3eUNvcUtYd0RIekpYbQ?oc=5\n"
          ]
        },
        {
          "output_type": "stream",
          "name": "stderr",
          "text": [
            "WARNING:trafilatura.core:discarding data: None\n"
          ]
        },
        {
          "output_type": "stream",
          "name": "stdout",
          "text": [
            "Fetching content for: https://news.google.com/rss/articles/CBMipgFBVV95cUxOdzEza2hCa0VKdzhKQjJtaGdYbGNkZEd4dHdDYnZFZXdkRl9DSU8tRThJR3ZZcHdsSkhYSE9KSXJGTGFueWlURGwwb0ZsU0M2QWRjMHZ3bUdNaTZMdm9IQmZnalA5TnFabWxXcWY2UzlwMnpQUXRkZXItNDlmYXc0bmlFelNLdDh3c3BZSjQ5RGdpbHJ2eTE3Nl9pbmpJbVg2NVRqaEhR?oc=5\n"
          ]
        },
        {
          "output_type": "stream",
          "name": "stderr",
          "text": [
            "WARNING:trafilatura.core:discarding data: None\n"
          ]
        },
        {
          "output_type": "stream",
          "name": "stdout",
          "text": [
            "Fetching content for: https://news.google.com/rss/articles/CBMilwFBVV95cUxQMHhsRVdvREN6X0YtbHVKR09XdDVCRmpLbEtqWnJOb2UyTm9odUhuaktBd3paeVNLenpxSHJDUG1KU1FnbVJDU3VYVjZOU2lGRDRxTUVGYjNCLWZOZndJQkk3OHcxbDE1VHd3NHdkWnlxWE5BUzNWOFM0amhrLWdqYm5ld3RhbjJ3WmU4bkJNNHZLSEYwWDBJ?oc=5\n"
          ]
        },
        {
          "output_type": "stream",
          "name": "stderr",
          "text": [
            "WARNING:trafilatura.core:discarding data: None\n"
          ]
        },
        {
          "output_type": "stream",
          "name": "stdout",
          "text": [
            "Fetching content for: https://news.google.com/rss/articles/CBMirgFBVV95cUxONWowYUtOUkJHQ2NPeXFvRnFOSzdobHlmQ0JtbTBPVjNYNUMyUjc5QlMzTUNHaXl6RGtQZmw4OFJ5eFBuaHJwWkN1eUFnTzN2dDdkWjV3azhoRVpoUVBNWFJTWkxlUzkyeHh0SllTWWl6V1JqVGRBOU5tYkRTSGoxMDNTUGd6UGJkcHhseUVkc0lWYjNJalFrZkx5RUJlN2RjM2lna0g5aFdKTEwtZWc?oc=5\n"
          ]
        },
        {
          "output_type": "stream",
          "name": "stderr",
          "text": [
            "WARNING:trafilatura.core:discarding data: None\n"
          ]
        },
        {
          "output_type": "stream",
          "name": "stdout",
          "text": [
            "Fetching content for: https://news.google.com/rss/articles/CBMimwFBVV95cUxOY1VRdHRya1JfVTBoM3FzTXJoYXhjN2NBaFVkT0hqS05UZnBGYk1aSVR1VkxJVW9pM20weUk0TVd3Mi15QVhlaE5wakNQUGh5dmdZUHR5ZXIxTWRTVUN3WlBuRFNwMDVYenp0NllDemdJNjNyS1pZSS1zaXkxbVFhRDgwTGdzQWltX0pPWHMwaWdvQWhKQ1ZJSjdiSQ?oc=5\n"
          ]
        },
        {
          "output_type": "stream",
          "name": "stderr",
          "text": [
            "WARNING:trafilatura.core:discarding data: None\n"
          ]
        },
        {
          "output_type": "stream",
          "name": "stdout",
          "text": [
            "Fetching content for: https://news.google.com/rss/articles/CBMijAFBVV95cUxObjdMbDNTbW1tUVktbzNEVGV4VTZkQThzZ3J4bXdhT2VBaEpTMVZlR3k1Vy15WERjdENsOFFSZjBsYVJ6aHFCLTVoU2lvVTJ6RHpIakhFX0NVNXEzM1dtZUloYTJBQWpJV1JoQWlqSklFUjE5VHlyNTU1c2FSdGlTQWZYLWFRNWtPdHU5TA?oc=5\n"
          ]
        },
        {
          "output_type": "stream",
          "name": "stderr",
          "text": [
            "WARNING:trafilatura.core:discarding data: None\n"
          ]
        },
        {
          "output_type": "stream",
          "name": "stdout",
          "text": [
            "Fetching content for: https://news.google.com/rss/articles/CBMiqwFBVV95cUxPa3p4UzlmbHd1MnlQelBhR3UxWGV3cGpaUFV4TXhJR0J2VUprUWpaeW94VmtCLTA2SFB4Qmc5bEhMcWJSMXkzYTk1QTZWMmY4M1JTR3BtTVRBS3I0bGFRaXBkUE04bVg1ZERPd3RFUHJWMVAzLWZqbms3QXp2azZpNFYwZENBSy1KbWVZWDY2OVhNYVFFMTZIa3BJUGN2a2RKR1U3Qm1DajUyYzA?oc=5\n"
          ]
        },
        {
          "output_type": "stream",
          "name": "stderr",
          "text": [
            "WARNING:trafilatura.core:discarding data: None\n"
          ]
        },
        {
          "output_type": "stream",
          "name": "stdout",
          "text": [
            "Fetching content for: https://news.google.com/rss/articles/CBMihgFBVV95cUxQUUZ5V1lkVldqTWxSeF9JRXZ6X3RKVzhiWEdmWHZfTXJJTXJjVlo5d3U4YURCRlppdjdRRERkTHkwQ3EwMHBIVGpZRzdOSVhUUVlrenktYjItV2ZRUFJjRnRtbmJEOU0xUjNHSVU5RWZUZ1VWcmY4OGM4ZVM4T2JvcjlrYU9YUQ?oc=5\n"
          ]
        },
        {
          "output_type": "stream",
          "name": "stderr",
          "text": [
            "WARNING:trafilatura.core:discarding data: None\n"
          ]
        },
        {
          "output_type": "stream",
          "name": "stdout",
          "text": [
            "Fetching content for: https://news.google.com/rss/articles/CBMiuAFBVV95cUxQUUcxdnNNM0tMNk1DdElTSkgtLW52TGlOU0hNZjFBNEVXaEFfRVp1blNHMG5IQmp4WDFLc3h5cEZVZl9IUWlHN2hOS3ZlUnptS2tQd0ZIdEwwQ3A4YW1Pb09JdHk4cDJIRzAwNHplY1lhRkRLN09EcU80SjNjVEpfMUF1bERjdElxTWV3NzNnM0tsNjRZWDN6d3pTcWxRMjF2Q1pDUlFIcEFhdEVoZHhMX1hNY3NscXo4?oc=5\n"
          ]
        },
        {
          "output_type": "stream",
          "name": "stderr",
          "text": [
            "WARNING:trafilatura.core:discarding data: None\n"
          ]
        },
        {
          "output_type": "stream",
          "name": "stdout",
          "text": [
            "Fetching content for: https://news.google.com/rss/articles/CBMitAFBVV95cUxPLVJ3MkFNNWYzbi1zYm9OamZfT1VzRXpiYVB5aUtLQnctRzhkZC0tWUEyejl2NHEtTU5BWWVFSUlmTnpwZ25YUUFBZl9Ncy1qQXQ4N0g3MTI3dXJmbTdxVUQtOUQ5YWM2SUFHY0NTTEFJOGtFSHhYMFhDLTRkbnJRMjlPSmZ2WkR6WVprdHlWakdNMTk3eG5uOEhRX1hLRFlDTnBlOWZWTmVfbE9HYXFzUC1LTlE?oc=5\n"
          ]
        },
        {
          "output_type": "stream",
          "name": "stderr",
          "text": [
            "WARNING:trafilatura.core:discarding data: None\n"
          ]
        },
        {
          "output_type": "stream",
          "name": "stdout",
          "text": [
            "Fetching content for: https://news.google.com/rss/articles/CBMiSEFVX3lxTFBubU9tUWFHdXQtMExpV3lSZzBubklYbm0tMWcxbW5qVHp2RFlHQmgyUEtMVjZKaHg2MklIak9TLUdTT1hrWExYVw?oc=5\n"
          ]
        },
        {
          "output_type": "stream",
          "name": "stderr",
          "text": [
            "WARNING:trafilatura.core:discarding data: None\n"
          ]
        },
        {
          "output_type": "stream",
          "name": "stdout",
          "text": [
            "Fetching content for: https://news.google.com/rss/articles/CBMiqAFBVV95cUxQOTRpeWV1Y25kM21QYU9QdVYtZ2dvYlU3NklsUTdNNm1tRlU5c1E2eG1zdkhZZDdNazZWVFFPaXRielFJczJGQ2xwR0M5YnEyTnlGZFZ2M1dueV9GVXo3aEZnRURJQjhOZGdqQVFoRDlnZHpOekxfUUllbjMwMnpMQ205dmhmTGtkLUEtNUt3djltQ1ljZ1NNZkQ5RTVfcWpXLUhhdlpiT2E?oc=5\n"
          ]
        },
        {
          "output_type": "stream",
          "name": "stderr",
          "text": [
            "WARNING:trafilatura.core:discarding data: None\n"
          ]
        },
        {
          "output_type": "stream",
          "name": "stdout",
          "text": [
            "Fetching content for: https://news.google.com/rss/articles/CBMisgFBVV95cUxNOUNLQXhWc1NmTHpNRzh0ZWFiY0ZCRFlhWmd3NGs3RGxzdVR4NXRzb1hDNzNfbjNXTE9CQVQwamlMRzI5T0JJTTRVUWxoT2RnUEJOb0hQbXlUWDFLRlhFdm40TjJ4Q1RBOUI0dzFwMjcxSDVadjU1U2FXSHI2M2tKblZSZDZyOUhjZ2VET3ZNY1FGSS1OZHBKUENFZ3lCbS1nZ1V6V0dQMzBCR0dwYTFSM0hB?oc=5\n"
          ]
        },
        {
          "output_type": "stream",
          "name": "stderr",
          "text": [
            "WARNING:trafilatura.core:discarding data: None\n"
          ]
        },
        {
          "output_type": "stream",
          "name": "stdout",
          "text": [
            "Fetching content for: https://news.google.com/rss/articles/CBMiwwFBVV95cUxOdk9tX1VsaVpmUzUtQkFtbGFmQS1LbVRsaXVDRFNZY1lhcUpFVWVZV1k4TmNZMGNGSFQyOC1ESUF3WVFYeVhvdGh2RDJYNm1mYmlPTDJsNm9XeHJnYldsVmVLNGRpMFliaGxOUmRZY2pFT09vU0tGTEQ5UW5OU3F1ekM4N1lvSWZFZzA0SjRrSlFfZTVETXNrVXdwMVpFU0FVeGNPX0hiMVgxRDdWOURUWVVZaWp5VWtobUhrQ0tsc01OWTQ?oc=5\n"
          ]
        },
        {
          "output_type": "stream",
          "name": "stderr",
          "text": [
            "WARNING:trafilatura.core:discarding data: None\n"
          ]
        },
        {
          "output_type": "stream",
          "name": "stdout",
          "text": [
            "Fetching content for: https://news.google.com/rss/articles/CBMiZ0FVX3lxTFB2Um5HM0tPcFoxdGc2VlBKSDV6UTNqWXBKMkN1MjlQWmdVdF9mOV9GSXM3REVmY3IxOE1Vb29IRmtiWFg1VWN1NU5mVTVtRF9EZTlFUWp3ajBKd2pBMV8wQS1jUlk4WWs?oc=5\n"
          ]
        },
        {
          "output_type": "stream",
          "name": "stderr",
          "text": [
            "WARNING:trafilatura.core:discarding data: None\n"
          ]
        },
        {
          "output_type": "stream",
          "name": "stdout",
          "text": [
            "Fetching content for: https://news.google.com/rss/articles/CBMisgFBVV95cUxOY25FcTdFd3pLQm55SWRHZ2J1dDktcGV6NnV0OEJ1ekh4X3ZCbnZzSUpMS3UxNTR5bXVJUWpJSlIwYXV3VXh2aDlvVThfVEUwb0M1ckp3X1A2OHRPbkc5N0VWMW9CRFQ4SkpnV01hZDRxaTJ5Yk1ub2ZOcVhWa0hUcDVsMXFCajNnd24yMWNSVm8tVFdZZTNFNEJ6UF8yMWVQeHNKblhtVExIME5BVmhMREN3?oc=5\n"
          ]
        },
        {
          "output_type": "stream",
          "name": "stderr",
          "text": [
            "WARNING:trafilatura.core:discarding data: None\n"
          ]
        },
        {
          "output_type": "stream",
          "name": "stdout",
          "text": [
            "Fetching content for: https://news.google.com/rss/articles/CBMirAFBVV95cUxOTE9QMU5KTEVLd21zOXZNRnU2UXloZGdWRTRTYTBFbDRHTFhoYkxZaVZjTkUyb3VlX0FNbTRMdEEySUo1N1lLalB3cUc0b1pSUXAtYkYwMDFHX0pPSTRNYVV3YzJiS2o2eGpyaHRWYkl4WEhlU20wcUpzekpQZjVqcW0ybVdQRmJOeGVrRVdDbUFVeXd0LTNBRVg2UHhlb25sMU1NWng0Q1pSc3JY?oc=5\n"
          ]
        },
        {
          "output_type": "stream",
          "name": "stderr",
          "text": [
            "WARNING:trafilatura.core:discarding data: None\n"
          ]
        },
        {
          "output_type": "stream",
          "name": "stdout",
          "text": [
            "Fetching content for: https://news.google.com/rss/articles/CBMirAFBVV95cUxQMUU4RG9iNW43VjVkVXkzaWlPTHpWczR5R050ck1ac2hseVN4ekZmSUJFVGJId0U2TE9SVFNGY0RPUFE4ZmhhY0NXLVJGemtmS2p0VHI2TXRxNnN3OUw5RkRQSWFQR0tYX24yZHhWd0tWZW1peDJvYWZxRl84b1ZxbVdiYkFhY2RfMnVZYnZ1SzRFeEI0SnBfWC1ROEZkd2ZSb1BSYkFiSlJpejR4?oc=5\n"
          ]
        },
        {
          "output_type": "stream",
          "name": "stderr",
          "text": [
            "WARNING:trafilatura.core:discarding data: None\n"
          ]
        },
        {
          "output_type": "stream",
          "name": "stdout",
          "text": [
            "Fetching content for: https://news.google.com/rss/articles/CBMiggFBVV95cUxORzhIWldUTTdWVGo0cVdvUkR0WVF4TWd0SXAtTWtVQkY0NzNDNEhYN1Nuc1BYelg4NU52SWY5UlBVQ0NnemtMbDhjdHI1bFVuOVFiQ0VrMjJrRE1WYWk1SkpVZHA3Z190R1E0YkFDbjl0TllFNjNGeWdfWUtkZFA5VDhR?oc=5\n"
          ]
        },
        {
          "output_type": "stream",
          "name": "stderr",
          "text": [
            "WARNING:trafilatura.core:discarding data: None\n"
          ]
        },
        {
          "output_type": "stream",
          "name": "stdout",
          "text": [
            "Fetching content for: https://news.google.com/rss/articles/CBMiqAFBVV95cUxQMUxubm5mSGtpanlJS19iSGJSNEtmcVNEU0FrazZvbUU1MjdUbjBMYWFjYkVZTklGTkdOY08wc29uMzBaUXVVNjhoMVBDZDJQQVdCak0zaldwTmVSRzhsTEU5cWFOdGdVWWRQd2FTTGFwMThCZEhzZWtEanFkWm5IOTFDV01JU212VUJOOWRVeDBBMG10d2dGNXd6UjNTcmU1WVBTakU1Q0w?oc=5\n"
          ]
        },
        {
          "output_type": "stream",
          "name": "stderr",
          "text": [
            "WARNING:trafilatura.core:discarding data: None\n"
          ]
        },
        {
          "output_type": "stream",
          "name": "stdout",
          "text": [
            "Fetching content for: https://news.google.com/rss/articles/CBMikgFBVV95cUxNVGNRM2hxQlFIQld5Si1neGpIMloxenZ2dGU3ekhyLXVuQU84aWdJMU42a0UxSW52TnZIWkpUZWdxRl9vZTJTdXRjT2d4MGVLcVE0X3NxYlRycmx2WVdvdDBpSXpjRXZSWU0wZTQwVVkycnpONmxpcDhiOW5vcHAyd2dIdnF0QTNnbTRLZ3gxd1ZpQQ?oc=5\n"
          ]
        },
        {
          "output_type": "stream",
          "name": "stderr",
          "text": [
            "WARNING:trafilatura.core:discarding data: None\n"
          ]
        },
        {
          "output_type": "stream",
          "name": "stdout",
          "text": [
            "Fetching content for: https://news.google.com/rss/articles/CBMiowFBVV95cUxPQ18ycjlHcm1qamdhc09TQ2FxRE0ySnVMUllrMGFsVkhrRWxYajBUQVUtYkNmZ0Vwc3NXSWRackpNVWRYS3BtQkp3TEl1SkRZeW9ia3JvREJLbzlHVDVVc0ZtbG1fVFYxQnctbndMNWdxOFJLbHRzNUpYVTlxZzhqalJaYlpYc3FiRzh2akNuUFdRTlYzZDJtYXhzSlJXdHNUVzBN?oc=5\n"
          ]
        },
        {
          "output_type": "stream",
          "name": "stderr",
          "text": [
            "WARNING:trafilatura.core:discarding data: None\n"
          ]
        },
        {
          "output_type": "stream",
          "name": "stdout",
          "text": [
            "Fetching content for: https://news.google.com/rss/articles/CBMiowFBVV95cUxOZzgzS3dmWjVWM3RMMW91U1ZQYTdSbUJmb29YeFZNNkUxOUNKRTU1QkgxZ2RiVWh1Q2VKZk1OMXhUUHdhaHNVOExxWm9pODNFQ1V4MGdIcmRKWGtFMUNtMTJHeExydlFfV1lHeGpZUE94dUdCaTZKVFFDTy1NSzc0VnVxUG1MQkF5aUNjWXBEbHFwVlEzWVJ6aDZ5YTRaTVhxR1hz?oc=5\n"
          ]
        },
        {
          "output_type": "stream",
          "name": "stderr",
          "text": [
            "WARNING:trafilatura.core:discarding data: None\n"
          ]
        },
        {
          "output_type": "stream",
          "name": "stdout",
          "text": [
            "Fetching content for: https://news.google.com/rss/articles/CBMidkFVX3lxTE1HQmFrZEw5MFZPRUI2ZFE2YjdXaFNCcDNKc2ctWUZUaXZnLWlBMjBZcFk0SUxZSF9pVDBGMWxzYTlNNzEzeTBRWTZxblFSR1FaeHNSbmFhSkVScjJPeWJHZGpVVnlDYWVYZE40bnp0UUh0WWVaeEE?oc=5\n"
          ]
        },
        {
          "output_type": "stream",
          "name": "stderr",
          "text": [
            "WARNING:trafilatura.core:discarding data: None\n"
          ]
        },
        {
          "output_type": "stream",
          "name": "stdout",
          "text": [
            "Fetching content for: https://news.google.com/rss/articles/CBMimgFBVV95cUxQZy0zTnluLWZXNEhGZkRHUVJuTURMTktWLUROLTdMVEZIUnh2bkxoalNzYXVmUmt4WFA1clRBNUJVaUpVMmJqNVZwTldGTk5NOTdnVzN1UlBSQXFBdDFMSVFIaExyY1BHMUFMdGxVU3BwSmwwYVFvdzlpVElUZTVkRG5aTEJwYnA1VnNIQnFnSGpNZElxd1RFUjV3?oc=5\n"
          ]
        },
        {
          "output_type": "stream",
          "name": "stderr",
          "text": [
            "WARNING:trafilatura.core:discarding data: None\n"
          ]
        },
        {
          "output_type": "stream",
          "name": "stdout",
          "text": [
            "Fetching content for: https://news.google.com/rss/articles/CBMiigJBVV95cUxPTHFzb2M4bklmTElXUGptWkpxUHNMa2JNQi1rNnhWY2x0MkNvZmpyM0RMUjExQ0xRanRWT09jejlsLU8wYTg4cU1vSDNFQXhqekhqd1RFc3pJSk12UU0ta1JfRVdtRWw5ME5UMWZjZkFBaFZpWGFEeV9YelJCREZGU0I5OFFjNG5zN0N5eUJrS2hsUjdVNWZZbnNnM25JSy1TNWdaTVFjY3dfZWxJcHhjWUEtSHJuWTlabXdoNWlqTmkteG5tbzJJa3J4bW83dmJpQzhTQ05iclhrYTZqdG9ZSmJIUmJ5NWRCOFhBeUg4Rk8tMFdlcTFJcjhNM0NjUlMwUFE4WGl6aUJDd9IBjwJBVV95cUxPWDZfaHNTbXVxM2dIUnB2amRVQjBXWWRFTHhJUC1RbXpuaFYyOXVYZkFic0pkd2dvWkRtb3k4QTZvV3lIaGdiUWtjMUhlZlpuS3B4a0tnbGZzZlNNS2tQNXR5Ml9aZms5RGJUR0pfektBWG5NblB3V1RVXzNQVHNTajVpWlRPNElaRTFyQkhZMXgtanQyelhGVmFCd3prX3h0RkV2THRRa09JYjB5RmdkcFdOU2dUM3dwNDNzMmlNeVJfUGZ6OFBjQWR5NWFKRTRkNG1qX1NlMlJqeGoxc25sVFU3QW5SenhPWlVNUU1LSFJJUHczeVhUbm82RlhQN05IdlpTYmdIY2p4Rnl1QW8w?oc=5\n"
          ]
        },
        {
          "output_type": "stream",
          "name": "stderr",
          "text": [
            "WARNING:trafilatura.core:discarding data: None\n"
          ]
        },
        {
          "output_type": "stream",
          "name": "stdout",
          "text": [
            "Fetching content for: https://news.google.com/rss/articles/CBMiTEFVX3lxTE5iUnJsT0lTMkFPQkgydkhmbThEYS1WTzNQOVRpdi11VmdTTmRzSC1tWEp2Xzl0MnhueEFVeExEekItM3U5SjFaUS1rS24?oc=5\n"
          ]
        },
        {
          "output_type": "stream",
          "name": "stderr",
          "text": [
            "WARNING:trafilatura.core:discarding data: None\n"
          ]
        },
        {
          "output_type": "stream",
          "name": "stdout",
          "text": [
            "Fetching content for: https://news.google.com/rss/articles/CBMiV0FVX3lxTE5XZTFIYVI0cFNyd1E0RGtQY1ZZWDJhVVhNUU1hVTNTNmMtT2djZm5zWjZNb2pKT1RKNUdsUHJLdlQ2S1Q2Q0E2QXhfSnl5MUZuTXcyVXY5NA?oc=5\n"
          ]
        },
        {
          "output_type": "stream",
          "name": "stderr",
          "text": [
            "WARNING:trafilatura.core:discarding data: None\n"
          ]
        },
        {
          "output_type": "stream",
          "name": "stdout",
          "text": [
            "Fetching content for: https://news.google.com/rss/articles/CBMivgFBVV95cUxQcUJDcUMwWmZnRW5QYkpuVnJSaFVjZXBSM0o0V29PYlp6a056TjUwS1h1S2FwTGtOTEpqWk5QQ3lpalBscERsSHZrWDR6akVyUHUxaEVaYWMtUWtFWTN1bU9ISkV2UThpcFdGQWUxNDBESm5jU2RMdjF1Um5rN3RCRkZPS0hLUG9BTmRFLVNjdHd4NDNua1AtN1dJMnNzbHpnbmdzOVl3cE1sbllLZzUtb3owVVgzMUxqOXNWU2tn?oc=5\n"
          ]
        },
        {
          "output_type": "stream",
          "name": "stderr",
          "text": [
            "WARNING:trafilatura.core:discarding data: None\n"
          ]
        },
        {
          "output_type": "stream",
          "name": "stdout",
          "text": [
            "Fetching content for: https://news.google.com/rss/articles/CBMidkFVX3lxTFBUM1JXUlFTdWZLTU1qeHRkUndnUmU3TE5lTURUVVp5TV9Nb3JjMktpcXlqbmRyOEF6UlJMRGU2YndoS2RDY3lZS3p6OU43emVlMnJXNjQtTUFMVC14ZzAzY2c4N1BYMWJKcHQxbnFlRWU4cE8ySWc?oc=5\n"
          ]
        },
        {
          "output_type": "stream",
          "name": "stderr",
          "text": [
            "WARNING:trafilatura.core:discarding data: None\n"
          ]
        },
        {
          "output_type": "stream",
          "name": "stdout",
          "text": [
            "Fetching content for: https://news.google.com/rss/articles/CBMigAFBVV95cUxNQk03RDJnTGMzbmhlSkdpZEdlUk5uY2g2ZWhZTk1JRS1HWGxOY19ENV9UTWt5NnA3V01lSFlDNXJzSEhnb0kwampxUVIzU1puWXg4eHBxa2kwcENEbVprbGtTRjBhYWxVNlBYSVFiNWVLa2Z5SmZBb1dMNjBqN1psRw?oc=5\n"
          ]
        },
        {
          "output_type": "stream",
          "name": "stderr",
          "text": [
            "WARNING:trafilatura.core:discarding data: None\n"
          ]
        },
        {
          "output_type": "stream",
          "name": "stdout",
          "text": [
            "Fetching content for: https://news.google.com/rss/articles/CBMif0FVX3lxTE5PZmFoZTVqbGtiXzd5djZoUXZmMFpBM2dhRng4a1VCSVY5ZEtvbFdROGhmOGpkMkY2ZjFVV1Z6RGlIXzdBYUhTUERSSWkySjJNWlV6OWl3ZHJZdDhqRmY4UERpNDYyS1h6dVJ3c0hwY1gyUnAxQ3dfYnZxeFVkalnSAYQBQVVfeXFMTTlyRHhRbkNSdFVTal9nejRmWThROTRvQldNZjFKV2taLWVtejhlSjVkbDdDLS1ta0ZON2Z3M2pXM21GR3NwUEV2MzNLa2xtWU03RGZGRnRVU1R4OVpKYWdKTFZ3eTBCdDVWYkhPckxmZVhwMldySUt3WHhrOGhiSktLdm16?oc=5\n"
          ]
        },
        {
          "output_type": "stream",
          "name": "stderr",
          "text": [
            "WARNING:trafilatura.core:discarding data: None\n"
          ]
        },
        {
          "output_type": "stream",
          "name": "stdout",
          "text": [
            "Fetching content for: https://www.apple.com/newsroom/2023/06/introducing-apple-vision-pro/\n",
            "Fetching content for: https://twitter.com/lapcatsoftware/status/1326990296412991489\n",
            "Fetching content for: https://www.nytimes.com/2024/03/21/technology/apple-doj-lawsuit-antitrust.html\n",
            "Fetching content for: https://www.bloomberg.com/news/features/2018-10-04/the-big-hack-how-china-used-a-tiny-chip-to-infiltrate-america-s-top-companies\n",
            "Fetching content for: https://www.reuters.com/article/us-apple-fbi-icloud-exclusive/exclusive-apple-dropped-plan-for-encrypting-backups-after-fbi-complained-sources-idUSKBN1ZK1CT\n",
            "Fetching content for: https://www.eff.org/deeplinks/2021/08/apples-plan-think-different-about-encryption-opens-backdoor-your-private-life\n",
            "Fetching content for: https://www.foundationdb.org/blog/foundationdb-is-open-source/\n",
            "Fetching content for: https://www.apple.com/newsroom/2024/01/apple-announces-changes-to-ios-safari-and-the-app-store-in-the-european-union/\n",
            "Fetching content for: https://www.timetoplayfair.com/timeline/\n",
            "Fetching content for: https://www.theverge.com/2020/6/22/21295475/apple-mac-processors-arm-silicon-chips-wwdc-2020\n",
            "Fetching content for: https://www.reuters.com/technology/exclusive-apples-child-protection-features-spark-concern-within-its-own-ranks-2021-08-12/\n",
            "Fetching content for: https://www.bbc.com/news/articles/cgj54eq4vejo\n",
            "Fetching content for: https://www.theverge.com/2020/8/13/21366438/apple-fortnite-ios-app-store-violations-epic-payments\n",
            "Fetching content for: https://ericmigi.com/blog/apple-restricts-pebble-from-being-awesome-with-iphones/\n",
            "Fetching content for: http://finance.yahoo.com/news/Steve-Jobs-Resigns-as-CEO-of-bw-19285464.html?x=0&.v=1\n",
            "Fetching content for: https://twitter.com/TechEmails/status/1703172745893404913\n",
            "Fetching content for: https://9to5mac.com/2023/02/14/warren-buffetts-berkshire-aapl-stock/\n",
            "Fetching content for: http://finance.yahoo.com/q/hp?s=AAPL&a=08&b=7&c=2012&d=00&e=19&f=2013&g=d\n",
            "Fetching content for: http://tech3some.com/\n",
            "Fetching content for: https://9to5mac.com/2024/03/27/aapl-share-buybacks-verses-rd-spend/\n",
            "Fetching content for: http://tech.fortune.cnn.com/2012/05/02/an-apple-ceo-in-waiting-sells-95-of-his-company-shares/\n",
            "Fetching content for: https://9to5mac.com/2019/11/15/aapl-is-now-worth/\n",
            "Fetching content for: https://github.com/rajannpatel/Pi-Hole-PiVPN-on-Google-Compute-Engine-Free-Tier-with-Full-Tunnel-and-Split-Tunnel-OpenVPN-Configs/blob/master/README.md\n",
            "Fetching content for: http://tech.fortune.cnn.com/2011/04/08/the-day-fred-wilson-dumped-aapl/\n",
            "Fetching content for: http://www.google.com/finance?q=NASDAQ%3AAAPL\n",
            "Fetching content for: http://www.minyanville.com/businessmarkets/articles/apple-microsoft-flash-crash-market-capitalization/6/7/2010/id/28621\n",
            "Fetching content for: http://blog.sigfig.com/stock-market-trends/a-look-at-the-most-popular-securities-in-investor-portfolios/\n",
            "Fetching content for: http://daringfireball.net/linked/2011/04/08/wilson-aapl\n",
            "Fetching content for: https://smallandroidphone.com/\n",
            "Fetching content for: https://www.apple.com/newsroom/2020/04/iphone-se-a-powerful-new-smartphone-in-a-popular-design/\n",
            "Fetching content for: https://arslan.io/2024/09/23/dieter-rams-inspired-iphone-dock/\n",
            "Fetching content for: https://neal.fun/design-the-next-iphone/\n",
            "Fetching content for: https://citizenlab.ca/2023/09/blastpass-nso-group-iphone-zero-click-zero-day-exploit-captured-in-the-wild/\n",
            "Fetching content for: https://ifixit.org/blog/11986/iphones-are-allergic-to-helium/\n",
            "Fetching content for: https://twitter.com/matthew_d_green/status/1423071186616000513\n",
            "Fetching content for: https://www.apple.com/iphone-battery-and-performance/\n",
            "Fetching content for: https://prolost.com/blog/applelog\n",
            "Fetching content for: https://www.apple.com/newsroom/2024/06/introducing-apple-intelligence-for-iphone-ipad-and-mac/\n",
            "Fetching content for: https://citizenlab.org/2016/08/million-dollar-dissident-iphone-zero-day-nso-group-uae/\n",
            "Fetching content for: https://www.apple.com/iPhone-x\n",
            "Fetching content for: https://raymii.org/s/blog/My_24_year_old_HP_Jornada_can_do_things_your_modern_iPhone_still_cant_do.html\n",
            "Fetching content for: https://www.apple.com/newsroom/2019/11/apple-introduces-16-inch-macbook-pro-the-worlds-best-pro-notebook/\n",
            "Fetching content for: https://www.anishathalye.com/2018/04/03/macbook-touchscreen/\n",
            "Fetching content for: https://www.apple.com/macbook-pro-14-and-16/\n",
            "Fetching content for: https://columbianewsservice.com/2021/05/21/one-mans-fight-for-the-right-to-repair-broken-macbooks/\n",
            "Fetching content for: https://ifixit.org/blog/10229/macbook-pro-keyboard/\n",
            "Fetching content for: https://www.macrumors.com/2020/11/11/m1-macbook-air-first-benchmark/\n",
            "Fetching content for: https://www.apple.com/macbook/\n",
            "Fetching content for: https://www.apple.com/newsroom/2024/10/new-macbook-pro-features-m4-family-of-chips-and-apple-intelligence/\n",
            "Fetching content for: https://apple.stackexchange.com/a/363933/182292\n",
            "Fetching content for: https://www.apple.com/newsroom/2018/07/apple-updates-macbook-pro-with-faster-performance-and-new-features-for-pros/\n",
            "Fetching content for: https://www.apple.com/newsroom/2023/01/apple-unveils-macbook-pro-featuring-m2-pro-and-m2-max/\n",
            "Fetching content for: http://www.apple.com/macbook-pro/\n",
            "Fetching content for: https://9to5mac.com/2019/07/04/kuo-new-keyboard-macbook-air-pro/\n",
            "Fetching content for: https://support.apple.com/en-us/HT211148\n",
            "Fetching content for: https://www.macworld.com/article/549755/m1-macbook-app-memory-leaks-macos.html\n",
            "Fetching content for: http://www.businessweek.com/articles/2014-10-30/tim-cook-im-proud-to-be-gay\n",
            "Fetching content for: https://www.macrumors.com/2021/12/07/apple-ceo-tim-cook-secret-deal-with-china/\n",
            "Fetching content for: https://projekte.sueddeutsche.de/paradisepapers/politik/dear-tim-cook-e322998/\n",
            "Fetching content for: https://daringfireball.net/linked/2019/10/10/cook-hkmap-live-email\n",
            "Fetching content for: https://techcrunch.com/2018/10/24/apples-tim-cook-makes-blistering-attack-on-the-data-industrial-complex/\n",
            "Fetching content for: http://www.apple.com/letter-from-tim-cook-on-maps/\n",
            "Fetching content for: https://www.eff.org/deeplinks/2021/08/eff-joins-global-coalition-asking-apple-ceo-tim-cook-stop-phone-scanning\n",
            "Fetching content for: https://www.apple.com/newsroom/2019/01/letter-from-tim-cook-to-apple-investors/\n",
            "Fetching content for: https://www.buzzfeednews.com/article/johnpaczkowski/apple-tim-cook-bloomberg-retraction\n",
            "Fetching content for: https://www.tokyodev.com/articles/unbricking-my-macbook-took-an-email-to-tim-cook\n",
            "Fetching content for: http://bgr.com/2017/05/15/wannacry-ransomware-apple-ios-tim-cook/\n",
            "Fetching content for: https://techcrunch.com/2016/12/19/apples-tim-cook-assures-employees-that-it-is-committed-to-the-mac-and-that-great-desktops-are-coming/\n",
            "Fetching content for: https://steveblank.com/2016/10/24/why-tim-cook-is-steve-ballmer-and-why-he-still-has-his-job-at-apple/\n",
            "Fetching content for: https://www.theverge.com/2021/5/22/22448139/tim-cook-epic-fortnite-trial-testimony-privacy-iap-antitrust\n",
            "Fetching content for: http://blog.anylistapp.com/2015/02/open-letter-to-tim-cook-regarding-app-store-revenue-split/\n",
            "Fetching content for: https://webkit.org/blog/13878/web-push-for-web-apps-on-ios-and-ipados/\n",
            "Fetching content for: https://support.apple.com/guide/security/secbbd20b00b/1/web/1\n",
            "Fetching content for: https://www.chess.com/forum/view/general/impossible-de-jouer-depuis-deux-jours-quel-est-le-probleme\n",
            "Fetching content for: https://www.apple.com/newsroom/2023/05/apple-brings-final-cut-pro-and-logic-pro-to-ipad/\n",
            "Fetching content for: https://www.theverge.com/2024/5/9/24153113/apple-ipad-ad-crushing-apology\n",
            "Fetching content for: https://www.apple.com/newsroom/2020/03/apple-unveils-new-ipad-pro-with-lidar-scanner-and-trackpad-support-in-ipados/\n",
            "Fetching content for: http://yieldthought.com/post/12239282034/swapped-my-macbook-for-an-ipad\n",
            "Fetching content for: https://daringfireball.net/2020/01/the_ipad_awkwardly_turns_10\n",
            "Fetching content for: http://blog.marksweep.com/post/20469283331/the-beer-game-or-why-apple-cant-build-ipads-in-the\n",
            "Fetching content for: http://twolivesleft.com/Codify/\n",
            "Fetching content for: https://thinkfractional.blog/secret-ipad/\n"
          ]
        },
        {
          "output_type": "stream",
          "name": "stderr",
          "text": [
            "WARNING:trafilatura.core:discarding data: None\n"
          ]
        },
        {
          "output_type": "stream",
          "name": "stdout",
          "text": [
            "Fetching content for: https://www.blackmagicdesign.com/media/release/20221020-02\n",
            "Fetching content for: https://support.apple.com/en-us/HT212623\n",
            "Fetching content for: https://www.apple.com/ipados/\n",
            "Fetching content for: https://habr.com/en/post/579714/\n",
            "Fetching content for: https://twitter.com/jeremyburge/status/1275896482433040386\n",
            "Fetching content for: https://www.vice.com/en_us/article/k7e599/zoom-ios-app-sends-data-to-facebook-even-if-you-dont-have-a-facebook-account\n",
            "Fetching content for: https://lapcatsoftware.com/articles/2024/12/3.html\n",
            "Fetching content for: https://potential.app/ios-15-humane\n"
          ]
        },
        {
          "output_type": "stream",
          "name": "stderr",
          "text": [
            "WARNING:trafilatura.core:discarding data: None\n"
          ]
        },
        {
          "output_type": "stream",
          "name": "stdout",
          "text": [
            "Fetching content for: https://techcrunch.com/2024/03/06/apple-terminates-epic-games-developer-account-calling-it-a-threat-to-the-ios-ecosystem/\n",
            "Fetching content for: https://www.reddit.com/r/apple/comments/782250/try_quickly_typing_1_2_3_into_the_ios_11/\n",
            "Fetching content for: https://www.theverge.com/2019/1/31/18205795/apple-google-blocked-internal-ios-apps-developer-certificate\n",
            "Fetching content for: https://9to5mac.com/2023/06/08/ios-17-link-tracking-protection/\n",
            "Fetching content for: https://krausefx.com/blog/ios-privacy-stealpassword-easily-get-the-users-apple-id-password-just-by-asking\n",
            "Fetching content for: https://www.theregister.co.uk/2019/10/02/apple_hong_kong/\n",
            "Fetching content for: https://joreteg.com/blog/why-i-switched-to-android\n",
            "Fetching content for: https://twitter.com/lemiorhan/status/935578694541770752\n",
            "Fetching content for: https://saurabhs.org/advanced-macos-commands\n",
            "Fetching content for: https://sigpipe.macromates.com/2020/macos-catalina-slow-by-design/\n",
            "Fetching content for: https://twitter.com/patrickwardle/status/1318465421796782082\n",
            "Fetching content for: https://github.com/Jaennaet/pISSStream\n",
            "Fetching content for: https://mullvad.net/en/blog/2023/9/13/bug-in-macos-14-sonoma-prevents-our-app-from-working/\n",
            "Fetching content for: https://macos9.app/\n",
            "Fetching content for: https://rekken.github.io/2020/05/14/Security-Flaws-in-Adobe-Acrobat-Reader-Allow-Malicious-Program-to-Gain-Root-on-macOS-Silently/\n",
            "Fetching content for: https://waxy.org/2023/04/the-bitcoin-whitepaper-is-hidden-in-every-modern-copy-of-macos/\n",
            "Fetching content for: https://colatkinson.site/macos/fuse/2019/09/29/osxfuse/\n",
            "Fetching content for: https://weiyen.net/articles/useful-macos-cmd-line-utilities\n",
            "Fetching content for: https://twitter.com/patrickwardle/status/1349488392732491776\n",
            "Fetching content for: https://objective-see.com/products/lulu.html\n",
            "Fetching content for: https://twitter.com/DylanByers/status/1182133441267003392\n",
            "Fetching content for: https://blog.kapeli.com/apple-removed-dash-from-the-app-store\n",
            "Fetching content for: https://developer.apple.com/news/?id=mdkbobfo\n",
            "Fetching content for: https://github.com/x74353/SaveAmphetamine\n",
            "Fetching content for: https://appfairness.org/\n",
            "Fetching content for: https://www.macrumors.com/2024/01/16/us-app-store-alternative-purchase-option/\n",
            "Fetching content for: https://www.reuters.com/world/europe/google-apple-remove-navalny-app-stores-russian-elections-begin-2021-09-17/\n",
            "Fetching content for: http://blog.sketchapp.com/post/134322691555/leaving-the-mac-app-store\n",
            "Fetching content for: https://blog.malwarebytes.com/privacy-2/2022/07/tiktok-is-unacceptable-security-risk-and-should-be-removed-from-app-stores-says-fcc/\n",
            "Fetching content for: https://www.apple.com/newsroom/2020/11/apple-announces-app-store-small-business-program/\n",
            "Fetching content for: https://www.ankshilp.com/time_for_github_app_store/\n",
            "Fetching content for: https://twitter.com/keleftheriou/status/1356011069395755009\n",
            "Fetching content for: https://medium.com/@johnnylin/how-to-make-80-000-per-month-on-the-apple-app-store-bdb943862e88\n",
            "Fetching content for: https://www.seattletimes.com/seattle-news/bike-crash-left-spokane-man-unconscious-but-his-apple-watch-called-911\n",
            "Fetching content for: https://thetinypod.com/\n",
            "Fetching content for: https://github.com/MyOwnClone/quake_watch\n",
            "Fetching content for: http://www.hodinkee.com/blog/hodinkee-apple-watch-review\n",
            "Fetching content for: http://jiggity.com/steve.html\n",
            "Fetching content for: https://www.instructables.com/Mechanical-Apple-Watch-From-Real-E-Waste-Apple-Wat/\n",
            "Fetching content for: https://asia.nikkei.com/Business/Technology/Vietnam-to-make-Apple-Watch-and-MacBook-for-first-time-ever\n",
            "Fetching content for: http://www.apple.com/watch/apple-watch/\n",
            "Fetching content for: https://techcrunch.com/2024/09/16/apple-watch-sleep-apnea-detection-gets-fda-approval/\n",
            "Fetching content for: https://www.patentlyapple.com/2025/02/a-federal-judge-has-invalidated-an-omni-medsci-patent-which-could-open-the-door-for-a-blood-glucose-solution-for-apple-watch.html\n",
            "Fetching content for: https://www.apple.com/newsroom/2025/08/an-update-on-blood-oxygen-for-apple-watch-in-the-us/\n",
            "Fetching content for: https://marco.org/2017/09/24/what-watch-podcast-apps-need\n",
            "Fetching content for: https://techcrunch.com/2017/05/11/apples-watch-can-detect-an-abnormal-heart-rhythm-with-97-accuracy-ucsf-study-says/\n",
            "Fetching content for: https://github.com/jp3141/AppleWatchAmmeter\n",
            "Fetching content for: https://alexyancey.com/lost-airpods/\n",
            "Fetching content for: https://scanofthemonth.com/airpods\n",
            "Fetching content for: https://www.apple.com/newsroom/2020/12/apple-introduces-airpods-max-the-magic-of-airpods-in-a-stunning-over-ear-design/\n",
            "Fetching content for: https://philip.design/blog/airpods-dont-just-work/\n",
            "Fetching content for: https://www.kevinrooke.com/post/apple-airpods-iphone-accessory-or-the-next-big-thing\n",
            "Fetching content for: https://lagrangepoint.substack.com/p/airpods-hearing-aid-hacking\n",
            "Fetching content for: https://annoying.technology/posts/abea6876cf4f2e13/\n",
            "Fetching content for: https://www.thepodswap.com/\n",
            "Fetching content for: https://www.apple.com/airpods-pro/\n",
            "Fetching content for: https://asia.nikkei.com/Spotlight/Supply-Chain/Apple-asks-suppliers-to-shift-AirPods-Beats-production-to-India\n",
            "Fetching content for: https://www.apple.com/shop/product/MRXJ2AM/A/airpods-with-wireless-charging-case\n"
          ]
        },
        {
          "output_type": "stream",
          "name": "stderr",
          "text": [
            "WARNING:trafilatura.core:discarding data: None\n"
          ]
        },
        {
          "output_type": "stream",
          "name": "stdout",
          "text": [
            "Fetching content for: https://daringfireball.net/2020/12/heavy_is_the_head_that_wears_the_airpods_max\n",
            "Fetching content for: https://www.engadget.com/a-robotics-engineer-is-trying-to-make-the-airpods-pro-easier-to-repair-184249580.html\n",
            "Fetching content for: https://mariusmasalar.me/airpods-max\n",
            "Fetching content for: https://blogs.gnome.org/jdressler/2024/06/26/do-a-firmware-update-for-your-airpods-now/\n",
            "Fetching content for: https://techcrunch.com/2022/06/10/apple-m1-unpatchable-flaw/\n",
            "Fetching content for: https://erik-engheim.medium.com/why-is-apples-m1-chip-so-fast-3262b158cba2\n",
            "Fetching content for: https://www.zdnet.com/article/linux-6-2-the-first-mainstream-linux-kernel-for-apple-m1-chips-arrives/\n",
            "Fetching content for: https://asia.nikkei.com/Business/Tech/Semiconductors/Apple-s-follow-up-to-M1-chip-goes-into-mass-production-for-Mac\n",
            "Fetching content for: https://blog.yiningkarlli.com/2021/10/takua-on-m1-max.html\n",
            "Fetching content for: https://www.apple.com/newsroom/2021/04/imac-features-all-new-design-in-vibrant-colors-m1-chip-and-45k-retina-display/\n",
            "Fetching content for: https://doordash.engineering/2022/03/01/why-apples-new-m1-chips-are-essential-for-rapid-ios-development/\n",
            "Fetching content for: https://www.docker.com/blog/apple-silicon-m1-chips-and-docker/\n",
            "Fetching content for: https://sneak.berlin/20201204/on-trusting-macintosh-hardware/\n",
            "Fetching content for: https://inf.news/en/digital/b5599514f985bf2acd947d74d74a203d.html\n",
            "Fetching content for: https://eclecticlight.co/2022/05/31/power-on-tap-dynamic-control-of-p-cores-in-m1-chips/\n",
            "Fetching content for: https://www.wired.co.uk/article/apple-m1-chip-macbook-alternative\n",
            "Fetching content for: https://9to5mac.com/2024/09/14/iphone-16-pro-m1/\n",
            "Fetching content for: https://www.macrumors.com/2024/07/08/walmart-m1-macbook-air-for-649/\n",
            "Fetching content for: https://www.macrumors.com/2023/04/03/apple-stopped-m2-chip-production-1q-2023/\n",
            "Fetching content for: https://www.apple.com/newsroom/2022/06/apple-unveils-all-new-macbook-air-supercharged-by-the-new-m2-chip/\n",
            "Fetching content for: https://www.macworld.com/article/612350/apple-planning-to-upgrade-every-m1-mac-in-2022.html\n",
            "Fetching content for: https://www.macrumors.com/2023/06/05/apple-new-15-inch-macbook-air/\n",
            "Fetching content for: https://twitter.com/IanCutress/status/1716902706621866487\n",
            "Fetching content for: https://9to5mac.com/2023/06/05/new-mac-studio-m2-max-ultra/\n",
            "Fetching content for: https://twitter.com/Hasen_Judi/status/1822460173430194407\n",
            "Fetching content for: https://www.macrumors.com/2022/06/26/base-m2-13-inch-macbook-pro-slower-ssd-speeds/\n",
            "Fetching content for: https://www.bloomberg.com/news/articles/2023-05-31/apple-tests-new-high-end-mac-chips-ahead-of-developer-conference\n",
            "Fetching content for: https://www.macrumors.com/2023/06/10/m2-ultra-chip-benchmarks/\n",
            "Fetching content for: https://www.macrumors.com/2022/06/06/apple-announces-m2-chip-with-support-for-up-to-24gb-memory/\n",
            "Fetching content for: https://9to5mac.com/2022/06/06/m2-macbook-pro-announcement/\n",
            "Fetching content for: https://twitter.com/vadimyuryev/status/1537134411962937344\n",
            "Fetching content for: https://www.macrumors.com/2022/06/16/m2-chip-outperforms-base-mac-pro/\n",
            "Fetching content for: https://9to5mac.com/2022/06/08/qualcomm-will-beat-m2/\n",
            "Fetching content for: https://www.singhkays.com/blog/apple-silicon-m1-black-magic/\n",
            "Fetching content for: https://github.com/ggerganov/llama.cpp\n",
            "Fetching content for: https://github.com/apple/ml-ane-transformers\n",
            "Fetching content for: https://www.anandtech.com/show/16252/mac-mini-apple-m1-tested\n",
            "Fetching content for: https://machinelearning.apple.com/research/stable-diffusion-coreml-apple-silicon\n",
            "Fetching content for: https://github.com/docker/for-mac/issues/4733\n",
            "Fetching content for: https://asahilinux.org/\n",
            "Fetching content for: https://hacks.mozilla.org/2021/01/porting-firefox-to-apple-silicon/\n",
            "Fetching content for: https://github.com/chadmed/triforce\n",
            "Fetching content for: https://github.com/simnalamburt/homebrew-x/blob/main/Formula/podman-apple-silicon.rb\n",
            "Fetching content for: https://factorio.com/blog/post/fff-371\n",
            "Fetching content for: https://www.apple.com/newsroom/2023/06/apple-unveils-new-mac-studio-and-brings-apple-silicon-to-mac-pro/\n",
            "Fetching content for: https://bombich.com/blog/2021/05/19/beyond-bootable-backups-adapting-recovery-strategies-evolving-platform\n",
            "Fetching content for: https://twitter.com/marcan42/status/1333126001161773056\n",
            "Fetching content for: https://hugo.blog/2024/03/11/vision-pro/\n",
            "Fetching content for: https://christianselig.com/2024/02/introducing-juno/\n",
            "Fetching content for: https://www.wsj.com/tech/apple-vision-pro-review-39f2d82e\n",
            "Fetching content for: https://notes.andymatuschak.org/Vision%20Pro\n",
            "Fetching content for: https://azadux.blog/2024/10/08/traveling-with-apple-vision-pro/\n",
            "Fetching content for: https://www.theverge.com/24054862/apple-vision-pro-review-vr-ar-headset-features-price\n",
            "Fetching content for: https://www.apple.com/newsroom/2023/06/developer-tools-to-create-spatial-experiences-for-apple-vision-pro-now-available/\n",
            "Fetching content for: https://willem.com/blog/2024-02-16_vision-pro/\n",
            "Fetching content for: https://www.macrumors.com/2024/08/23/meta-cancels-high-end-headset/\n",
            "Fetching content for: https://www.ifixit.com/News/90137/vision-pro-teardown-why-those-fake-eyes-look-so-weird\n",
            "Fetching content for: https://www.apple.com/newsroom/2024/01/apple-vision-pro-available-in-the-us-on-february-2/\n",
            "Fetching content for: https://www.theverge.com/2023/6/8/23754239/mark-zuckerberg-meta-apple-vision-pro-headset\n",
            "Fetching content for: https://www.bloomberg.com/news/articles/2023-07-07/apple-vision-pro-headset-to-launch-in-us-stores-by-appointment\n",
            "Fetching content for: https://techcrunch.com/2023/06/05/first-impressions-yes-apple-vision-pro-works-and-yes-its-good/\n",
            "Fetching content for: https://9to5mac.com/2025/08/22/apple-reportedly-prepping-enterprise-ai-support-beyond-chatgpt/\n",
            "Fetching content for: https://9to5mac.com/2025/08/22/best-new-macbook-deals-in-august/\n",
            "Fetching content for: https://9to5mac.com/2025/08/22/apple-trained-a-large-language-model-to-efficiently-understand-long-form-video/\n",
            "Fetching content for: https://9to5mac.com/2025/08/22/trump-confirms-us-governments-10-stake-in-intel-stock-climbs/\n",
            "Fetching content for: https://9to5mac.com/2025/08/22/apple-drags-ex-apple-watch-engineer-to-court-over-oppo-trade-secret-leak/\n",
            "Fetching content for: https://9to5mac.com/2025/08/22/apple-tv-vera-farmiga-joins-upcoming-basketball-themed-comedy-co-produced-by-lebron-james/\n",
            "Fetching content for: https://9to5mac.com/2025/08/22/aqara-camera-protect-kit/\n",
            "Fetching content for: https://9to5mac.com/2025/08/22/apple-google-gemini-siri/\n",
            "Fetching content for: https://9to5mac.com/2025/08/22/daily-august-22-2025/\n",
            "Fetching content for: https://9to5mac.com/2025/08/22/next-year-iphone-is-going-ultra-premium-with-its-fall-lineup/\n",
            "Fetching content for: https://9to5mac.com/2025/08/22/if-i-were-starting-again-with-apple-kit-id-own-less-of-it/\n",
            "Fetching content for: https://9to5mac.com/2025/08/22/deals-amazon-labor-day-macbook-pro-apple-watch-ultra/\n",
            "Fetching content for: https://9to5mac.com/2025/08/22/apple-planning-simplified-version-of-the-camera-control-for-iphone-18/\n",
            "Fetching content for: https://9to5mac.com/2025/08/22/heres-everything-new-apple-tv-has-coming-in-september/\n",
            "Fetching content for: https://9to5mac.com/2025/08/22/apple-celebrates-national-parks-with-apple-pay-fitness-and-more/\n",
            "Fetching content for: https://9to5mac.com/2025/08/22/f1-movie-watch-stream-buy-or-rent-apple-tv/\n",
            "Fetching content for: https://9to5mac.com/2025/08/22/18-6-downgrade/\n",
            "Fetching content for: https://9to5mac.com/2025/08/21/meta-poaches-yet-another-ai-researcher-from-apple-the-sixth-in-seven-weeks/\n",
            "Fetching content for: https://9to5mac.com/2025/08/21/the-wait-is-over-invasion-season-3-premiere-now-available-on-apple-tv/\n",
            "Fetching content for: https://9to5mac.com/2025/08/21/whatsapp-is-working-on-a-voicemail-like-feature/\n",
            "Fetching content for: https://9to5mac.com/2025/08/21/y-combinator-backs-epic-in-apple-appeal-calls-app-store-fee-a-tax-on-innovation/\n",
            "Fetching content for: https://9to5mac.com/2025/08/21/new-iphones-and-ipads-in-russia-must-ship-with-state-backed-messaging-app-preinstalled/\n",
            "Fetching content for: https://9to5mac.com/2025/08/21/leaker-shares-alleged-iphone-17-techwoven-case-colors/\n",
            "Fetching content for: https://9to5mac.com/2025/08/21/apple-details-new-app-store-taxes-and-price-changes-in-select-countries/\n",
            "Fetching content for: https://9to5mac.com/2025/08/21/tech-groups-back-apple-in-fight-over-attorney-client-privilege-limits-in-epic-games-case/\n",
            "Fetching content for: https://9to5mac.com/2025/08/21/paramount-poaches-key-apple-tv-exec/\n",
            "Fetching content for: https://9to5mac.com/2025/08/21/new-apple-tv-4k-release-date-heres-when-to-expect-the-next-model/\n",
            "Fetching content for: https://9to5mac.com/2025/08/21/rumor-replay-iphone-17-pro-max-exclusive-feature-apple-watch-series-12-and-more/\n",
            "Fetching content for: https://9to5mac.com/2025/08/21/apple-one-just-got-harder-to-resist-more-coming-soon/\n",
            "Fetching content for: https://9to5mac.com/2025/08/21/new-airpods-pro-2-and-airpods-4-firmware-now-available-in-public-beta/\n",
            "Fetching content for: https://9to5mac.com/2025/08/21/severance-stars-face-off-in-delightful-trivia-game-show-watch-here/\n",
            "Fetching content for: https://9to5mac.com/2025/08/21/happy-hour-552/\n",
            "Fetching content for: https://9to5mac.com/2025/08/21/facetime-in-ios-26-heres-everything-new/\n",
            "Fetching content for: https://9to5mac.com/2025/08/21/daily-august-21-2025/\n",
            "Fetching content for: https://9to5mac.com/2025/08/21/foxs-new-streaming-service-is-another-win-for-apples-tv-app/\n",
            "Fetching content for: https://9to5mac.com/2025/08/21/spotify-intstagram-stories/\n",
            "Fetching content for: https://9to5mac.com/2025/08/21/deals-32gb-mac-mini-mac-studio-iphone-15-16-pro/\n",
            "Fetching content for: https://9to5google.com/2025/08/20/google-pixel-10-event-confident-apple-jokes/\n",
            "Fetching content for: https://9to5mac.com/2025/08/21/airpods-help-traveler-track-pickpocketed-wallet/\n",
            "Fetching content for: https://9to5mac.com/2025/08/21/ios-26-adds-the-fix-ive-always-wanted-for-accessing-credit-cards/\n",
            "Fetching content for: https://9to5mac.com/2025/08/21/hbo-launches-new-harry-potter-immersive-environment-on-apple-vision-pro/\n",
            "Fetching content for: https://9to5mac.com/2025/08/21/apple-tv-subscription-price-increase/\n",
            "Fetching content for: https://9to5mac.com/2025/08/21/vivos-vision-pro-clone-costs-1400-and-weighs-398g/\n",
            "Fetching content for: https://9to5mac.com/2025/08/21/apple-watch-heart-rate-alerts-brain-tumor-discovery/\n",
            "Fetching content for: https://9to5mac.com/2025/08/21/one-of-the-most-annoying-things-about-the-x-app-has-been-fixed-for-now/\n",
            "Fetching content for: https://9to5mac.com/2025/08/21/meta-allegedly-bypassed-apple-privacy-measure-and-fired-employee-who-flagged-it/\n",
            "Fetching content for: https://9to5mac.com/2025/08/21/phone-searches-at-the-us-border-are-at-record-levels-and-your-rights-are-unclear/\n",
            "Fetching content for: https://9to5mac.com/2025/08/20/south-park-mocks-tim-cooks-golden-gift-to-donald-trump/\n",
            "Fetching content for: https://9to5mac.com/2025/08/20/moises-app-can-now-generate-ai-bandmates-based-on-a-single-instrument-recording/\n",
            "Fetching content for: https://9to5mac.com/2025/08/20/9to5mac-daily-august-20-2025/\n",
            "Fetching content for: https://9to5mac.com/2025/08/20/masimo-sues-us-customs-over-apple-watch-blood-oxygen-workaround/\n",
            "Fetching content for: https://9to5mac.com/2025/08/20/google-declares-the-green-vs-blue-bubbles-debate-silly-and-tired/\n",
            "Fetching content for: https://9to5mac.com/2025/08/20/apples-killer-one-time-code-autofill-feature-gets-even-better-in-ios-26/\n",
            "Fetching content for: https://9to5mac.com/2025/08/20/how-apple-airpods-work-video/\n",
            "Fetching content for: https://9to5mac.com/2025/08/20/sketch-update-brings-liquid-glass-effects-macos-26-and-ios-26-libraries-more/\n",
            "Fetching content for: https://9to5mac.com/2025/08/20/apple-watch-ultra-3-will-likely-be-my-first-ultra-model-for-two-reasons/\n",
            "Fetching content for: https://9to5mac.com/2025/08/20/psa-update-your-iphone-to-ios-18-6-2-right-away/\n",
            "Fetching content for: https://9to5mac.com/2025/08/20/espns-new-streaming-service-has-good-news-for-apple-tv-app-users/\n",
            "Fetching content for: https://9to5mac.com/2025/08/20/apple-updates-macos-sequoia-to-version-15-6-2/\n",
            "Fetching content for: https://9to5mac.com/2025/08/20/apple-releases-ios-18-6-2-for-iphone-heres-whats-new/\n",
            "Fetching content for: https://9to5google.com/2025/08/20/made-by-google-2025-announcements/\n",
            "Fetching content for: https://9to5mac.com/2025/08/20/these-ipados-26-features-make-me-want-the-m5-ipad-pro/\n",
            "Fetching content for: https://9to5mac.com/2025/08/20/deals-m4-macbook-air-macbook-pro-ipad-air/\n",
            "Fetching content for: https://9to5mac.com/2025/08/20/no-frame-missed-short-film/\n",
            "Fetching content for: https://9to5mac.com/2025/08/20/apple-tv-reveals-darker-cutthroat-return-of-the-morning-show-in-new-trailer/\n",
            "Fetching content for: https://9to5mac.com/2025/08/20/amazon-goes-after-the-ipad-market-as-it-plans-400-android-tablet/\n",
            "Fetching content for: https://9to5mac.com/2025/08/20/carplay-is-about-to-get-one-of-apples-best-recent-iphone-features/\n",
            "Fetching content for: https://9to5mac.com/2025/08/20/iphone-17-pro-techwoven-case-crossbody-strap/\n",
            "Fetching content for: https://9to5mac.com/2025/08/20/apple-wallet-is-more-powerful-than-we-think-video/\n",
            "Fetching content for: https://9to5mac.com/2025/08/20/notion-offline-mode/\n",
            "Fetching content for: https://9to5mac.com/2025/08/20/370k-grok-ai-chats-made-public-without-user-consent/\n",
            "Fetching content for: https://9to5mac.com/2025/08/20/two-verizon-plans-are-getting-some-upgrades-at-no-extra-cost/\n",
            "Fetching content for: https://9to5mac.com/2025/08/20/seven-years-later-people-still-havent-changed-how-they-use-siri/\n",
            "Fetching content for: https://9to5mac.com/2025/08/19/macbook-pro-thunderbolt-5-ssd/\n",
            "Fetching content for: https://9to5mac.com/2025/08/19/zoom-to-drop-support-for-ios-13-and-ios-14-soon/\n",
            "Fetching content for: https://9to5mac.com/2025/08/19/carplay-geely-ex5/\n",
            "Fetching content for: https://9to5mac.com/2025/08/19/daily-august-19-2025/\n",
            "Fetching content for: https://9to5mac.com/2025/08/19/apple-mlb-friday-night-baseball-to-end/\n",
            "Fetching content for: https://9to5mac.com/2025/08/19/plex-urges-users-to-update-media-server-after-fixing-a-potential-security-issue/\n",
            "Fetching content for: https://9to5mac.com/2025/08/19/facebook-and-instagram-now-offer-ai-powered-dubbing-for-video-creators/\n",
            "Fetching content for: https://9to5mac.com/2025/08/19/apple-pay-fintiv-ruling/\n",
            "Fetching content for: https://9to5mac.com/2025/08/19/heres-everything-new-for-the-phone-app-in-ios-26/\n",
            "Fetching content for: https://9to5mac.com/2025/08/19/iphone-17-pro-may-be-a-tougher-sell-than-ever-before/\n",
            "Fetching content for: https://9to5mac.com/2025/08/19/apple-intelligence-new-features-in-ios-26-full-list/\n",
            "Fetching content for: https://9to5mac.com/2025/08/19/watch-britt-lowers-self-recorded-audition-tape-for-severance/\n",
            "Fetching content for: https://9to5mac.com/2025/08/19/airpods-8-beta-5/\n",
            "Fetching content for: https://9to5mac.com/2025/08/19/next-apple-watch-activity-challenge-supports-national-parks/\n",
            "Fetching content for: https://9to5mac.com/2025/08/19/should-you-wait-for-m5-macbook-pro-to-launch-next-spring/\n",
            "Fetching content for: https://9to5mac.com/2025/08/19/apple-wallet-support-for-ids-expands-to-montana/\n",
            "Fetching content for: https://9to5mac.com/2025/08/19/apple-watch-regains-edge-over-whoop-blood-oxygen/\n",
            "Fetching content for: https://9to5mac.com/2025/08/19/apple-tv-comedy-palm-royale-gets-season-2-release-date/\n",
            "Fetching content for: https://9to5mac.com/2025/08/19/deals-m4-macbook-air-macbook-pro-iphone-16-pro/\n",
            "Fetching content for: https://9to5mac.com/2025/08/19/spotify-copies-apple-musics-automix-feature-before-ios-26-even-ships/\n",
            "Fetching content for: https://9to5mac.com/2025/08/19/airpods-pro-2-seem-set-for-another-surprise-upgrade-at-iphone-17-event/\n",
            "Fetching content for: https://9to5mac.com/2025/08/19/apple-now-fully-supports-diy-device-repairs-in-canada/\n",
            "Fetching content for: https://9to5mac.com/2025/08/19/next-years-apple-watch-could-add-touch-id-per-leaked-code/\n",
            "Fetching content for: https://9to5mac.com/2025/08/19/what-the-ipad-mini-ipados-26-can-teach-us-about-the-future-of-the-ios/\n",
            "Fetching content for: https://9to5mac.com/2025/08/19/is-the-camera-control-button-one-of-the-biggest-iphone-flops-poll/\n",
            "Fetching content for: https://9to5mac.com/2025/08/19/iphone-17-pro-case-leather/\n",
            "Fetching content for: https://9to5mac.com/2025/08/19/substack-lets-you-subscribe-as-an-in-app-purchase-but-you-shouldnt/\n",
            "Fetching content for: https://techcrunch.com/2025/08/22/apple-gets-ready-for-ai-in-the-enterprise-with-new-chatgpt-configuration-options/\n",
            "Fetching content for: https://techcrunch.com/2025/08/22/apple-is-in-talks-to-use-googles-gemini-for-siri-revamp-report-says/\n",
            "Fetching content for: https://techcrunch.com/2025/08/22/y-combinator-says-apples-app-store-has-hindered-startup-growth/\n",
            "Fetching content for: https://techcrunch.com/2025/08/21/iphone-17-the-thinnest-iphone-ever-and-everything-else-were-expecting-out-of-apples-hardware-event/\n",
            "Fetching content for: https://techcrunch.com/2025/08/21/apple-tv-price-jumps-30-to-12-99-monthly/\n",
            "Fetching content for: https://techcrunch.com/2025/08/19/us-spy-chief-says-uk-has-dropped-its-apple-backdoor-demand/\n",
            "Fetching content for: https://techcrunch.com/2025/08/18/substack-writers-can-now-direct-u-s-readers-to-often-cheaper-web-based-subscriptions-on-ios/\n",
            "Fetching content for: https://techcrunch.com/2025/08/14/apples-blood-oxygen-monitoring-returns-to-its-latest-apple-watches/\n",
            "Fetching content for: https://techcrunch.com/2025/08/13/apple-dismisses-elon-musks-claims-that-app-store-favors-openai-over-other-ai-apps/\n",
            "Fetching content for: https://techcrunch.com/2025/08/12/australian-court-finds-apple-google-abused-app-store-market-power/\n",
            "Fetching content for: https://techcrunch.com/2025/08/11/ios-26-beta-6-adds-new-ringtones-snappy-app-launches-and-more/\n",
            "Fetching content for: https://techcrunch.com/2025/08/11/apples-new-siri-may-allow-users-to-operate-apps-just-using-voice/\n",
            "Fetching content for: https://techcrunch.com/2025/08/06/apple-to-announce-100b-further-commitment-for-u-s-manufacturing/\n",
            "Fetching content for: https://techcrunch.com/2025/08/03/apple-might-be-building-its-own-ai-answer-engine/\n",
            "Fetching content for: https://techcrunch.com/2025/08/02/tim-cook-reportedly-tells-employees-apple-must-win-in-ai/\n",
            "Fetching content for: https://techcrunch.com/2025/07/31/apple-projects-tariff-costs-will-hit-1-1b-next-quarter/\n",
            "Fetching content for: https://techcrunch.com/2025/07/31/apple-has-now-sold-three-billion-iphones/\n",
            "Fetching content for: https://techcrunch.com/2025/07/31/apple-plans-to-significantly-grow-ai-investments-cook-says/\n",
            "Fetching content for: https://techcrunch.com/2025/07/30/skechers-is-making-kids-shoes-with-a-hidden-airtag-compartment/\n",
            "Fetching content for: https://techcrunch.com/2025/07/25/india-bans-streaming-apps-youve-never-heard-of-but-millions-watch/\n",
            "Fetching content for: https://www.macrumors.com/2025/08/23/top-stories-all-new-apple-operating-system/\n",
            "Fetching content for: https://www.macrumors.com/guide/ios-26-music/\n",
            "Fetching content for: https://www.macrumors.com/2025/08/22/apple-ipad-lineup-whats-next/\n",
            "Fetching content for: https://www.macrumors.com/guide/llm-siri/\n",
            "Fetching content for: https://www.macrumors.com/2025/08/22/apple-watch-trade-secret-theft-oppo/\n",
            "Fetching content for: https://www.macrumors.com/2025/08/22/best-apple-deals-of-the-week-8-22-25/\n",
            "Fetching content for: https://www.macrumors.com/2025/08/22/google-gemini-next-gen-siri/\n",
            "Fetching content for: https://www.macrumors.com/2025/08/22/the-macrumors-show-apple-watch-series-11-or-wait/\n",
            "Fetching content for: https://www.macrumors.com/2025/08/22/f1-now-available-to-buy-or-rent/\n",
            "Fetching content for: https://www.macrumors.com/2025/08/22/original-ipod-sells-for-eye-watering-price/\n",
            "Fetching content for: https://www.macrumors.com/2025/08/22/apple-one-just-became-more-valuable/\n",
            "Fetching content for: https://www.macrumors.com/2025/08/22/apple-pay-supporting-national-park-foundation/\n",
            "Fetching content for: https://www.macrumors.com/2025/08/22/apple-music-free-trial-apple-account-balance/\n",
            "Fetching content for: https://www.macrumors.com/2025/08/22/apple-stops-signing-ios-18-6/\n",
            "Fetching content for: https://www.macrumors.com/2025/08/22/iphone-18-camera-control-button-simplified/\n",
            "Fetching content for: https://www.macrumors.com/2025/08/22/apple-loses-another-key-ai-leader-to-meta/\n",
            "Fetching content for: https://www.macrumors.com/2025/08/21/y-combinator-epic-games-amicus-brief/\n",
            "Fetching content for: https://www.macrumors.com/2025/08/21/iphone-17-techwoven-case-colors/\n",
            "Fetching content for: https://www.macrumors.com/2025/08/21/apple-ceo-tim-cook-south-park/\n",
            "Fetching content for: https://www.macrumors.com/review/ecovacs-x9-pro-omni-robot-vacuum/\n",
            "Fetching content for: https://appleinsider.com/articles/25/08/23/apple-store-in-bengaluru-prepares-for-september-2-opening?utm_source=rss\n",
            "Fetching content for: https://appleinsider.com/articles/25/08/22/amazons-month-end-sale-slashes-up-to-43-off-airpods-apple-watch-ipad-mac?utm_source=rss\n",
            "Fetching content for: https://appleinsider.com/articles/25/08/22/apple-watch-designs-allegedly-stolen-and-provided-to-oppo?utm_source=rss\n",
            "Fetching content for: https://appleinsider.com/articles/25/08/22/belkin-ultracharge-pro-3-in-1-travel-charger-review-wired-performance-wireless-convenience?utm_source=rss\n",
            "Fetching content for: https://appleinsider.com/articles/25/08/22/phony-apple-support-pages-push-malware-that-slips-past-mac-security?utm_source=rss\n",
            "Fetching content for: https://appleinsider.com/articles/25/08/22/gemini-could-join-other-third-party-ai-systems-in-boosting-siri-intelligence?utm_source=rss\n",
            "Fetching content for: https://appleinsider.com/articles/25/08/22/is-apple-one-worth-the-money-as-2026-nears?utm_source=rss\n",
            "Fetching content for: https://appleinsider.com/articles/25/08/22/rumored-techwoven-iphone-17-cases-just-got-more-real-in-first-leaked-video?utm_source=rss\n",
            "Fetching content for: https://appleinsider.com/articles/25/08/22/apple-chips-to-be-made-at-newly-opened-texas-instruments-plant?utm_source=rss\n",
            "Fetching content for: https://appleinsider.com/articles/25/08/22/latest-apple-memorabilia-auction-is-a-testament-to-the-power-of-nostalgia?utm_source=rss\n",
            "Fetching content for: https://appleinsider.com/articles/25/08/22/apple-celebrates-national-parks-109th-anniversary-with-watch-maps?utm_source=rss\n",
            "Fetching content for: https://appleinsider.com/articles/25/08/22/epic-games-investor-y-combinator-unsurprisingly-files-anti-app-store-brief?utm_source=rss\n",
            "Fetching content for: https://appleinsider.com/articles/25/08/22/googles-pixel-10-event-apples-techwoven-iphone-cases-and-more-on-the-appleinsider-podcast?utm_source=rss\n",
            "Fetching content for: https://appleinsider.com/articles/25/08/22/inside-ios-26-genmoji-tapbacks-smarter-ai-deeper-customization?utm_source=rss\n",
            "Fetching content for: https://appleinsider.com/articles/25/08/22/camera-control-is-being-redesigned-for-iphone-18-not-abandoned?utm_source=rss\n",
            "Fetching content for: https://appleinsider.com/articles/25/08/22/f1-the-movie-is-now-available-to-rent-or-buy?utm_source=rss\n",
            "Fetching content for: https://appleinsider.com/articles/25/08/20/how-to-remove-personal-data-from-the-internet-before-its-too-late?utm_source=rss\n",
            "Fetching content for: https://appleinsider.com/inside/macos/tips/how-to-make-the-most-of-apples-calendar-and-when-to-opt-for-an-alternative?utm_source=rss\n",
            "Fetching content for: https://appleinsider.com/articles/25/08/22/another-executive-departs-apple-for-meta-even-as-a-hiring-freeze-begins?utm_source=rss\n",
            "Fetching content for: https://appleinsider.com/articles/25/08/21/leaker-provides-another-look-at-techwoven-iphone-17-pro-max-cases?utm_source=rss\n",
            "Fetching content for: https://appleinsider.com/articles/25/08/21/apple-tv-senior-executive-chris-parnell-poached-by-paramount?utm_source=rss\n",
            "Fetching content for: https://appleinsider.com/articles/25/08/21/trump-phone-still-doesnt-exist-beyond-a-terrible-photoshop-job?utm_source=rss\n",
            "Fetching content for: https://appleinsider.com/articles/25/08/21/apple-iphone-16-pro-vs-google-pixel-10-pro----flagship-showdown?utm_source=rss\n",
            "Fetching content for: https://appleinsider.com/articles/25/08/21/ftc-draws-hard-line-on-foreign-driven-censorship-data-demands-for-big-tech?utm_source=rss\n",
            "Fetching content for: https://appleinsider.com/articles/25/08/21/flash-deals-save-400-on-2025-mac-studio-plus-get-m2-max-spec-for-899?utm_source=rss\n",
            "Fetching content for: https://appleinsider.com/articles/25/08/21/apple-denies-its-fitness-chief-is-bullying-his-team-as-an-employee-sues?utm_source=rss\n",
            "Fetching content for: https://appleinsider.com/articles/25/08/21/microsoft-kills-editing-in-365-copilot-app-for-iphone-ipad?utm_source=rss\n",
            "Fetching content for: https://appleinsider.com/articles/25/08/21/i-learned-so-much----attendees-laud-first-apple-manufacturing-academy-in-detroit?utm_source=rss\n",
            "Fetching content for: https://appleinsider.com/articles/25/08/21/hogwarts-great-hall-is-a-new-immersive-environment-for-apple-vision-pro-viewers?utm_source=rss\n",
            "Fetching content for: https://appleinsider.com/articles/25/08/21/apples-epic-games-court-loss-spawns-debate-over-tech-attorney-client-privilege?utm_source=rss\n",
            "Fetching content for: https://appleinsider.com/articles/25/08/21/apple-tv-subscription-jumps-to-1299-per-month?utm_source=rss\n",
            "Fetching content for: https://appleinsider.com/articles/25/08/21/heart-rate-alerts-lead-apple-watch-user-to-brain-tumor-diagnosis?utm_source=rss\n",
            "Fetching content for: https://appleinsider.com/articles/25/08/21/meta-accused-of-inflating-ad-results-dodging-apple-privacy-rules?utm_source=rss\n",
            "Fetching content for: https://appleinsider.com/articles/25/08/21/google-started-the-green-bubble-messages-fight-and-is-now-tired-of-it?utm_source=rss\n",
            "Fetching content for: https://appleinsider.com/articles/25/08/21/new-insta360-go-ultra-offers-4k-capture-in-a-small-form?utm_source=rss\n",
            "Fetching content for: https://appleinsider.com/articles/25/08/21/tim-cooks-gift-to-trump-is-mocked-by-south-park?utm_source=rss\n",
            "Fetching content for: https://appleinsider.com/inside/macos/tips/how-to-import-your-old-passwords-into-the-new-apple-passwords?utm_source=rss\n",
            "Fetching content for: https://appleinsider.com/articles/25/08/21/mchose-ut98-review-a-robust-mechanical-keyboard-with-all-the-bells-and-whistles?utm_source=rss\n",
            "Fetching content for: https://appleinsider.com/articles/25/08/20/masimo-was-last-to-learn-about-blood-oxygen-sensing-returning-to-apple-watch?utm_source=rss\n",
            "Fetching content for: https://appleinsider.com/articles/25/08/20/lowest-price-ever-m4-macbook-pro-with-24gb-ram-drops-to-1449-350-off?utm_source=rss\n",
            "Fetching content for: https://appleinsider.com/articles/25/08/20/update-now-ios-1862-patch-stops-new-and-active-spyware-attacks?utm_source=rss\n",
            "Fetching content for: https://appleinsider.com/articles/25/08/20/apple-releases-ios-1862-ipados-1862-macos-sequoia-1561?utm_source=rss\n",
            "Fetching content for: https://appleinsider.com/articles/25/08/20/google-pixel-10-pro-fold-arrive-try-to-spoil-the-iphone-17-party?utm_source=rss\n",
            "Fetching content for: https://appleinsider.com/articles/25/08/20/wireless-carriers-still-own-iphone-market-despite-apples-retail-push?utm_source=rss\n",
            "Fetching content for: https://appleinsider.com/articles/25/08/19/save-up-to-500-on-macbook-air-laptops-with-the-years-best-deals?utm_source=rss\n",
            "Fetching content for: https://appleinsider.com/articles/25/08/20/how-iphone-action-mode-helps-parkinsons-sufferers-capture-steady-moments?utm_source=rss\n",
            "Fetching content for: https://appleinsider.com/articles/25/08/20/the-morning-show-season-4-trailer-teases-a-strained-newsroom?utm_source=rss\n",
            "Fetching content for: https://appleinsider.com/articles/25/08/20/techwoven-leaks-bolstered-by-questionable-packaging-shots?utm_source=rss\n",
            "Fetching content for: https://appleinsider.com/articles/25/08/20/iphone-17-countdown-begins-as-foxconn-ramps-up-factory-hiring-in-china?utm_source=rss\n",
            "Fetching content for: https://appleinsider.com/articles/25/08/20/ben-stiller-will-not-be-directing-any-severance-season-3-episodes?utm_source=rss\n",
            "Fetching content for: https://menial.co.uk/blog/2025/08/16/base-3.0-released/\n",
            "Fetching content for: https://www.foxcorporation.com/news/business/2025/fox-one-now-available-to-stream-across-web-mobile-and-connected-tv-devices/\n",
            "Fetching content for: https://www.theverge.com/news/613292/meta-ray-ban-2-million-10-million-capacity-subscription-essilor-luxottica-earnings\n",
            "Fetching content for: https://herdling.game/\n",
            "Fetching content for: https://daringfireball.net/2025/08/msnbc_ms_now_rebranding#fn1-2025-08-20\n",
            "Fetching content for: https://daringfireball.net/2025/08/msnbc_ms_now_rebranding\n",
            "Fetching content for: https://www.businessinsider.com/anthropic-ceo-ai-90-percent-code-3-to-6-months-2025-3\n",
            "Fetching content for: https://www.youtube.com/watch?v=hEalzEnT70k\n"
          ]
        },
        {
          "output_type": "stream",
          "name": "stderr",
          "text": [
            "WARNING:trafilatura.core:discarding data: None\n"
          ]
        },
        {
          "output_type": "stream",
          "name": "stdout",
          "text": [
            "Fetching content for: https://kieranhealy.org/blog/archives/2025/06/28/american/\n",
            "Fetching content for: https://daringfireball.net/2025/08/iphone_mirroring_more_than_one_iphone\n",
            "Fetching content for: https://www.counterpointresearch.com/en/insights/post-insight-research-briefs-blogs-global-smart-glasses-shipments-soared-110-yoy-in-h1-2025-with-meta-capturing-over-70-share\n"
          ]
        },
        {
          "output_type": "stream",
          "name": "stderr",
          "text": [
            "WARNING:trafilatura.core:discarding data: None\n"
          ]
        },
        {
          "output_type": "stream",
          "name": "stdout",
          "text": [
            "Fetching content for: https://daringfireball.net/2025/08/joe_caroff_007_logo_designer\n",
            "Fetching content for: https://dekaf.com/df\n",
            "Fetching content for: https://yro.slashdot.org/comments.pl?sid=23765914&cid=65583466\n",
            "Fetching content for: https://www.axios.com/2025/08/12/trump-bls-ej-antoni-economists\n",
            "Fetching content for: https://www.theverge.com/news/695743/threads-dms-direct-messaging-launch\n",
            "Fetching content for: https://www.gov.uk/government/news/national-drought-group-meets-to-address-nationally-significant-water-shortfall\n",
            "Fetching content for: https://www.bloomberg.com/news/articles/2025-08-14/trump-administration-is-said-to-discuss-us-taking-stake-in-intel\n",
            "Fetching content for: https://www.wsj.com/economy/the-u-s-marches-toward-state-capitalism-with-american-characteristics-f75cafa8?st=48pGHz&reflink=desktopwebshare_permalink\n",
            "Fetching content for: https://x.com/backlon/status/1956075874370933114\n",
            "Fetching content for: https://daringfireball.net/2025/08/apple_workaround_blood_oxygen_ban\n",
            "Fetching content for: https://www.reuters.com/world/us/how-unraveling-two-pentagon-projects-may-result-costly-do-over-2025-08-13/\n",
            "Fetching content for: https://www.theinformation.com/articles/wild-chrome-bid-perplexity-hunting-browsers\n",
            "Fetching content for: https://daringfireball.net/2025/08/max_read_literary_history_fake_apple_texts\n",
            "Fetching content for: https://ericmigi.com/blog/pebble-time-2-design-reveal\n"
          ]
        },
        {
          "output_type": "stream",
          "name": "stderr",
          "text": [
            "WARNING:trafilatura.core:discarding data: None\n"
          ]
        },
        {
          "output_type": "stream",
          "name": "stdout",
          "text": [
            "Fetching content for: https://thecassetteapp.com/\n",
            "Fetching content for: https://apnews.com/article/tiktok-bytedance-trump-perplexity-87988733973760927bb5681f7de9b9af\n",
            "Fetching content for: https://www.wsj.com/tech/perplexity-ai-google-chrome-offer-5ddb7a22?st=r5gGet&reflink=desktopwebshare_permalink\n",
            "Fetching content for: https://www.ft.com/content/cd1a0729-a8ab-41e1-a4d2-8907f4c01cac\n",
            "Fetching content for: https://www.wsj.com/tech/nvidia-amd-chip-sales-us-government-f9e34b5f?st=pdZkXp&reflink=desktopwebshare_permalink\n",
            "Fetching content for: https://truthsocial.com/@realDonaldTrump/posts/114987288040725570\n",
            "Fetching content for: https://www.cnbc.com/2025/08/11/trump-china-tariffs-deadline-extended.html\n",
            "Fetching content for: https://daringfireball.net/2025/08/openai_chatgpt_models_emotional_attachment\n",
            "Fetching content for: https://www.tomshardware.com/service-providers/network-providers/aol-will-end-dial-up-internet-service-in-september-34-years-after-its-debut-aol-shield-browser-and-aol-dialer-software-will-be-shuttered-on-the-same-day\n",
            "Fetching content for: https://workos.com/blog/mcp-authorization-in-5-easy-oauth-specs?utm_source=daringfireball&utm_medium=display&utm_campaign=q32025\n",
            "Fetching content for: https://openai.com/index/introducing-gpt-oss/\n",
            "Fetching content for: https://www.anthropic.com/news/claude-opus-4-1\n",
            "Fetching content for: https://www.theverge.com/news/718191/google-apple-intelligence-dunk-pixel-10-ad\n",
            "Fetching content for: https://arstechnica.com/tech-policy/2025/07/meta-pirated-and-seeded-porn-for-years-to-train-ai-lawsuit-says/\n",
            "Fetching content for: https://ghost.org/changelog/6/\n",
            "Fetching content for: https://www.macrumors.com/2025/06/20/apple-discussing-perplexity-ai-bid/\n",
            "Fetching content for: https://blog.cloudflare.com/perplexity-is-using-stealth-undeclared-crawlers-to-evade-website-no-crawl-directives/\n",
            "Fetching content for: https://www.applefirst50.com/\n",
            "Fetching content for: https://www.theverge.com/reviews/717491/lenovo-thinkbook-plus-gen-6-rollable-laptop-review\n",
            "Fetching content for: https://nypost.com/2025/08/04/media/start-the-presses-new-york-post-will-expand-to-la-with-launch-of-the-california-post/\n",
            "Fetching content for: https://workos.com/?utm_source=daringfireball&utm_medium=RSS&utm_campaign=q12025\n",
            "Fetching content for: https://www.apple.com/newsroom/2025/08/apple-arcade-exclusive-nfl-retro-bowl-26-launching-september-4/\n",
            "Fetching content for: https://www.apple.com/newsroom/2025/08/apple-increases-us-commitment-to-600-billion-usd-announces-ambitious-program/\n",
            "Fetching content for: https://www.apple.com/newsroom/2025/08/apple-corning-to-manufacture-all-iphone-apple-watch-cover-glass-in-kentucky/\n",
            "Fetching content for: https://www.apple.com/newsroom/2025/07/apple-reports-third-quarter-results/\n",
            "Fetching content for: https://www.apple.com/newsroom/2025/07/leagues-cup-returns-to-mls-season-pass-on-apple-tv-on-july-29/\n",
            "Fetching content for: https://www.apple.com/newsroom/2025/07/apple-manufacturing-academy-opens-in-detroit-on-august-19/\n",
            "Fetching content for: https://www.apple.com/newsroom/2025/07/apple-and-mlb-announce-september-friday-night-baseball-schedule/\n",
            "Fetching content for: https://www.apple.com/newsroom/2025/07/apple-introduces-applecare-one-streamlining-coverage-into-a-single-plan/\n",
            "Fetching content for: https://www.apple.com/newsroom/2025/07/apple-retail-arrives-in-saudi-arabia-with-launch-of-apple-store-online/\n",
            "Fetching content for: https://www.apple.com/newsroom/2025/07/apple-arcade-launches-special-crossover-events-featuring-spongebob-squarepants/\n",
            "Fetching content for: https://www.apple.com/newsroom/2025/07/apple-news-plus-introduces-emoji-game/\n",
            "Fetching content for: https://www.apple.com/newsroom/2025/07/apple-lands-record-breaking-81-emmy-award-nominations-with-severance-leading/\n",
            "Fetching content for: https://www.apple.com/newsroom/2025/07/apple-expands-us-supply-chain-with-500-million-usd-commitment/\n",
            "Fetching content for: https://www.apple.com/newsroom/2025/07/apple-announces-chief-operating-officer-transition/\n",
            "Fetching content for: https://www.apple.com/newsroom/2025/07/apple-arcade-launches-four-new-games-in-august/\n",
            "Fetching content for: https://www.apple.com/newsroom/2025/07/apple-and-major-league-baseball-announce-august-friday-night-baseball-schedule/\n",
            "Fetching content for: https://www.apple.com/newsroom/2025/06/apple-music-celebrates-10-years-with-the-launch-of-a-new-global-hub-for-artists/\n",
            "Fetching content for: https://www.apple.com/newsroom/2025/06/apple-sports-serves-up-tennis-just-in-time-for-wimbledon/\n",
            "Fetching content for: https://www.apple.com/newsroom/2025/06/apple-expands-tools-to-help-parents-protect-kids-and-teens-online/\n",
            "Fetching content for: https://www.cultofmac.com/news/pixel-10-ai-features\n",
            "Fetching content for: https://www.cultofmac.com/deals/macpilot-customize-mac\n",
            "Fetching content for: https://www.cultofmac.com/news/google-gemini-siri\n",
            "Fetching content for: https://www.cultofmac.com/news/belkin-ultracharge-qi2-25w\n",
            "Fetching content for: https://www.cultofmac.com/news/data-recovery-mac\n",
            "Fetching content for: https://www.cultofmac.com/news/invasion-season-3\n",
            "Fetching content for: https://www.cultofmac.com/news/apple-one-subscription-bundle-pricing\n",
            "Fetching content for: https://www.cultofmac.com/reviews/rode-nth-50-headphones-review\n",
            "Fetching content for: https://www.cultofmac.com/deals/infographics-generator-infographsai\n",
            "Fetching content for: https://www.cultofmac.com/apple-history/firewire-emmy\n",
            "Fetching content for: https://www.cultofmac.com/how-to/apple-games-app\n",
            "Fetching content for: https://www.cultofmac.com/news/new-leak-shows-off-iphone-17-techwoven-case-lineup\n",
            "Fetching content for: https://www.cultofmac.com/deals/plugbug-deal\n",
            "Fetching content for: https://www.cultofmac.com/reviews/kuxiu-m30-review\n",
            "Fetching content for: https://www.cultofmac.com/news/apple-tv-price-2025\n",
            "Fetching content for: https://www.cultofmac.com/deals/smart-camera-sunglasses\n",
            "Fetching content for: https://www.cultofmac.com/apple-history/jerry-seinfeld-microsoft-ads\n",
            "Fetching content for: https://www.cultofmac.com/news/apple-watch-touch-id\n",
            "Fetching content for: https://www.cultofmac.com/deals/macbook-pro-deal\n",
            "Fetching content for: https://www.cultofmac.com/news/pixelsnap\n",
            "Fetching content for: https://www.cultofmac.com/news/ios-18-6-2\n",
            "Fetching content for: https://www.cultofmac.com/deals/mosalingua-ai-language-learning-app\n",
            "Fetching content for: https://www.cultofmac.com/news/iphone-action-mode-video\n",
            "Fetching content for: https://www.cultofmac.com/news/finewoven-replacement-for-iphone-17-cases\n",
            "Fetching content for: https://www.cultofmac.com/apple-history/apple-card-launch\n",
            "Fetching content for: https://www.cultofmac.com/news/the-morning-show-season-4\n",
            "Fetching content for: https://www.cultofmac.com/setups/best-dual-monitor-setup\n",
            "Fetching content for: https://www.cultofmac.com/deals/personal-alarm\n",
            "Fetching content for: https://www.cultofmac.com/news/ipados-26-beta-install\n",
            "Fetching content for: https://www.cultofmac.com/news/five-apple-factories-india-will-build-iphone-17-us\n",
            "Fetching content for: https://www.cultofmac.com/news/apple-wallet-drivers-license-states\n",
            "Fetching content for: https://www.cultofmac.com/how-to/add-driver-license-to-apple-wallet\n",
            "Fetching content for: https://www.cultofmac.com/news/montana-digital-drivers-license-apple-wallet\n",
            "Fetching content for: https://www.cultofmac.com/news/owc-express-1m2-80g\n",
            "Fetching content for: https://www.cultofmac.com/apple-history/google-ipo\n",
            "Fetching content for: https://www.cultofmac.com/reviews/rolling-square-supertiny-review\n",
            "Fetching content for: https://www.cultofmac.com/news/icloud-back-door-dropped\n",
            "Fetching content for: https://www.cultofmac.com/deals/speakbreez-ai-voice-generator\n",
            "Fetching content for: https://www.cultofmac.com/news/ios-26-beta-features-changes\n",
            "Fetching content for: https://www.cultofmac.com/how-to/remove-ios-beta-ios-26-to-ios-18-2\n",
            "Fetching content for: https://www.cultofmac.com/news/the-dink-movie-apple-tv\n",
            "Fetching content for: https://www.cultofmac.com/deals/imagiyo-nsfw-ai-generator-deal\n",
            "Fetching content for: https://www.cultofmac.com/news/ios-26-beta\n",
            "Fetching content for: https://www.cultofmac.com/news/iphone-17e-ditches-the-notch\n",
            "Fetching content for: https://www.cultofmac.com/news/mirror-iphone-to-tv\n",
            "Fetching content for: https://www.cultofmac.com/apple-history/ijustine-300-page-iphone-bill\n",
            "Fetching content for: https://www.cultofmac.com/deals/apple-watch-deal\n",
            "Fetching content for: https://www.cultofmac.com/deals/dvd-ripper\n",
            "Fetching content for: https://www.cultofmac.com/news/iphone-17-air-rumor-roundup\n",
            "Fetching content for: https://www.cultofmac.com/news/iphone-18-release-date-delayed\n",
            "Fetching content for: https://www.cultofmac.com/deals/clicks-iphone-keyboard-case-deal\n",
            "Fetching content for: https://www.cultofmac.com/apple-history/steve-jobs-stolen-ipad\n",
            "Fetching content for: https://www.cultofmac.com/news/libernovo-omni-massage-office-chair\n",
            "Fetching content for: https://www.cultofmac.com/news/chief-of-war-season-1-ratings\n",
            "Fetching content for: https://www.cultofmac.com/deals/airpods-pro-deal\n",
            "Fetching content for: https://www.mactrast.com/2025/08/apple-celebrates-national-parks-with-apple-pay-related-donations-apple-watch-and-more/\n",
            "Fetching content for: https://www.mactrast.com/2025/08/apple-in-early-talks-to-power-next-gen-siri-with-googles-gemini-ai/\n",
            "Fetching content for: https://www.mactrast.com/2025/08/upcoming-apple-promo-to-give-you-2-months-free-apple-music-when-you-add-25-to-your-apple-account-balance/\n",
            "Fetching content for: https://www.mactrast.com/2025/08/apple-stops-signing-ios-18-6-following-release-of-ios-18-6-2/\n",
            "Fetching content for: https://www.mactrast.com/2025/08/f1-the-movie-races-into-on-demand-availability-in-apple-tv-app/\n",
            "Fetching content for: https://www.mactrast.com/2025/08/new-public-beta-firmware-for-airpods-pro-2-and-airpods-4-now-available/\n",
            "Fetching content for: https://www.mactrast.com/2025/08/monthly-price-of-apple-tv-streaming-service-goes-up-again/\n",
            "Fetching content for: https://www.mactrast.com/2025/08/the-morning-show-season-4-trailer-offers-preview-at-upcoming-action/\n",
            "Fetching content for: https://www.mactrast.com/2025/08/apple-releases-safari-technology-preview-226-brings-bug-fixes-and-performance-improvements/\n",
            "Fetching content for: https://www.mactrast.com/2025/08/masimo-files-fresh-lawsuit-over-restored-apple-watch-blood-oxygen-feature/\n",
            "Fetching content for: https://www.mactrast.com/2025/08/apple-tv-reportedly-dropping-all-of-its-mlb-coverage/\n",
            "Fetching content for: https://www.mactrast.com/2025/08/psa-be-sure-to-update-ios-18-6-2-and-macos-sequoia-15-6-1-they-fix-an-actively-exploited-vulnerability/\n",
            "Fetching content for: https://www.mactrast.com/2025/08/how-iphones-action-mode-helps-people-with-parkinsons-to-shoot-stable-video/\n",
            "Fetching content for: https://www.mactrast.com/2025/08/august-24-national-parks-apple-watch-activity-challenge-celebrates-national-parks-in-the-u-s/\n",
            "Fetching content for: https://www.mactrast.com/2025/08/iphone-apple-wallet-drivers-license-support-expands-has-expanded-to-this-western-state/\n",
            "Fetching content for: https://www.mactrast.com/2025/08/new-beta-firmware-now-available-for-airpods-pro-2-and-airpods-4/\n",
            "Fetching content for: https://www.mactrast.com/2025/08/iffy-rumor-out-of-china-claims-iphone-18-could-drop-camera-control-button/\n",
            "Fetching content for: https://www.mactrast.com/2025/08/apples-self-service-repair-and-genuine-parts-distributor-programs-now-available-in-canada/\n",
            "Fetching content for: https://www.mactrast.com/2025/08/ios-26-and-watchos-26-beta-7-include-code-that-re-enables-redesigned-blood-oxygen-feature-for-u-s-users/\n",
            "Fetching content for: https://www.mactrast.com/2025/08/uk-to-withdraw-demand-for-access-to-apple-users-encrypted-icloud-data/\n",
            "Fetching content for: https://www.idropnews.com/opinion/a-smarter-siri-is-coming-will-anyone-actually-use-it/251958/\n",
            "Fetching content for: https://www.idropnews.com/news/you-can-now-buy-a-digital-copy-of-f1-the-movie/251951/\n",
            "Fetching content for: https://www.idropnews.com/rumors/the-camera-control-isnt-going-away-its-getting-better/251948/\n",
            "Fetching content for: https://www.idropnews.com/news/vivo-launches-1400-apple-vision-pro-clone-in-china/251940/\n",
            "Fetching content for: https://www.idropnews.com/news/jimmy-fallon-helps-google-unveil-the-new-pixel-10-lineup/251921/\n",
            "Fetching content for: https://www.idropnews.com/rumors/could-techwoven-be-apples-answer-to-finewovens-failure/251929/\n",
            "Fetching content for: https://www.idropnews.com/news/apple-tv-is-getting-a-price-hike/251917/\n",
            "Fetching content for: https://www.idropnews.com/news/apple-just-released-ios-1862-heres-why-you-should-update-right-away/251908/\n",
            "Fetching content for: https://www.idropnews.com/news/the-fights-not-over-masimo-sues-us-customs-over-apples-clever-blood-oxygen-fix/251901/\n",
            "Fetching content for: https://www.idropnews.com/news/no-frame-missed-recording-iphone-video-with-parkinsons/251883/\n",
            "Fetching content for: https://www.idropnews.com/rumors/will-the-iphone-camera-control-go-the-way-of-3d-touch/251890/\n",
            "Fetching content for: https://www.idropnews.com/news/texas-judge-calls-fintivs-bluff-in-apple-pay-shakedown/251885/\n",
            "Fetching content for: https://www.idropnews.com/news/apple-and-mlb-may-part-ways/251877/\n",
            "Fetching content for: https://www.idropnews.com/news/elon-musk-threatens-apple-with-legal-action-over-app-store/251849/\n",
            "Fetching content for: https://www.idropnews.com/news/apple-brings-diy-repair-and-genuine-parts-sales-to-canada/251866/\n",
            "Fetching content for: https://www.idropnews.com/rumors/touch-id-on-the-apple-watch-new-code-shows-it-could-happen/251854/\n",
            "Fetching content for: https://www.idropnews.com/rumors/is-brad-pitts-f1-movie-racing-to-a-streaming-release-soon/251850/\n",
            "Fetching content for: https://www.idropnews.com/apps/8-cross-platform-apps-that-you-can-use-on-all-your-devices/246741/\n",
            "Fetching content for: https://www.idropnews.com/news/nearly-all-us-bound-iphone-17-models-will-be-made-in-india/251837/\n",
            "Fetching content for: https://www.idropnews.com/news/the-seventh-beta-of-ios-26-is-out-heres-whats-new/251826/\n",
            "Fetching content for: https://www.idropnews.com/news/the-spy-who-wouldnt-uk-backs-off-on-icloud-snooping/251817/\n",
            "Fetching content for: https://www.idropnews.com/news/fast-tech/metas-next-smart-glasses-may-match-the-iphones-price/251792/\n",
            "Fetching content for: https://www.idropnews.com/rumors/next-years-budget-iphone-17-could-cut-fewer-corners/251811/\n",
            "Fetching content for: https://www.idropnews.com/rumors/rumored-liquid-silicone-iphone-17-cases-may-have-a-certain-charm/251804/\n",
            "Fetching content for: https://www.igeeksblog.com/how-to-find-hidden-apps-on-iphone-ipad/\n",
            "Fetching content for: https://www.igeeksblog.com/how-to-turn-off-private-browsing-on-iphone-ipad/\n",
            "Fetching content for: https://www.igeeksblog.com/how-to-fix-syncing-with-icloud-paused/\n",
            "Fetching content for: https://www.igeeksblog.com/paid-iphone-apps-gone-free/\n",
            "Fetching content for: https://www.igeeksblog.com/volleyball-legends-codes/\n",
            "Fetching content for: https://www.igeeksblog.com/how-to-fix-apple-watch-not-syncing-with-iphone/\n",
            "Fetching content for: https://www.igeeksblog.com/how-to-use-markup-on-ipad-iphone/\n",
            "Fetching content for: https://www.igeeksblog.com/how-to-accept-shared-album-invite-on-iphone-ipad/\n",
            "Fetching content for: https://www.igeeksblog.com/drippy-wallpapers-for-iphone/\n",
            "Fetching content for: https://www.igeeksblog.com/add-driver-license-state-id-to-apple-wallet/\n",
            "Fetching content for: https://arstechnica.com/culture/2025/08/after-successes-like-severance-and-the-studio-apple-tv-gets-a-price-hike/\n",
            "Fetching content for: https://arstechnica.com/ai/2025/08/in-xcode-26-apple-shows-first-signs-of-offering-chatgpt-alternatives/\n",
            "Fetching content for: https://arstechnica.com/gadgets/2025/08/report-apples-smart-home-ambitions-include-tabletop-robot-cameras-and-more/\n",
            "Fetching content for: https://arstechnica.com/tech-policy/2025/08/apple-gets-yanked-into-elon-musks-chatbot-war-with-openai/\n",
            "Fetching content for: https://arstechnica.com/ai/2025/08/apple-brings-openais-gpt-5-to-ios-and-macos/\n",
            "Fetching content for: https://arstechnica.com/tech-policy/2025/08/trump-wanted-a-us-made-iphone-apple-gave-him-a-gold-statue/\n",
            "Fetching content for: https://arstechnica.com/gadgets/2025/07/apple-releases-ios-18-6-macos-15-6-and-other-updates-as-current-gen-winds-down/\n",
            "Fetching content for: https://arstechnica.com/gadgets/2025/07/six-lesser-known-features-to-like-in-the-macos-26-tahoe-public-beta/\n",
            "Fetching content for: https://arstechnica.com/gadgets/2025/07/public-betas-of-ios-26-macos-26-ipados-26-and-other-oses-now-available/\n",
            "Fetching content for: https://arstechnica.com/gadgets/2025/07/new-applecare-one-plan-bundles-three-extended-warranties-for-20-a-month/\n",
            "Fetching content for: https://arstechnica.com/gadgets/2025/07/apple-sues-youtuber-who-leaked-ios-26s-new-liquid-glass-software-redesign/\n",
            "Fetching content for: https://arstechnica.com/gaming/2025/07/cyberpunk-2077s-mac-port-will-run-on-all-apple-silicon-chips-even-the-aging-m1/\n",
            "Fetching content for: https://arstechnica.com/gadgets/2025/07/report-apple-m4-more-comfortable-strap-will-headline-first-major-vision-pro-update/\n",
            "Fetching content for: https://arstechnica.com/ai/2025/07/ai-mania-pushes-nvidia-to-record-4-trillion-valuation/\n",
            "Fetching content for: https://arstechnica.com/apple/2025/07/what-would-a-cheap-apple-a18-powered-macbook-actually-be-good-at/\n",
            "Fetching content for: https://arstechnica.com/gadgets/2025/06/apple-will-introduce-vision-air-and-smart-glasses-in-2027-analyst-projects/\n",
            "Fetching content for: https://arstechnica.com/gadgets/2025/06/apple-gives-eu-users-app-store-options-in-attempt-to-avoid-massive-fines/\n",
            "Fetching content for: https://arstechnica.com/cars/2025/06/apples-push-to-take-over-the-dashboard-resisted-by-car-makers/\n",
            "Fetching content for: https://arstechnica.com/gadgets/2025/06/apple-releases-new-beta-builds-of-all-its-flashy-new-liquid-glass-ified-os-updates/\n",
            "Fetching content for: https://arstechnica.com/tech-policy/2025/06/trump-org-launches-47-month-wireless-service-teases-odd-499-phone/\n",
            "Fetching content for: https://venturebeat.com/ai/do-reasoning-models-really-think-or-not-apple-research-sparks-lively-debate-response/\n",
            "Fetching content for: https://venturebeat.com/ai/apple-makes-major-ai-advance-with-image-generation-technology-rivaling-dall-e-and-midjourney/\n",
            "Fetching content for: https://venturebeat.com/ai/deepseek-v3-now-runs-at-20-tokens-per-second-on-mac-studio-and-thats-a-nightmare-for-openai/\n",
            "Fetching content for: https://venturebeat.com/ai/apples-elegnt-framework-could-make-home-robots-feel-less-like-machines-and-more-like-companions/\n",
            "Fetching content for: https://venturebeat.com/ai/openai-rolls-out-chatgpt-for-iphone-in-landmark-ai-integration-with-apple/\n",
            "Fetching content for: https://venturebeat.com/ai/georgia-tech-joins-apples-new-silicon-engineering-initiative/\n",
            "Fetching content for: https://venturebeat.com/ai/study-finds-llms-can-identify-their-own-mistakes/\n",
            "Fetching content for: https://venturebeat.com/ai/apple-releases-depth-pro-an-ai-model-that-rewrites-the-rules-of-3d-vision/\n",
            "Fetching content for: https://venturebeat.com/ai/apple-aims-for-on-device-user-intent-understanding-with-ui-jepa-models/\n",
            "Fetching content for: https://venturebeat.com/ai/apple-toolsandbox-reveals-open-source-ai-behind-proprietary-models/\n",
            "Fetching content for: https://venturebeat.com/ai/hugging-face-acquires-xethub-from-ex-apple-researchers-for-large-ai-model-hosting/\n",
            "Fetching content for: https://venturebeat.com/ai/searchgpt-will-force-google-and-seo-to-innovate/\n",
            "Fetching content for: https://venturebeat.com/ai/ios-gets-an-ai-upgrade-inside-apples-new-intelligence-system/\n",
            "Fetching content for: https://venturebeat.com/ai/apple-shows-off-open-ai-prowess-new-models-outperform-mistral-and-hugging-face-offerings/\n",
            "Fetching content for: https://venturebeat.com/ai/openai-anticipates-decrease-in-ai-model-costs-amid-adoption-surge/\n",
            "Fetching content for: https://venturebeat.com/ai/apple-just-launched-a-public-demo-of-its-4m-ai-model-heres-why-its-a-big-deal/\n",
            "Fetching content for: https://venturebeat.com/ai/whats-the-best-interface-for-gen-ai-it-all-depends-on-the-use-case/\n",
            "Fetching content for: https://venturebeat.com/ai/apple-embraces-open-source-ai-with-20-core-ml-models-on-hugging-face-platform/\n",
            "Fetching content for: https://venturebeat.com/ai/what-we-know-about-apples-on-device-ai/\n",
            "Fetching content for: https://venturebeat.com/ai/apples-pcc-an-ambitious-attempt-at-ai-privacy-revolution/\n",
            "Fetching content for: https://venturebeat.com/business/apple-intelligence-first-reactions-from-pure-slop-to-excellent-work/\n",
            "Fetching content for: https://venturebeat.com/ai/elon-musk-threatens-apple-ban-over-openai-integration-cybersecurity-experts-raise-alarms/\n",
            "Fetching content for: https://venturebeat.com/ai/apples-openai-partnership-a-boost-for-siri-or-a-trojan-horse-for-microsoft/\n",
            "Fetching content for: https://venturebeat.com/ai/apple-announces-apple-intelligence-its-multi-modal-generative-ai-service-for-mac-iphone-ipad/\n",
            "Fetching content for: https://venturebeat.com/ai/inside-the-ai-integration-strategies-of-apple-and-microsoft/\n",
            "Fetching content for: https://venturebeat.com/ai/ceding-control-how-copilot-and-pcs-could-make-enterprises-beholden-to-microsoft/\n",
            "Fetching content for: https://venturebeat.com/virtual/google-and-hp-aim-to-bridge-remote-worker-gap-with-project-starline/\n",
            "Fetching content for: https://venturebeat.com/virtual/apple-slammed-by-users-over-ipad-pro-crush-ad-fascist-aesthetic/\n",
            "Fetching content for: https://venturebeat.com/ai/apple-releases-openelm-small-open-source-ai-models-designed-to-run-on-device/\n",
            "DataFrame with raw scraped data and content:\n",
            "                                                 url  \\\n",
            "0  https://news.google.com/rss/articles/CBMigwFBV...   \n",
            "1  https://news.google.com/rss/articles/CBMilAFBV...   \n",
            "2  https://news.google.com/rss/articles/CBMixwFBV...   \n",
            "3  https://news.google.com/rss/articles/CBMitwFBV...   \n",
            "4  https://news.google.com/rss/articles/CBMimwFBV...   \n",
            "\n",
            "                                               title       source  \\\n",
            "0  'South Park' spoofs tech bros, Tim Cook, and T...  Google News   \n",
            "1  'South Park' Mocks Tech Bros, Tim Cook, and Ch...  Google News   \n",
            "2  South Park Blasts Mark Zuckerberg, Tim Cook fo...  Google News   \n",
            "3  Apple increases U.S. commitment to $600 billio...  Google News   \n",
            "4  Apple CEO Tim Cook’s $100 billion commitment t...  Google News   \n",
            "\n",
            "                  published_date content  \n",
            "0  Sat, 23 Aug 2025 12:27:22 GMT          \n",
            "1  Fri, 22 Aug 2025 02:09:00 GMT          \n",
            "2  Thu, 21 Aug 2025 17:05:24 GMT          \n",
            "3  Wed, 06 Aug 2025 07:00:00 GMT          \n",
            "4  Thu, 07 Aug 2025 07:00:00 GMT          \n",
            "\n",
            "DataFrame shape: (1018, 5)\n"
          ]
        }
      ]
    },
    {
      "cell_type": "code",
      "source": [
        "raw_df_with_content.to_csv(\"/content/raw_df_with_content.csv\",index=False)\n"
      ],
      "metadata": {
        "id": "vWR8HbkQLyOR"
      },
      "execution_count": null,
      "outputs": []
    },
    {
      "cell_type": "code",
      "source": [
        "raw_df_with_content = pd.read_csv(\"/content/raw_df_with_content.csv\")"
      ],
      "metadata": {
        "id": "IWme7B6Ax1aL"
      },
      "execution_count": 49,
      "outputs": []
    },
    {
      "cell_type": "code",
      "source": [
        "news = raw_df_with_content.copy()\n",
        "news"
      ],
      "metadata": {
        "colab": {
          "base_uri": "https://localhost:8080/",
          "height": 424
        },
        "id": "54qrg6hjSPa1",
        "outputId": "53fd73dd-b6ec-4927-acd0-eb99d5b1e070"
      },
      "execution_count": 50,
      "outputs": [
        {
          "output_type": "execute_result",
          "data": {
            "text/plain": [
              "                                                    url  \\\n",
              "0     https://news.google.com/rss/articles/CBMigwFBV...   \n",
              "1     https://news.google.com/rss/articles/CBMilAFBV...   \n",
              "2     https://news.google.com/rss/articles/CBMixwFBV...   \n",
              "3     https://news.google.com/rss/articles/CBMitwFBV...   \n",
              "4     https://news.google.com/rss/articles/CBMimwFBV...   \n",
              "...                                                 ...   \n",
              "1013  https://venturebeat.com/ai/inside-the-ai-integ...   \n",
              "1014  https://venturebeat.com/ai/ceding-control-how-...   \n",
              "1015  https://venturebeat.com/virtual/google-and-hp-...   \n",
              "1016  https://venturebeat.com/virtual/apple-slammed-...   \n",
              "1017  https://venturebeat.com/ai/apple-releases-open...   \n",
              "\n",
              "                                                  title             source  \\\n",
              "0     'South Park' spoofs tech bros, Tim Cook, and T...        Google News   \n",
              "1     'South Park' Mocks Tech Bros, Tim Cook, and Ch...        Google News   \n",
              "2     South Park Blasts Mark Zuckerberg, Tim Cook fo...        Google News   \n",
              "3     Apple increases U.S. commitment to $600 billio...        Google News   \n",
              "4     Apple CEO Tim Cook’s $100 billion commitment t...        Google News   \n",
              "...                                                 ...                ...   \n",
              "1013  Microsoft’s vs. Apple’s AI computer strategies...  VentureBeat Apple   \n",
              "1014  Ceding control: How Copilot+ and PCs could mak...  VentureBeat Apple   \n",
              "1015  Google and HP aim to bridge remote worker gap ...  VentureBeat Apple   \n",
              "1016  Apple slammed by users over iPad Pro ‘Crush’ a...  VentureBeat Apple   \n",
              "1017  Apple releases OpenELM: small, open source AI ...  VentureBeat Apple   \n",
              "\n",
              "                       published_date  \\\n",
              "0       Sat, 23 Aug 2025 12:27:22 GMT   \n",
              "1       Fri, 22 Aug 2025 02:09:00 GMT   \n",
              "2       Thu, 21 Aug 2025 17:05:24 GMT   \n",
              "3       Wed, 06 Aug 2025 07:00:00 GMT   \n",
              "4       Thu, 07 Aug 2025 07:00:00 GMT   \n",
              "...                               ...   \n",
              "1013  Thu, 23 May 2024 14:24:46 +0000   \n",
              "1014  Wed, 22 May 2024 01:04:17 +0000   \n",
              "1015  Mon, 13 May 2024 20:08:15 +0000   \n",
              "1016  Wed, 08 May 2024 13:54:24 +0000   \n",
              "1017  Wed, 24 Apr 2024 16:04:19 +0000   \n",
              "\n",
              "                                                content  \n",
              "0                                                   NaN  \n",
              "1                                                   NaN  \n",
              "2                                                   NaN  \n",
              "3                                                   NaN  \n",
              "4                                                   NaN  \n",
              "...                                                 ...  \n",
              "1013  Want smarter insights in your inbox? Sign up f...  \n",
              "1014  Want smarter insights in your inbox? Sign up f...  \n",
              "1015  Google and HP today announced their intent to ...  \n",
              "1016  Apple, Inc. has had a rough year. But maybe it...  \n",
              "1017  Want smarter insights in your inbox? Sign up f...  \n",
              "\n",
              "[1018 rows x 5 columns]"
            ],
            "text/html": [
              "\n",
              "  <div id=\"df-c6809e20-3164-4ab5-9734-8b8ef009fec3\" class=\"colab-df-container\">\n",
              "    <div>\n",
              "<style scoped>\n",
              "    .dataframe tbody tr th:only-of-type {\n",
              "        vertical-align: middle;\n",
              "    }\n",
              "\n",
              "    .dataframe tbody tr th {\n",
              "        vertical-align: top;\n",
              "    }\n",
              "\n",
              "    .dataframe thead th {\n",
              "        text-align: right;\n",
              "    }\n",
              "</style>\n",
              "<table border=\"1\" class=\"dataframe\">\n",
              "  <thead>\n",
              "    <tr style=\"text-align: right;\">\n",
              "      <th></th>\n",
              "      <th>url</th>\n",
              "      <th>title</th>\n",
              "      <th>source</th>\n",
              "      <th>published_date</th>\n",
              "      <th>content</th>\n",
              "    </tr>\n",
              "  </thead>\n",
              "  <tbody>\n",
              "    <tr>\n",
              "      <th>0</th>\n",
              "      <td>https://news.google.com/rss/articles/CBMigwFBV...</td>\n",
              "      <td>'South Park' spoofs tech bros, Tim Cook, and T...</td>\n",
              "      <td>Google News</td>\n",
              "      <td>Sat, 23 Aug 2025 12:27:22 GMT</td>\n",
              "      <td>NaN</td>\n",
              "    </tr>\n",
              "    <tr>\n",
              "      <th>1</th>\n",
              "      <td>https://news.google.com/rss/articles/CBMilAFBV...</td>\n",
              "      <td>'South Park' Mocks Tech Bros, Tim Cook, and Ch...</td>\n",
              "      <td>Google News</td>\n",
              "      <td>Fri, 22 Aug 2025 02:09:00 GMT</td>\n",
              "      <td>NaN</td>\n",
              "    </tr>\n",
              "    <tr>\n",
              "      <th>2</th>\n",
              "      <td>https://news.google.com/rss/articles/CBMixwFBV...</td>\n",
              "      <td>South Park Blasts Mark Zuckerberg, Tim Cook fo...</td>\n",
              "      <td>Google News</td>\n",
              "      <td>Thu, 21 Aug 2025 17:05:24 GMT</td>\n",
              "      <td>NaN</td>\n",
              "    </tr>\n",
              "    <tr>\n",
              "      <th>3</th>\n",
              "      <td>https://news.google.com/rss/articles/CBMitwFBV...</td>\n",
              "      <td>Apple increases U.S. commitment to $600 billio...</td>\n",
              "      <td>Google News</td>\n",
              "      <td>Wed, 06 Aug 2025 07:00:00 GMT</td>\n",
              "      <td>NaN</td>\n",
              "    </tr>\n",
              "    <tr>\n",
              "      <th>4</th>\n",
              "      <td>https://news.google.com/rss/articles/CBMimwFBV...</td>\n",
              "      <td>Apple CEO Tim Cook’s $100 billion commitment t...</td>\n",
              "      <td>Google News</td>\n",
              "      <td>Thu, 07 Aug 2025 07:00:00 GMT</td>\n",
              "      <td>NaN</td>\n",
              "    </tr>\n",
              "    <tr>\n",
              "      <th>...</th>\n",
              "      <td>...</td>\n",
              "      <td>...</td>\n",
              "      <td>...</td>\n",
              "      <td>...</td>\n",
              "      <td>...</td>\n",
              "    </tr>\n",
              "    <tr>\n",
              "      <th>1013</th>\n",
              "      <td>https://venturebeat.com/ai/inside-the-ai-integ...</td>\n",
              "      <td>Microsoft’s vs. Apple’s AI computer strategies...</td>\n",
              "      <td>VentureBeat Apple</td>\n",
              "      <td>Thu, 23 May 2024 14:24:46 +0000</td>\n",
              "      <td>Want smarter insights in your inbox? Sign up f...</td>\n",
              "    </tr>\n",
              "    <tr>\n",
              "      <th>1014</th>\n",
              "      <td>https://venturebeat.com/ai/ceding-control-how-...</td>\n",
              "      <td>Ceding control: How Copilot+ and PCs could mak...</td>\n",
              "      <td>VentureBeat Apple</td>\n",
              "      <td>Wed, 22 May 2024 01:04:17 +0000</td>\n",
              "      <td>Want smarter insights in your inbox? Sign up f...</td>\n",
              "    </tr>\n",
              "    <tr>\n",
              "      <th>1015</th>\n",
              "      <td>https://venturebeat.com/virtual/google-and-hp-...</td>\n",
              "      <td>Google and HP aim to bridge remote worker gap ...</td>\n",
              "      <td>VentureBeat Apple</td>\n",
              "      <td>Mon, 13 May 2024 20:08:15 +0000</td>\n",
              "      <td>Google and HP today announced their intent to ...</td>\n",
              "    </tr>\n",
              "    <tr>\n",
              "      <th>1016</th>\n",
              "      <td>https://venturebeat.com/virtual/apple-slammed-...</td>\n",
              "      <td>Apple slammed by users over iPad Pro ‘Crush’ a...</td>\n",
              "      <td>VentureBeat Apple</td>\n",
              "      <td>Wed, 08 May 2024 13:54:24 +0000</td>\n",
              "      <td>Apple, Inc. has had a rough year. But maybe it...</td>\n",
              "    </tr>\n",
              "    <tr>\n",
              "      <th>1017</th>\n",
              "      <td>https://venturebeat.com/ai/apple-releases-open...</td>\n",
              "      <td>Apple releases OpenELM: small, open source AI ...</td>\n",
              "      <td>VentureBeat Apple</td>\n",
              "      <td>Wed, 24 Apr 2024 16:04:19 +0000</td>\n",
              "      <td>Want smarter insights in your inbox? Sign up f...</td>\n",
              "    </tr>\n",
              "  </tbody>\n",
              "</table>\n",
              "<p>1018 rows × 5 columns</p>\n",
              "</div>\n",
              "    <div class=\"colab-df-buttons\">\n",
              "\n",
              "  <div class=\"colab-df-container\">\n",
              "    <button class=\"colab-df-convert\" onclick=\"convertToInteractive('df-c6809e20-3164-4ab5-9734-8b8ef009fec3')\"\n",
              "            title=\"Convert this dataframe to an interactive table.\"\n",
              "            style=\"display:none;\">\n",
              "\n",
              "  <svg xmlns=\"http://www.w3.org/2000/svg\" height=\"24px\" viewBox=\"0 -960 960 960\">\n",
              "    <path d=\"M120-120v-720h720v720H120Zm60-500h600v-160H180v160Zm220 220h160v-160H400v160Zm0 220h160v-160H400v160ZM180-400h160v-160H180v160Zm440 0h160v-160H620v160ZM180-180h160v-160H180v160Zm440 0h160v-160H620v160Z\"/>\n",
              "  </svg>\n",
              "    </button>\n",
              "\n",
              "  <style>\n",
              "    .colab-df-container {\n",
              "      display:flex;\n",
              "      gap: 12px;\n",
              "    }\n",
              "\n",
              "    .colab-df-convert {\n",
              "      background-color: #E8F0FE;\n",
              "      border: none;\n",
              "      border-radius: 50%;\n",
              "      cursor: pointer;\n",
              "      display: none;\n",
              "      fill: #1967D2;\n",
              "      height: 32px;\n",
              "      padding: 0 0 0 0;\n",
              "      width: 32px;\n",
              "    }\n",
              "\n",
              "    .colab-df-convert:hover {\n",
              "      background-color: #E2EBFA;\n",
              "      box-shadow: 0px 1px 2px rgba(60, 64, 67, 0.3), 0px 1px 3px 1px rgba(60, 64, 67, 0.15);\n",
              "      fill: #174EA6;\n",
              "    }\n",
              "\n",
              "    .colab-df-buttons div {\n",
              "      margin-bottom: 4px;\n",
              "    }\n",
              "\n",
              "    [theme=dark] .colab-df-convert {\n",
              "      background-color: #3B4455;\n",
              "      fill: #D2E3FC;\n",
              "    }\n",
              "\n",
              "    [theme=dark] .colab-df-convert:hover {\n",
              "      background-color: #434B5C;\n",
              "      box-shadow: 0px 1px 3px 1px rgba(0, 0, 0, 0.15);\n",
              "      filter: drop-shadow(0px 1px 2px rgba(0, 0, 0, 0.3));\n",
              "      fill: #FFFFFF;\n",
              "    }\n",
              "  </style>\n",
              "\n",
              "    <script>\n",
              "      const buttonEl =\n",
              "        document.querySelector('#df-c6809e20-3164-4ab5-9734-8b8ef009fec3 button.colab-df-convert');\n",
              "      buttonEl.style.display =\n",
              "        google.colab.kernel.accessAllowed ? 'block' : 'none';\n",
              "\n",
              "      async function convertToInteractive(key) {\n",
              "        const element = document.querySelector('#df-c6809e20-3164-4ab5-9734-8b8ef009fec3');\n",
              "        const dataTable =\n",
              "          await google.colab.kernel.invokeFunction('convertToInteractive',\n",
              "                                                    [key], {});\n",
              "        if (!dataTable) return;\n",
              "\n",
              "        const docLinkHtml = 'Like what you see? Visit the ' +\n",
              "          '<a target=\"_blank\" href=https://colab.research.google.com/notebooks/data_table.ipynb>data table notebook</a>'\n",
              "          + ' to learn more about interactive tables.';\n",
              "        element.innerHTML = '';\n",
              "        dataTable['output_type'] = 'display_data';\n",
              "        await google.colab.output.renderOutput(dataTable, element);\n",
              "        const docLink = document.createElement('div');\n",
              "        docLink.innerHTML = docLinkHtml;\n",
              "        element.appendChild(docLink);\n",
              "      }\n",
              "    </script>\n",
              "  </div>\n",
              "\n",
              "\n",
              "    <div id=\"df-60a09c6b-cbe8-413e-90a3-6b2b4600bb76\">\n",
              "      <button class=\"colab-df-quickchart\" onclick=\"quickchart('df-60a09c6b-cbe8-413e-90a3-6b2b4600bb76')\"\n",
              "                title=\"Suggest charts\"\n",
              "                style=\"display:none;\">\n",
              "\n",
              "<svg xmlns=\"http://www.w3.org/2000/svg\" height=\"24px\"viewBox=\"0 0 24 24\"\n",
              "     width=\"24px\">\n",
              "    <g>\n",
              "        <path d=\"M19 3H5c-1.1 0-2 .9-2 2v14c0 1.1.9 2 2 2h14c1.1 0 2-.9 2-2V5c0-1.1-.9-2-2-2zM9 17H7v-7h2v7zm4 0h-2V7h2v10zm4 0h-2v-4h2v4z\"/>\n",
              "    </g>\n",
              "</svg>\n",
              "      </button>\n",
              "\n",
              "<style>\n",
              "  .colab-df-quickchart {\n",
              "      --bg-color: #E8F0FE;\n",
              "      --fill-color: #1967D2;\n",
              "      --hover-bg-color: #E2EBFA;\n",
              "      --hover-fill-color: #174EA6;\n",
              "      --disabled-fill-color: #AAA;\n",
              "      --disabled-bg-color: #DDD;\n",
              "  }\n",
              "\n",
              "  [theme=dark] .colab-df-quickchart {\n",
              "      --bg-color: #3B4455;\n",
              "      --fill-color: #D2E3FC;\n",
              "      --hover-bg-color: #434B5C;\n",
              "      --hover-fill-color: #FFFFFF;\n",
              "      --disabled-bg-color: #3B4455;\n",
              "      --disabled-fill-color: #666;\n",
              "  }\n",
              "\n",
              "  .colab-df-quickchart {\n",
              "    background-color: var(--bg-color);\n",
              "    border: none;\n",
              "    border-radius: 50%;\n",
              "    cursor: pointer;\n",
              "    display: none;\n",
              "    fill: var(--fill-color);\n",
              "    height: 32px;\n",
              "    padding: 0;\n",
              "    width: 32px;\n",
              "  }\n",
              "\n",
              "  .colab-df-quickchart:hover {\n",
              "    background-color: var(--hover-bg-color);\n",
              "    box-shadow: 0 1px 2px rgba(60, 64, 67, 0.3), 0 1px 3px 1px rgba(60, 64, 67, 0.15);\n",
              "    fill: var(--button-hover-fill-color);\n",
              "  }\n",
              "\n",
              "  .colab-df-quickchart-complete:disabled,\n",
              "  .colab-df-quickchart-complete:disabled:hover {\n",
              "    background-color: var(--disabled-bg-color);\n",
              "    fill: var(--disabled-fill-color);\n",
              "    box-shadow: none;\n",
              "  }\n",
              "\n",
              "  .colab-df-spinner {\n",
              "    border: 2px solid var(--fill-color);\n",
              "    border-color: transparent;\n",
              "    border-bottom-color: var(--fill-color);\n",
              "    animation:\n",
              "      spin 1s steps(1) infinite;\n",
              "  }\n",
              "\n",
              "  @keyframes spin {\n",
              "    0% {\n",
              "      border-color: transparent;\n",
              "      border-bottom-color: var(--fill-color);\n",
              "      border-left-color: var(--fill-color);\n",
              "    }\n",
              "    20% {\n",
              "      border-color: transparent;\n",
              "      border-left-color: var(--fill-color);\n",
              "      border-top-color: var(--fill-color);\n",
              "    }\n",
              "    30% {\n",
              "      border-color: transparent;\n",
              "      border-left-color: var(--fill-color);\n",
              "      border-top-color: var(--fill-color);\n",
              "      border-right-color: var(--fill-color);\n",
              "    }\n",
              "    40% {\n",
              "      border-color: transparent;\n",
              "      border-right-color: var(--fill-color);\n",
              "      border-top-color: var(--fill-color);\n",
              "    }\n",
              "    60% {\n",
              "      border-color: transparent;\n",
              "      border-right-color: var(--fill-color);\n",
              "    }\n",
              "    80% {\n",
              "      border-color: transparent;\n",
              "      border-right-color: var(--fill-color);\n",
              "      border-bottom-color: var(--fill-color);\n",
              "    }\n",
              "    90% {\n",
              "      border-color: transparent;\n",
              "      border-bottom-color: var(--fill-color);\n",
              "    }\n",
              "  }\n",
              "</style>\n",
              "\n",
              "      <script>\n",
              "        async function quickchart(key) {\n",
              "          const quickchartButtonEl =\n",
              "            document.querySelector('#' + key + ' button');\n",
              "          quickchartButtonEl.disabled = true;  // To prevent multiple clicks.\n",
              "          quickchartButtonEl.classList.add('colab-df-spinner');\n",
              "          try {\n",
              "            const charts = await google.colab.kernel.invokeFunction(\n",
              "                'suggestCharts', [key], {});\n",
              "          } catch (error) {\n",
              "            console.error('Error during call to suggestCharts:', error);\n",
              "          }\n",
              "          quickchartButtonEl.classList.remove('colab-df-spinner');\n",
              "          quickchartButtonEl.classList.add('colab-df-quickchart-complete');\n",
              "        }\n",
              "        (() => {\n",
              "          let quickchartButtonEl =\n",
              "            document.querySelector('#df-60a09c6b-cbe8-413e-90a3-6b2b4600bb76 button');\n",
              "          quickchartButtonEl.style.display =\n",
              "            google.colab.kernel.accessAllowed ? 'block' : 'none';\n",
              "        })();\n",
              "      </script>\n",
              "    </div>\n",
              "\n",
              "  <div id=\"id_0407845c-979b-47f4-868f-1cf12ef5685c\">\n",
              "    <style>\n",
              "      .colab-df-generate {\n",
              "        background-color: #E8F0FE;\n",
              "        border: none;\n",
              "        border-radius: 50%;\n",
              "        cursor: pointer;\n",
              "        display: none;\n",
              "        fill: #1967D2;\n",
              "        height: 32px;\n",
              "        padding: 0 0 0 0;\n",
              "        width: 32px;\n",
              "      }\n",
              "\n",
              "      .colab-df-generate:hover {\n",
              "        background-color: #E2EBFA;\n",
              "        box-shadow: 0px 1px 2px rgba(60, 64, 67, 0.3), 0px 1px 3px 1px rgba(60, 64, 67, 0.15);\n",
              "        fill: #174EA6;\n",
              "      }\n",
              "\n",
              "      [theme=dark] .colab-df-generate {\n",
              "        background-color: #3B4455;\n",
              "        fill: #D2E3FC;\n",
              "      }\n",
              "\n",
              "      [theme=dark] .colab-df-generate:hover {\n",
              "        background-color: #434B5C;\n",
              "        box-shadow: 0px 1px 3px 1px rgba(0, 0, 0, 0.15);\n",
              "        filter: drop-shadow(0px 1px 2px rgba(0, 0, 0, 0.3));\n",
              "        fill: #FFFFFF;\n",
              "      }\n",
              "    </style>\n",
              "    <button class=\"colab-df-generate\" onclick=\"generateWithVariable('news')\"\n",
              "            title=\"Generate code using this dataframe.\"\n",
              "            style=\"display:none;\">\n",
              "\n",
              "  <svg xmlns=\"http://www.w3.org/2000/svg\" height=\"24px\"viewBox=\"0 0 24 24\"\n",
              "       width=\"24px\">\n",
              "    <path d=\"M7,19H8.4L18.45,9,17,7.55,7,17.6ZM5,21V16.75L18.45,3.32a2,2,0,0,1,2.83,0l1.4,1.43a1.91,1.91,0,0,1,.58,1.4,1.91,1.91,0,0,1-.58,1.4L9.25,21ZM18.45,9,17,7.55Zm-12,3A5.31,5.31,0,0,0,4.9,8.1,5.31,5.31,0,0,0,1,6.5,5.31,5.31,0,0,0,4.9,4.9,5.31,5.31,0,0,0,6.5,1,5.31,5.31,0,0,0,8.1,4.9,5.31,5.31,0,0,0,12,6.5,5.46,5.46,0,0,0,6.5,12Z\"/>\n",
              "  </svg>\n",
              "    </button>\n",
              "    <script>\n",
              "      (() => {\n",
              "      const buttonEl =\n",
              "        document.querySelector('#id_0407845c-979b-47f4-868f-1cf12ef5685c button.colab-df-generate');\n",
              "      buttonEl.style.display =\n",
              "        google.colab.kernel.accessAllowed ? 'block' : 'none';\n",
              "\n",
              "      buttonEl.onclick = () => {\n",
              "        google.colab.notebook.generateWithVariable('news');\n",
              "      }\n",
              "      })();\n",
              "    </script>\n",
              "  </div>\n",
              "\n",
              "    </div>\n",
              "  </div>\n"
            ],
            "application/vnd.google.colaboratory.intrinsic+json": {
              "type": "dataframe",
              "variable_name": "news",
              "summary": "{\n  \"name\": \"news\",\n  \"rows\": 1018,\n  \"fields\": [\n    {\n      \"column\": \"url\",\n      \"properties\": {\n        \"dtype\": \"string\",\n        \"num_unique_values\": 1018,\n        \"samples\": [\n          \"https://www.patentlyapple.com/2025/02/a-federal-judge-has-invalidated-an-omni-medsci-patent-which-could-open-the-door-for-a-blood-glucose-solution-for-apple-watch.html\",\n          \"https://www.cultofmac.com/deals/airpods-pro-deal\",\n          \"https://factorio.com/blog/post/fff-371\"\n        ],\n        \"semantic_type\": \"\",\n        \"description\": \"\"\n      }\n    },\n    {\n      \"column\": \"title\",\n      \"properties\": {\n        \"dtype\": \"string\",\n        \"num_unique_values\": 1018,\n        \"samples\": [\n          \"US Judge invalidates blood glucose sensor patent, opens door for Apple Watch\",\n          \"AirPods Pro 2 deal makes premium sound more affordable\",\n          \"Factorio runs on Apple Silicon\"\n        ],\n        \"semantic_type\": \"\",\n        \"description\": \"\"\n      }\n    },\n    {\n      \"column\": \"source\",\n      \"properties\": {\n        \"dtype\": \"category\",\n        \"num_unique_values\": 14,\n        \"samples\": [\n          \"Mactrast\",\n          \"iGeeksBlog\",\n          \"Google News\"\n        ],\n        \"semantic_type\": \"\",\n        \"description\": \"\"\n      }\n    },\n    {\n      \"column\": \"published_date\",\n      \"properties\": {\n        \"dtype\": \"string\",\n        \"num_unique_values\": 871,\n        \"samples\": [\n          \"2014-09-10T21:37:17Z\",\n          \"Fri, 22 Aug 2025 20:48:22 GMT\",\n          \"Fri, 22 Aug 2025 01:05:50 +0000\"\n        ],\n        \"semantic_type\": \"\",\n        \"description\": \"\"\n      }\n    },\n    {\n      \"column\": \"content\",\n      \"properties\": {\n        \"dtype\": \"string\",\n        \"num_unique_values\": 513,\n        \"samples\": [\n          \"THE NEW PLATFORM FOR LIVE AND ON-DEMAND ACCESS TO SIGNATURE FOX NEWS, SPORTS, ENTERTAINMENT AND MORE, IS NOW AVAILABLE FOR $19.99/MONTH WITH A 7-DAY FREE TRIAL New York, NY and Los Angeles, CA, August 21, 2025 \\u2013 Fox Corporation (Nasdaq: FOXA, FOX; \\u201cFOX\\u201d or the \\u201cCompany\\u201d) today announced the official launch of FOX One, a bold new streaming service that brings together the full portfolio of FOX\\u2019s News, Sports and Entertainment branded content\\u2014all in one place, both live and on demand. Available today across major web, mobile and connected TV platforms, FOX One is priced at $19.99/month with a 7-day free trial or $199.99/year, with the option to add-on B1G+ or bundle FOX Nation for an even greater value. Starting October 2, customers will also have the opportunity to bundle FOX One with ESPN DTC Unlimited for $39.99/month. Designed for today\\u2019s digital-first audience, FOX One is here to serve the 65+ million U.S. households that live outside the cable bundle. With something for everyone\\u2014FOX One offers ease of access to the bold voices, breaking news, career-making plays, dynamic features and entertainment America loves and has come to expect from FOX, all in a single, highly personalized platform. \\u201cWe are excited to get FOX One in the hands of viewers today, and bring our leading News, Sports and Entertainment programming to fans who have been underserved in the streaming ecosystem to date,\\u201d said Pete Distad, CEO, Direct to Consumer, Fox Corporation. \\u201cIn my time here, I have come to appreciate that FOX is as ambitious and entrepreneurial a tech company as it is a media company. The team has worked tirelessly to bring all of our live programming together with our emerging technology into the new FOX One platform in a very short period of time\\u2026and we are just getting started. FOX One will continue to rapidly evolve in the weeks and months ahead to seek to not only meet, but exceed our customers\\u2019 expectations for a premium and personalized viewing experience in an AI-powered world.\\u201d \\u201cWE LIVE FOR LIVE\\u201d \\u2013 FOX\\u2019S SUPERPOWER, NOW STREAMING With FOX\\u2019s long legacy as a leader in live programming, the introduction of FOX One is a powerful extension of that DNA. FOX One delivers a seamless, live streaming experience for the moments that matter most, from breaking news and record-setting sports to must-see competition series and acclaimed animation. A NEW STANDARD FOR STREAMING TECHNOLOGY FOX\\u2019s incomparably executed live-stream presentation of Super Bowl LIX on Tubi raised the bar for digital broadcasting at scale, reaching 15.5 million peak concurrent viewers and 24 million unique viewers. FOX One builds on that technological achievement and momentum with a next-generation platform engineered for a live-first experience. Underpinning the experience are smart, purpose-built AI integrations that give audiences of all types choice and flexibility in when and how they watch. From personalized content packaging and publishing to intelligent discovery, enhanced search capabilities powered in partnership with Perplexity and responsive support through Sierra AI, FOX One applies emerging tech to unlock value, clarity and connection. - LIVE AND UNFILTERED: FOX One has a robust collection of live sports, news and entertainment for your viewing pleasure. The latest news and biggest plays as they happen in real time. Stay current with breaking news as it unfolds. From our hottest FOX series to iconic live events\\u2014you won\\u2019t miss a beat. We live for LIVE. - FOX NEWS \\u2013 NOW AVAILABLE on FOX One: Stream FOX News live 24/7 anytime, anywhere. Get around-the-clock access to live coverage, breaking news and your favorite FOX News shows\\u2014all in one seamless experience, with alerts to keep you informed. - YOUR FOX, YOUR WAY: Skip the search and cut down on aimless scrolling with personalized content from FOX One. Discover relevant live and on-demand shows right on your home screen. - RECORD YOUR FAVORITES: Watch live or save it for later. You can record your favorite leagues, teams and shows with no storage limits. Find all your recordings in your personal library to enjoy anytime. - CATCH UP WITH HIGHLIGHTS: Joined the game late? No problem\\u2014catch up with the highlights you missed, then join live instantly. Bypass the spoilers and hide the live score until you\\u2019re all caught up. The biggest moments in sports, served just how you like them. - SWIPE-WORTHY SHORTS: Discover the top trending sports stories, informative news, and TV clips filled with jaw-dropping hot takes in a fresh vertical video format. Get all the moments you crave in bite-sized, sharable pieces of content. (currently in Beta) FOX One was built from the ground up to meet the evolving needs of today\\u2019s cord-cutters and cord-nevers. With a loyal, intentional fanbase, premium content portfolio and differentiated technology, FOX One is poised for the next era of streaming. ROBUST PROGRAMMING ACROSS EVERY CATEGORY As we embark on a new season of NFL and College football kickoffs, all-new and returning hit shows, non-stop breaking news coverage and so much more\\u2014there truly is something for every FOX fan LIVE on FOX One. - News & Opinion: FOX News Channel, FOX Business, FOX Weather, LiveNOW, FOX Local Stations and more\\u2014live and on-demand FOX News Channel, the #1 Cable News Channel for more than 23 years, will bring their leading coverage of all the moments that matter most to viewers live for the first time in a streaming service. With over 1.5 billion YouTube and 3.7 billion social video views in the most recent fiscal quarter alone, FOX News is already engaging massive audiences online\\u2014and FOX One is about to become their new destination. FOX Television Stations are a local news powerhouse and the #1 local news source per Comscore, producing over 1,350 hours of local news a week across linear and streaming and features over 600 local sporting events including top NFL, MLB and NBA events. - Sports: FOX Sports, FS1, FS2, Big Ten Network (BTN), FOX Deportes The games, leagues, commentary and moments you don\\u2019t want to miss. NFL, MLB, College Football and Basketball, UFL, NASCAR, INDYCAR, FIFA World Cup 26\\u2122 and more. - Entertainment: This fall\\u2019s biggest hits are on FOX Doc, The Floor, 99 to Beat, Celebrity Weakest Link and Celebrity Name That Tune, Special Forces: World\\u2019s Toughest Test, Hell\\u2019s Kitchen, Murder in a Small Town, The Faithful, and the full Animation Domination lineup including The Simpsons, Universal Basic Guys, Krapopolis and Bob\\u2019s Burgers. MODERN BUNDLING OPTIONS & FLEXIBLE ACCESS With ease-of-access and a full slate of programming at their fingertips\\u2014FOX One has something for everyone, all in one place. FOX One is now available on Apple iOS and Android mobile, web (www.FOXOne.com) and connected TV platforms including Roku, Amazon Fire TV and Prime Video Channels, Apple TV, Google TV, Android TV, Microsoft Xbox, Samsung, LG and VIZIO. Existing pay TV customers will have the ease of authenticating within the FOX One platform for no additional cost. FOX Nation and B1G+ are available on the FOX One platform where users can add-on B1G+ or bundle FOX One and FOX Nation for $24.99 per month or the equivalent of $19.99 per month when purchasing the annual plan at launch. And, in a recently announced partnership with ESPN, sports fans will have the opportunity to bundle the new ESPN DTC Unlimited offering with FOX One for $39.99 a month beginning October 2. Through this bundle, viewers will have access to all of ESPN\\u2019s linear networks\\u2014ESPN, ESPN2, ESPNU, SECN, ACCN, ESPNEWS, ESPN Deportes\\u2014in addition to ESPN on ABC, ESPN+, SECN+ and ACCNX, covering 47,000 live events each year, on-demand replays, studio shows, original programming, as well as newly expanded NFL content and more in addition to the complete FOX One content offering. FOX One will continue to explore ways to maximize value for subscribers with additional bundling options. STRATEGIC MARKETING & AUDIENCE ENGAGEMENT To bring the service to market, FOX One\\u2019s launch campaign hones in on FOX\\u2019s dominance in the area of LIVE and its distinguishing functionality in the service. \\u201cWe Live For LIVE\\u201d connects with today\\u2019s cord-cutters and cord-nevers where they live, through a host of creator platforms, social media, podcasts and digital-first strategies. For more information, visit www.FOXOne.com or access high-resolution assets at www.FOXOnepressroom.com. About FOX One FOX One is Fox Corporation\\u2019s wholly-owned, direct to consumer streaming service, bringing together the thrill of live streaming and the bold, trusted voices that define the full portfolio of FOX brands, including FOX News Channel, FOX Sports, the FOX Network, B1G, FOX Business, FOX Weather, FS1, FS2, FOX Deportes, FOX Local Stations and FOX Nation through the bundle. FOX One is designed to cater to cord-cutters and cord-nevers, delivering FOX\\u2019s content directly to audiences wherever they are and allowing them to watch how and when they want. Utilizing the technological innovations of Tubi Media Group, FOX One leverages cutting-edge technology to enhance the user experience, with advanced technology to help audiences discover and enjoy content with ease and easily integrate live and on-demand content. About Fox Corporation Fox Corporation produces and distributes compelling news, sports, and entertainment content through its primary iconic domestic brands, including FOX News Media, FOX Sports, Tubi Media Group, FOX Entertainment and FOX Television Stations. These brands hold cultural significance with consumers and commercial importance for distributors and advertisers. The breadth and depth of our footprint allows us to deliver content that engages and informs audiences, develop deeper consumer relationships, and create more compelling product offerings. FOX maintains an impressive track record of news, sports, and entertainment industry success that shapes our strategy to capitalize on existing strengths and invest in new initiatives. For more information about Fox Corporation, please visit www.FoxCorporation.com. Cautionary Statement Concerning Forward-Looking Statements This press release contains \\u201cforward-looking statements\\u201d within the meaning of the Private Securities Litigation Reform Act of 1995. Words such as \\u201cmay,\\u201d \\u201cwill,\\u201d \\u201cshould,\\u201d \\u201clikely,\\u201d \\u201canticipates,\\u201d \\u201cexpects,\\u201d \\u201cintends,\\u201d \\u201cplans,\\u201d \\u201cprojects,\\u201d \\u201cbelieves,\\u201d \\u201cestimates,\\u201d \\u201coutlook\\u201d and similar expressions are used to identify these forward-looking statements. These statements are based on management\\u2019s current expectations and beliefs and are subject to uncertainty and changes in circumstances. Actual results may vary materially from those expressed or implied by the statements in this press release due to changes in economic, business, competitive, technological, strategic and/or regulatory factors and other factors affecting the operation of the Company\\u2019s businesses. More detailed information about these factors is contained in the documents the Company has filed with or furnished to the Securities and Exchange Commission, including the Company\\u2019s Annual Report on Form 10-K and subsequent Quarterly Reports on Form 10-Q. Statements in this press release speak only as of the date they were made, and the Company undertakes no duty to update or release any revisions to any forward-looking statement made in this press release or to report any events or circumstances after the date of this press release or to reflect the occurrence of unanticipated events or to conform such statements to actual results or changes in the Company\\u2019s expectations, except as required by law. Media Contact: Lauren Townsend Fox Corporation lauren.townsend@fox.com 310-369-2729\",\n          \"Want smarter insights in your inbox? Sign up for our weekly newsletters to get only what matters to enterprise AI, data, and security leaders. Subscribe Now Apple has lifted the curtain on its latest artificial intelligence efforts, revealing details about new language models designed to power AI features across its devices while prioritizing user privacy and responsible development. In a research paper published today, Apple described two new foundation language models: a 3-billion parameter model optimized to run efficiently on iPhones and other devices, and a larger server-based model. These models form the backbone of \\u201cApple Intelligence,\\u201d a new AI system introduced at the company\\u2019s developer conference earlier this year. \\u201cApple Intelligence consists of multiple highly-capable generative models that are fast, efficient, specialized for our users\\u2019 everyday tasks, and can adapt on the fly for their current activity,\\u201d the researchers explain in the paper. The iPhone AI revolution: 3 billion parameters in your pocket A key focus for Apple was developing models that could run directly on devices like iPhones, rather than relying solely on cloud processing. This aligns with the company\\u2019s emphasis on privacy. AI Scaling Hits Its Limits Power caps, rising token costs, and inference delays are reshaping enterprise AI. Join our exclusive salon to discover how top teams are: - Turning energy into a strategic advantage - Architecting efficient inference for real throughput gains - Unlocking competitive ROI with sustainable AI systems Secure your spot to stay ahead: https://bit.ly/4mwGngO \\u201cWe protect our users\\u2019 privacy with powerful on-device processing and groundbreaking infrastructure like Private Cloud Compute,\\u201d Apple researchers wrote. \\u201cWe do not use our users\\u2019 private personal data or user interactions when training our foundation models.\\u201d The on-device model, dubbed AFM-on-device, contains about 3 billion parameters \\u2014 far smaller than leading models from companies like OpenAI and Meta, which can have hundreds of billions of parameters. However, Apple says it has optimized the model for efficiency and responsiveness on mobile devices. For more intensive tasks, Apple developed a larger server-based model called AFM-server. While the exact size was not disclosed, it is designed to run in Apple\\u2019s cloud infrastructure using a system called Private Cloud Compute to protect user data. Responsible AI: Apple\\u2019s ethical approach to artificial intelligence Apple emphasized its focus on \\u201cResponsible AI\\u201d principles throughout the development process. This includes efforts to reduce bias, protect privacy, and avoid potential misuse or harm from AI systems. \\u201cWe take precautions at every stage of our process, including design, model training, feature development, and quality evaluation to identify how our AI tools may be misused or lead to potential harm,\\u201d the researchers said. The models were trained on a diverse dataset including web pages, licensed content from publishers, code repositories, and specialized math and science data. Notably, Apple says it did not use any private user data in training the models. Industry analysts say Apple\\u2019s approach, balancing on-device and cloud processing while emphasizing privacy, could help differentiate its AI offerings in an increasingly crowded market. This strategy aligns with Apple\\u2019s long-standing focus on user privacy and device-level processing, but it also presents unique challenges and opportunities. By prioritizing on-device AI, Apple can offer faster response times and offline functionality, potentially giving it an edge in real-world usability. However, the limitations of mobile hardware mean these models may struggle to match the raw capabilities of larger, cloud-based systems. Apple\\u2019s emphasis on responsible AI development and privacy protection could also resonate strongly with consumers and regulators alike, especially as concerns about AI ethics and data privacy continue to grow. This approach may help Apple build trust with users and potentially sidestep some of the regulatory scrutiny facing other tech giants. The new AI models are expected to power a range of features in upcoming versions of iOS, iPadOS and macOS starting in October (recently delayed). Apple says the technology will enhance everything from text generation to image creation to in-app interactions. As the AI landscape continues to evolve, Apple\\u2019s unique approach represents a major bet on the future of generative AI technology. The success of this strategy will depend not only on the technical capabilities of Apple\\u2019s AI models, but also on how well the company can integrate these technologies into its ecosystem in ways that provide tangible benefits to users while maintaining its commitment to privacy and responsible development.\",\n          \"Toggle Dark Mode Today, Apple released an emotional short film showing how the iPhone makes it possible for people with movement disorders, particularly Parkinson\\u2019s disease, to record stable videos. The film, No Frame Missed, highlights three people living with Parkinson\\u2019s disease and how the iPhone\\u2019s Action mode has helped them preserve both precious moments and a sense of normalcy in their lives. Brett Harvey was diagnosed with Parkinson\\u2019s six years ago at the age of 37. Ellen Victoria and Bette W. have lived with it for 10 years. In the film, all three share the joy and hope that recording video on the iPhone with Action mode has brought to their lives. It\\u2019s a powerful five minutes and worth a watch. Beyond capturing the stories of Brett, Ellen, and Victoria, No Frame Missed underscores the critical value that the iPhone and its Accessibility Features bring to those living with disabilities and to their loved ones. Here it is. The iPhone features at the center of the film are Camera\\u2019s Action mode and Voice Control. Action mode first debuted with the iPhone 14 almost three years ago. It was originally designed and marketed as a feature allowing for the recording of smooth videos while moving around, even while walking and jogging. No Frame Missed captures Action mode\\u2019s incredible emergence as a vital tool for those living with Parkinson\\u2019s and similar disorders. To enable Action mode on your iPhone 14 or newer model, open the Camera app and switch to Video mode. You should see the Action mode icon, which is a running person. Tap it. It will turn yellow to indicate Action mode is now active. At the same time, the iPhone\\u2019s Accessibility Feature, Voice Control, allows for the film\\u2019s subjects to operate their phone\\u2019s camera. You\\u2019ll see Brett say, \\u201ctap action\\u201d and \\u201ctap record\\u201d as he is about to use Action mode for the first time to record his son Dexter riding a bike. In the film, Brett recalls the multiple times he\\u2019d thought to himself, \\u201cI\\u2019d film this if I could, but I can\\u2019t,\\u201d while holding up his shaking hands. He\\u2019s used cameras for stabilization before in his career as a writer, director, and editor, but says Action mode \\u201cblows all of that out of the water.\\u201d Bravo, iPhone.\"\n        ],\n        \"semantic_type\": \"\",\n        \"description\": \"\"\n      }\n    }\n  ]\n}"
            }
          },
          "metadata": {},
          "execution_count": 50
        }
      ]
    },
    {
      "cell_type": "code",
      "source": [
        "\n",
        "\n",
        "news['published_dt'] = pd.to_datetime(\n",
        "    news['published_date'],\n",
        "    utc=True,\n",
        "    errors='coerce',\n",
        "    infer_datetime_format=True\n",
        ")\n",
        "news = news.dropna(subset=['published_dt'])\n",
        "\n",
        "\n",
        "news['published_dt_only'] = news['published_dt'].dt.normalize()\n",
        "news['published_dt_only'] = news['published_dt_only'].dt.tz_convert(None)\n",
        "\n",
        "\n",
        "start_date = news['published_dt_only'].min()\n",
        "end_date = news['published_dt_only'].max()\n",
        "aapl = yf.download('AAPL', start=start_date, end=end_date + pd.Timedelta(days=1))\n",
        "\n",
        "\n",
        "if isinstance(aapl.columns, pd.MultiIndex):\n",
        "    aapl.columns = [\n",
        "        col[0] if col[1] == '' else f\"{col[0]}_{col[1]}\"\n",
        "        for col in aapl.columns.values\n",
        "    ]\n",
        "\n",
        "aapl = aapl.reset_index()\n",
        "aapl['Date'] = pd.to_datetime(aapl['Date']).dt.normalize()\n",
        "\n",
        "\n",
        "aapl = aapl.rename(columns={\n",
        "    'Open': 'Open_AAPL',\n",
        "    'High': 'High_AAPL',\n",
        "    'Low': 'Low_AAPL',\n",
        "    'Close': 'Close_AAPL',\n",
        "    'Volume': 'Volume_AAPL'\n",
        "})\n",
        "cols_to_keep = ['Date', 'Open_AAPL', 'High_AAPL', 'Low_AAPL', 'Close_AAPL', 'Volume_AAPL']\n",
        "aapl = aapl[[c for c in cols_to_keep if c in aapl.columns]]\n",
        "\n",
        "\n",
        "merged_df = news.merge(\n",
        "    aapl,\n",
        "    left_on='published_dt_only',\n",
        "    right_on='Date',\n",
        "    how='left'\n",
        ")\n",
        "\n",
        "del merged_df['content']\n",
        "del merged_df['published_dt']\n",
        "del merged_df['Date']\n",
        "del merged_df['published_date']"
      ],
      "metadata": {
        "colab": {
          "base_uri": "https://localhost:8080/"
        },
        "id": "KWxO-W0W04hc",
        "outputId": "e0a6507b-5548-4b0a-f1f4-9548a7ebdf7e"
      },
      "execution_count": 52,
      "outputs": [
        {
          "output_type": "stream",
          "name": "stderr",
          "text": [
            "\r[*********************100%***********************]  1 of 1 completed\n"
          ]
        }
      ]
    },
    {
      "cell_type": "code",
      "source": [
        "merged_df = merged_df.dropna(subset=['Open_AAPL']).reset_index(drop=True)"
      ],
      "metadata": {
        "id": "Wb161TG38fQp"
      },
      "execution_count": 53,
      "outputs": []
    },
    {
      "cell_type": "code",
      "source": [
        "from transformers import pipeline\n",
        "sentiment_analyzer = pipeline(\"sentiment-analysis\")\n",
        "\n",
        "merged_df['sentiment'] = merged_df['title'].apply(lambda x: sentiment_analyzer(str(x))[0]['label'])\n",
        "merged_df['sentiment_score'] = merged_df['title'].apply(lambda x: sentiment_analyzer(str(x))[0]['score'])"
      ],
      "metadata": {
        "colab": {
          "base_uri": "https://localhost:8080/"
        },
        "id": "thFz3pmT-eqR",
        "outputId": "2d0d92ed-0ab8-47dc-8981-5e1a3c12a57e"
      },
      "execution_count": 54,
      "outputs": [
        {
          "output_type": "stream",
          "name": "stderr",
          "text": [
            "No model was supplied, defaulted to distilbert/distilbert-base-uncased-finetuned-sst-2-english and revision 714eb0f (https://huggingface.co/distilbert/distilbert-base-uncased-finetuned-sst-2-english).\n",
            "Using a pipeline without specifying a model name and revision in production is not recommended.\n",
            "Device set to use cpu\n"
          ]
        }
      ]
    },
    {
      "cell_type": "code",
      "source": [
        "merged_df.to_csv(\"/content/merged_df.csv\",index=False)"
      ],
      "metadata": {
        "id": "lyjbDSei_x2D"
      },
      "execution_count": 55,
      "outputs": []
    },
    {
      "cell_type": "code",
      "source": [
        "merged_df.columns"
      ],
      "metadata": {
        "colab": {
          "base_uri": "https://localhost:8080/"
        },
        "id": "tRnrLZ3EbHL4",
        "outputId": "87be3eac-cea5-4f38-d070-640fa9bed5cd"
      },
      "execution_count": 94,
      "outputs": [
        {
          "output_type": "execute_result",
          "data": {
            "text/plain": [
              "Index(['url', 'title', 'source', 'published_dt_only', 'Open_AAPL', 'High_AAPL',\n",
              "       'Low_AAPL', 'Close_AAPL', 'Volume_AAPL', 'sentiment', 'sentiment_score',\n",
              "       'Volatility', 'Daily_Return', 'Sentiment_Lag1', 'Sentiment_Lag7',\n",
              "       'Sentiment_Binary', 'Day_of_Week', 'Next_Day_Return',\n",
              "       'Strategy_Return'],\n",
              "      dtype='object')"
            ]
          },
          "metadata": {},
          "execution_count": 94
        }
      ]
    }
  ]
}